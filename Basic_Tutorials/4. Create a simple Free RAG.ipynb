{
 "cells": [
  {
   "cell_type": "code",
   "execution_count": 6,
   "metadata": {},
   "outputs": [],
   "source": [
    "from dotenv import load_dotenv\n",
    "import os\n",
    "\n",
    "if load_dotenv(\"../.env\"):\n",
    "    GROQ_API_KEY = os.getenv(\"GROQ_API_KEY\")\n",
    "    HF_API_TOKEN = os.getenv(\"HF_API_TOKEN\")"
   ]
  },
  {
   "cell_type": "markdown",
   "metadata": {},
   "source": [
    "# Retrieval-Augmented Generation (RAG)\n",
    "\n",
    "A type of AI language model architecture that combines the strengths of traditional transformer-based language models with the strengths of retrieval-based approaches.\n",
    "\n",
    "## 1st step: **Indexing**\n",
    "1. Load: First we need to load our data. This is done with DocumentLoaders.\n",
    "2. Split: Text splitters break large Documents into smaller chunks. This is useful both for indexing data and for passing it in to a model, since large chunks are harder to search over and won’t fit in a model’s finite context window.\n",
    "3. Store: We need somewhere to store and index our splits, so that they can later be searched over. This is often done using a VectorStore and Embeddings model.\n",
    "\n",
    "![Rag Architecture](./Resources/RAG_image1.png)\n",
    "\n",
    "## 2nd Step: **Query**\n",
    "\n",
    "![Rag Query](./Resources/RAG_image2.png)\n",
    "\n",
    "## Traditional Generation vs RAG\n",
    "\n",
    "**Traditional Generation**\n",
    "\n",
    "* Generates text entirely from scratch\n",
    "* Uses learnable parameters and mathematical operations\n",
    "* Can be effective for generating coherent and fluent text, but may not always produce highly relevant or accurate results\n",
    "\n",
    "**Retrieval-Augmented Generation (RAG)**\n",
    "\n",
    "* Augments traditional generation with a retrieval step\n",
    "* Retrieves relevant pieces of text from a large database\n",
    "* Combines retrieved text with generation to inform the text generation process\n",
    "\n",
    "## Benefits of RAG\n",
    "\n",
    "* Benefits from the coherence and fluency of traditional generation-based models\n",
    "* Leverages the accuracy and relevance of retrieval-based approaches\n",
    "* Generates more accurate and informative text by incorporating external knowledge\n",
    "\n",
    "## Applications of RAG\n",
    "\n",
    "* Text summarization\n",
    "* Question answering\n",
    "* Conversation generation\n",
    "* Chatbots\n",
    "* Content creation\n",
    "* Language translation"
   ]
  },
  {
   "cell_type": "markdown",
   "metadata": {},
   "source": [
    "## Define the Functions you are going to use"
   ]
  },
  {
   "cell_type": "markdown",
   "metadata": {},
   "source": [
    "Note:\n",
    "* How to run ollama locally with Docker:\n",
    "    - `sudo docker run --rm -it -v ollama:/root/.ollama -p 11434:11434 --name ollama ollama/ollama`\n",
    "    - Once ollama is running, pull another Model just to perform the text embeddings. (It´s only 256mb)\n",
    "        - `docker exec -it ollama ollama pull nomic-embed-text`\n",
    "    - Check if Lamma3 and nomic-embed-text models are installed: \n",
    "        - `docker exec -it ollama ollama list`\n",
    "* If you want to run Ollama on Linux:\n",
    "    - go to https://ollama.com and download the installer for Linux\n",
    "    - this installer with install Ollama as a service\n",
    "        - check if the service is running with: `sudo service ollama status`\n",
    "* Make sure Ollama is running with the Llama 3 model <font color=\"Red\"><b>before</b></font> executing the next cell\n",
    "    "
   ]
  },
  {
   "cell_type": "code",
   "execution_count": 7,
   "metadata": {},
   "outputs": [],
   "source": [
    "import ollama\n",
    "import pprint\n",
    "from ollama import Client\n",
    "from langchain_community.embeddings.ollama import OllamaEmbeddings\n",
    "from typing import List\n",
    "\n",
    "def ollama_local_embed(text:str, model=\"nomic-embed-text\"):\n",
    "    #be sure to have the nomic-embed-text model downloaded on your ollama server\n",
    "    return ollama.embeddings(\n",
    "        model=model, \n",
    "        prompt=text)['embedding']\n",
    "\n",
    "def get_ollama_embedding(model:str=\"nomic-embed-text\"):\n",
    "    embedding_function = OllamaEmbeddings(base_url=\"http://127.0.0.1:11434\",\n",
    "                                          model=model,\n",
    "                                          show_progress=True,\n",
    "                                          temperature=0)\n",
    "    return embedding_function\n",
    "\n",
    "async def chatWithRemoteOllamaAsync(\n",
    "    messages:List[dict],\n",
    "    model:str = \"llama3\", \n",
    "    temperature:float = 0.7,\n",
    "    stream:bool = True):\n",
    "    client = Client(host='http://127.0.0.1:11434')\n",
    "    \n",
    "    return client.chat(\n",
    "        model=model, \n",
    "        messages=messages, \n",
    "        stream=stream, \n",
    "        options={'temperature': temperature})\n",
    "    \n",
    "async def ChatWithContext(\n",
    "    query:str, \n",
    "    context:str = \"\", \n",
    "    system:str = \"You are an assistant capable of summarizing any text without loosing context\",\n",
    "    history:List[dict] = []) -> List[dict]:\n",
    "    \n",
    "    if not any(item.get('role') == 'system' for item in history):\n",
    "        history=[{'role':'system','content':system}, *history]\n",
    "    \n",
    "    question = query    \n",
    "    if context:\n",
    "        question = f\"\"\"Considering the following context:\n",
    "        ==================================\n",
    "        Context: {context}\n",
    "        ==================================\n",
    "        User: {question}\n",
    "        \"\"\"     \n",
    "    messages = [*history, {'role':'user','content':question}]\n",
    "    assistant = ''\n",
    "    for chunk in await chatWithRemoteOllamaAsync(messages):\n",
    "        assistant += chunk['message']['content']\n",
    "        print(chunk['message']['content'], end='', flush=True)\n",
    "        \n",
    "    return [*messages, {'role':'assistant','content':assistant}]\n",
    "\n",
    "def prettyPrint(text):\n",
    "    print(\"\\n\")\n",
    "    pprint.pprint(text, indent=2, sort_dicts=False)"
   ]
  },
  {
   "cell_type": "markdown",
   "metadata": {},
   "source": [
    "## Testing your functions"
   ]
  },
  {
   "cell_type": "code",
   "execution_count": 8,
   "metadata": {},
   "outputs": [
    {
     "data": {
      "text/plain": [
       "768"
      ]
     },
     "execution_count": 8,
     "metadata": {},
     "output_type": "execute_result"
    }
   ],
   "source": [
    "#Test your functions:\n",
    "result = ollama_local_embed(text=\"Hello world!\")\n",
    "len(result)"
   ]
  },
  {
   "cell_type": "code",
   "execution_count": 9,
   "metadata": {},
   "outputs": [
    {
     "name": "stderr",
     "output_type": "stream",
     "text": [
      "OllamaEmbeddings: 100%|██████████| 1/1 [00:00<00:00,  7.61it/s]\n"
     ]
    },
    {
     "data": {
      "text/plain": [
       "768"
      ]
     },
     "execution_count": 9,
     "metadata": {},
     "output_type": "execute_result"
    }
   ],
   "source": [
    "embed_function = get_ollama_embedding()\n",
    "result = embed_function.embed_query(\"Hello, it's me again! This time I come with a progress bar! Very useful for large texts\")\n",
    "len(result)"
   ]
  },
  {
   "cell_type": "code",
   "execution_count": 10,
   "metadata": {},
   "outputs": [
    {
     "name": "stdout",
     "output_type": "stream",
     "text": [
      "\n",
      "\n",
      "('Considering the following context:\\n'\n",
      " '==================================\\n'\n",
      " 'Context: I am a character of a famous movie in the 80s which rescued POWs in '\n",
      " 'Vietnam\\n'\n",
      " '==================================\\n'\n",
      " 'Answer the question: what is my full name?\\n')\n"
     ]
    }
   ],
   "source": [
    "#Testing the Chat function: ChatWithRemoteOllamaAsync\n",
    "answer = ''\n",
    "system=\"You are an assistant specialized in movies\"\n",
    "context = \"I am a character of a famous movie in the 80s which rescued POWs in Vietnam\"\n",
    "question = \"what is my full name?\"\n",
    "formatted_question=f\"\"\"Considering the following context:\n",
    "==================================\n",
    "Context: {context}\n",
    "==================================\n",
    "Answer the question: {question}\n",
    "\"\"\"\n",
    "prettyPrint(formatted_question)"
   ]
  },
  {
   "cell_type": "code",
   "execution_count": 11,
   "metadata": {},
   "outputs": [
    {
     "name": "stdout",
     "output_type": "stream",
     "text": [
      "\n",
      "\n",
      "[ {'role': 'system', 'content': 'You are an assistant specialized in movies'},\n",
      "  { 'role': 'user',\n",
      "    'content': 'Considering the following context:\\n'\n",
      "               '==================================\\n'\n",
      "               'Context: I am a character of a famous movie in the 80s which '\n",
      "               'rescued POWs in Vietnam\\n'\n",
      "               '==================================\\n'\n",
      "               'Answer the question: what is my full name?\\n'}]\n"
     ]
    }
   ],
   "source": [
    "# Build the message array \n",
    "messages = [\n",
    "        {'role':'system','content':system},\n",
    "        {'role':'user','content':formatted_question}\n",
    "    ]\n",
    "\n",
    "prettyPrint(messages)"
   ]
  },
  {
   "cell_type": "code",
   "execution_count": 12,
   "metadata": {},
   "outputs": [
    {
     "name": "stdout",
     "output_type": "stream",
     "text": [
      "I think I know this one!\n",
      "\n",
      "You are Lieutenant Colonel James \"Hannibal\" Smith, played by Mr. T, from the classic 1980s TV series \"The A-Team\". The show was known for its action-packed storylines and memorable characters.\n",
      "\n",
      "Is that correct?\n",
      "\n",
      "\n",
      "\n",
      "[ {'role': 'system', 'content': 'You are an assistant specialized in movies'},\n",
      "  { 'role': 'user',\n",
      "    'content': 'Considering the following context:\\n'\n",
      "               '==================================\\n'\n",
      "               'Context: I am a character of a famous movie in the 80s which '\n",
      "               'rescued POWs in Vietnam\\n'\n",
      "               '==================================\\n'\n",
      "               'Answer the question: what is my full name?\\n'},\n",
      "  { 'role': 'assistant',\n",
      "    'content': 'I think I know this one!\\n'\n",
      "               '\\n'\n",
      "               'You are Lieutenant Colonel James \"Hannibal\" Smith, played by '\n",
      "               'Mr. T, from the classic 1980s TV series \"The A-Team\". The show '\n",
      "               'was known for its action-packed storylines and memorable '\n",
      "               'characters.\\n'\n",
      "               '\\n'\n",
      "               'Is that correct?'}]\n"
     ]
    }
   ],
   "source": [
    "#Send the message array to the LLM\n",
    "for chunk in await chatWithRemoteOllamaAsync(messages):\n",
    "    answer += chunk['message']['content']\n",
    "    print(chunk['message']['content'], end='', flush=True)\n",
    "    \n",
    "history = [*messages, {'role':'assistant','content':answer}]\n",
    "print(\"\\n\")\n",
    "\n",
    "prettyPrint(history)\n",
    "#Expected execution time : 30s"
   ]
  },
  {
   "cell_type": "code",
   "execution_count": 13,
   "metadata": {},
   "outputs": [
    {
     "name": "stdout",
     "output_type": "stream",
     "text": [
      "Let me think...\n",
      "\n",
      "Hmmm... You're a character from a famous movie in the 80s that rescued POWs in Vietnam...\n",
      "\n",
      "Ah-ha!\n",
      "\n",
      "I'm going to take a guess that you are Captain John Rambo, played by Sylvester Stallone, from the iconic film \"Rambo: First Blood Part II\" (1985)!\n",
      "\n",
      "Am I correct this time?\n",
      "\n",
      "[ {'role': 'system', 'content': 'You are an assistant specialized in movies'},\n",
      "  { 'role': 'user',\n",
      "    'content': 'Considering the following context:\\n'\n",
      "               '==================================\\n'\n",
      "               'Context: I am a character of a famous movie in the 80s which '\n",
      "               'rescued POWs in Vietnam\\n'\n",
      "               '==================================\\n'\n",
      "               'Answer the question: what is my full name?\\n'},\n",
      "  { 'role': 'assistant',\n",
      "    'content': 'I think I know this one!\\n'\n",
      "               '\\n'\n",
      "               'You are Lieutenant Colonel James \"Hannibal\" Smith, played by '\n",
      "               'Mr. T, from the classic 1980s TV series \"The A-Team\". The show '\n",
      "               'was known for its action-packed storylines and memorable '\n",
      "               'characters.\\n'\n",
      "               '\\n'\n",
      "               'Is that correct?'},\n",
      "  {'role': 'user', 'content': 'No. Guess again!'},\n",
      "  { 'role': 'assistant',\n",
      "    'content': 'Let me think...\\n'\n",
      "               '\\n'\n",
      "               \"Hmmm... You're a character from a famous movie in the 80s that \"\n",
      "               'rescued POWs in Vietnam...\\n'\n",
      "               '\\n'\n",
      "               'Ah-ha!\\n'\n",
      "               '\\n'\n",
      "               \"I'm going to take a guess that you are Captain John Rambo, \"\n",
      "               'played by Sylvester Stallone, from the iconic film \"Rambo: '\n",
      "               'First Blood Part II\" (1985)!\\n'\n",
      "               '\\n'\n",
      "               'Am I correct this time?'}]\n"
     ]
    }
   ],
   "source": [
    "#Reply adding a new interaction from User\n",
    "messages=[*history,{'role':'user','content':'No. Guess again!'}]\n",
    "answer=''\n",
    "for chunk in await chatWithRemoteOllamaAsync(messages):\n",
    "    answer += chunk['message']['content']\n",
    "    print(chunk['message']['content'], end='', flush=True)\n",
    "    \n",
    "history = [*messages, {'role':'assistant','content':answer}]\n",
    "prettyPrint(history)\n",
    "#Expected execution time : 40s"
   ]
  },
  {
   "cell_type": "code",
   "execution_count": 14,
   "metadata": {},
   "outputs": [
    {
     "name": "stdout",
     "output_type": "stream",
     "text": [
      "A fun challenge!\n",
      "\n",
      "Given that you like to run a lot and your name starts with F, I'm going to take a guess...\n",
      "\n",
      "Is your name Forrest? As in Forrest Gump, the iconic movie where the main character loves to run?\n",
      "\n",
      "Am I correct?\n",
      "\n",
      "[ {'role': 'system', 'content': 'You are an assistant specialized in movies'},\n",
      "  { 'role': 'user',\n",
      "    'content': 'Considering the following context:\\n'\n",
      "               '        ==================================\\n'\n",
      "               '        Context: I like to run, a lot. The first letter of my '\n",
      "               'name starts with F\\n'\n",
      "               '        ==================================\\n'\n",
      "               '        User: I am a character of a movie. Guess my name\\n'\n",
      "               '        '},\n",
      "  { 'role': 'assistant',\n",
      "    'content': 'A fun challenge!\\n'\n",
      "               '\\n'\n",
      "               'Given that you like to run a lot and your name starts with F, '\n",
      "               \"I'm going to take a guess...\\n\"\n",
      "               '\\n'\n",
      "               'Is your name Forrest? As in Forrest Gump, the iconic movie '\n",
      "               'where the main character loves to run?\\n'\n",
      "               '\\n'\n",
      "               'Am I correct?'}]\n"
     ]
    }
   ],
   "source": [
    "#Testing the Chat function: ChatWithContext\n",
    "history=[]\n",
    "history = await ChatWithContext(\n",
    "    query=\"I am a character of a movie. Guess my name\", \n",
    "    context=\"I like to run, a lot. The first letter of my name starts with F\", \n",
    "    system=\"You are an assistant specialized in movies\")\n",
    "\n",
    "prettyPrint(history)\n",
    "#Expected execution time: 30s"
   ]
  },
  {
   "cell_type": "code",
   "execution_count": 15,
   "metadata": {},
   "outputs": [
    {
     "name": "stdout",
     "output_type": "stream",
     "text": [
      "Yay! I was right!\n",
      "\n",
      "Forrest Gump is an amazing movie, and Tom Hanks' portrayal of the titular character is just incredible.\n",
      "\n",
      "Now that we've established your identity as Forrest Gump, what's next?\n",
      "\n",
      "Would you like to discuss the movie itself, or maybe explore some interesting facts about it?\n",
      "\n",
      "\n",
      "\n",
      "[ {'role': 'system', 'content': 'You are an assistant specialized in movies'},\n",
      "  { 'role': 'user',\n",
      "    'content': 'Considering the following context:\\n'\n",
      "               '        ==================================\\n'\n",
      "               '        Context: I like to run, a lot. The first letter of my '\n",
      "               'name starts with F\\n'\n",
      "               '        ==================================\\n'\n",
      "               '        User: I am a character of a movie. Guess my name\\n'\n",
      "               '        '},\n",
      "  { 'role': 'assistant',\n",
      "    'content': 'A fun challenge!\\n'\n",
      "               '\\n'\n",
      "               'Given that you like to run a lot and your name starts with F, '\n",
      "               \"I'm going to take a guess...\\n\"\n",
      "               '\\n'\n",
      "               'Is your name Forrest? As in Forrest Gump, the iconic movie '\n",
      "               'where the main character loves to run?\\n'\n",
      "               '\\n'\n",
      "               'Am I correct?'},\n",
      "  {'role': 'user', 'content': 'Yes'},\n",
      "  { 'role': 'assistant',\n",
      "    'content': 'Yay! I was right!\\n'\n",
      "               '\\n'\n",
      "               \"Forrest Gump is an amazing movie, and Tom Hanks' portrayal of \"\n",
      "               'the titular character is just incredible.\\n'\n",
      "               '\\n'\n",
      "               \"Now that we've established your identity as Forrest Gump, \"\n",
      "               \"what's next?\\n\"\n",
      "               '\\n'\n",
      "               'Would you like to discuss the movie itself, or maybe explore '\n",
      "               'some interesting facts about it?'}]\n"
     ]
    }
   ],
   "source": [
    "history = await ChatWithContext(\n",
    "    query=\"Yes\",\n",
    "    history=history    \n",
    ")\n",
    "\n",
    "print(\"\\n\")\n",
    "prettyPrint(history)\n",
    "\n",
    "#Expected Execution time: 1min"
   ]
  },
  {
   "cell_type": "markdown",
   "metadata": {},
   "source": [
    "## [Document loaders](https://python.langchain.com/docs/modules/data_connection/document_loaders/)\n",
    "\n",
    "Document loaders load documents from many different sources. LangChain provides over 100 different document loaders as well as integrations with other major providers in the space, like AirByte and Unstructured. LangChain provides integrations to load all types of documents (HTML, PDF, code) from all types of locations (private S3 buckets, public websites).\n",
    "\n",
    "## Load a WebPage"
   ]
  },
  {
   "cell_type": "code",
   "execution_count": 16,
   "metadata": {},
   "outputs": [
    {
     "name": "stdout",
     "output_type": "stream",
     "text": [
      "[Document(page_content=\"\\n\\n\\n\\n\\nRDI Software\\n\\n\\n\\n\\n\\n\\n\\n\\n\\n\\n\\n\\n\\n\\n\\n\\n\\n\\n\\n\\n\\n\\n\\n\\n\\n\\n\\n\\n\\n\\n\\n\\n\\n\\n\\n    \\n  \\n\\n\\n\\n\\nLinkedin\\nInstagram\\nGlassdoor\\n\\n\\n\\n  Home  \\n Discover RDI \\n Our Services \\n Careers \\n Testimonials \\n Contact Us \\n\\n\\n\\n\\n\\n\\n\\n\\n\\n \\nmore than just a technology company\\na PEOPLE company\\n DISCOVER \\n\\n\\n\\n\\n\\n\\n\\n\\nWe proudly serve the leading global foodservice retailer with a focus on improving the overall crew and customer experience, resulting in improved operations in the restaurants.\\n\\n\\n\\n\\n\\n\\n\\n\\nDiscover RDI\\n\\n\\n\\n  \\n\\nRDI has 20+ years of history working as a strategic partner of a major global QSR (Quick Service Restaurant) retailer.\\n\\n\\n\\n\\n\\n  \\n\\nRDI delivers POS services (point-of-sale) and related software applications that focus on the overall crew and customer experience, resulting in improved operations to the fastest growing food restaurant chain over 120 countries and over 37,500 locations worldwide.RDI joined Capgemini group in 2017, which has 270,000 collaborators in almost 50 countries.\\n\\n\\n\\n\\n\\n  \\n\\nOur Development Centers are in Sao Paulo (Brazil), Budapest and Debrecen (Hungary).\\n\\n\\n\\n\\n\\n\\n\\n\\n\\n\\n\\n  120\\ncountries deployed\\n\\n  37,500\\nrestaurants running our products\\n\\n  1.7\\nmillion users\\n\\n  2\\ndevelopment centers\\n\\n\\n\\n\\n\\n\\n\\n\\n\\nPurpose and Values\\n\\n\\n\\nOur Purpose\\nSupport our partner by increasing product deliveries and leveraging high-end technology to transform customer experience.\\n\\n\\n\\n\\nOur Vision\\nProvide remarkable experience for our PEOPLE and our partner!\\n\\n\\n\\n\\n\\n\\n\\n\\n\\n\\nOur Powerful Values\\n\\n\\n\\n\\n\\n\\n\\n\\n\\n\\n\\n\\nDiversity and Inclusion\\n\\n\\nRDI values the plurality of race, color, religion, gender, gender identity, nationality, sexual orientation, disabilities and age.\\n              Be plural is value and respect the differences. At RDI you are free to be you!\\n\\n\\n\\n\\n\\n\\n\\n\\n\\nOur Services\\n\\n\\n\\n  \\n\\nSoftware Development\\nWe perform all phases of the development life cycle across crew and customer-facing restaurant applications and work closely with our client to bring innovative solutions to life in the restaurants.\\n\\xa0\\n\\n\\n\\n  \\n\\nTesting and Support\\nWe perform unit and full regression tests of our software to ensure that existing and new functionality is working as defined. We review, investigate and resolve issues reported through the test environments and live restaurants to ensure that the application supports the restaurant business 24x7.\\n\\n\\n\\n\\n\\n  \\n\\nRelease Management\\nRDI provides software release management services for a tightly integrated suite of applications. Our  service maintains the development and delivery schedules for products, identifying any potential conflicts or opportunities to speed delivery.\\n\\n\\n\\n\\n\\n  \\n\\nLocalization services\\nThe company provides documentation and localization services for new applications developed and delivered to the markets.\\n\\n\\n\\n\\n\\n\\n\\n\\n\\n\\nCareers\\n\\n\\n If you love the idea of leveraging your technical and business skills to help drive growth in the Quick Service Restaurantindustry through the innovative use of new technology, join us.\\n            RDI is an equal opportunity employer and is committed to a diverse and inclusive workforce. \\n\\n\\n\\n\\n\\n\\n\\n\\nJoin Us\\n\\nWe have open positions in the offices of Brazil and Hungary:\\nApply Now\\n\\n\\n\\n\\n\\n\\nBenefits & How we hire \\nBenefits - RDI’s collaborative and flexible work environment and high-performance team delivers innovative solutions to our clients. Our benefit package includes a range of market-relevant benefits to help you manage the demands of your career and home life.\\nHow we hire - Our process is simple; the path to getting hired usually involves a first conversation with a recruiter, a technical evaluation and an interview at one of our global offices with the hiring Manager and HR. \\n\\n\\n\\n\\n\\n\\n \\nJoin Us\\nRevolutionizing restaurant operations through innovative Technology Solutions.\\n\\n\\n\\n\\n\\n\\n\\n\\n\\nTestimonials\\n\\n\\n\\n\\n                        Getting full support for my personal and professional development is just one reason that I feel lucky working for RDI. Here I am not only an employee but a colleague and a friend, and this is not only a workplace but a wonderful and inspiring community that is a pleasure to visit every day.\\n                    \\n\\n\\n\\n\\n\\n\\n                        Sarolta Mezei, Technical Writer\\n\\n\\n                        Debrecen, Hungary\\n                    \\n\\n\\n\\n\\n\\n                        Definitely the working environment. It’s very friendly, it allows you to receive and give help, to share knowledge, and give you the freedom to learn and test new concepts and ideas.\\n                    \\n\\n                        In one word, fantastic! Even with the huge cultural and linguistic difference, RDI Hungary and my colleagues could not have received me better. As the only foreign inside the company right now, everyone helped me to achieve a fast engagement with the company know-how, and they’re always willing for me to participate the meetings, debates, and contribute to the work.\\n                    \\n\\n\\n\\n\\n\\n\\n                        Anderson Rancan, Senior Software Developer\\n\\n\\n                        Budapest, Hungary\\n                    \\n\\n\\n\\n\\n\\n                        I've worked at RDI for several years now, and the experience has been great. There are always challenging and exciting things to do at RDI, being a strategic partner and subsidiary of an iconic company. We work closely with them in a global, fast-paced environment to implement business requirements using cutting-edge technology. Yet RDI retains the camaraderie and close-knit feel of a smaller company, where employees are valued and treated well. It is truly a pleasure to work for RDI.\\n                    \\n\\n\\n\\n\\n\\n\\n                        Andy Ortloff, Software Architect\\n\\n\\n                        Oak Brook, US\\n                    \\n\\n\\n\\n\\n\\n                        In my tenure with RDI, I have had the pleasure of collaborating with some amazing people!  We work together as a team, drawing on our individual strengths, to achieve our goals.   I have learned so much from those around me and believe that my contributions are appreciated as well.  I feel supported by leadership, and encouraged to develop my skills and take on new challenges in my career at RDI.\\n                    \\n\\n\\n\\n\\n\\n\\n                        Kristin Prestage, Administrative Analyst\\n\\n\\n                        Oak Brook, US\\n                    \\n\\n\\n\\n\\n\\n                        What I like most about RDI is the ability to work independently (trust from employers). It’s great to work with people that care about their company and do a good job.  It’s hard to find that environment today because so many people just don’t care about honesty, hard work and integrity.\\xa0 It has been possible to develop myself personally and professionally at RDI. I enjoy being part of a company like RDI, which is open to hearing the views of employees, as well as offering subsidies for learning and flexibility to work. Salary and benefits competitive with the market also makes me comfortable in establishing a long-term development goal of the company. I am happy and peaceful to be working in a big company, solid and effective as RDI\\n                    \\n\\n\\n\\n\\n\\n\\n                        Ariane Medeiros, Software Quality Assurance Analyst\\n\\n\\n                        Sao Paulo, Brazil\\n                    \\n\\n\\n\\n\\n\\n\\n\\n\\n\\n\\n Success! Your message has been sent to us. \\n Error! There was an error sending your message. \\nContact Us\\n\\n\\n\\n\\nYour name *\\n\\n\\n\\nYour email address *\\n\\n\\n\\n\\n\\n\\n\\nSubject\\n\\n\\n\\n\\n\\n\\n\\nMessage *\\n\\n\\n\\n\\n\\n\\n\\n\\n\\n\\n\\n\\nImportant e-mails\\n\\n Email: Human Resources\\n Email: Support\\n\\n\\n\\n\\n\\n\\n\\n\\n\\n\\nThe Company is growing\\n We’re expanding our team! We are looking for new team members that are strong performers, love big challenges and will fit in with the culture at RDI.  Contact RDI HR directly – we may be looking for you!\\n\\n\\n\\nContact Us\\n\\n rdihumanresources.hr@capgemini.com\\n\\n\\n\\nLinkedin\\n\\n\\n\\n\\n\\n\\n\\n\\n    \\n\\n Privacy Notice - Brazil \\n Salary Transparency Report \\n\\n\\n\\n\\n\\n\\n\\n\\n\\n\\n\\n\\n\\n\\n\\n\\n\\n\\n\\n\\n\\n\\n\\n\\n\\n\\n\\n\\n\\n\\n\\n\\n\\n\\n\\n\\n\", metadata={'source': 'https://www.rdisoftware.com/', 'title': 'RDI Software', 'description': 'RDI Software - Part of Capgemini', 'language': 'No language found.'})]\n",
      "1\n"
     ]
    }
   ],
   "source": [
    "#HTML\n",
    "from langchain_community.document_loaders import WebBaseLoader\n",
    "\n",
    "loader_HTML = WebBaseLoader(web_paths=[\"https://www.rdisoftware.com/\"])\n",
    "docsWeb = loader_HTML.load() #load\n",
    "print(docsWeb)\n",
    "print(len(docsWeb))\n",
    "\n",
    "#Expected execution time: 1s"
   ]
  },
  {
   "cell_type": "code",
   "execution_count": 17,
   "metadata": {},
   "outputs": [
    {
     "name": "stdout",
     "output_type": "stream",
     "text": [
      "[Document(page_content=\"RDI Software Linkedin Instagram Glassdoor Home Discover RDI Our Services\\nCareers Testimonials Contact Us more than just a technology company a PEOPLE\\ncompany DISCOVER We proudly serve the leading global foodservice retailer with\\na focus on improving the overall crew and customer experience, resulting in\\nimproved operations in the restaurants. Discover RDI RDI has 20+ years of\\nhistory working as a strategic partner of a major global QSR (Quick Service\\nRestaurant) retailer. RDI delivers POS services (point-of-sale) and related\\nsoftware applications that focus on the overall crew and customer experience,\\nresulting in improved operations to the fastest growing food restaurant chain\\nover 120 countries and over 37,500 locations worldwide.RDI joined Capgemini\\ngroup in 2017, which has 270,000 collaborators in almost 50 countries. Our\\nDevelopment Centers are in Sao Paulo (Brazil), Budapest and Debrecen\\n(Hungary). 120 countries deployed 37,500 restaurants running our products 1.7\\nmillion users 2 development centers Purpose and Values Our Purpose Support our\\npartner by increasing product deliveries and leveraging high-end technology to\\ntransform customer experience. Our Vision Provide remarkable experience for\\nour PEOPLE and our partner! Our Powerful Values Diversity and Inclusion RDI\\nvalues the plurality of race, color, religion, gender, gender identity,\\nnationality, sexual orientation, disabilities and age. Be plural is value and\\nrespect the differences. At RDI you are free to be you! Our Services Software\\nDevelopment We perform all phases of the development life cycle across crew\\nand customer-facing restaurant applications and work closely with our client\\nto bring innovative solutions to life in the restaurants. Testing and Support\\nWe perform unit and full regression tests of our software to ensure that\\nexisting and new functionality is working as defined. We review, investigate\\nand resolve issues reported through the test environments and live restaurants\\nto ensure that the application supports the restaurant business 24x7. Release\\nManagement RDI provides software release management services for a tightly\\nintegrated suite of applications. Our service maintains the development and\\ndelivery schedules for products, identifying any potential conflicts or\\nopportunities to speed delivery. Localization services The company provides\\ndocumentation and localization services for new applications developed and\\ndelivered to the markets. Careers If you love the idea of leveraging your\\ntechnical and business skills to help drive growth in the Quick Service\\nRestaurantindustry through the innovative use of new technology, join us. RDI\\nis an equal opportunity employer and is committed to a diverse and inclusive\\nworkforce. Join Us We have open positions in the offices of Brazil and\\nHungary: Apply Now Benefits & How we hire Benefits - RDI’s collaborative and\\nflexible work environment and high-performance team delivers innovative\\nsolutions to our clients. Our benefit package includes a range of market-\\nrelevant benefits to help you manage the demands of your career and home life.\\nHow we hire - Our process is simple; the path to getting hired usually\\ninvolves a first conversation with a recruiter, a technical evaluation and an\\ninterview at one of our global offices with the hiring Manager and HR. Join Us\\nRevolutionizing restaurant operations through innovative Technology Solutions.\\nTestimonials Getting full support for my personal and professional development\\nis just one reason that I feel lucky working for RDI. Here I am not only an\\nemployee but a colleague and a friend, and this is not only a workplace but a\\nwonderful and inspiring community that is a pleasure to visit every day.\\nSarolta Mezei, Technical Writer Debrecen, Hungary Definitely the working\\nenvironment. It’s very friendly, it allows you to receive and give help, to\\nshare knowledge, and give you the freedom to learn and test new concepts and\\nideas. In one word, fantastic! Even with the huge cultural and linguistic\\ndifference, RDI Hungary and my colleagues could not have received me better.\\nAs the only foreign inside the company right now, everyone helped me to\\nachieve a fast engagement with the company know-how, and they’re always\\nwilling for me to participate the meetings, debates, and contribute to the\\nwork. Anderson Rancan, Senior Software Developer Budapest, Hungary I've worked\\nat RDI for several years now, and the experience has been great. There are\\nalways challenging and exciting things to do at RDI, being a strategic partner\\nand subsidiary of an iconic company. We work closely with them in a global,\\nfast-paced environment to implement business requirements using cutting-edge\\ntechnology. Yet RDI retains the camaraderie and close-knit feel of a smaller\\ncompany, where employees are valued and treated well. It is truly a pleasure\\nto work for RDI. Andy Ortloff, Software Architect Oak Brook, US In my tenure\\nwith RDI, I have had the pleasure of collaborating with some amazing people!\\nWe work together as a team, drawing on our individual strengths, to achieve\\nour goals. I have learned so much from those around me and believe that my\\ncontributions are appreciated as well. I feel supported by leadership, and\\nencouraged to develop my skills and take on new challenges in my career at\\nRDI. Kristin Prestage, Administrative Analyst Oak Brook, US What I like most\\nabout RDI is the ability to work independently (trust from employers). It’s\\ngreat to work with people that care about their company and do a good job.\\nIt’s hard to find that environment today because so many people just don’t\\ncare about honesty, hard work and integrity. It has been possible to develop\\nmyself personally and professionally at RDI. I enjoy being part of a company\\nlike RDI, which is open to hearing the views of employees, as well as offering\\nsubsidies for learning and flexibility to work. Salary and benefits\\ncompetitive with the market also makes me comfortable in establishing a long-\\nterm development goal of the company. I am happy and peaceful to be working in\\na big company, solid and effective as RDI Ariane Medeiros, Software Quality\\nAssurance Analyst Sao Paulo, Brazil Success! Your message has been sent to us.\\nError! There was an error sending your message. Contact Us Your name * Your\\nemail address * Subject Message * Important e-mails Email: Human Resources\\nEmail: Support The Company is growing We’re expanding our team! We are looking\\nfor new team members that are strong performers, love big challenges and will\\nfit in with the culture at RDI. Contact RDI HR directly – we may be looking\\nfor you! Contact Us rdihumanresources.hr@capgemini.com Linkedin Privacy Notice\\n- Brazil Salary Transparency Report\\n\\n\", metadata={'source': 'https://www.rdisoftware.com/', 'title': 'RDI Software', 'description': 'RDI Software - Part of Capgemini', 'language': 'No language found.'})]\n"
     ]
    },
    {
     "data": {
      "text/plain": [
       "\"RDI Software Linkedin Instagram Glassdoor Home Discover RDI Our Services\\nCareers Testimonials Contact Us more than just a technology company a PEOPLE\\ncompany DISCOVER We proudly serve the leading global foodservice retailer with\\na focus on improving the overall crew and customer experience, resulting in\\nimproved operations in the restaurants. Discover RDI RDI has 20+ years of\\nhistory working as a strategic partner of a major global QSR (Quick Service\\nRestaurant) retailer. RDI delivers POS services (point-of-sale) and related\\nsoftware applications that focus on the overall crew and customer experience,\\nresulting in improved operations to the fastest growing food restaurant chain\\nover 120 countries and over 37,500 locations worldwide.RDI joined Capgemini\\ngroup in 2017, which has 270,000 collaborators in almost 50 countries. Our\\nDevelopment Centers are in Sao Paulo (Brazil), Budapest and Debrecen\\n(Hungary). 120 countries deployed 37,500 restaurants running our products 1.7\\nmillion users 2 development centers Purpose and Values Our Purpose Support our\\npartner by increasing product deliveries and leveraging high-end technology to\\ntransform customer experience. Our Vision Provide remarkable experience for\\nour PEOPLE and our partner! Our Powerful Values Diversity and Inclusion RDI\\nvalues the plurality of race, color, religion, gender, gender identity,\\nnationality, sexual orientation, disabilities and age. Be plural is value and\\nrespect the differences. At RDI you are free to be you! Our Services Software\\nDevelopment We perform all phases of the development life cycle across crew\\nand customer-facing restaurant applications and work closely with our client\\nto bring innovative solutions to life in the restaurants. Testing and Support\\nWe perform unit and full regression tests of our software to ensure that\\nexisting and new functionality is working as defined. We review, investigate\\nand resolve issues reported through the test environments and live restaurants\\nto ensure that the application supports the restaurant business 24x7. Release\\nManagement RDI provides software release management services for a tightly\\nintegrated suite of applications. Our service maintains the development and\\ndelivery schedules for products, identifying any potential conflicts or\\nopportunities to speed delivery. Localization services The company provides\\ndocumentation and localization services for new applications developed and\\ndelivered to the markets. Careers If you love the idea of leveraging your\\ntechnical and business skills to help drive growth in the Quick Service\\nRestaurantindustry through the innovative use of new technology, join us. RDI\\nis an equal opportunity employer and is committed to a diverse and inclusive\\nworkforce. Join Us We have open positions in the offices of Brazil and\\nHungary: Apply Now Benefits & How we hire Benefits - RDI’s collaborative and\\nflexible work environment and high-performance team delivers innovative\\nsolutions to our clients. Our benefit package includes a range of market-\\nrelevant benefits to help you manage the demands of your career and home life.\\nHow we hire - Our process is simple; the path to getting hired usually\\ninvolves a first conversation with a recruiter, a technical evaluation and an\\ninterview at one of our global offices with the hiring Manager and HR. Join Us\\nRevolutionizing restaurant operations through innovative Technology Solutions.\\nTestimonials Getting full support for my personal and professional development\\nis just one reason that I feel lucky working for RDI. Here I am not only an\\nemployee but a colleague and a friend, and this is not only a workplace but a\\nwonderful and inspiring community that is a pleasure to visit every day.\\nSarolta Mezei, Technical Writer Debrecen, Hungary Definitely the working\\nenvironment. It’s very friendly, it allows you to receive and give help, to\\nshare knowledge, and give you the freedom to learn and test new concepts and\\nideas. In one word, fantastic! Even with the huge cultural and linguistic\\ndifference, RDI Hungary and my colleagues could not have received me better.\\nAs the only foreign inside the company right now, everyone helped me to\\nachieve a fast engagement with the company know-how, and they’re always\\nwilling for me to participate the meetings, debates, and contribute to the\\nwork. Anderson Rancan, Senior Software Developer Budapest, Hungary I've worked\\nat RDI for several years now, and the experience has been great. There are\\nalways challenging and exciting things to do at RDI, being a strategic partner\\nand subsidiary of an iconic company. We work closely with them in a global,\\nfast-paced environment to implement business requirements using cutting-edge\\ntechnology. Yet RDI retains the camaraderie and close-knit feel of a smaller\\ncompany, where employees are valued and treated well. It is truly a pleasure\\nto work for RDI. Andy Ortloff, Software Architect Oak Brook, US In my tenure\\nwith RDI, I have had the pleasure of collaborating with some amazing people!\\nWe work together as a team, drawing on our individual strengths, to achieve\\nour goals. I have learned so much from those around me and believe that my\\ncontributions are appreciated as well. I feel supported by leadership, and\\nencouraged to develop my skills and take on new challenges in my career at\\nRDI. Kristin Prestage, Administrative Analyst Oak Brook, US What I like most\\nabout RDI is the ability to work independently (trust from employers). It’s\\ngreat to work with people that care about their company and do a good job.\\nIt’s hard to find that environment today because so many people just don’t\\ncare about honesty, hard work and integrity. It has been possible to develop\\nmyself personally and professionally at RDI. I enjoy being part of a company\\nlike RDI, which is open to hearing the views of employees, as well as offering\\nsubsidies for learning and flexibility to work. Salary and benefits\\ncompetitive with the market also makes me comfortable in establishing a long-\\nterm development goal of the company. I am happy and peaceful to be working in\\na big company, solid and effective as RDI Ariane Medeiros, Software Quality\\nAssurance Analyst Sao Paulo, Brazil Success! Your message has been sent to us.\\nError! There was an error sending your message. Contact Us Your name * Your\\nemail address * Subject Message * Important e-mails Email: Human Resources\\nEmail: Support The Company is growing We’re expanding our team! We are looking\\nfor new team members that are strong performers, love big challenges and will\\nfit in with the culture at RDI. Contact RDI HR directly – we may be looking\\nfor you! Contact Us rdihumanresources.hr@capgemini.com Linkedin Privacy Notice\\n- Brazil Salary Transparency Report\\n\\n\""
      ]
     },
     "execution_count": 17,
     "metadata": {},
     "output_type": "execute_result"
    }
   ],
   "source": [
    "#Convert the Document to Text\n",
    "from langchain_community.document_transformers import Html2TextTransformer\n",
    "\n",
    "html2text = Html2TextTransformer()\n",
    "docs_transformed = html2text.transform_documents(docsWeb)\n",
    "print(docs_transformed)\n",
    "rdiPageContent = docs_transformed[0].page_content\n",
    "rdiPageContent"
   ]
  },
  {
   "cell_type": "code",
   "execution_count": 18,
   "metadata": {},
   "outputs": [],
   "source": [
    "history=[]"
   ]
  },
  {
   "cell_type": "code",
   "execution_count": 19,
   "metadata": {},
   "outputs": [
    {
     "name": "stdout",
     "output_type": "stream",
     "text": [
      "According to the provided context, RDI joined the Capgemini group in 2017.\n",
      "\n",
      "[{'role': 'system', 'content': 'You are an assistant capable of providing direct answers'}, {'role': 'user', 'content': \"Considering the following context:\\n        ==================================\\n        Context: RDI Software Linkedin Instagram Glassdoor Home Discover RDI Our Services\\nCareers Testimonials Contact Us more than just a technology company a PEOPLE\\ncompany DISCOVER We proudly serve the leading global foodservice retailer with\\na focus on improving the overall crew and customer experience, resulting in\\nimproved operations in the restaurants. Discover RDI RDI has 20+ years of\\nhistory working as a strategic partner of a major global QSR (Quick Service\\nRestaurant) retailer. RDI delivers POS services (point-of-sale) and related\\nsoftware applications that focus on the overall crew and customer experience,\\nresulting in improved operations to the fastest growing food restaurant chain\\nover 120 countries and over 37,500 locations worldwide.RDI joined Capgemini\\ngroup in 2017, which has 270,000 collaborators in almost 50 countries. Our\\nDevelopment Centers are in Sao Paulo (Brazil), Budapest and Debrecen\\n(Hungary). 120 countries deployed 37,500 restaurants running our products 1.7\\nmillion users 2 development centers Purpose and Values Our Purpose Support our\\npartner by increasing product deliveries and leveraging high-end technology to\\ntransform customer experience. Our Vision Provide remarkable experience for\\nour PEOPLE and our partner! Our Powerful Values Diversity and Inclusion RDI\\nvalues the plurality of race, color, religion, gender, gender identity,\\nnationality, sexual orientation, disabilities and age. Be plural is value and\\nrespect the differences. At RDI you are free to be you! Our Services Software\\nDevelopment We perform all phases of the development life cycle across crew\\nand customer-facing restaurant applications and work closely with our client\\nto bring innovative solutions to life in the restaurants. Testing and Support\\nWe perform unit and full regression tests of our software to ensure that\\nexisting and new functionality is working as defined. We review, investigate\\nand resolve issues reported through the test environments and live restaurants\\nto ensure that the application supports the restaurant business 24x7. Release\\nManagement RDI provides software release management services for a tightly\\nintegrated suite of applications. Our service maintains the development and\\ndelivery schedules for products, identifying any potential conflicts or\\nopportunities to speed delivery. Localization services The company provides\\ndocumentation and localization services for new applications developed and\\ndelivered to the markets. Careers If you love the idea of leveraging your\\ntechnical and business skills to help drive growth in the Quick Service\\nRestaurantindustry through the innovative use of new technology, join us. RDI\\nis an equal opportunity employer and is committed to a diverse and inclusive\\nworkforce. Join Us We have open positions in the offices of Brazil and\\nHungary: Apply Now Benefits & How we hire Benefits - RDI’s collaborative and\\nflexible work environment and high-performance team delivers innovative\\nsolutions to our clients. Our benefit package includes a range of market-\\nrelevant benefits to help you manage the demands of your career and home life.\\nHow we hire - Our process is simple; the path to getting hired usually\\ninvolves a first conversation with a recruiter, a technical evaluation and an\\ninterview at one of our global offices with the hiring Manager and HR. Join Us\\nRevolutionizing restaurant operations through innovative Technology Solutions.\\nTestimonials Getting full support for my personal and professional development\\nis just one reason that I feel lucky working for RDI. Here I am not only an\\nemployee but a colleague and a friend, and this is not only a workplace but a\\nwonderful and inspiring community that is a pleasure to visit every day.\\nSarolta Mezei, Technical Writer Debrecen, Hungary Definitely the working\\nenvironment. It’s very friendly, it allows you to receive and give help, to\\nshare knowledge, and give you the freedom to learn and test new concepts and\\nideas. In one word, fantastic! Even with the huge cultural and linguistic\\ndifference, RDI Hungary and my colleagues could not have received me better.\\nAs the only foreign inside the company right now, everyone helped me to\\nachieve a fast engagement with the company know-how, and they’re always\\nwilling for me to participate the meetings, debates, and contribute to the\\nwork. Anderson Rancan, Senior Software Developer Budapest, Hungary I've worked\\nat RDI for several years now, and the experience has been great. There are\\nalways challenging and exciting things to do at RDI, being a strategic partner\\nand subsidiary of an iconic company. We work closely with them in a global,\\nfast-paced environment to implement business requirements using cutting-edge\\ntechnology. Yet RDI retains the camaraderie and close-knit feel of a smaller\\ncompany, where employees are valued and treated well. It is truly a pleasure\\nto work for RDI. Andy Ortloff, Software Architect Oak Brook, US In my tenure\\nwith RDI, I have had the pleasure of collaborating with some amazing people!\\nWe work together as a team, drawing on our individual strengths, to achieve\\nour goals. I have learned so much from those around me and believe that my\\ncontributions are appreciated as well. I feel supported by leadership, and\\nencouraged to develop my skills and take on new challenges in my career at\\nRDI. Kristin Prestage, Administrative Analyst Oak Brook, US What I like most\\nabout RDI is the ability to work independently (trust from employers). It’s\\ngreat to work with people that care about their company and do a good job.\\nIt’s hard to find that environment today because so many people just don’t\\ncare about honesty, hard work and integrity. It has been possible to develop\\nmyself personally and professionally at RDI. I enjoy being part of a company\\nlike RDI, which is open to hearing the views of employees, as well as offering\\nsubsidies for learning and flexibility to work. Salary and benefits\\ncompetitive with the market also makes me comfortable in establishing a long-\\nterm development goal of the company. I am happy and peaceful to be working in\\na big company, solid and effective as RDI Ariane Medeiros, Software Quality\\nAssurance Analyst Sao Paulo, Brazil Success! Your message has been sent to us.\\nError! There was an error sending your message. Contact Us Your name * Your\\nemail address * Subject Message * Important e-mails Email: Human Resources\\nEmail: Support The Company is growing We’re expanding our team! We are looking\\nfor new team members that are strong performers, love big challenges and will\\nfit in with the culture at RDI. Contact RDI HR directly – we may be looking\\nfor you! Contact Us rdihumanresources.hr@capgemini.com Linkedin Privacy Notice\\n- Brazil Salary Transparency Report\\n\\n\\n        ==================================\\n        User: When was RDI bought by Capgemini?\\n        \"}, {'role': 'assistant', 'content': 'According to the provided context, RDI joined the Capgemini group in 2017.'}]\n"
     ]
    }
   ],
   "source": [
    "history = await ChatWithContext(\n",
    "    query=\"When was RDI bought by Capgemini?\", \n",
    "    context=rdiPageContent,\n",
    "    system=\"You are an assistant capable of providing direct answers\")\n",
    "\n",
    "print(\"\\n\")\n",
    "print(history)\n",
    "\n",
    "#Expected execution time: 5min"
   ]
  },
  {
   "cell_type": "code",
   "execution_count": 20,
   "metadata": {},
   "outputs": [
    {
     "name": "stdout",
     "output_type": "stream",
     "text": [
      "\n",
      "Async html loaders\n"
     ]
    },
    {
     "name": "stderr",
     "output_type": "stream",
     "text": [
      "Fetching pages:   0%|          | 0/1 [00:00<?, ?it/s]"
     ]
    },
    {
     "name": "stderr",
     "output_type": "stream",
     "text": [
      "Fetching pages: 100%|##########| 1/1 [00:00<00:00,  1.62it/s]\n"
     ]
    },
    {
     "name": "stdout",
     "output_type": "stream",
     "text": [
      "Downloaded pages: 1\n",
      "\n",
      "\n",
      "Document(page_content='<!DOCTYPE html>\\n<html>\\n<head>\\n\\n<!-- Basic -->\\n<meta charset=\"utf-8\">\\n<title>RDI Software</title>\\n<meta name=\"keywords\" content=\"HTML5\" />\\n<meta name=\"description\" content=\"RDI Software - Part of Capgemini\">\\n<meta name=\"RDI\" content=\"rdisoftware.com\">\\n\\n<!--Shortcut icon-->\\n<link rel=\"shortcut icon\" href=\"img/favicon.png\" />\\n\\n<!-- Mobile Metas -->\\n<meta name=\"viewport\" content=\"width=device-width, initial-scale=1.0\">\\n\\n<!-- Web Fonts  -->\\n<link href=\"https://fonts.googleapis.com/css?family=Ubuntu:300,400,600,700,800%7CShadows+Into+Light\" rel=\"stylesheet\" type=\"text/css\">\\n\\n<!-- Vendor CSS -->\\n<link rel=\"stylesheet\" href=\"vendor/bootstrap/bootstrap.css\">\\n<link rel=\"stylesheet\" href=\"vendor/fontawesome/css/font-awesome.css\">\\n<link rel=\"stylesheet\" href=\"vendor/owlcarousel/owl.carousel.min.css\" media=\"screen\">\\n<link rel=\"stylesheet\" href=\"vendor/owlcarousel/owl.theme.default.min.css\" media=\"screen\">\\n<link rel=\"stylesheet\" href=\"vendor/magnific-popup/magnific-popup.css\" media=\"screen\">\\n\\n<!-- Theme CSS -->\\n<link rel=\"stylesheet\" href=\"css/theme.css\">\\n<link rel=\"stylesheet\" href=\"css/theme-elements.css\">\\n<link rel=\"stylesheet\" href=\"css/theme-animate.css\">\\n\\n<!-- Current Page CSS -->\\n<link rel=\"stylesheet\" href=\"vendor/rs-plugin/css/settings.css\" media=\"screen\">\\n<link rel=\"stylesheet\" href=\"vendor/circle-flip-slideshow/css/component.css\" media=\"screen\">\\n\\n<!-- Skin CSS -->\\n<link rel=\"stylesheet\" href=\"css/skins/default.css\">\\n\\n<!-- Theme Custom CSS -->\\n<link rel=\"stylesheet\" href=\"css/custom.css\">\\n\\n<!-- Head Libs -->\\n<script src=\"vendor/modernizr/modernizr.js\"></script>\\n\\n<!--[if IE]>\\n\\t\\t\\t<link rel=\"stylesheet\" href=\"css/ie.css\">\\n\\t\\t<![endif]-->\\n\\n<!--[if lte IE 8]>\\n\\t\\t\\t<script src=\"vendor/respond/respond.js\"></script>\\n\\t\\t\\t<script src=\"vendor/excanvas/excanvas.js\"></script>\\n\\t\\t<![endif]-->\\n\\n</head>\\n<body class=\"one-page\" data-target=\".single-menu\" data-spy=\"scroll\" data-offset=\"200\">\\n<div class=\"body\">\\n  <header id=\"header\" class=\"single-menu flat-menu\">\\n    <div class=\"container\">\\n      <div class=\"logo\"> <a href=\"/\"> <img alt=\"RDI\" width=\"152\" height=\"70\" data-sticky-width=\"80\" data-sticky-height=\"37\" src=\"img/logo.png\"> </a> </div>\\n      <button class=\"btn btn-responsive-nav btn-inverse\" data-toggle=\"collapse\" data-target=\".nav-main-collapse\"> <i class=\"fa fa-bars\"></i> </button>\\n    </div>\\n    <div class=\"navbar-collapse nav-main-collapse collapse\">\\n      <div class=\"container\">\\n        <ul class=\"social-icons\">\\n          <li class=\"linkedin\"><a href=\"https://www.linkedin.com/company/radi---restaurant-application-development-international-llc/\" target=\"_blank\" title=\"Linkedin\">Linkedin</a></li>\\n          <li class=\"instagram\"><a href=\"https://www.instagram.com/rdisoftware/\" target=\"_blank\" title=\"Instagram\">Instagram</a></li>\\n          <li class=\"glassdoor\"><a href=\"https://www.glassdoor.com/Overview/Working-at-RDI-Software-EI_IE1010267.11,23.htm\" target=\"_blank\" title=\"Glassdoor\">Glassdoor</a></li>\\n        </ul>\\n        <nav class=\"nav-main\">\\n          <ul class=\"nav nav-pills nav-main\" id=\"mainMenu\">\\n            <li> <a data-hash class=\"dropdown-toggle\" href=\"#home\"> Home </a> </li>\\n            <li> <a data-hash href=\"#discoverrdi\">Discover RDI</a> </li>\\n            <li> <a data-hash href=\"#services\">Our Services</a> </li>\\n            <li> <a data-hash href=\"#career\">Careers</a> </li>\\n            <li> <a data-hash href=\"#testimonials\">Testimonials</a> </li>\\n            <li> <a data-hash href=\"#contact\">Contact Us</a> </li>\\n          </ul>\\n        </nav>\\n      </div>\\n    </div>\\n  </header>\\n  <div role=\"main\" class=\"main\" id=\"home\">\\n    <div class=\"slider-container slider-container-fullscreen\">\\n      <div class=\"slider\" id=\"revolutionSliderFullScreen\" data-plugin-revolution-slider data-plugin-options=\\'{\"startwidth\": 600,\"fullScreen\": \"on\"}\\'>\\n        <ul>\\n          <li data-transition=\"fade\" data-slotamount=\"10\" data-masterspeed=\"300\"> <img src=\"img/slides/slide-bg-full.jpg\" data-fullwidthcentering=\"on\" alt=\"\">\\n            <div class=\"tp-caption top-label lfl stl\"\\n\\t\\t\\t\\t\\t\\t\\t\\t\\t\\t data-x=\"center\" data-hoffset=\"0\"\\n\\t\\t\\t\\t\\t\\t\\t\\t\\t\\t data-y=\"130\"\\n\\t\\t\\t\\t\\t\\t\\t\\t\\t\\t data-speed=\"300\"\\n\\t\\t\\t\\t\\t\\t\\t\\t\\t\\t data-start=\"500\"\\n\\t\\t\\t\\t\\t\\t\\t\\t\\t\\t data-easing=\"easeOutExpo\">more than just a technology company</div>\\n            <div class=\"tp-caption main-label sft stb\"\\n\\t\\t\\t\\t\\t\\t\\t\\t\\t\\t data-x=\"center\" data-hoffset=\"0\"\\n\\t\\t\\t\\t\\t\\t\\t\\t\\t\\t data-y=\"160\"\\n\\t\\t\\t\\t\\t\\t\\t\\t\\t\\t data-speed=\"300\"\\n\\t\\t\\t\\t\\t\\t\\t\\t\\t\\t data-start=\"1000\"\\n\\t\\t\\t\\t\\t\\t\\t\\t\\t\\t data-easing=\"easeOutExpo\">a <i class=\"people\">PEOPLE</i> company</div>\\n            <a class=\"tp-caption customin btn btn-lg btn-primary main-button\" data-hash href=\"#intro\"\\n\\t\\t\\t\\t\\t\\t\\t\\t\\t\\tdata-x=\"center\" data-hoffset=\"0\"\\n\\t\\t\\t\\t\\t\\t\\t\\t\\t\\tdata-y=\"250\"\\n\\t\\t\\t\\t\\t\\t\\t\\t\\t\\tdata-customin=\"x:0;y:0;z:0;rotationX:90;rotationY:0;rotationZ:0;scaleX:1;scaleY:1;skewX:0;skewY:0;opacity:0;transformPerspective:200;transformOrigin:50% 0%;\"\\n\\t\\t\\t\\t\\t\\t\\t\\t\\t\\tdata-speed=\"800\"\\n\\t\\t\\t\\t\\t\\t\\t\\t\\t\\tdata-start=\"1500\"\\n\\t\\t\\t\\t\\t\\t\\t\\t\\t\\tdata-easing=\"Back.easeInOut\"\\n\\t\\t\\t\\t\\t\\t\\t\\t\\t\\tdata-endspeed=\"300\"> DISCOVER </a>\\n            <div class=\"tp-caption main-label sft stb visible-lg\"\\n\\t\\t\\t\\t\\t\\t\\t\\t\\t data-x=\"center\" data-hoffset=\"0\"\\n\\t\\t\\t\\t\\t\\t\\t\\t\\t data-y=\"320\"\\n\\t\\t\\t\\t\\t\\t\\t\\t\\t data-speed=\"500\"\\n\\t\\t\\t\\t\\t\\t\\t\\t\\t data-start=\"1700\"\\n\\t\\t\\t\\t\\t\\t\\t\\t\\t data-easing=\"easeOutExpo\"><a data-hash href=\"#intro\"><i class=\"fa fa-arrow-circle-o-down\"></i></a></div>\\n          </li>\\n        </ul>\\n      </div>\\n    </div>\\n    <div class=\"container\" id=\"intro\">\\n      <div class=\"row center\">\\n        <div class=\"col-md-12\">\\n          <p class=\"featured lead\">We proudly serve the leading global foodservice retailer with a focus on improving the overall crew and customer experience, resulting in improved operations in the restaurants.</p>\\n        </div>\\n      </div>\\n      <hr class=\"tall\" />\\n    </div>\\n\\n    <!-- Discover RDI -->\\n\\n    <div class=\"container\">\\n      <div class=\"row\" id=\"discoverrdi\">\\n        <div class=\"col-md-12\">\\n          <h2 class=\"center\" data-appear-animation=\"fadeInLeft\">Discover <strong>RDI</strong></h2>\\n          <div class=\"row left\">\\n            <div class=\"col-sm-4\">\\n              <div class=\"feature-box\">\\n                <div class=\"feature-box-icon\"> <i class=\"fa fa-star \"></i> </div>\\n                <div class=\"feature-box-info\">\\n                  <p class=\"tall\"><strong>RDI</strong> has 20+ years of history working as a strategic partner of a major global QSR (Quick Service Restaurant) retailer.</p>\\n                </div>\\n              </div>\\n            </div>\\n            <div class=\"col-sm-4\">\\n              <div class=\"feature-box\">\\n                <div class=\"feature-box-icon\"> <i class=\"fa fa-gears (alias)\"></i> </div>\\n                <div class=\"feature-box-info\">\\n                  <p class=\"tall\"><strong>RDI</strong> delivers POS services (point-of-sale) and related software applications that focus on the overall crew and customer experience, resulting in improved operations to the fastest growing food restaurant chain over 120 countries and over 37,500 locations worldwide.<br/><br/>RDI joined Capgemini group in 2017, which has 270,000 collaborators in almost 50 countries.</p>\\n                </div>\\n              </div>\\n            </div>\\n            <div class=\"col-sm-4\">\\n              <div class=\"feature-box\">\\n                <div class=\"feature-box-icon\"> <i class=\"fa fa-thumb-tack\"></i> </div>\\n                <div class=\"feature-box-info\">\\n                  <p class=\"tall\">Our Development Centers are in Sao Paulo (Brazil), Budapest and Debrecen (Hungary).</p>\\n                </div>\\n              </div>\\n            </div>\\n          </div>\\n        </div>\\n      </div>\\n    </div>\\n\\n    <!-- Parallax -->\\n\\n    <section class=\"parallax\" data-stellar-background-ratio=\"0.5\" style=\"background-image: url(img/parallax.jpg);\">\\n      <div class=\"container\">\\n        <div class=\"row center counters\">\\n          <div class=\"col-md-3 col-sm-6\"> <i class=\"fa fa-rocket\"></i> <strong data-from= \"120\" data-to=\"120\" data-append=\"+\">120</strong>\\n            <label>countries deployed</label>\\n          </div>\\n          <div class=\"col-md-3 col-sm-6\"> <i class=\"fa fa-cogs\"></i> <strong>37,500</strong>\\n            <label>restaurants running our products</label>\\n          </div>\\n          <div class=\"col-md-3 col-sm-6\"> <i class=\"fa fa-users\"></i> <strong>1.7</strong>\\n            <label>million users</label>\\n          </div>\\n          <div class=\"col-md-3 col-sm-6\"> <i class=\"fa fa-globe\"></i> <strong>2</strong>\\n            <label>development centers</label>\\n          </div>\\n        </div>\\n      </div>\\n    </section>\\n\\n    <!-- Purpose and  Vision -->\\n\\n    <section class=\"white\">\\n      <div class=\"container\" id=\"purpose-values\">\\n        <div class=\"row\">\\n          <div class=\"col-md-12\">\\n            <h2 class=\"center\" data-appear-animation=\"fadeInLeft\"><strong>Purpose</strong> and <strong>Values</strong></h2>\\n            <div class=\"row\">\\n              <div class=\"col-md-6\">\\n                <div class=\"feature-box secundary\">\\n                    <h4 class=\"shorter\">Our Purpose</h4>\\n                    <p class=\"tall\">Support our partner by increasing product deliveries and leveraging high-end technology to transform customer experience.</p>\\n                </div>\\n              </div>\\n              <div class=\"col-md-6\">\\n                <div class=\"feature-box secundary\">\\n                    <h4 class=\"shorter\">Our Vision</h4>\\n                    <p class=\"tall\">Provide remarkable experience for our <i class=\"people\">PEOPLE</i> and our partner!</p>\\n                </div>\\n              </div>\\n            </div>\\n          </div>\\n        </div>\\n      </div>\\n    </section>\\n\\n    <!-- Powerful Values -->\\n\\n    <section class=\"featured\">\\n      <div class=\"container center\" id=\"powerful_values\">\\n        <h2 class=\"center\" data-appear-animation=\"fadeInLeft\">Our <strong>Powerful Values</strong></h2>\\n        <div class=\"row center\">\\n          <div class=\"col-md-12\">\\n            <div class=\"values\">\\n              <img src=\"img/rdi_values_circle.png\" width=\"70%\" height=\"70%\">\\n            </div>\\n          </div>\\n        </div>\\n      </div>\\n    </section>\\n\\n    <!-- Diversity and Inclusion -->\\n\\n    <section class=\"white\">\\n      <div class=\"container center\" id=\"diversity-inclusion\">\\n        <h2 data-appear-animation=\"fadeInLeft\"><strong>Diversity</strong> and <strong>Inclusion</strong></h2>\\n        <div class=\"row\">\\n          <div class=\"col-md-12\">\\n            <p class=\"shorter\"><strong>RDI</strong> values the plurality of race, color, religion, gender, gender identity, nationality, sexual orientation, disabilities and age.<br/>\\n              Be plural is value and respect the differences. At <strong>RDI</strong> you are free to be you!</p>\\n          </div>\\n        </div>\\n      </div>\\n    </section>\\n\\n    <!-- Services -->\\n\\n    <section class=\"featured\">\\n      <div class=\"container\" id=\"projects\">\\n        <div class=\"row\" id=\"services\">\\n          <div class=\"col-md-12\">\\n            <h2 class=\"center\" data-appear-animation=\"fadeInLeft\">Our <strong>Services</strong></h2>\\n            <div class=\"row\">\\n              <div class=\"col-md-6\">\\n                <div class=\"feature-box secundary\">\\n                  <div class=\"feature-box-icon\"> <i class=\"fa fa-code\"></i> </div>\\n                  <div class=\"feature-box-info\">\\n                    <h4 class=\"shorter\">Software Development</h4>\\n                    <p class=\"tall\">We perform all phases of the development life cycle across crew and customer-facing restaurant applications and work closely with our client to bring innovative solutions to life in the restaurants.</p>\\n                    <p class=\"tall\">&nbsp;</p>\\n                  </div>\\n                </div>\\n                <div class=\"feature-box secundary\">\\n                  <div class=\"feature-box-icon\"> <i class=\"fa fa-bug\"></i> </div>\\n                  <div class=\"feature-box-info\">\\n                    <h4 class=\"shorter\">Testing and Support</h4>\\n                    <p class=\"tall\">We perform unit and full regression tests of our software to ensure that existing and new functionality is working as defined. We review, investigate and resolve issues reported through the test environments and live restaurants to ensure that the application supports the restaurant business 24x7.</p>\\n                  </div>\\n                </div>\\n              </div>\\n              <div class=\"col-md-6\">\\n                <div class=\"feature-box secundary\">\\n                  <div class=\"feature-box-icon\"> <i class=\"fa fa-send (alias)\"></i> </div>\\n                  <div class=\"feature-box-info\">\\n                    <h4 class=\"shorter\">Release Management</h4>\\n                    <p class=\"tall\">RDI provides software release management services for a tightly integrated suite of applications. Our  service maintains the development and delivery schedules for products, identifying any potential conflicts or opportunities to speed delivery.</p>\\n                    <p class=\"tall\"><br>\\n                    </p>\\n                  </div>\\n                </div>\\n                <div class=\"feature-box secundary\">\\n                  <div class=\"feature-box-icon\"> <i class=\"fa fa-mortar-board (alias)\"></i> </div>\\n                  <div class=\"feature-box-info\">\\n                    <h4 class=\"shorter\">Localization services</h4>\\n                    <p class=\"tall\">The company provides documentation and localization services for new applications developed and delivered to the markets.</p>\\n                  </div>\\n                </div>\\n              </div>\\n            </div>\\n          </div>\\n        </div>\\n      </div>\\n    </section>\\n\\n\\n<!-- CAREER -->\\n\\n    <div class=\"container\" id=\"career\">\\n      <h2 class=\"center\" data-appear-animation=\"fadeInLeft\"><strong>Careers</strong></h2>\\n      <div class=\"row\">\\n        <div class=\"col-md-12 center\">\\n          <p class=\"shorter\"> If you love the idea of leveraging your technical and business skills to help drive growth in the Quick Service Restaurant<br/>industry through the innovative use of new technology, join us.<br/><br/>\\n            RDI is an equal opportunity employer and is committed to a diverse and inclusive workforce. </p>\\n        </div>\\n      </div>\\n      <hr>\\n\\n      <!-- Careers for editing -->\\n      <div class=\"row\">\\n        <div class=\"col-md-5\">\\n          <div data-plugin-toggle=\"\" class=\"toogle\">\\n            <section class=\"toggle\">\\n              <label>Join Us</label>\\n              <div class=\"toggle-content\" style=\"display: none;\">\\n                <p>We have open positions in the offices of Brazil and Hungary:<br/>\\n                <p><a href=\"https://career.rdisoftware.com\" target=\"_blank\" class=\"btn btn-apply\">Apply Now</a></p>\\n              </div>\\n            </section>\\n          </div>\\n        </div>\\n        <!-- End of Careers for editing -->\\n\\n        <div class=\"col-md-7\">\\n          <h2 class=\"short\">Benefits &amp; How we hire </h2>\\n          <p><strong>Benefits - </strong>RDI’s collaborative and flexible work environment and high-performance team delivers innovative solutions to our clients. Our benefit package includes a range of market-relevant benefits to help you manage the demands of your career and home life.</p>\\n          <p><strong>How we hire -</strong> Our process is simple; the path to getting hired usually involves a first conversation with a recruiter, a technical evaluation and an interview at one of our global offices with the hiring Manager and HR. </p>\\n        </div>\\n\\n      </div>\\n    </div>\\n\\n\\n    <section class=\"parallax\" data-stellar-background-ratio=\"0.5\" style=\"background-image: url(img/parallax.jpg);\">\\n      <div class=\"container\">\\n        <div class=\"row center\">\\n          <div class=\"col-md-12\"> <i class=\"fa fa-trophy icon-featured\" data-appear-animation=\"bounceIn\"></i>\\n            <h2 class=\"short text-shadow big white bold\"><strong>Join Us</strong></h2>\\n            <h3 class=\"lead white\">Revolutionizing restaurant operations through innovative Technology Solutions.</h3>\\n          </div>\\n        </div>\\n      </div>\\n    </section>\\n\\n\\n<!-- TESTIMONIALS -->\\n    <section class=\"highlight-gray top \">\\n      <div class=\"container\">\\n      <div class=\"row\" id=\"testimonials\">\\n      <div class=\"col-md-12\">\\n          <h2 data-appear-animation=\"fadeInLeft\"><strong>Testimonials</strong></h2>\\n          <div class=\"owl-carousel owl-carousel-spaced owl-carousel-testimonials\" data-plugin-options=\\'{\"items\": 1,\"loop\": \"true\",\"autoplay\": \"true\",\"autoplayTimeout\": 15000,\"singleItem\": \"true\",\"autoheight\": \"true\"}\\'>\\n\\n            <div>\\n                <blockquote class=\"testimonial-carousel\">\\n                    <p>\\n                        Getting full support for my personal and professional development is just one reason that I feel lucky working for RDI. Here I am not only an employee but a colleague and a friend, and this is not only a workplace but a wonderful and inspiring community that is a pleasure to visit every day.\\n                    </p>\\n                </blockquote>\\n                <div class=\"testimonial-from\">\\n                    <div class=\"testimonial-photo\">\\n                        <img src=\"img/rdi_testimonials_sarolta_mezei.png\" width=\"100\" height=\"100\">\\n                    </div>\\n                    <span class=\"testimonial-name\">\\n                        Sarolta Mezei, Technical Writer<br>\\n                    </span>\\n                    <span class=\"testimonial-location\">\\n                        Debrecen, Hungary\\n                    </span>\\n                </div>\\n            </div>\\n\\n            <div>\\n                <blockquote class=\"testimonial-carousel\">\\n                    <p>\\n                        Definitely the working environment. It’s very friendly, it allows you to receive and give help, to share knowledge, and give you the freedom to learn and test new concepts and ideas.\\n                    </p>\\n                    <p>\\n                        In one word, fantastic! Even with the huge cultural and linguistic difference, RDI Hungary and my colleagues could not have received me better. As the only foreign inside the company right now, everyone helped me to achieve a fast engagement with the company know-how, and they’re always willing for me to participate the meetings, debates, and contribute to the work.\\n                    </p>\\n                </blockquote>\\n                <div class=\"testimonial-from\">\\n                    <div class=\"testimonial-photo\">\\n                        <img src=\"img/rdi_testimonials_anderson_rancan.png\" width=\"100\" height=\"100\">\\n                    </div>\\n                    <span class=\"testimonial-name\">\\n                        Anderson Rancan, Senior Software Developer<br>\\n                    </span>\\n                    <span class=\"testimonial-location\">\\n                        Budapest, Hungary\\n                    </span>\\n                </div>\\n            </div>\\n\\n            <div>\\n                <blockquote class=\"testimonial-carousel\">\\n                    <p>\\n                        I\\'ve worked at RDI for several years now, and the experience has been great. There are always challenging and exciting things to do at RDI, being a strategic partner and subsidiary of an iconic company. We work closely with them in a global, fast-paced environment to implement business requirements using cutting-edge technology. Yet RDI retains the camaraderie and close-knit feel of a smaller company, where employees are valued and treated well. It is truly a pleasure to work for RDI.\\n                    </p>\\n                </blockquote>\\n                <div class=\"testimonial-from\">\\n                    <div class=\"testimonial-photo\">\\n                        <img src=\"img/rdi_testimonials_andy_ortloff.png\" width=\"100\" height=\"100\">\\n                    </div>\\n                    <span class=\"testimonial-name\">\\n                        Andy Ortloff, Software Architect<br>\\n                    </span>\\n                    <span class=\"testimonial-location\">\\n                        Oak Brook, US\\n                    </span>\\n                </div>\\n            </div>\\n\\n            <div>\\n                <blockquote class=\"testimonial-carousel\">\\n                    <p>\\n                        In my tenure with RDI, I have had the pleasure of collaborating with some amazing people!  We work together as a team, drawing on our individual strengths, to achieve our goals.   I have learned so much from those around me and believe that my contributions are appreciated as well.  I feel supported by leadership, and encouraged to develop my skills and take on new challenges in my career at RDI.\\n                    </p>\\n                </blockquote>\\n                <div class=\"testimonial-from\">\\n                    <div class=\"testimonial-photo\">\\n                        <img src=\"img/rdi_testimonials_kristin_prestage.png\" width=\"100\" height=\"100\">\\n                    </div>\\n                    <span class=\"testimonial-name\">\\n                        Kristin Prestage, Administrative Analyst<br>\\n                    </span>\\n                    <span class=\"testimonial-location\">\\n                        Oak Brook, US\\n                    </span>\\n                </div>\\n            </div>\\n\\n            <div>\\n                <blockquote class=\"testimonial-carousel\">\\n                    <p>\\n                        What I like most about RDI is the ability to work independently (trust from employers). It’s great to work with people that care about their company and do a good job.  It’s hard to find that environment today because so many people just don’t care about honesty, hard work and integrity.\\xa0 It has been possible to develop myself personally and professionally at RDI. I enjoy being part of a company like RDI, which is open to hearing the views of employees, as well as offering subsidies for learning and flexibility to work. Salary and benefits competitive with the market also makes me comfortable in establishing a long-term development goal of the company. I am happy and peaceful to be working in a big company, solid and effective as RDI\\n                    </p>\\n                </blockquote>\\n                <div class=\"testimonial-from\">\\n                    <div class=\"testimonial-photo\">\\n                        <img src=\"img/rdi_testimonials_ariane_medeiros.png\" width=\"100\" height=\"100\">\\n                    </div>\\n                    <span class=\"testimonial-name\">\\n                        Ariane Medeiros, Software Quality Assurance Analyst<br>\\n                    </span>\\n                    <span class=\"testimonial-location\">\\n                        Sao Paulo, Brazil\\n                    </span>\\n                </div>\\n            </div>\\n\\n          </div>\\n        </div>\\n      </div>\\n    </section>\\n\\n\\n<!-- CONTACT -->\\n\\n    <div class=\"container\">\\n      <div class=\"row\" id=\"contact\">\\n        <div class=\"col-md-6\">\\n          <div class=\"alert alert-success hidden\" id=\"contactSuccess\"> <strong>Success!</strong> Your message has been sent to us. </div>\\n          <div class=\"alert alert-danger hidden\" id=\"contactError\"> <strong>Error!</strong> There was an error sending your message. </div>\\n          <h2 class=\"short\"><strong>Contact</strong> Us</h2>\\n          <form id=\"contactForm\" action=\"php/contact-form.php\" method=\"POST\">\\n            <div class=\"row\">\\n              <div class=\"form-group\">\\n                <div class=\"col-md-6\">\\n                  <label>Your name *</label>\\n                  <input type=\"text\" value=\"\" data-msg-required=\"Please enter your name.\" maxlength=\"100\" class=\"form-control\" name=\"name\" id=\"name\" required>\\n                </div>\\n                <div class=\"col-md-6\">\\n                  <label>Your email address *</label>\\n                  <input type=\"email\" value=\"\" data-msg-required=\"Please enter your email address.\" data-msg-email=\"Please enter a valid email address.\" maxlength=\"100\" class=\"form-control\" name=\"email\" id=\"email\" required>\\n                </div>\\n              </div>\\n            </div>\\n            <div class=\"row\">\\n              <div class=\"form-group\">\\n                <div class=\"col-md-12\">\\n                  <label>Subject</label>\\n                  <input type=\"text\" value=\"\" data-msg-required=\"Please enter the subject.\" maxlength=\"100\" class=\"form-control\" name=\"subject\" id=\"subject\" required>\\n                </div>\\n              </div>\\n            </div>\\n            <div class=\"row\">\\n              <div class=\"form-group\">\\n                <div class=\"col-md-12\">\\n                  <label>Message *</label>\\n                  <textarea maxlength=\"5000\" data-msg-required=\"Please enter your message.\" rows=\"10\" class=\"form-control\" name=\"message\" id=\"message\" required></textarea>\\n                </div>\\n              </div>\\n            </div>\\n            <div class=\"row\">\\n              <div class=\"col-md-12\">\\n                <input type=\"submit\" value=\"Send Message\" class=\"btn btn-primary btn-lg\" data-loading-text=\"Loading...\">\\n              </div>\\n            </div>\\n          </form>\\n        </div>\\n        <div class=\"col-md-6\">\\n          <h4 class=\"push-top\">Important <strong>e-mails</strong></h4>\\n          <ul class=\"list-unstyled\">\\n            <li><i class=\"fa fa-envelope\"></i> <strong>Email:</strong> <a href=\"mailto:rdihumanresources.hr@capgemini.com\">Human Resources</a></li>\\n            <li><i class=\"fa fa-envelope\"></i> <strong>Email:</strong> <a href=\"mailto:support@rdisoftware.com\">Support</a></li>\\n          </ul>\\n        </div>\\n      </div>\\n    </div>\\n  </div>\\n\\n  <!-- FOOTER -->\\n\\n  <footer id=\"footer\">\\n    <div class=\"container\">\\n      <div class=\"row\">\\n        <div class=\"col-md-8\">\\n          <h4>The Company is growing</h4>\\n          <p> We’re expanding our team! We are looking for new team members that are strong performers, love big challenges and will fit in with the culture at RDI.  Contact RDI HR directly – we may be looking for you!</p>\\n          <hr class=\"light\">\\n        </div>\\n        <div class=\"col-md-3 col-md-offset-1\">\\n          <h5 class=\"short\">Contact Us</h5>\\n          <ul class=\"list icons list-unstyled\">\\n            <li><i class=\"fa fa-envelope\"></i> <a href=\"mailto:rdihumanresources.hr@capgemini.com\">rdihumanresources.hr@capgemini.com</a></li>\\n          </ul>\\n          <div class=\"social-icons\">\\n            <ul class=\"social-icons\">\\n              <li class=\"linkedin\"><a href=\"https://www.linkedin.com/company/radi---restaurant-application-development-international-llc/\" target=\"_blank\" data-placement=\"bottom\" data-tooltip title=\"Linkedin\">Linkedin</a></li>\\n            </ul>\\n          </div>\\n        </div>\\n      </div>\\n    </div>\\n    <div class=\"footer-copyright\">\\n        <div class=\"container\">\\n          <div class=\"row\">\\n            <div class=\"col-md-2\"> <a href=\"../\" class=\"logo\"> <img alt=\"RDI\" class=\"img-responsive\" width=\"111\" height\"26\" src=\"../img/logo-footer.png\"> </a> </div>\\n            <div class=\"col-md-6\"></div>\\n            <div class=\"col-md-2\"> <a href=\"../privacy-notice\" target=\"_blank\">Privacy Notice - Brazil</a> </div>\\n            <div class=\"col-md-2\"> <a href=\"../salary-transparency\" target=\"_blank\">Salary Transparency Report</a> </div>\\n            </div>\\n          </div>\\n        </div>\\n      </div>\\n  </footer>\\n</div>\\n\\n<!-- Vendor -->\\n<script src=\"vendor/jquery/jquery.js\"></script>\\n<script src=\"vendor/jquery.appear/jquery.appear.js\"></script>\\n<script src=\"vendor/jquery.easing/jquery.easing.js\"></script>\\n<script src=\"vendor/jquery-cookie/jquery-cookie.js\"></script>\\n<script src=\"vendor/bootstrap/bootstrap.js\"></script>\\n<script src=\"vendor/common/common.js\"></script>\\n<script src=\"vendor/jquery.validation/jquery.validation.js\"></script>\\n<script src=\"vendor/jquery.stellar/jquery.stellar.js\"></script>\\n<script src=\"vendor/jquery.easy-pie-chart/jquery.easy-pie-chart.js\"></script>\\n<script src=\"vendor/jquery.gmap/jquery.gmap.js\"></script>\\n<script src=\"vendor/isotope/jquery.isotope.js\"></script>\\n<script src=\"vendor/owlcarousel/owl.carousel.js\"></script>\\n<script src=\"vendor/magnific-popup/jquery.magnific-popup.js\"></script>\\n<script src=\"vendor/vide/vide.js\"></script>\\n\\n<!-- Theme Base, Components and Settings -->\\n<script src=\"js/theme.js\"></script>\\n\\n<!-- Specific Page Vendor and Views -->\\n<script src=\"vendor/rs-plugin/js/jquery.themepunch.tools.min.js\"></script>\\n<script src=\"vendor/rs-plugin/js/jquery.themepunch.revolution.min.js\"></script>\\n<script src=\"vendor/circle-flip-slideshow/js/jquery.flipshow.js\"></script>\\n<script src=\"js/views/view.home.js\"></script>\\n<script src=\"js/views/view.contact.js\"></script>\\n\\n<!-- Theme Custom -->\\n<script src=\"js/custom.js\"></script>\\n\\n<!-- Theme Initialization Files -->\\n<script src=\"js/theme.init.js\"></script>\\n\\n<!-- Google Analytics: Change UA-XXXXX-X to be your site\\'s ID. Go to http://www.google.com/analytics/ for more information.\\n\\t\\t<script type=\"text/javascript\">\\n\\n\\t\\t\\tvar _gaq = _gaq || [];\\n\\t\\t\\t_gaq.push([\\'_setAccount\\', \\'UA-12345678-1\\']);\\n\\t\\t\\t_gaq.push([\\'_trackPageview\\']);\\n\\n\\t\\t\\t(function() {\\n\\t\\t\\tvar ga = document.createElement(\\'script\\'); ga.type = \\'text/javascript\\'; ga.async = true;\\n\\t\\t\\tga.src = (\\'https:\\' == document.location.protocol ? \\'https://ssl\\' : \\'http://www\\') + \\'.google-analytics.com/ga.js\\';\\n\\t\\t\\tvar s = document.getElementsByTagName(\\'script\\')[0]; s.parentNode.insertBefore(ga, s);\\n\\t\\t\\t})();\\n\\n\\t\\t</script>\\n\\t\\t -->\\n\\n</body>\\n</html>\\n', metadata={'source': 'https://www.rdisoftware.com/', 'title': 'RDI Software', 'description': 'RDI Software - Part of Capgemini', 'language': 'No language found.'})\n"
     ]
    }
   ],
   "source": [
    "#GOOD TO KNOW!\n",
    "#HTML LOADER (OPTIONAL LECTURE CONTENT)\n",
    "from langchain_community.document_loaders import AsyncHtmlLoader\n",
    "\n",
    "urls = [\"https://www.rdisoftware.com/\"]\n",
    "loader_HTML = AsyncHtmlLoader(urls)\n",
    "print(\"\\nAsync html loaders\")\n",
    "docs = loader_HTML.load()\n",
    "print(\"Downloaded pages: \" + str(len(docs)))\n",
    "prettyPrint(docs[0])\n",
    "with open(\"./Output/Rdi.html\", mode=\"w\", encoding=\"utf-8\") as file:\n",
    "    file.write(docs[0].page_content)\n",
    "    \n",
    "# Expected execution time: 7s"
   ]
  },
  {
   "cell_type": "markdown",
   "metadata": {},
   "source": [
    "## Text Splitters"
   ]
  },
  {
   "cell_type": "code",
   "execution_count": 21,
   "metadata": {},
   "outputs": [
    {
     "data": {
      "text/plain": [
       "[Document(page_content='RDI Software Linkedin Instagram Glassdoor Home Discover RDI Our Services\\nCareers Testimonials Contact Us more than just a technology company a PEOPLE\\ncompany DISCOVER We proudly serve the leading global foodservice retailer with\\na focus on improving the overall crew and customer experience, resulting in\\nimproved operations in the restaurants. Discover RDI RDI has 20+ years of\\nhistory working as a strategic partner of a major global QSR (Quick Service', metadata={'source': 'https://www.rdisoftware.com/', 'title': 'RDI Software', 'description': 'RDI Software - Part of Capgemini', 'language': 'No language found.'}),\n",
       " Document(page_content='Restaurant) retailer. RDI delivers POS services (point-of-sale) and related\\nsoftware applications that focus on the overall crew and customer experience,\\nresulting in improved operations to the fastest growing food restaurant chain\\nover 120 countries and over 37,500 locations worldwide.RDI joined Capgemini\\ngroup in 2017, which has 270,000 collaborators in almost 50 countries. Our\\nDevelopment Centers are in Sao Paulo (Brazil), Budapest and Debrecen', metadata={'source': 'https://www.rdisoftware.com/', 'title': 'RDI Software', 'description': 'RDI Software - Part of Capgemini', 'language': 'No language found.'}),\n",
       " Document(page_content='(Hungary). 120 countries deployed 37,500 restaurants running our products 1.7\\nmillion users 2 development centers Purpose and Values Our Purpose Support our\\npartner by increasing product deliveries and leveraging high-end technology to\\ntransform customer experience. Our Vision Provide remarkable experience for\\nour PEOPLE and our partner! Our Powerful Values Diversity and Inclusion RDI\\nvalues the plurality of race, color, religion, gender, gender identity,', metadata={'source': 'https://www.rdisoftware.com/', 'title': 'RDI Software', 'description': 'RDI Software - Part of Capgemini', 'language': 'No language found.'}),\n",
       " Document(page_content='nationality, sexual orientation, disabilities and age. Be plural is value and\\nrespect the differences. At RDI you are free to be you! Our Services Software\\nDevelopment We perform all phases of the development life cycle across crew\\nand customer-facing restaurant applications and work closely with our client\\nto bring innovative solutions to life in the restaurants. Testing and Support\\nWe perform unit and full regression tests of our software to ensure that', metadata={'source': 'https://www.rdisoftware.com/', 'title': 'RDI Software', 'description': 'RDI Software - Part of Capgemini', 'language': 'No language found.'}),\n",
       " Document(page_content='existing and new functionality is working as defined. We review, investigate\\nand resolve issues reported through the test environments and live restaurants\\nto ensure that the application supports the restaurant business 24x7. Release\\nManagement RDI provides software release management services for a tightly\\nintegrated suite of applications. Our service maintains the development and\\ndelivery schedules for products, identifying any potential conflicts or', metadata={'source': 'https://www.rdisoftware.com/', 'title': 'RDI Software', 'description': 'RDI Software - Part of Capgemini', 'language': 'No language found.'}),\n",
       " Document(page_content='opportunities to speed delivery. Localization services The company provides\\ndocumentation and localization services for new applications developed and\\ndelivered to the markets. Careers If you love the idea of leveraging your\\ntechnical and business skills to help drive growth in the Quick Service\\nRestaurantindustry through the innovative use of new technology, join us. RDI\\nis an equal opportunity employer and is committed to a diverse and inclusive', metadata={'source': 'https://www.rdisoftware.com/', 'title': 'RDI Software', 'description': 'RDI Software - Part of Capgemini', 'language': 'No language found.'}),\n",
       " Document(page_content='workforce. Join Us We have open positions in the offices of Brazil and\\nHungary: Apply Now Benefits & How we hire Benefits - RDI’s collaborative and\\nflexible work environment and high-performance team delivers innovative\\nsolutions to our clients. Our benefit package includes a range of market-\\nrelevant benefits to help you manage the demands of your career and home life.\\nHow we hire - Our process is simple; the path to getting hired usually', metadata={'source': 'https://www.rdisoftware.com/', 'title': 'RDI Software', 'description': 'RDI Software - Part of Capgemini', 'language': 'No language found.'}),\n",
       " Document(page_content='involves a first conversation with a recruiter, a technical evaluation and an\\ninterview at one of our global offices with the hiring Manager and HR. Join Us\\nRevolutionizing restaurant operations through innovative Technology Solutions.\\nTestimonials Getting full support for my personal and professional development\\nis just one reason that I feel lucky working for RDI. Here I am not only an\\nemployee but a colleague and a friend, and this is not only a workplace but a', metadata={'source': 'https://www.rdisoftware.com/', 'title': 'RDI Software', 'description': 'RDI Software - Part of Capgemini', 'language': 'No language found.'}),\n",
       " Document(page_content='wonderful and inspiring community that is a pleasure to visit every day.\\nSarolta Mezei, Technical Writer Debrecen, Hungary Definitely the working\\nenvironment. It’s very friendly, it allows you to receive and give help, to\\nshare knowledge, and give you the freedom to learn and test new concepts and\\nideas. In one word, fantastic! Even with the huge cultural and linguistic\\ndifference, RDI Hungary and my colleagues could not have received me better.', metadata={'source': 'https://www.rdisoftware.com/', 'title': 'RDI Software', 'description': 'RDI Software - Part of Capgemini', 'language': 'No language found.'}),\n",
       " Document(page_content=\"As the only foreign inside the company right now, everyone helped me to\\nachieve a fast engagement with the company know-how, and they’re always\\nwilling for me to participate the meetings, debates, and contribute to the\\nwork. Anderson Rancan, Senior Software Developer Budapest, Hungary I've worked\\nat RDI for several years now, and the experience has been great. There are\\nalways challenging and exciting things to do at RDI, being a strategic partner\", metadata={'source': 'https://www.rdisoftware.com/', 'title': 'RDI Software', 'description': 'RDI Software - Part of Capgemini', 'language': 'No language found.'}),\n",
       " Document(page_content='and subsidiary of an iconic company. We work closely with them in a global,\\nfast-paced environment to implement business requirements using cutting-edge\\ntechnology. Yet RDI retains the camaraderie and close-knit feel of a smaller\\ncompany, where employees are valued and treated well. It is truly a pleasure\\nto work for RDI. Andy Ortloff, Software Architect Oak Brook, US In my tenure\\nwith RDI, I have had the pleasure of collaborating with some amazing people!', metadata={'source': 'https://www.rdisoftware.com/', 'title': 'RDI Software', 'description': 'RDI Software - Part of Capgemini', 'language': 'No language found.'}),\n",
       " Document(page_content='We work together as a team, drawing on our individual strengths, to achieve\\nour goals. I have learned so much from those around me and believe that my\\ncontributions are appreciated as well. I feel supported by leadership, and\\nencouraged to develop my skills and take on new challenges in my career at\\nRDI. Kristin Prestage, Administrative Analyst Oak Brook, US What I like most\\nabout RDI is the ability to work independently (trust from employers). It’s', metadata={'source': 'https://www.rdisoftware.com/', 'title': 'RDI Software', 'description': 'RDI Software - Part of Capgemini', 'language': 'No language found.'}),\n",
       " Document(page_content='great to work with people that care about their company and do a good job.\\nIt’s hard to find that environment today because so many people just don’t\\ncare about honesty, hard work and integrity. It has been possible to develop\\nmyself personally and professionally at RDI. I enjoy being part of a company\\nlike RDI, which is open to hearing the views of employees, as well as offering\\nsubsidies for learning and flexibility to work. Salary and benefits', metadata={'source': 'https://www.rdisoftware.com/', 'title': 'RDI Software', 'description': 'RDI Software - Part of Capgemini', 'language': 'No language found.'}),\n",
       " Document(page_content='competitive with the market also makes me comfortable in establishing a long-\\nterm development goal of the company. I am happy and peaceful to be working in\\na big company, solid and effective as RDI Ariane Medeiros, Software Quality\\nAssurance Analyst Sao Paulo, Brazil Success! Your message has been sent to us.\\nError! There was an error sending your message. Contact Us Your name * Your\\nemail address * Subject Message * Important e-mails Email: Human Resources', metadata={'source': 'https://www.rdisoftware.com/', 'title': 'RDI Software', 'description': 'RDI Software - Part of Capgemini', 'language': 'No language found.'}),\n",
       " Document(page_content='Email: Support The Company is growing We’re expanding our team! We are looking\\nfor new team members that are strong performers, love big challenges and will\\nfit in with the culture at RDI. Contact RDI HR directly – we may be looking\\nfor you! Contact Us rdihumanresources.hr@capgemini.com Linkedin Privacy Notice\\n- Brazil Salary Transparency Report', metadata={'source': 'https://www.rdisoftware.com/', 'title': 'RDI Software', 'description': 'RDI Software - Part of Capgemini', 'language': 'No language found.'})]"
      ]
     },
     "execution_count": 21,
     "metadata": {},
     "output_type": "execute_result"
    }
   ],
   "source": [
    "from langchain.text_splitter import RecursiveCharacterTextSplitter\n",
    "#Recursive Text Splitter do not chopp off words, it is good but we´re going to see in lesson 6 better strategies\n",
    "\n",
    "text_splitter = RecursiveCharacterTextSplitter(\n",
    "    chunk_size=500, \n",
    "    chunk_overlap=50, \n",
    "    is_separator_regex=False\n",
    "    )\n",
    "rdi_splitted_documents = text_splitter.split_documents(docs_transformed)\n",
    "rdi_splitted_documents"
   ]
  },
  {
   "cell_type": "markdown",
   "metadata": {},
   "source": [
    "# VectorStores\n",
    "\n",
    "Vector stores are specialized databases designed to efficiently handle high-dimensional vector data. They are the backbone for storing and retrieving embeddings generated from Large Language Models (LLMs). These embeddings are high-dimensional vectors that capture the semantic essence of text data and are crucial for tasks like text similarity, clustering, and retrieval."
   ]
  },
  {
   "cell_type": "code",
   "execution_count": 22,
   "metadata": {},
   "outputs": [],
   "source": [
    "from chromadb import Documents\n",
    "from langchain_chroma import Chroma\n",
    "\n",
    "def add_to_chroma(chunks: List[str], metadatas: List[dict], ids: List[str],\n",
    "                  collection=\"Rdi_vectorDb\") -> List[str]: \n",
    "    db = Chroma(\n",
    "        collection_name=collection,\n",
    "        embedding_function=get_ollama_embedding(),\n",
    "        persist_directory=\"./Databases\")\n",
    "    return db.add_texts(chunks, metadatas, ids) \n",
    "\n",
    "\n",
    "def get_db(collection=\"Rdi_vectorDb\"):\n",
    "    return Chroma(\n",
    "        persist_directory=\"./Databases\",    \n",
    "        collection_name=collection,\n",
    "        embedding_function=get_ollama_embedding())\n",
    "    \n"
   ]
  },
  {
   "cell_type": "code",
   "execution_count": 23,
   "metadata": {},
   "outputs": [
    {
     "name": "stdout",
     "output_type": "stream",
     "text": [
      "['RDI Software Linkedin Instagram Glassdoor Home Discover RDI Our Services\\nCareers Testimonials Contact Us more than just a technology company a PEOPLE\\ncompany DISCOVER We proudly serve the leading global foodservice retailer with\\na focus on improving the overall crew and customer experience, resulting in\\nimproved operations in the restaurants. Discover RDI RDI has 20+ years of\\nhistory working as a strategic partner of a major global QSR (Quick Service', 'Restaurant) retailer. RDI delivers POS services (point-of-sale) and related\\nsoftware applications that focus on the overall crew and customer experience,\\nresulting in improved operations to the fastest growing food restaurant chain\\nover 120 countries and over 37,500 locations worldwide.RDI joined Capgemini\\ngroup in 2017, which has 270,000 collaborators in almost 50 countries. Our\\nDevelopment Centers are in Sao Paulo (Brazil), Budapest and Debrecen', '(Hungary). 120 countries deployed 37,500 restaurants running our products 1.7\\nmillion users 2 development centers Purpose and Values Our Purpose Support our\\npartner by increasing product deliveries and leveraging high-end technology to\\ntransform customer experience. Our Vision Provide remarkable experience for\\nour PEOPLE and our partner! Our Powerful Values Diversity and Inclusion RDI\\nvalues the plurality of race, color, religion, gender, gender identity,', 'nationality, sexual orientation, disabilities and age. Be plural is value and\\nrespect the differences. At RDI you are free to be you! Our Services Software\\nDevelopment We perform all phases of the development life cycle across crew\\nand customer-facing restaurant applications and work closely with our client\\nto bring innovative solutions to life in the restaurants. Testing and Support\\nWe perform unit and full regression tests of our software to ensure that', 'existing and new functionality is working as defined. We review, investigate\\nand resolve issues reported through the test environments and live restaurants\\nto ensure that the application supports the restaurant business 24x7. Release\\nManagement RDI provides software release management services for a tightly\\nintegrated suite of applications. Our service maintains the development and\\ndelivery schedules for products, identifying any potential conflicts or', 'opportunities to speed delivery. Localization services The company provides\\ndocumentation and localization services for new applications developed and\\ndelivered to the markets. Careers If you love the idea of leveraging your\\ntechnical and business skills to help drive growth in the Quick Service\\nRestaurantindustry through the innovative use of new technology, join us. RDI\\nis an equal opportunity employer and is committed to a diverse and inclusive', 'workforce. Join Us We have open positions in the offices of Brazil and\\nHungary: Apply Now Benefits & How we hire Benefits - RDI’s collaborative and\\nflexible work environment and high-performance team delivers innovative\\nsolutions to our clients. Our benefit package includes a range of market-\\nrelevant benefits to help you manage the demands of your career and home life.\\nHow we hire - Our process is simple; the path to getting hired usually', 'involves a first conversation with a recruiter, a technical evaluation and an\\ninterview at one of our global offices with the hiring Manager and HR. Join Us\\nRevolutionizing restaurant operations through innovative Technology Solutions.\\nTestimonials Getting full support for my personal and professional development\\nis just one reason that I feel lucky working for RDI. Here I am not only an\\nemployee but a colleague and a friend, and this is not only a workplace but a', 'wonderful and inspiring community that is a pleasure to visit every day.\\nSarolta Mezei, Technical Writer Debrecen, Hungary Definitely the working\\nenvironment. It’s very friendly, it allows you to receive and give help, to\\nshare knowledge, and give you the freedom to learn and test new concepts and\\nideas. In one word, fantastic! Even with the huge cultural and linguistic\\ndifference, RDI Hungary and my colleagues could not have received me better.', \"As the only foreign inside the company right now, everyone helped me to\\nachieve a fast engagement with the company know-how, and they’re always\\nwilling for me to participate the meetings, debates, and contribute to the\\nwork. Anderson Rancan, Senior Software Developer Budapest, Hungary I've worked\\nat RDI for several years now, and the experience has been great. There are\\nalways challenging and exciting things to do at RDI, being a strategic partner\", 'and subsidiary of an iconic company. We work closely with them in a global,\\nfast-paced environment to implement business requirements using cutting-edge\\ntechnology. Yet RDI retains the camaraderie and close-knit feel of a smaller\\ncompany, where employees are valued and treated well. It is truly a pleasure\\nto work for RDI. Andy Ortloff, Software Architect Oak Brook, US In my tenure\\nwith RDI, I have had the pleasure of collaborating with some amazing people!', 'We work together as a team, drawing on our individual strengths, to achieve\\nour goals. I have learned so much from those around me and believe that my\\ncontributions are appreciated as well. I feel supported by leadership, and\\nencouraged to develop my skills and take on new challenges in my career at\\nRDI. Kristin Prestage, Administrative Analyst Oak Brook, US What I like most\\nabout RDI is the ability to work independently (trust from employers). It’s', 'great to work with people that care about their company and do a good job.\\nIt’s hard to find that environment today because so many people just don’t\\ncare about honesty, hard work and integrity. It has been possible to develop\\nmyself personally and professionally at RDI. I enjoy being part of a company\\nlike RDI, which is open to hearing the views of employees, as well as offering\\nsubsidies for learning and flexibility to work. Salary and benefits', 'competitive with the market also makes me comfortable in establishing a long-\\nterm development goal of the company. I am happy and peaceful to be working in\\na big company, solid and effective as RDI Ariane Medeiros, Software Quality\\nAssurance Analyst Sao Paulo, Brazil Success! Your message has been sent to us.\\nError! There was an error sending your message. Contact Us Your name * Your\\nemail address * Subject Message * Important e-mails Email: Human Resources', 'Email: Support The Company is growing We’re expanding our team! We are looking\\nfor new team members that are strong performers, love big challenges and will\\nfit in with the culture at RDI. Contact RDI HR directly – we may be looking\\nfor you! Contact Us rdihumanresources.hr@capgemini.com Linkedin Privacy Notice\\n- Brazil Salary Transparency Report']\n",
      "[{'source': 'https://www.rdisoftware.com/', 'title': 'RDI Software', 'description': 'RDI Software - Part of Capgemini', 'language': 'No language found.'}, {'source': 'https://www.rdisoftware.com/', 'title': 'RDI Software', 'description': 'RDI Software - Part of Capgemini', 'language': 'No language found.'}, {'source': 'https://www.rdisoftware.com/', 'title': 'RDI Software', 'description': 'RDI Software - Part of Capgemini', 'language': 'No language found.'}, {'source': 'https://www.rdisoftware.com/', 'title': 'RDI Software', 'description': 'RDI Software - Part of Capgemini', 'language': 'No language found.'}, {'source': 'https://www.rdisoftware.com/', 'title': 'RDI Software', 'description': 'RDI Software - Part of Capgemini', 'language': 'No language found.'}, {'source': 'https://www.rdisoftware.com/', 'title': 'RDI Software', 'description': 'RDI Software - Part of Capgemini', 'language': 'No language found.'}, {'source': 'https://www.rdisoftware.com/', 'title': 'RDI Software', 'description': 'RDI Software - Part of Capgemini', 'language': 'No language found.'}, {'source': 'https://www.rdisoftware.com/', 'title': 'RDI Software', 'description': 'RDI Software - Part of Capgemini', 'language': 'No language found.'}, {'source': 'https://www.rdisoftware.com/', 'title': 'RDI Software', 'description': 'RDI Software - Part of Capgemini', 'language': 'No language found.'}, {'source': 'https://www.rdisoftware.com/', 'title': 'RDI Software', 'description': 'RDI Software - Part of Capgemini', 'language': 'No language found.'}, {'source': 'https://www.rdisoftware.com/', 'title': 'RDI Software', 'description': 'RDI Software - Part of Capgemini', 'language': 'No language found.'}, {'source': 'https://www.rdisoftware.com/', 'title': 'RDI Software', 'description': 'RDI Software - Part of Capgemini', 'language': 'No language found.'}, {'source': 'https://www.rdisoftware.com/', 'title': 'RDI Software', 'description': 'RDI Software - Part of Capgemini', 'language': 'No language found.'}, {'source': 'https://www.rdisoftware.com/', 'title': 'RDI Software', 'description': 'RDI Software - Part of Capgemini', 'language': 'No language found.'}, {'source': 'https://www.rdisoftware.com/', 'title': 'RDI Software', 'description': 'RDI Software - Part of Capgemini', 'language': 'No language found.'}]\n",
      "['acaffb9f395fc55f80a89036d130bce82561a0d313b0d3c1904ba4ac8d763a6b', 'cd82e527ab0937636f72443bdf2230ea2806050fa34bbf893de67aefde4e2bda', '7b89672b63b1875aebfc8224cc9aa3b8d7a31b328bdccf7176a5eb045d2b7b8e', '140b4b193447164777e85e437507d977d27dc536a8f177d81c02ac48eff80170', '412939f83001c8eb3506416b146afab5a2fcfa2c5a732018ca7c0aaa48e1246f', '5eeab1004bb01d878285a753a8404c4dea3643206cd1980715ae705724e2cb2b', 'fd817c9c54c1c5a07fd59fa2e300fe1c4aa06036363ee299a4f0bd6ae92d8b95', '54faf542cccaedc30ede3a786d02c49074a4017781895f91d075372ef4794da6', 'fc9c0733a26656aacd53a75228916731f2099b35f280355def5e85e584ad0002', '17f4eb54338963ea953ad9d6e925aae48fe82828174599b318e5b8128e07ad81', '47bc01e05fd761ca64668bed6ab0779fa4ee53d371ae0a724f72a7fba9a13702', 'c794030fbfcbd72221c7a4fbd1518fcb0aa787272ca1fef4767f87301b33eb4a', '1055ad83fa8af55d8117eee595900af73bcff6611049cdbb3fc150d28fbe4796', '820468b26f59aa19080d45725b7fd52f3a934268ad3be7b4fb34341755fefa74', 'bf2cb2c18fee9b73b757363c31a3d773bd0599ed4db31fc070f66db06f5746aa']\n"
     ]
    }
   ],
   "source": [
    "\n",
    "#extract chunks\n",
    "chunks = [_.page_content for _ in rdi_splitted_documents]\n",
    "print(chunks)\n",
    "\n",
    "#extract metadatas\n",
    "metadatas = [_.metadata for _ in rdi_splitted_documents]\n",
    "print(metadatas)\n",
    "\n",
    "#Create Ids\n",
    "import hashlib\n",
    "ids = [f\"{hashlib.sha256(chunk.encode()).hexdigest()}\" for chunk in chunks]\n",
    "print(ids)\n"
   ]
  },
  {
   "cell_type": "code",
   "execution_count": 24,
   "metadata": {},
   "outputs": [
    {
     "name": "stderr",
     "output_type": "stream",
     "text": [
      "OllamaEmbeddings: 100%|██████████| 15/15 [00:10<00:00,  1.40it/s]"
     ]
    },
    {
     "name": "stdout",
     "output_type": "stream",
     "text": [
      "['acaffb9f395fc55f80a89036d130bce82561a0d313b0d3c1904ba4ac8d763a6b', 'cd82e527ab0937636f72443bdf2230ea2806050fa34bbf893de67aefde4e2bda', '7b89672b63b1875aebfc8224cc9aa3b8d7a31b328bdccf7176a5eb045d2b7b8e', '140b4b193447164777e85e437507d977d27dc536a8f177d81c02ac48eff80170', '412939f83001c8eb3506416b146afab5a2fcfa2c5a732018ca7c0aaa48e1246f', '5eeab1004bb01d878285a753a8404c4dea3643206cd1980715ae705724e2cb2b', 'fd817c9c54c1c5a07fd59fa2e300fe1c4aa06036363ee299a4f0bd6ae92d8b95', '54faf542cccaedc30ede3a786d02c49074a4017781895f91d075372ef4794da6', 'fc9c0733a26656aacd53a75228916731f2099b35f280355def5e85e584ad0002', '17f4eb54338963ea953ad9d6e925aae48fe82828174599b318e5b8128e07ad81', '47bc01e05fd761ca64668bed6ab0779fa4ee53d371ae0a724f72a7fba9a13702', 'c794030fbfcbd72221c7a4fbd1518fcb0aa787272ca1fef4767f87301b33eb4a', '1055ad83fa8af55d8117eee595900af73bcff6611049cdbb3fc150d28fbe4796', '820468b26f59aa19080d45725b7fd52f3a934268ad3be7b4fb34341755fefa74', 'bf2cb2c18fee9b73b757363c31a3d773bd0599ed4db31fc070f66db06f5746aa']\n"
     ]
    },
    {
     "name": "stderr",
     "output_type": "stream",
     "text": [
      "\n"
     ]
    }
   ],
   "source": [
    "#Add to database\n",
    "added_ids = add_to_chroma(chunks, metadatas, ids)\n",
    "print(added_ids)"
   ]
  },
  {
   "cell_type": "markdown",
   "metadata": {},
   "source": [
    "## Similarity Search\n",
    "\n",
    "Similarity search for the closest semantic meaning of your vector and the database"
   ]
  },
  {
   "cell_type": "code",
   "execution_count": 25,
   "metadata": {},
   "outputs": [
    {
     "name": "stderr",
     "output_type": "stream",
     "text": [
      "OllamaEmbeddings:   0%|          | 0/1 [00:00<?, ?it/s]"
     ]
    },
    {
     "name": "stderr",
     "output_type": "stream",
     "text": [
      "OllamaEmbeddings: 100%|██████████| 1/1 [00:00<00:00,  5.29it/s]\n"
     ]
    },
    {
     "data": {
      "text/plain": [
       "[(Document(page_content='Email: Support The Company is growing We’re expanding our team! We are looking\\nfor new team members that are strong performers, love big challenges and will\\nfit in with the culture at RDI. Contact RDI HR directly – we may be looking\\nfor you! Contact Us rdihumanresources.hr@capgemini.com Linkedin Privacy Notice\\n- Brazil Salary Transparency Report', metadata={'description': 'RDI Software - Part of Capgemini', 'language': 'No language found.', 'source': 'https://www.rdisoftware.com/', 'title': 'RDI Software'}),\n",
       "  315.5809641336256),\n",
       " (Document(page_content='involves a first conversation with a recruiter, a technical evaluation and an\\ninterview at one of our global offices with the hiring Manager and HR. Join Us\\nRevolutionizing restaurant operations through innovative Technology Solutions.\\nTestimonials Getting full support for my personal and professional development\\nis just one reason that I feel lucky working for RDI. Here I am not only an\\nemployee but a colleague and a friend, and this is not only a workplace but a', metadata={'description': 'RDI Software - Part of Capgemini', 'language': 'No language found.', 'source': 'https://www.rdisoftware.com/', 'title': 'RDI Software'}),\n",
       "  386.09933215868443),\n",
       " (Document(page_content=\"As the only foreign inside the company right now, everyone helped me to\\nachieve a fast engagement with the company know-how, and they’re always\\nwilling for me to participate the meetings, debates, and contribute to the\\nwork. Anderson Rancan, Senior Software Developer Budapest, Hungary I've worked\\nat RDI for several years now, and the experience has been great. There are\\nalways challenging and exciting things to do at RDI, being a strategic partner\", metadata={'description': 'RDI Software - Part of Capgemini', 'language': 'No language found.', 'source': 'https://www.rdisoftware.com/', 'title': 'RDI Software'}),\n",
       "  393.9585665854658),\n",
       " (Document(page_content='RDI Software Linkedin Home Discover RDI Our Services Careers Testimonials\\nContact Us more than just a technology company a PEOPLE company DISCOVER We\\nproudly serve the leading global foodservice retailer with a focus on\\nimproving the overall crew and customer experience, resulting in improved\\noperations in the restaurants. Discover RDI RDI has 20+ years of history\\nworking as a strategic partner of a major global QSR (Quick Service', metadata={'description': 'RDI Software - Part of Capgemini', 'language': 'No language found.', 'source': 'https://www.rdisoftware.com/', 'title': 'RDI Software'}),\n",
       "  396.0964715084754),\n",
       " (Document(page_content='RDI Software Linkedin Instagram Glassdoor Home Discover RDI Our Services\\nCareers Testimonials Contact Us more than just a technology company a PEOPLE\\ncompany DISCOVER We proudly serve the leading global foodservice retailer with\\na focus on improving the overall crew and customer experience, resulting in\\nimproved operations in the restaurants. Discover RDI RDI has 20+ years of\\nhistory working as a strategic partner of a major global QSR (Quick Service', metadata={'description': 'RDI Software - Part of Capgemini', 'language': 'No language found.', 'source': 'https://www.rdisoftware.com/', 'title': 'RDI Software'}),\n",
       "  415.7241571604005)]"
      ]
     },
     "execution_count": 25,
     "metadata": {},
     "output_type": "execute_result"
    }
   ],
   "source": [
    "query = \"In what year RDI joined Capgemini group ?\"\n",
    "vectorstore = get_db()\n",
    "docs = vectorstore.similarity_search_with_score(query=query, k=5)\n",
    "docs"
   ]
  },
  {
   "cell_type": "markdown",
   "metadata": {},
   "source": [
    "## Maximum Marginal Relevance Search (MMR)\n",
    "\n",
    "Maximal marginal relevance optimizes for similarity to query and diversity among selected documents"
   ]
  },
  {
   "cell_type": "code",
   "execution_count": 26,
   "metadata": {},
   "outputs": [
    {
     "name": "stderr",
     "output_type": "stream",
     "text": [
      "OllamaEmbeddings: 100%|██████████| 1/1 [00:00<00:00,  6.76it/s]\n",
      "Number of requested results 20 is greater than number of elements in index 16, updating n_results = 16\n"
     ]
    },
    {
     "data": {
      "text/plain": [
       "['Email: Support The Company is growing We’re expanding our team! We are looking\\nfor new team members that are strong performers, love big challenges and will\\nfit in with the culture at RDI. Contact RDI HR directly – we may be looking\\nfor you! Contact Us rdihumanresources.hr@capgemini.com Linkedin Privacy Notice\\n- Brazil Salary Transparency Report',\n",
       " 'involves a first conversation with a recruiter, a technical evaluation and an\\ninterview at one of our global offices with the hiring Manager and HR. Join Us\\nRevolutionizing restaurant operations through innovative Technology Solutions.\\nTestimonials Getting full support for my personal and professional development\\nis just one reason that I feel lucky working for RDI. Here I am not only an\\nemployee but a colleague and a friend, and this is not only a workplace but a',\n",
       " \"As the only foreign inside the company right now, everyone helped me to\\nachieve a fast engagement with the company know-how, and they’re always\\nwilling for me to participate the meetings, debates, and contribute to the\\nwork. Anderson Rancan, Senior Software Developer Budapest, Hungary I've worked\\nat RDI for several years now, and the experience has been great. There are\\nalways challenging and exciting things to do at RDI, being a strategic partner\",\n",
       " 'RDI Software Linkedin Home Discover RDI Our Services Careers Testimonials\\nContact Us more than just a technology company a PEOPLE company DISCOVER We\\nproudly serve the leading global foodservice retailer with a focus on\\nimproving the overall crew and customer experience, resulting in improved\\noperations in the restaurants. Discover RDI RDI has 20+ years of history\\nworking as a strategic partner of a major global QSR (Quick Service',\n",
       " 'Restaurant) retailer. RDI delivers POS services (point-of-sale) and related\\nsoftware applications that focus on the overall crew and customer experience,\\nresulting in improved operations to the fastest growing food restaurant chain\\nover 120 countries and over 37,500 locations worldwide.RDI joined Capgemini\\ngroup in 2017, which has 270,000 collaborators in almost 50 countries. Our\\nDevelopment Centers are in Sao Paulo (Brazil), Budapest and Debrecen',\n",
       " 'nationality, sexual orientation, disabilities and age. Be plural is value and\\nrespect the differences. At RDI you are free to be you! Our Services Software\\nDevelopment We perform all phases of the development life cycle across crew\\nand customer-facing restaurant applications and work closely with our client\\nto bring innovative solutions to life in the restaurants. Testing and Support\\nWe perform unit and full regression tests of our software to ensure that']"
      ]
     },
     "execution_count": 26,
     "metadata": {},
     "output_type": "execute_result"
    }
   ],
   "source": [
    "query = \"In what year RDI joined Capgemini group ?\"\n",
    "docs = vectorstore.max_marginal_relevance_search(query=query, k=6)\n",
    "docs = [doc.page_content for doc in docs]\n",
    "docs"
   ]
  },
  {
   "cell_type": "markdown",
   "metadata": {},
   "source": [
    "# The RAG\n",
    "\n"
   ]
  },
  {
   "cell_type": "code",
   "execution_count": 27,
   "metadata": {},
   "outputs": [
    {
     "name": "stdout",
     "output_type": "stream",
     "text": [
      "According to the provided context, RDI joined the Capgemini group in 2017."
     ]
    },
    {
     "data": {
      "text/plain": [
       "[{'role': 'system',\n",
       "  'content': 'You are an assistant capable of summarizing any text without loosing context'},\n",
       " {'role': 'user',\n",
       "  'content': 'Considering the following context:\\n        ==================================\\n        Context: [\\'Email: Support The Company is growing We’re expanding our team! We are looking\\\\nfor new team members that are strong performers, love big challenges and will\\\\nfit in with the culture at RDI. Contact RDI HR directly – we may be looking\\\\nfor you! Contact Us rdihumanresources.hr@capgemini.com Linkedin Privacy Notice\\\\n- Brazil Salary Transparency Report\\', \\'involves a first conversation with a recruiter, a technical evaluation and an\\\\ninterview at one of our global offices with the hiring Manager and HR. Join Us\\\\nRevolutionizing restaurant operations through innovative Technology Solutions.\\\\nTestimonials Getting full support for my personal and professional development\\\\nis just one reason that I feel lucky working for RDI. Here I am not only an\\\\nemployee but a colleague and a friend, and this is not only a workplace but a\\', \"As the only foreign inside the company right now, everyone helped me to\\\\nachieve a fast engagement with the company know-how, and they’re always\\\\nwilling for me to participate the meetings, debates, and contribute to the\\\\nwork. Anderson Rancan, Senior Software Developer Budapest, Hungary I\\'ve worked\\\\nat RDI for several years now, and the experience has been great. There are\\\\nalways challenging and exciting things to do at RDI, being a strategic partner\", \\'RDI Software Linkedin Home Discover RDI Our Services Careers Testimonials\\\\nContact Us more than just a technology company a PEOPLE company DISCOVER We\\\\nproudly serve the leading global foodservice retailer with a focus on\\\\nimproving the overall crew and customer experience, resulting in improved\\\\noperations in the restaurants. Discover RDI RDI has 20+ years of history\\\\nworking as a strategic partner of a major global QSR (Quick Service\\', \\'Restaurant) retailer. RDI delivers POS services (point-of-sale) and related\\\\nsoftware applications that focus on the overall crew and customer experience,\\\\nresulting in improved operations to the fastest growing food restaurant chain\\\\nover 120 countries and over 37,500 locations worldwide.RDI joined Capgemini\\\\ngroup in 2017, which has 270,000 collaborators in almost 50 countries. Our\\\\nDevelopment Centers are in Sao Paulo (Brazil), Budapest and Debrecen\\', \\'nationality, sexual orientation, disabilities and age. Be plural is value and\\\\nrespect the differences. At RDI you are free to be you! Our Services Software\\\\nDevelopment We perform all phases of the development life cycle across crew\\\\nand customer-facing restaurant applications and work closely with our client\\\\nto bring innovative solutions to life in the restaurants. Testing and Support\\\\nWe perform unit and full regression tests of our software to ensure that\\']\\n        ==================================\\n        User: In what year RDI joined Capgemini group ?\\n        '},\n",
       " {'role': 'assistant',\n",
       "  'content': 'According to the provided context, RDI joined the Capgemini group in 2017.'}]"
      ]
     },
     "execution_count": 27,
     "metadata": {},
     "output_type": "execute_result"
    }
   ],
   "source": [
    "await ChatWithContext(query=query, context=docs)\n",
    "\n",
    "#Expected execution time: 1m30s"
   ]
  }
 ],
 "metadata": {
  "kernelspec": {
   "display_name": "AI",
   "language": "python",
   "name": "python3"
  },
  "language_info": {
   "codemirror_mode": {
    "name": "ipython",
    "version": 3
   },
   "file_extension": ".py",
   "mimetype": "text/x-python",
   "name": "python",
   "nbconvert_exporter": "python",
   "pygments_lexer": "ipython3",
   "version": "3.10.12"
  }
 },
 "nbformat": 4,
 "nbformat_minor": 2
}
