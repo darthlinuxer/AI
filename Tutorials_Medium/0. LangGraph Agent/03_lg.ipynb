{
 "cells": [
  {
   "cell_type": "markdown",
   "id": "fd7da54a",
   "metadata": {},
   "source": [
    "So far you have been manually defining nodes and binding them along with edges, BUT, langGraph have some pre-defined Agents such as ReactAgent"
   ]
  },
  {
   "cell_type": "markdown",
   "id": "bd114ad4",
   "metadata": {},
   "source": [
    "## LangGraph Simple REACT Agent Example with fake tool\n",
    "This notebook demonstrates how to use a PRE-CONFIGURED LangGraph REACT agent (which is an Agent connected to a TOOL node) with a simple weather tool."
   ]
  },
  {
   "cell_type": "code",
   "execution_count": 2,
   "id": "2c965370",
   "metadata": {},
   "outputs": [
    {
     "name": "stdout",
     "output_type": "stream",
     "text": [
      "Note: you may need to restart the kernel to use updated packages.\n"
     ]
    }
   ],
   "source": [
    "# Install required packages\n",
    "%pip install -qU langchain[anthropic] python-dotenv"
   ]
  },
  {
   "cell_type": "markdown",
   "id": "983bb8f0",
   "metadata": {},
   "source": [
    "## Import Libraries and Load Environment Variables"
   ]
  },
  {
   "cell_type": "code",
   "execution_count": 3,
   "id": "f801217f",
   "metadata": {},
   "outputs": [
    {
     "data": {
      "text/plain": [
       "True"
      ]
     },
     "execution_count": 3,
     "metadata": {},
     "output_type": "execute_result"
    }
   ],
   "source": [
    "from langgraph.prebuilt import create_react_agent\n",
    "import dotenv\n",
    "dotenv.load_dotenv(dotenv.find_dotenv())"
   ]
  },
  {
   "cell_type": "markdown",
   "id": "bcc4fcfa",
   "metadata": {},
   "source": [
    "## Define Fake Weather Tool Function"
   ]
  },
  {
   "cell_type": "code",
   "execution_count": 4,
   "id": "4b569e34",
   "metadata": {},
   "outputs": [],
   "source": [
    "def get_weather(city: str) -> str:\n",
    "    \"\"\"Get weather for a given city.\"\"\"\n",
    "    return f\"It's always sunny in {city}!\""
   ]
  },
  {
   "cell_type": "markdown",
   "id": "844cf23a",
   "metadata": {},
   "source": [
    "## Create the REACT Agent"
   ]
  },
  {
   "cell_type": "code",
   "execution_count": 5,
   "id": "46dcf681",
   "metadata": {},
   "outputs": [],
   "source": [
    "agent = create_react_agent(\n",
    "    model=\"anthropic:claude-3-7-sonnet-latest\",\n",
    "    tools=[get_weather],\n",
    "    prompt=\"You are a helpful assistant.\"\n",
    ")"
   ]
  },
  {
   "cell_type": "code",
   "execution_count": null,
   "id": "5284d421",
   "metadata": {},
   "outputs": [
    {
     "data": {
      "image/png": "[encoded data removed]",
      "text/plain": [
       "<IPython.core.display.Image object>"
      ]
     },
     "metadata": {},
     "output_type": "display_data"
    }
   ],
   "source": [
    "from IPython.core.display import Image\n",
    "display(Image(agent.get_graph().draw_mermaid_png()))"
   ]
  },
  {
   "cell_type": "markdown",
   "id": "0fa08ef2",
   "metadata": {},
   "source": [
    "## Run the Agent and Display Messages"
   ]
  },
  {
   "cell_type": "code",
   "execution_count": 9,
   "id": "817079a7",
   "metadata": {},
   "outputs": [
    {
     "data": {
      "text/plain": [
       "{'messages': [HumanMessage(content='what is the weather in sf?', additional_kwargs={}, response_metadata={}, id='5643be8d-56bd-4d7d-99b7-e0b0c521cd17'),\n",
       "  AIMessage(content=[{'text': \"I'll help you get the weather for San Francisco. Let me check that for you.\", 'type': 'text'}, {'id': 'toolu_01GyTH7u2qHrw3bLDDNwhN4S', 'input': {'city': 'sf'}, 'name': 'get_weather', 'type': 'tool_use'}], additional_kwargs={}, response_metadata={'id': 'msg_019J9aQeG6q2r3LdT69UWb96', 'model': 'claude-3-7-sonnet-20250219', 'stop_reason': 'tool_use', 'stop_sequence': None, 'usage': {'cache_creation_input_tokens': 0, 'cache_read_input_tokens': 0, 'input_tokens': 388, 'output_tokens': 72, 'server_tool_use': None, 'service_tier': 'standard'}, 'model_name': 'claude-3-7-sonnet-20250219'}, id='run--404c117c-d71c-4851-841c-8ef8015c27d4-0', tool_calls=[{'name': 'get_weather', 'args': {'city': 'sf'}, 'id': 'toolu_01GyTH7u2qHrw3bLDDNwhN4S', 'type': 'tool_call'}], usage_metadata={'input_tokens': 388, 'output_tokens': 72, 'total_tokens': 460, 'input_token_details': {'cache_read': 0, 'cache_creation': 0}}),\n",
       "  ToolMessage(content=\"It's always sunny in sf!\", name='get_weather', id='59b52843-7f8f-4149-b1dd-a0544d7aecfd', tool_call_id='toolu_01GyTH7u2qHrw3bLDDNwhN4S'),\n",
       "  AIMessage(content=\"The weather in San Francisco (sf) is: It's always sunny in sf!\", additional_kwargs={}, response_metadata={'id': 'msg_01XaVtzWk1pdEFkEJ38N3jmb', 'model': 'claude-3-7-sonnet-20250219', 'stop_reason': 'end_turn', 'stop_sequence': None, 'usage': {'cache_creation_input_tokens': 0, 'cache_read_input_tokens': 0, 'input_tokens': 477, 'output_tokens': 21, 'server_tool_use': None, 'service_tier': 'standard'}, 'model_name': 'claude-3-7-sonnet-20250219'}, id='run--628bbd35-8516-4984-8351-f040478cc068-0', usage_metadata={'input_tokens': 477, 'output_tokens': 21, 'total_tokens': 498, 'input_token_details': {'cache_read': 0, 'cache_creation': 0}})]}"
      ]
     },
     "execution_count": 9,
     "metadata": {},
     "output_type": "execute_result"
    }
   ],
   "source": [
    "result = agent.invoke(\n",
    "    input={\"messages\": [{\"role\": \"user\", \"content\": \"what is the weather in sf?\"}]},\n",
    "    debug=False\n",
    ")\n",
    "\n",
    "result"
   ]
  },
  {
   "cell_type": "code",
   "execution_count": 14,
   "id": "664a9963",
   "metadata": {},
   "outputs": [
    {
     "name": "stdout",
     "output_type": "stream",
     "text": [
      "================================\u001b[1m Human Message \u001b[0m=================================\n",
      "\n",
      "What is the weather in NY?\n",
      "==================================\u001b[1m Ai Message \u001b[0m==================================\n",
      "\n",
      "[{'text': \"I'll check the current weather in New York for you.\", 'type': 'text'}, {'id': 'toolu_012ZoPs5MBsepq7sZj5PsBaf', 'input': {'city': 'NY'}, 'name': 'get_weather', 'type': 'tool_use'}]\n",
      "Tool Calls:\n",
      "  get_weather (toolu_012ZoPs5MBsepq7sZj5PsBaf)\n",
      " Call ID: toolu_012ZoPs5MBsepq7sZj5PsBaf\n",
      "  Args:\n",
      "    city: NY\n",
      "=================================\u001b[1m Tool Message \u001b[0m=================================\n",
      "Name: get_weather\n",
      "\n",
      "It's always sunny in NY!\n",
      "==================================\u001b[1m Ai Message \u001b[0m==================================\n",
      "\n",
      "According to the weather information, it's currently always sunny in NY! Looks like New York is enjoying some great weather today.\n"
     ]
    }
   ],
   "source": [
    "from typing import TypedDict, Annotated, Sequence\n",
    "from langchain_core.messages import BaseMessage, HumanMessage\n",
    "from langgraph.graph.message import add_messages\n",
    "\n",
    "class AgentState(TypedDict):\n",
    "    messages: Annotated[Sequence[BaseMessage],add_messages]\n",
    "    \n",
    "initial_state = AgentState(\n",
    "    messages=[\n",
    "        HumanMessage(content=\"What is the weather in NY?\")\n",
    "    ]\n",
    ")\n",
    "    \n",
    "states = agent.stream(\n",
    "    input=initial_state,\n",
    "    stream_mode=\"values\")\n",
    "\n",
    "for state in states:\n",
    "    state[\"messages\"][-1].pretty_print()\n"
   ]
  }
 ],
 "metadata": {
  "kernelspec": {
   "display_name": "venv",
   "language": "python",
   "name": "python3"
  },
  "language_info": {
   "codemirror_mode": {
    "name": "ipython",
    "version": 3
   },
   "file_extension": ".py",
   "mimetype": "text/x-python",
   "name": "python",
   "nbconvert_exporter": "python",
   "pygments_lexer": "ipython3",
   "version": "3.12.3"
  }
 },
 "nbformat": 4,
 "nbformat_minor": 5
}
