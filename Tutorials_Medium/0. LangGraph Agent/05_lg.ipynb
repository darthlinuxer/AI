{
 "cells": [
  {
   "cell_type": "markdown",
   "id": "c6acd3c9",
   "metadata": {},
   "source": [
    "## Simple Bot with manual Memory"
   ]
  },
  {
   "cell_type": "code",
   "execution_count": 6,
   "id": "abfa4656",
   "metadata": {},
   "outputs": [],
   "source": [
    "from dotenv import load_dotenv,find_dotenv\n",
    "load_dotenv(find_dotenv())\n",
    "\n",
    "from langchain_openai import ChatOpenAI\n",
    "from typing import TypedDict\n",
    "from langchain_core.messages import BaseMessage, HumanMessage\n",
    "\n",
    "class AgentState(TypedDict):\n",
    "    messages: list[BaseMessage]\n",
    "    \n",
    "llm = ChatOpenAI(model=\"gpt-4o\", temperature=0.0)"
   ]
  },
  {
   "cell_type": "code",
   "execution_count": 2,
   "id": "68e7249b",
   "metadata": {},
   "outputs": [],
   "source": [
    "def llm_node(state: AgentState) -> AgentState:\n",
    "    \"\"\"\n",
    "    A simple LLM node\n",
    "    \"\"\"\n",
    "    response = llm.invoke(state[\"messages\"])\n",
    "    state[\"messages\"].append(response)\n",
    "    return state"
   ]
  },
  {
   "cell_type": "code",
   "execution_count": 3,
   "id": "2fe7e7ef",
   "metadata": {},
   "outputs": [],
   "source": [
    "from langgraph.graph import StateGraph\n",
    "graph = StateGraph(AgentState)\n",
    "graph.add_node(\"llm_node\", llm_node)\n",
    "graph.set_entry_point(\"llm_node\")\n",
    "graph.set_finish_point(\"llm_node\")\n",
    "app = graph.compile()"
   ]
  },
  {
   "cell_type": "code",
   "execution_count": 4,
   "id": "ebff7869",
   "metadata": {},
   "outputs": [
    {
     "data": {
      "image/png": "[encoded data removed]",
      "text/plain": [
       "<IPython.core.display.Image object>"
      ]
     },
     "metadata": {},
     "output_type": "display_data"
    }
   ],
   "source": [
    "from IPython.display import Image, display\n",
    "display(Image(app.get_graph().draw_mermaid_png()))"
   ]
  },
  {
   "cell_type": "code",
   "execution_count": 5,
   "id": "e9ef3d19",
   "metadata": {},
   "outputs": [
    {
     "name": "stdout",
     "output_type": "stream",
     "text": [
      "================================\u001b[1m Human Message \u001b[0m=================================\n",
      "\n",
      "my name is Camilo\n",
      "==================================\u001b[1m Ai Message \u001b[0m==================================\n",
      "\n",
      "Nice to meet you, Camilo! How can I help you today?\n",
      "================================\u001b[1m Human Message \u001b[0m=================================\n",
      "\n",
      "do you remember my name ?\n",
      "==================================\u001b[1m Ai Message \u001b[0m==================================\n",
      "\n",
      "Yes, your name is Camilo.\n",
      "================================\u001b[1m Human Message \u001b[0m=================================\n",
      "\n",
      "exit\n",
      "==================================\u001b[1m Ai Message \u001b[0m==================================\n",
      "\n",
      "Goodbye! If you need anything else, feel free to ask.\n",
      "\n",
      "************************************************************\n",
      "******************** Historical Conversation ********************\n",
      "content='You are a helpful assistant that only replies short and concise answers' additional_kwargs={} response_metadata={}\n",
      "content='my name is Camilo' additional_kwargs={} response_metadata={}\n",
      "content='Nice to meet you, Camilo! How can I help you today?' additional_kwargs={'refusal': None} response_metadata={'token_usage': {'completion_tokens': 15, 'prompt_tokens': 28, 'total_tokens': 43, 'completion_tokens_details': {'accepted_prediction_tokens': 0, 'audio_tokens': 0, 'reasoning_tokens': 0, 'rejected_prediction_tokens': 0}, 'prompt_tokens_details': {'audio_tokens': 0, 'cached_tokens': 0}}, 'model_name': 'gpt-4o-2024-08-06', 'system_fingerprint': 'fp_07871e2ad8', 'id': 'chatcmpl-BksbCdSwWGX4pWD6JzfrKPqlWkCvL', 'service_tier': 'default', 'finish_reason': 'stop', 'logprobs': None} id='run--9ed27b21-3374-4376-987d-13dcd2a0fe80-0' usage_metadata={'input_tokens': 28, 'output_tokens': 15, 'total_tokens': 43, 'input_token_details': {'audio': 0, 'cache_read': 0}, 'output_token_details': {'audio': 0, 'reasoning': 0}}\n",
      "content='do you remember my name ?' additional_kwargs={} response_metadata={}\n",
      "content='Yes, your name is Camilo.' additional_kwargs={'refusal': None} response_metadata={'token_usage': {'completion_tokens': 8, 'prompt_tokens': 57, 'total_tokens': 65, 'completion_tokens_details': {'accepted_prediction_tokens': 0, 'audio_tokens': 0, 'reasoning_tokens': 0, 'rejected_prediction_tokens': 0}, 'prompt_tokens_details': {'audio_tokens': 0, 'cached_tokens': 0}}, 'model_name': 'gpt-4o-2024-08-06', 'system_fingerprint': 'fp_a288987b44', 'id': 'chatcmpl-BksbHCHJaw1g1b333dLvLJiOBSSx2', 'service_tier': 'default', 'finish_reason': 'stop', 'logprobs': None} id='run--283735d4-aaf6-47f8-b15f-b1a4ea61b004-0' usage_metadata={'input_tokens': 57, 'output_tokens': 8, 'total_tokens': 65, 'input_token_details': {'audio': 0, 'cache_read': 0}, 'output_token_details': {'audio': 0, 'reasoning': 0}}\n",
      "content='exit' additional_kwargs={} response_metadata={}\n",
      "content='Goodbye! If you need anything else, feel free to ask.' additional_kwargs={'refusal': None} response_metadata={'token_usage': {'completion_tokens': 14, 'prompt_tokens': 74, 'total_tokens': 88, 'completion_tokens_details': {'accepted_prediction_tokens': 0, 'audio_tokens': 0, 'reasoning_tokens': 0, 'rejected_prediction_tokens': 0}, 'prompt_tokens_details': {'audio_tokens': 0, 'cached_tokens': 0}}, 'model_name': 'gpt-4o-2024-08-06', 'system_fingerprint': 'fp_a288987b44', 'id': 'chatcmpl-BksbKdEHhYJuPY0FiC1JnQKV65CbB', 'service_tier': 'default', 'finish_reason': 'stop', 'logprobs': None} id='run--9cf02727-9b20-4840-9372-f4a62f424840-0' usage_metadata={'input_tokens': 74, 'output_tokens': 14, 'total_tokens': 88, 'input_token_details': {'audio': 0, 'cache_read': 0}, 'output_token_details': {'audio': 0, 'reasoning': 0}}\n"
     ]
    },
    {
     "data": {
      "text/plain": [
       "[None, None, None, None, None, None, None]"
      ]
     },
     "execution_count": 5,
     "metadata": {},
     "output_type": "execute_result"
    }
   ],
   "source": [
    "from langchain_core.messages import SystemMessage\n",
    "from typing import cast\n",
    "def print_last_msg(state: AgentState):\n",
    "    state[\"messages\"][-1].pretty_print()  \n",
    "\n",
    "state:AgentState = AgentState(messages=[])\n",
    "state[\"messages\"].append(SystemMessage(content=\"You are a helpful assistant that only replies short and concise answers\"))\n",
    "user_input = \"\"\n",
    "while user_input.lower() != \"exit\":\n",
    "    user_input = input(\"Enter (or type 'exit' to quit): \")\n",
    "    state[\"messages\"].append(HumanMessage(content=user_input))\n",
    "    print_last_msg(state)\n",
    "    state = cast(AgentState, app.invoke(state))\n",
    "    print_last_msg(state)\n",
    "    \n",
    "\n",
    "print(\"\\n\"+\"*\"*60)\n",
    "print(\"*\"*20 + \" Historical Conversation \"+\"*\"*20)\n",
    "[print(msg) for msg in state['messages']]"
   ]
  }
 ],
 "metadata": {
  "kernelspec": {
   "display_name": "venv",
   "language": "python",
   "name": "python3"
  },
  "language_info": {
   "codemirror_mode": {
    "name": "ipython",
    "version": 3
   },
   "file_extension": ".py",
   "mimetype": "text/x-python",
   "name": "python",
   "nbconvert_exporter": "python",
   "pygments_lexer": "ipython3",
   "version": "3.12.3"
  }
 },
 "nbformat": 4,
 "nbformat_minor": 5
}
