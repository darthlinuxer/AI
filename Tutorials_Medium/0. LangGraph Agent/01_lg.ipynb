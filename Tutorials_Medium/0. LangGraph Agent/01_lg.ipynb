{
 "cells": [
  {
   "cell_type": "markdown",
   "id": "1f689aa0",
   "metadata": {},
   "source": [
    "# Agents with Conditional Edges"
   ]
  },
  {
   "cell_type": "code",
   "execution_count": 8,
   "id": "1e1076a8",
   "metadata": {},
   "outputs": [],
   "source": [
    "from typing import TypedDict\n",
    "from langgraph.graph import StateGraph"
   ]
  },
  {
   "cell_type": "code",
   "execution_count": 9,
   "id": "ea73edcc",
   "metadata": {},
   "outputs": [],
   "source": [
    "class AgentState(TypedDict):\n",
    "    number1: int\n",
    "    number2: int\n",
    "    operation: str\n",
    "    result: int"
   ]
  },
  {
   "cell_type": "code",
   "execution_count": 10,
   "id": "1b2ceda4",
   "metadata": {},
   "outputs": [],
   "source": [
    "def adder_node(state: AgentState) -> AgentState:\n",
    "    \"\"\"Add two numbers.\"\"\"\n",
    "    state['result'] = state['number1'] + state['number2']\n",
    "    return state\n",
    "\n",
    "def subtractor_node(state: AgentState) -> AgentState:\n",
    "    \"\"\"Subtract two numbers.\"\"\"\n",
    "    state['result'] = state['number1'] - state['number2']\n",
    "    return state\n",
    "\n",
    "def decision_fcn(state: AgentState) -> str:\n",
    "    \"\"\"Route to the appropriate operation based on the operation type.\"\"\"\n",
    "    if state['operation'] == 'add':\n",
    "        return '+'\n",
    "    elif state['operation'] == 'subtract':\n",
    "        return '-'\n",
    "    else:\n",
    "        raise ValueError(f\"Unknown operation: {state['operation']}\")"
   ]
  },
  {
   "cell_type": "code",
   "execution_count": 11,
   "id": "b1b79bfc",
   "metadata": {},
   "outputs": [],
   "source": [
    "graph = StateGraph(AgentState)\n",
    "graph.add_node(\"adder\", adder_node)\n",
    "graph.add_node(\"subtractor\", subtractor_node)\n",
    "graph.add_node(\"router\", action= lambda state:state)\n",
    "\n",
    "from langgraph.graph import START, END\n",
    "graph.add_edge(START, \"router\")\n",
    "graph.add_conditional_edges(\n",
    "    \"router\",\n",
    "     decision_fcn, \n",
    "    {\n",
    "        \"+\": \"adder\",\n",
    "        \"-\": \"subtractor\",\n",
    "    }\n",
    ")\n",
    "graph.add_edge(\"adder\", END)\n",
    "graph.add_edge(\"subtractor\", END)\n",
    "app = graph.compile()"
   ]
  },
  {
   "cell_type": "code",
   "execution_count": 13,
   "id": "2b65519a",
   "metadata": {},
   "outputs": [
    {
     "data": {
      "image/png": "[encoded data removed]",
      "text/plain": [
       "<IPython.core.display.Image object>"
      ]
     },
     "metadata": {},
     "output_type": "display_data"
    }
   ],
   "source": [
    "from IPython.core.display import Image\n",
    "display(Image(app.get_graph().draw_mermaid_png()))"
   ]
  },
  {
   "cell_type": "code",
   "execution_count": 14,
   "id": "2e832e09",
   "metadata": {},
   "outputs": [
    {
     "name": "stdout",
     "output_type": "stream",
     "text": [
      "Result of add operation: 8\n"
     ]
    }
   ],
   "source": [
    "initial_state = AgentState(number1=5,number2=3,operation='add',result=0)\n",
    "result = app.invoke(initial_state)\n",
    "print(f\"Result of {initial_state['operation']} operation: {result['result']}\")"
   ]
  }
 ],
 "metadata": {
  "kernelspec": {
   "display_name": "venv",
   "language": "python",
   "name": "python3"
  },
  "language_info": {
   "codemirror_mode": {
    "name": "ipython",
    "version": 3
   },
   "file_extension": ".py",
   "mimetype": "text/x-python",
   "name": "python",
   "nbconvert_exporter": "python",
   "pygments_lexer": "ipython3",
   "version": "3.12.3"
  }
 },
 "nbformat": 4,
 "nbformat_minor": 5
}
