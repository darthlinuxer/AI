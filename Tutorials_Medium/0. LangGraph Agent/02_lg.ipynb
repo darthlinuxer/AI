{
 "cells": [
  {
   "cell_type": "markdown",
   "id": "057df629",
   "metadata": {},
   "source": [
    "# LLM Guessing random number  \n",
    "## Objective  \n",
    "  \n",
    "  User enter a number between 0 and 10 and Agent must\n",
    "  keep guessing until finding the answer, upon which \n",
    "  app will end.\n",
    "\n",
    "  Agent must keep memory of numbers it had tried before"
   ]
  },
  {
   "cell_type": "code",
   "execution_count": 1,
   "id": "b560943c",
   "metadata": {},
   "outputs": [
    {
     "data": {
      "text/plain": [
       "True"
      ]
     },
     "execution_count": 1,
     "metadata": {},
     "output_type": "execute_result"
    }
   ],
   "source": [
    "from typing import TypedDict\n",
    "import dotenv\n",
    "dotenv.load_dotenv(dotenv.find_dotenv())"
   ]
  },
  {
   "cell_type": "code",
   "execution_count": 2,
   "id": "09ce76c5",
   "metadata": {},
   "outputs": [],
   "source": [
    "from langchain_core.messages import BaseMessage, AIMessage, SystemMessage, HumanMessage, ToolMessage\n",
    "class AgentState(TypedDict):\n",
    "    attempts: int\n",
    "    user_number: int\n",
    "    ai_numbers: list[int]\n",
    "    exit: bool\n",
    "    messages : list[BaseMessage]"
   ]
  },
  {
   "cell_type": "code",
   "execution_count": 3,
   "id": "4b66373d",
   "metadata": {},
   "outputs": [],
   "source": [
    "from langchain_anthropic import ChatAnthropic\n",
    "llm = ChatAnthropic( \n",
    "    model_name=\"claude-3-7-sonnet-latest\",\n",
    "    max_tokens_to_sample=5000,\n",
    "    timeout=None,\n",
    "    max_retries=2,\n",
    "    temperature=1,\n",
    "    stop=[\"exit\",\"quit\"]\n",
    ")"
   ]
  },
  {
   "cell_type": "markdown",
   "id": "3f3ecee2",
   "metadata": {},
   "source": [
    "Let's check if the LLM is working"
   ]
  },
  {
   "cell_type": "code",
   "execution_count": 4,
   "id": "942ab121",
   "metadata": {},
   "outputs": [
    {
     "name": "stdout",
     "output_type": "stream",
     "text": [
      "================================\u001b[1m System Message \u001b[0m================================\n",
      "\n",
      "You are an AI that is trying to guess a number that the user has already chosen. The only thing you know is that the number is between [0,10] inclusive range.[0, 1, 2, 3, 4, 5, 6, 7, 8, 9, 10]. You should never repeat the same number guessed twice. Response format: an integer number\n",
      "==================================\u001b[1m Ai Message \u001b[0m==================================\n",
      "\n",
      "I will try to guess your number. The numbers I have already guessed are: [0, 1, 3, 4, 5, 6, 7, 8, 9, 10]\n",
      "================================\u001b[1m Human Message \u001b[0m=================================\n",
      "\n",
      "Guess which number I am thinking of. \n",
      "==================================\u001b[1m Ai Message \u001b[0m==================================\n",
      "\n",
      "2\n"
     ]
    }
   ],
   "source": [
    "from langchain.schema.language_model import LanguageModelInput\n",
    "from typing import Sequence\n",
    "from langchain.schema import BaseMessage\n",
    "inputs: Sequence[BaseMessage] = [\n",
    "            SystemMessage(\n",
    "                content=\"You are an AI that is trying to guess a number that the user has already chosen. \"\n",
    "                        \"The only thing you know is that the number is between [0,10] inclusive range.\"\n",
    "                        \"[0, 1, 2, 3, 4, 5, 6, 7, 8, 9, 10]. \"\n",
    "                        \"You should never repeat the same number guessed twice. \"\n",
    "                        \"Response format: an integer number\"\n",
    "            ),\n",
    "            AIMessage(\n",
    "                content=\"I will try to guess your number. \"\n",
    "                        \"The numbers I have already guessed are: [0, 1, 3, 4, 5, 6, 7, 8, 9, 10]\"),\n",
    "            HumanMessage(\n",
    "                content=f\"Guess which number I am thinking of. \"\n",
    "            )\n",
    "        ]\n",
    "\n",
    "for input in inputs: \n",
    "    input.pretty_print()\n",
    "response: BaseMessage = llm.invoke(input = inputs)\n",
    "response.pretty_print()"
   ]
  },
  {
   "cell_type": "markdown",
   "id": "b9140edb",
   "metadata": {},
   "source": [
    "Let's continue with LangGraph and define some nodes"
   ]
  },
  {
   "cell_type": "code",
   "execution_count": 87,
   "id": "a4837e48",
   "metadata": {},
   "outputs": [],
   "source": [
    "def llm_node(state: AgentState) -> AgentState:\n",
    "    \"\"\"\n",
    "    This node will invoke the LLM to guess which is the user's number.\n",
    "    AI will keep guessing until it finds the correct number.\n",
    "    The AI will use the following messages to communicate with the user:\n",
    "    - SystemMessage: Provides instructions to the AI.\n",
    "    - AIMessage: The AI's guess.\n",
    "    \"\"\"\n",
    "    response = llm.invoke(state[\"messages\"])\n",
    "    state[\"messages\"].append(response)\n",
    "    state[\"attempts\"] += 1\n",
    "    try:\n",
    "        if hasattr(response, \"content\") and isinstance(response.content, str) and response.content.strip().isdigit():\n",
    "            guess = int(response.content.strip())\n",
    "            state[\"ai_numbers\"].append(guess)\n",
    "            if state[\"user_number\"] in state[\"ai_numbers\"]:\n",
    "                state[\"messages\"].append(HumanMessage(\"CORRECT!\"))\n",
    "            else:\n",
    "                state[\"messages\"].append(HumanMessage(\"hmmm not correct! Guess again!\"))\n",
    "    except ValueError:\n",
    "        state[\"exit\"] = True\n",
    "    return state   \n"
   ]
  },
  {
   "cell_type": "markdown",
   "id": "ea763e85",
   "metadata": {},
   "source": [
    "Now define some edge functions"
   ]
  },
  {
   "cell_type": "code",
   "execution_count": 88,
   "id": "79115e7d",
   "metadata": {},
   "outputs": [],
   "source": [
    "from typing import Literal\n",
    "def check_fcn(state: AgentState) -> Literal[\"END\", \"llm_node\"]:\n",
    "    if state[\"user_number\"] in state[\"ai_numbers\"]:\n",
    "        return \"END\"\n",
    "        \n",
    "    if state[\"exit\"] == True:\n",
    "        return \"END\"\n",
    "    \n",
    "    return \"llm_node\""
   ]
  },
  {
   "cell_type": "markdown",
   "id": "c3b8e7ba",
   "metadata": {},
   "source": [
    "Tie all nodes and edges"
   ]
  },
  {
   "cell_type": "code",
   "execution_count": 89,
   "id": "e7c17d40",
   "metadata": {},
   "outputs": [],
   "source": [
    "from langgraph.graph import StateGraph, START, END\n",
    "graph = StateGraph(AgentState)\n",
    "# Add Nodes\n",
    "graph.add_node(\"llm_node\",llm_node)\n",
    "\n",
    "# Set entry point\n",
    "graph.set_entry_point(\"llm_node\")\n",
    "\n",
    "# Add edges\n",
    "graph.add_conditional_edges(\n",
    "    \"llm_node\",\n",
    "    check_fcn,\n",
    "    {\n",
    "        \"END\": END,\n",
    "        \"llm_node\": \"llm_node\"\n",
    "    }\n",
    ")\n",
    "app = graph.compile()"
   ]
  },
  {
   "cell_type": "markdown",
   "id": "1109dca4",
   "metadata": {},
   "source": [
    "Visualize the graph structure"
   ]
  },
  {
   "cell_type": "code",
   "execution_count": 90,
   "id": "00f9037c",
   "metadata": {},
   "outputs": [
    {
     "data": {
      "image/png": "[encoded data removed]",
      "text/plain": [
       "<IPython.core.display.Image object>"
      ]
     },
     "metadata": {},
     "output_type": "display_data"
    }
   ],
   "source": [
    "from IPython.display import Image, display\n",
    "display(Image(app.get_graph().draw_mermaid_png()))"
   ]
  },
  {
   "cell_type": "markdown",
   "id": "9e6107ae",
   "metadata": {},
   "source": [
    "Define the initial state"
   ]
  },
  {
   "cell_type": "code",
   "execution_count": 91,
   "id": "ea94f6f6",
   "metadata": {},
   "outputs": [
    {
     "name": "stdout",
     "output_type": "stream",
     "text": [
      "unformatted: {'attempts': 2, 'user_number': 8, 'ai_numbers': [1, 2, 3, 4, 5, 6, 7, 9, 10, 0, 8], 'exit': False, 'messages': [SystemMessage(content='You are an AI that is trying to guess a number that the user has already chosen. The only thing you know is that the number is between [0,10] inclusive range.You should NEVER repeat the same number guessed twice. Response format: only an integer number', additional_kwargs={}, response_metadata={}), SystemMessage(content=\"You can't try these numbers: [1, 2, 3, 4, 5, 6, 7, 9, 10]\", additional_kwargs={}, response_metadata={}), HumanMessage(content='Guess which number I am thinking of?', additional_kwargs={}, response_metadata={}), AIMessage(content='0', additional_kwargs={}, response_metadata={'id': 'msg_011m3zinaWxebF5KJDowMLtn', 'model': 'claude-3-7-sonnet-20250219', 'stop_reason': 'end_turn', 'stop_sequence': None, 'usage': {'cache_creation_input_tokens': 0, 'cache_read_input_tokens': 0, 'input_tokens': 107, 'output_tokens': 5, 'server_tool_use': None, 'service_tier': 'standard'}, 'model_name': 'claude-3-7-sonnet-20250219'}, id='run--1f953b88-28ed-43f6-bf7e-950119d71d55-0', usage_metadata={'input_tokens': 107, 'output_tokens': 5, 'total_tokens': 112, 'input_token_details': {'cache_read': 0, 'cache_creation': 0}}), HumanMessage(content='hmmm not correct! Guess again!', additional_kwargs={}, response_metadata={}), AIMessage(content='8', additional_kwargs={}, response_metadata={'id': 'msg_01PJ8NKaGMBuAgyKEAbqJaCH', 'model': 'claude-3-7-sonnet-20250219', 'stop_reason': 'end_turn', 'stop_sequence': None, 'usage': {'cache_creation_input_tokens': 0, 'cache_read_input_tokens': 0, 'input_tokens': 125, 'output_tokens': 5, 'server_tool_use': None, 'service_tier': 'standard'}, 'model_name': 'claude-3-7-sonnet-20250219'}, id='run--5caf4d4a-6d92-4921-8520-01b53a4f88a8-0', usage_metadata={'input_tokens': 125, 'output_tokens': 5, 'total_tokens': 130, 'input_token_details': {'cache_read': 0, 'cache_creation': 0}}), HumanMessage(content='CORRECT!', additional_kwargs={}, response_metadata={})]}\n"
     ]
    }
   ],
   "source": [
    "initial_state: AgentState = AgentState(\n",
    "    attempts=0,  # Number of attempts made by the AI\n",
    "    user_number=8,  # Example user number\n",
    "    ai_numbers=[1,2,3,4,5,6,7,9,10],  # AI's guessed numbers\n",
    "    exit=False,  # Flag to indicate if the AI should stop guessing\n",
    "    messages=[\n",
    "        SystemMessage(\n",
    "            content=\"You are an AI that is trying to guess a number that the user has already chosen. \"\n",
    "                    \"The only thing you know is that the number is between [0,10] inclusive range.\"\n",
    "                    \"You should NEVER repeat the same number guessed twice. \"\n",
    "                    \"Response format: only an integer number\" \n",
    "        )\n",
    "    ]\n",
    ")\n",
    "initial_state[\"messages\"].append(SystemMessage(\n",
    "    content = f\"You can't try these numbers: {initial_state['ai_numbers']}\"))\n",
    "initial_state[\"messages\"].append( HumanMessage(\n",
    "            content=f\"Guess which number I am thinking of?\"\n",
    "        ))\n",
    "\n",
    "result = app.invoke(input = initial_state)\n",
    "print(\"unformatted:\", result)"
   ]
  },
  {
   "cell_type": "code",
   "execution_count": 92,
   "id": "0157ead4",
   "metadata": {},
   "outputs": [
    {
     "name": "stdout",
     "output_type": "stream",
     "text": [
      "================================\u001b[1m System Message \u001b[0m================================\n",
      "\n",
      "You are an AI that is trying to guess a number that the user has already chosen. The only thing you know is that the number is between [0,10] inclusive range.You should NEVER repeat the same number guessed twice. Response format: only an integer number\n",
      "================================\u001b[1m Human Message \u001b[0m=================================\n",
      "\n",
      "Guess which number I am thinking ?\n",
      "==================================\u001b[1m Ai Message \u001b[0m==================================\n",
      "\n",
      "5\n",
      "================================\u001b[1m Human Message \u001b[0m=================================\n",
      "\n",
      "hmmm not correct! Guess again!\n",
      "==================================\u001b[1m Ai Message \u001b[0m==================================\n",
      "\n",
      "7\n",
      "================================\u001b[1m Human Message \u001b[0m=================================\n",
      "\n",
      "hmmm not correct! Guess again!\n",
      "==================================\u001b[1m Ai Message \u001b[0m==================================\n",
      "\n",
      "3\n",
      "================================\u001b[1m Human Message \u001b[0m=================================\n",
      "\n",
      "hmmm not correct! Guess again!\n",
      "==================================\u001b[1m Ai Message \u001b[0m==================================\n",
      "\n",
      "8\n",
      "================================\u001b[1m Human Message \u001b[0m=================================\n",
      "\n",
      "CORRECT!\n"
     ]
    }
   ],
   "source": [
    "initial_state: AgentState = AgentState(\n",
    "    attempts=0,  # Number of attempts made by the AI\n",
    "    user_number=8,  # Example user number\n",
    "    ai_numbers=[1,2,3,4,5,6,7,9,10],  # AI's guessed numbers\n",
    "    exit=False,  # Flag to indicate if the AI should stop guessing\n",
    "    messages=[\n",
    "        SystemMessage(\n",
    "            content=\"You are an AI that is trying to guess a number that the user has already chosen. \"\n",
    "                    \"The only thing you know is that the number is between [0,10] inclusive range.\"\n",
    "                    \"You should NEVER repeat the same number guessed twice. \"\n",
    "                    \"Response format: only an integer number\" \n",
    "        ),\n",
    "        HumanMessage(\n",
    "            content = \"Guess which number I am thinking ?\"\n",
    "        )\n",
    "    ]\n",
    ")\n",
    "changing_states = app.stream(initial_state, stream_mode=\"values\") \n",
    "for state in changing_states:\n",
    "    [message.pretty_print() for message in state[\"messages\"][-2:]]"
   ]
  }
 ],
 "metadata": {
  "kernelspec": {
   "display_name": "venv",
   "language": "python",
   "name": "python3"
  },
  "language_info": {
   "codemirror_mode": {
    "name": "ipython",
    "version": 3
   },
   "file_extension": ".py",
   "mimetype": "text/x-python",
   "name": "python",
   "nbconvert_exporter": "python",
   "pygments_lexer": "ipython3",
   "version": "3.12.3"
  }
 },
 "nbformat": 4,
 "nbformat_minor": 5
}
