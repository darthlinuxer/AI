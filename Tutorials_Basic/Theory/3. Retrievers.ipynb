{
 "cells": [
  {
   "cell_type": "markdown",
   "metadata": {},
   "source": [
    "# Retrievers\n",
    "\n",
    "A retriever is an interface that returns documents given an unstructured query. It is more general than a vector store. A retriever does not need to be able to store documents, only to return (or retrieve) them. Vector stores can be used as the backbone of a retriever, but there are other types of retrievers as well.\n",
    "\n",
    "Retrievers accept a string query as input and return a list of Document's as output.\n",
    "\n",
    "Retrievers are Runnable´s, it can be chained automatically then."
   ]
  },
  {
   "cell_type": "code",
   "execution_count": 5,
   "metadata": {},
   "outputs": [],
   "source": [
    "from langchain_community.chat_models.ollama import ChatOllama\n",
    "from langchain_community.embeddings.ollama import OllamaEmbeddings\n",
    "from langchain_openai.chat_models import ChatOpenAI\n",
    "from langchain_openai.embeddings import OpenAIEmbeddings\n",
    "from langchain_community.vectorstores.faiss import FAISS\n",
    "from langchain_core.documents import Document\n",
    "from langchain_experimental.text_splitter import SemanticChunker\n",
    "\n",
    "#local_llm = ChatOlloma(model=\"phi3\", base_url=\"http://127.0.0.1:11434\", temperature=0)\n",
    "local_llm = ChatOpenAI(model=\"gpt-4o\", temperature=0)\n",
    "embedding_function = OpenAIEmbeddings(model=\"text-embedding-3-large\")\n",
    "#embedding_function = OllamaEmbeddings(model=\"nomic-embed-text\")\n",
    "\n",
    "# FAISS is an in-memory vector store\n",
    "def semantic_chunking(documents: list[Document], threshold=25) -> list[Document]:\n",
    "    text_splitter = SemanticChunker(\n",
    "    embeddings=embedding_function, \n",
    "    breakpoint_threshold_type=\"percentile\", # \"percentile\" \"standard_deviation\", \"interquartile\",\n",
    "    breakpoint_threshold_amount=threshold\n",
    "    )\n",
    "    return text_splitter.split_documents(documents)\n",
    "\n",
    "def create_in_memory_vector_store(chunks:list[Document]) -> FAISS:\n",
    "    # First ensure we have valid documents\n",
    "    if not chunks:\n",
    "        raise ValueError(\"No documents provided\")\n",
    "    \n",
    "    # Convert documents to texts and metadatas\n",
    "    texts = [doc.page_content for doc in chunks]\n",
    "    metadatas = [doc.metadata for doc in chunks]\n",
    "    \n",
    "    # Create FAISS index from texts\n",
    "    return FAISS.from_texts(\n",
    "        texts=texts,\n",
    "        embedding=embedding_function,\n",
    "        metadatas=metadatas\n",
    "    )    \n",
    "\n",
    "def load_pdf(file_path:str) -> list[Document]:\n",
    "    from langchain_community.document_loaders.pdf import PyPDFLoader\n",
    "    loader_PDF = PyPDFLoader(file_path=file_path, extract_images=True)\n",
    "    docsPdf = loader_PDF.load_and_split()\n",
    "    return docsPdf"
   ]
  },
  {
   "cell_type": "markdown",
   "metadata": {},
   "source": [
    "## The simple retriever"
   ]
  },
  {
   "cell_type": "markdown",
   "metadata": {},
   "source": []
  },
  {
   "cell_type": "code",
   "execution_count": 3,
   "metadata": {},
   "outputs": [
    {
     "data": {
      "text/html": [
       "<pre style=\"white-space:pre;overflow-x:auto;line-height:normal;font-family:Menlo,'DejaVu Sans Mono',consolas,'Courier New',monospace\"><span style=\"font-weight: bold\">[</span>\n",
       "    <span style=\"color: #800080; text-decoration-color: #800080; font-weight: bold\">Document</span><span style=\"font-weight: bold\">(</span>\n",
       "        <span style=\"color: #808000; text-decoration-color: #808000\">page_content</span>=<span style=\"color: #008000; text-decoration-color: #008000\">'**The Code Whisperer**  \\nMeet Alex, a brilliant software developer with a passion for </span>\n",
       "<span style=\"color: #008000; text-decoration-color: #008000\">crafting elegant code. By day, Alex \\nworked at TechCorp, a leading fintech firm in Silicon Valley. By night, Alex </span>\n",
       "<span style=\"color: #008000; text-decoration-color: #008000\">built innovative \\napps in his tiny home office, fueled by copious amounts of coffee and elec tronic dance \\nmusic.</span>\n",
       "<span style=\"color: #008000; text-decoration-color: #008000\">\\nAlex\\'s colleagues revered him as \"The Code Whisperer.\" His ability to debug complex issues \\nand architect </span>\n",
       "<span style=\"color: #008000; text-decoration-color: #008000\">scalable solutions earned him a reputation as a coding genius. His code was \\nalways clean, efficient, and </span>\n",
       "<span style=\"color: #008000; text-decoration-color: #008000\">beautifully commented – a rare breed in the so ftware \\ndevelopment world.  \\nOne fateful evening, Alex received an</span>\n",
       "<span style=\"color: #008000; text-decoration-color: #008000\">intriguing email from a mysterious startup, NeuroSpark. \\nThey needed a lead developer to build an AI -powered </span>\n",
       "<span style=\"color: #008000; text-decoration-color: #008000\">trading platform, capable of analyzing \\nmarket trends and making predictions with uncanny accuracy. The project </span>\n",
       "<span style=\"color: #008000; text-decoration-color: #008000\">\\'s ambition and \\npotential for disruption excited Alex. He agreed to meet the founders, Rachel and Jake, at a </span>\n",
       "<span style=\"color: #008000; text-decoration-color: #008000\">\\ntrendy café in San Francisco.  \\nOver artisanal coffee, Rachel and Jake revealed their vision: to democratize </span>\n",
       "<span style=\"color: #008000; text-decoration-color: #008000\">access to AI -\\ndriven investment insights, making the financial markets more inclusive and transparent. \\nAlex was</span>\n",
       "<span style=\"color: #008000; text-decoration-color: #008000\">sold. He joined NeuroSpark as the lead developer, assembling a team of talented \\nengineers to bring the platform </span>\n",
       "<span style=\"color: #008000; text-decoration-color: #008000\">to life.  \\nThe journey was not without its challenges. Alex\\'s team battled against tight deadlines, \\nByzantine </span>\n",
       "<span style=\"color: #008000; text-decoration-color: #008000\">regulatory hurdles, and the occasional all -nighter. However, their collective \\npassion and Alex\\'s technical </span>\n",
       "<span style=\"color: #008000; text-decoration-color: #008000\">mastery prevailed. The platform, dubbed \"Pulse,\" b egan to take \\nshape.  \\nPulse\\'s launch was met with widespread</span>\n",
       "<span style=\"color: #008000; text-decoration-color: #008000\">acclaim. Financial institutions, hedge funds, and \\nindividual investors clamored to integrate the AI -driven </span>\n",
       "<span style=\"color: #008000; text-decoration-color: #008000\">insights into their operations. Alex\\'s \\ncreation had transformed the trading landscape, earning him recognition  </span>\n",
       "<span style=\"color: #008000; text-decoration-color: #008000\">as one of the most \\ninfluential software developers of the year.  \\nAs Alex looked out over the San Francisco </span>\n",
       "<span style=\"color: #008000; text-decoration-color: #008000\">skyline, he smiled, knowing that his code had \\nchanged the game. The Code Whisperer had whispered his magic once </span>\n",
       "<span style=\"color: #008000; text-decoration-color: #008000\">more, and the world \\nwas a better place for it.'</span>,\n",
       "        <span style=\"color: #808000; text-decoration-color: #808000\">metadata</span>=<span style=\"font-weight: bold\">{</span><span style=\"color: #008000; text-decoration-color: #008000\">'source'</span>: <span style=\"color: #008000; text-decoration-color: #008000\">'../Resources/The Code Whisperer.pdf'</span>, <span style=\"color: #008000; text-decoration-color: #008000\">'page'</span>: <span style=\"color: #008080; text-decoration-color: #008080; font-weight: bold\">0</span><span style=\"font-weight: bold\">}</span>\n",
       "    <span style=\"font-weight: bold\">)</span>\n",
       "<span style=\"font-weight: bold\">]</span>\n",
       "</pre>\n"
      ],
      "text/plain": [
       "\u001b[1m[\u001b[0m\n",
       "    \u001b[1;35mDocument\u001b[0m\u001b[1m(\u001b[0m\n",
       "        \u001b[33mpage_content\u001b[0m=\u001b[32m'**The Code Whisperer**  \\nMeet Alex, a brilliant software developer with a passion for \u001b[0m\n",
       "\u001b[32mcrafting elegant code. By day, Alex \\nworked at TechCorp, a leading fintech firm in Silicon Valley. By night, Alex \u001b[0m\n",
       "\u001b[32mbuilt innovative \\napps in his tiny home office, fueled by copious amounts of coffee and elec tronic dance \\nmusic.\u001b[0m\n",
       "\u001b[32m\\nAlex\\'s colleagues revered him as \"The Code Whisperer.\" His ability to debug complex issues \\nand architect \u001b[0m\n",
       "\u001b[32mscalable solutions earned him a reputation as a coding genius. His code was \\nalways clean, efficient, and \u001b[0m\n",
       "\u001b[32mbeautifully commented – a rare breed in the so ftware \\ndevelopment world.  \\nOne fateful evening, Alex received an\u001b[0m\n",
       "\u001b[32mintriguing email from a mysterious startup, NeuroSpark. \\nThey needed a lead developer to build an AI -powered \u001b[0m\n",
       "\u001b[32mtrading platform, capable of analyzing \\nmarket trends and making predictions with uncanny accuracy. The project \u001b[0m\n",
       "\u001b[32m\\'s ambition and \\npotential for disruption excited Alex. He agreed to meet the founders, Rachel and Jake, at a \u001b[0m\n",
       "\u001b[32m\\ntrendy café in San Francisco.  \\nOver artisanal coffee, Rachel and Jake revealed their vision: to democratize \u001b[0m\n",
       "\u001b[32maccess to AI -\\ndriven investment insights, making the financial markets more inclusive and transparent. \\nAlex was\u001b[0m\n",
       "\u001b[32msold. He joined NeuroSpark as the lead developer, assembling a team of talented \\nengineers to bring the platform \u001b[0m\n",
       "\u001b[32mto life.  \\nThe journey was not without its challenges. Alex\\'s team battled against tight deadlines, \\nByzantine \u001b[0m\n",
       "\u001b[32mregulatory hurdles, and the occasional all -nighter. However, their collective \\npassion and Alex\\'s technical \u001b[0m\n",
       "\u001b[32mmastery prevailed. The platform, dubbed \"Pulse,\" b egan to take \\nshape.  \\nPulse\\'s launch was met with widespread\u001b[0m\n",
       "\u001b[32macclaim. Financial institutions, hedge funds, and \\nindividual investors clamored to integrate the AI -driven \u001b[0m\n",
       "\u001b[32minsights into their operations. Alex\\'s \\ncreation had transformed the trading landscape, earning him recognition  \u001b[0m\n",
       "\u001b[32mas one of the most \\ninfluential software developers of the year.  \\nAs Alex looked out over the San Francisco \u001b[0m\n",
       "\u001b[32mskyline, he smiled, knowing that his code had \\nchanged the game. The Code Whisperer had whispered his magic once \u001b[0m\n",
       "\u001b[32mmore, and the world \\nwas a better place for it.'\u001b[0m,\n",
       "        \u001b[33mmetadata\u001b[0m=\u001b[1m{\u001b[0m\u001b[32m'source'\u001b[0m: \u001b[32m'../Resources/The Code Whisperer.pdf'\u001b[0m, \u001b[32m'page'\u001b[0m: \u001b[1;36m0\u001b[0m\u001b[1m}\u001b[0m\n",
       "    \u001b[1m)\u001b[0m\n",
       "\u001b[1m]\u001b[0m\n"
      ]
     },
     "metadata": {},
     "output_type": "display_data"
    }
   ],
   "source": [
    "from rich import print\n",
    "file_path = \"../Resources/The Code Whisperer.pdf\"\n",
    "documents = load_pdf(file_path)\n",
    "print(documents)"
   ]
  },
  {
   "cell_type": "code",
   "execution_count": 6,
   "metadata": {},
   "outputs": [
    {
     "data": {
      "text/html": [
       "<pre style=\"white-space:pre;overflow-x:auto;line-height:normal;font-family:Menlo,'DejaVu Sans Mono',consolas,'Courier New',monospace\"><span style=\"font-weight: bold\">[</span>\n",
       "    <span style=\"color: #800080; text-decoration-color: #800080; font-weight: bold\">Document</span><span style=\"font-weight: bold\">(</span>\n",
       "        <span style=\"color: #808000; text-decoration-color: #808000\">page_content</span>=<span style=\"color: #008000; text-decoration-color: #008000\">'**The Code Whisperer**  \\nMeet Alex, a brilliant software developer with a passion for </span>\n",
       "<span style=\"color: #008000; text-decoration-color: #008000\">crafting elegant code. By day, Alex \\nworked at TechCorp, a leading fintech firm in Silicon Valley. By night, Alex </span>\n",
       "<span style=\"color: #008000; text-decoration-color: #008000\">built innovative \\napps in his tiny home office, fueled by copious amounts of coffee and elec tronic dance \\nmusic.</span>\n",
       "<span style=\"color: #008000; text-decoration-color: #008000\">Alex\\'s colleagues revered him as \"The Code Whisperer.\" His ability to debug complex issues \\nand architect </span>\n",
       "<span style=\"color: #008000; text-decoration-color: #008000\">scalable solutions earned him a reputation as a coding genius.'</span>,\n",
       "        <span style=\"color: #808000; text-decoration-color: #808000\">metadata</span>=<span style=\"font-weight: bold\">{</span><span style=\"color: #008000; text-decoration-color: #008000\">'source'</span>: <span style=\"color: #008000; text-decoration-color: #008000\">'../Resources/The Code Whisperer.pdf'</span>, <span style=\"color: #008000; text-decoration-color: #008000\">'page'</span>: <span style=\"color: #008080; text-decoration-color: #008080; font-weight: bold\">0</span><span style=\"font-weight: bold\">}</span>\n",
       "    <span style=\"font-weight: bold\">)</span>,\n",
       "    <span style=\"color: #800080; text-decoration-color: #800080; font-weight: bold\">Document</span><span style=\"font-weight: bold\">(</span>\n",
       "        <span style=\"color: #808000; text-decoration-color: #808000\">page_content</span>=<span style=\"color: #008000; text-decoration-color: #008000\">'His code was \\nalways clean, efficient, and beautifully commented – a rare breed in the so </span>\n",
       "<span style=\"color: #008000; text-decoration-color: #008000\">ftware \\ndevelopment world.'</span>,\n",
       "        <span style=\"color: #808000; text-decoration-color: #808000\">metadata</span>=<span style=\"font-weight: bold\">{</span><span style=\"color: #008000; text-decoration-color: #008000\">'source'</span>: <span style=\"color: #008000; text-decoration-color: #008000\">'../Resources/The Code Whisperer.pdf'</span>, <span style=\"color: #008000; text-decoration-color: #008000\">'page'</span>: <span style=\"color: #008080; text-decoration-color: #008080; font-weight: bold\">0</span><span style=\"font-weight: bold\">}</span>\n",
       "    <span style=\"font-weight: bold\">)</span>,\n",
       "    <span style=\"color: #800080; text-decoration-color: #800080; font-weight: bold\">Document</span><span style=\"font-weight: bold\">(</span>\n",
       "        <span style=\"color: #808000; text-decoration-color: #808000\">page_content</span>=<span style=\"color: #008000; text-decoration-color: #008000\">'One fateful evening, Alex received an intriguing email from a mysterious startup, </span>\n",
       "<span style=\"color: #008000; text-decoration-color: #008000\">NeuroSpark.'</span>,\n",
       "        <span style=\"color: #808000; text-decoration-color: #808000\">metadata</span>=<span style=\"font-weight: bold\">{</span><span style=\"color: #008000; text-decoration-color: #008000\">'source'</span>: <span style=\"color: #008000; text-decoration-color: #008000\">'../Resources/The Code Whisperer.pdf'</span>, <span style=\"color: #008000; text-decoration-color: #008000\">'page'</span>: <span style=\"color: #008080; text-decoration-color: #008080; font-weight: bold\">0</span><span style=\"font-weight: bold\">}</span>\n",
       "    <span style=\"font-weight: bold\">)</span>,\n",
       "    <span style=\"color: #800080; text-decoration-color: #800080; font-weight: bold\">Document</span><span style=\"font-weight: bold\">(</span>\n",
       "        <span style=\"color: #808000; text-decoration-color: #808000\">page_content</span>=<span style=\"color: #008000; text-decoration-color: #008000\">'They needed a lead developer to build an AI -powered trading platform, capable of analyzing </span>\n",
       "<span style=\"color: #008000; text-decoration-color: #008000\">\\nmarket trends and making predictions with uncanny accuracy.'</span>,\n",
       "        <span style=\"color: #808000; text-decoration-color: #808000\">metadata</span>=<span style=\"font-weight: bold\">{</span><span style=\"color: #008000; text-decoration-color: #008000\">'source'</span>: <span style=\"color: #008000; text-decoration-color: #008000\">'../Resources/The Code Whisperer.pdf'</span>, <span style=\"color: #008000; text-decoration-color: #008000\">'page'</span>: <span style=\"color: #008080; text-decoration-color: #008080; font-weight: bold\">0</span><span style=\"font-weight: bold\">}</span>\n",
       "    <span style=\"font-weight: bold\">)</span>,\n",
       "    <span style=\"color: #800080; text-decoration-color: #800080; font-weight: bold\">Document</span><span style=\"font-weight: bold\">(</span>\n",
       "        <span style=\"color: #808000; text-decoration-color: #808000\">page_content</span>=<span style=\"color: #008000; text-decoration-color: #008000\">\"The project 's ambition and \\npotential for disruption excited Alex.\"</span>,\n",
       "        <span style=\"color: #808000; text-decoration-color: #808000\">metadata</span>=<span style=\"font-weight: bold\">{</span><span style=\"color: #008000; text-decoration-color: #008000\">'source'</span>: <span style=\"color: #008000; text-decoration-color: #008000\">'../Resources/The Code Whisperer.pdf'</span>, <span style=\"color: #008000; text-decoration-color: #008000\">'page'</span>: <span style=\"color: #008080; text-decoration-color: #008080; font-weight: bold\">0</span><span style=\"font-weight: bold\">}</span>\n",
       "    <span style=\"font-weight: bold\">)</span>,\n",
       "    <span style=\"color: #800080; text-decoration-color: #800080; font-weight: bold\">Document</span><span style=\"font-weight: bold\">(</span>\n",
       "        <span style=\"color: #808000; text-decoration-color: #808000\">page_content</span>=<span style=\"color: #008000; text-decoration-color: #008000\">'He agreed to meet the founders, Rachel and Jake, at a \\ntrendy café in San Francisco. Over </span>\n",
       "<span style=\"color: #008000; text-decoration-color: #008000\">artisanal coffee, Rachel and Jake revealed their vision: to democratize access to AI -\\ndriven investment insights,</span>\n",
       "<span style=\"color: #008000; text-decoration-color: #008000\">making the financial markets more inclusive and transparent.'</span>,\n",
       "        <span style=\"color: #808000; text-decoration-color: #808000\">metadata</span>=<span style=\"font-weight: bold\">{</span><span style=\"color: #008000; text-decoration-color: #008000\">'source'</span>: <span style=\"color: #008000; text-decoration-color: #008000\">'../Resources/The Code Whisperer.pdf'</span>, <span style=\"color: #008000; text-decoration-color: #008000\">'page'</span>: <span style=\"color: #008080; text-decoration-color: #008080; font-weight: bold\">0</span><span style=\"font-weight: bold\">}</span>\n",
       "    <span style=\"font-weight: bold\">)</span>,\n",
       "    <span style=\"color: #800080; text-decoration-color: #800080; font-weight: bold\">Document</span><span style=\"font-weight: bold\">(</span>\n",
       "        <span style=\"color: #808000; text-decoration-color: #808000\">page_content</span>=<span style=\"color: #008000; text-decoration-color: #008000\">'Alex was sold.'</span>,\n",
       "        <span style=\"color: #808000; text-decoration-color: #808000\">metadata</span>=<span style=\"font-weight: bold\">{</span><span style=\"color: #008000; text-decoration-color: #008000\">'source'</span>: <span style=\"color: #008000; text-decoration-color: #008000\">'../Resources/The Code Whisperer.pdf'</span>, <span style=\"color: #008000; text-decoration-color: #008000\">'page'</span>: <span style=\"color: #008080; text-decoration-color: #008080; font-weight: bold\">0</span><span style=\"font-weight: bold\">}</span>\n",
       "    <span style=\"font-weight: bold\">)</span>,\n",
       "    <span style=\"color: #800080; text-decoration-color: #800080; font-weight: bold\">Document</span><span style=\"font-weight: bold\">(</span>\n",
       "        <span style=\"color: #808000; text-decoration-color: #808000\">page_content</span>=<span style=\"color: #008000; text-decoration-color: #008000\">'He joined NeuroSpark as the lead developer, assembling a team of talented \\nengineers to </span>\n",
       "<span style=\"color: #008000; text-decoration-color: #008000\">bring the platform to life.'</span>,\n",
       "        <span style=\"color: #808000; text-decoration-color: #808000\">metadata</span>=<span style=\"font-weight: bold\">{</span><span style=\"color: #008000; text-decoration-color: #008000\">'source'</span>: <span style=\"color: #008000; text-decoration-color: #008000\">'../Resources/The Code Whisperer.pdf'</span>, <span style=\"color: #008000; text-decoration-color: #008000\">'page'</span>: <span style=\"color: #008080; text-decoration-color: #008080; font-weight: bold\">0</span><span style=\"font-weight: bold\">}</span>\n",
       "    <span style=\"font-weight: bold\">)</span>,\n",
       "    <span style=\"color: #800080; text-decoration-color: #800080; font-weight: bold\">Document</span><span style=\"font-weight: bold\">(</span>\n",
       "        <span style=\"color: #808000; text-decoration-color: #808000\">page_content</span>=<span style=\"color: #008000; text-decoration-color: #008000\">'The journey was not without its challenges.'</span>,\n",
       "        <span style=\"color: #808000; text-decoration-color: #808000\">metadata</span>=<span style=\"font-weight: bold\">{</span><span style=\"color: #008000; text-decoration-color: #008000\">'source'</span>: <span style=\"color: #008000; text-decoration-color: #008000\">'../Resources/The Code Whisperer.pdf'</span>, <span style=\"color: #008000; text-decoration-color: #008000\">'page'</span>: <span style=\"color: #008080; text-decoration-color: #008080; font-weight: bold\">0</span><span style=\"font-weight: bold\">}</span>\n",
       "    <span style=\"font-weight: bold\">)</span>,\n",
       "    <span style=\"color: #800080; text-decoration-color: #800080; font-weight: bold\">Document</span><span style=\"font-weight: bold\">(</span>\n",
       "        <span style=\"color: #808000; text-decoration-color: #808000\">page_content</span>=<span style=\"color: #008000; text-decoration-color: #008000\">\"Alex's team battled against tight deadlines, \\nByzantine regulatory hurdles, and the </span>\n",
       "<span style=\"color: #008000; text-decoration-color: #008000\">occasional all -nighter.\"</span>,\n",
       "        <span style=\"color: #808000; text-decoration-color: #808000\">metadata</span>=<span style=\"font-weight: bold\">{</span><span style=\"color: #008000; text-decoration-color: #008000\">'source'</span>: <span style=\"color: #008000; text-decoration-color: #008000\">'../Resources/The Code Whisperer.pdf'</span>, <span style=\"color: #008000; text-decoration-color: #008000\">'page'</span>: <span style=\"color: #008080; text-decoration-color: #008080; font-weight: bold\">0</span><span style=\"font-weight: bold\">}</span>\n",
       "    <span style=\"font-weight: bold\">)</span>,\n",
       "    <span style=\"color: #800080; text-decoration-color: #800080; font-weight: bold\">Document</span><span style=\"font-weight: bold\">(</span>\n",
       "        <span style=\"color: #808000; text-decoration-color: #808000\">page_content</span>=<span style=\"color: #008000; text-decoration-color: #008000\">\"However, their collective \\npassion and Alex's technical mastery prevailed.\"</span>,\n",
       "        <span style=\"color: #808000; text-decoration-color: #808000\">metadata</span>=<span style=\"font-weight: bold\">{</span><span style=\"color: #008000; text-decoration-color: #008000\">'source'</span>: <span style=\"color: #008000; text-decoration-color: #008000\">'../Resources/The Code Whisperer.pdf'</span>, <span style=\"color: #008000; text-decoration-color: #008000\">'page'</span>: <span style=\"color: #008080; text-decoration-color: #008080; font-weight: bold\">0</span><span style=\"font-weight: bold\">}</span>\n",
       "    <span style=\"font-weight: bold\">)</span>,\n",
       "    <span style=\"color: #800080; text-decoration-color: #800080; font-weight: bold\">Document</span><span style=\"font-weight: bold\">(</span>\n",
       "        <span style=\"color: #808000; text-decoration-color: #808000\">page_content</span>=<span style=\"color: #008000; text-decoration-color: #008000\">'The platform, dubbed \"Pulse,\" b egan to take \\nshape.'</span>,\n",
       "        <span style=\"color: #808000; text-decoration-color: #808000\">metadata</span>=<span style=\"font-weight: bold\">{</span><span style=\"color: #008000; text-decoration-color: #008000\">'source'</span>: <span style=\"color: #008000; text-decoration-color: #008000\">'../Resources/The Code Whisperer.pdf'</span>, <span style=\"color: #008000; text-decoration-color: #008000\">'page'</span>: <span style=\"color: #008080; text-decoration-color: #008080; font-weight: bold\">0</span><span style=\"font-weight: bold\">}</span>\n",
       "    <span style=\"font-weight: bold\">)</span>,\n",
       "    <span style=\"color: #800080; text-decoration-color: #800080; font-weight: bold\">Document</span><span style=\"font-weight: bold\">(</span>\n",
       "        <span style=\"color: #808000; text-decoration-color: #808000\">page_content</span>=<span style=\"color: #008000; text-decoration-color: #008000\">\"Pulse's launch was met with widespread acclaim.\"</span>,\n",
       "        <span style=\"color: #808000; text-decoration-color: #808000\">metadata</span>=<span style=\"font-weight: bold\">{</span><span style=\"color: #008000; text-decoration-color: #008000\">'source'</span>: <span style=\"color: #008000; text-decoration-color: #008000\">'../Resources/The Code Whisperer.pdf'</span>, <span style=\"color: #008000; text-decoration-color: #008000\">'page'</span>: <span style=\"color: #008080; text-decoration-color: #008080; font-weight: bold\">0</span><span style=\"font-weight: bold\">}</span>\n",
       "    <span style=\"font-weight: bold\">)</span>,\n",
       "    <span style=\"color: #800080; text-decoration-color: #800080; font-weight: bold\">Document</span><span style=\"font-weight: bold\">(</span>\n",
       "        <span style=\"color: #808000; text-decoration-color: #808000\">page_content</span>=<span style=\"color: #008000; text-decoration-color: #008000\">'Financial institutions, hedge funds, and \\nindividual investors clamored to integrate the AI </span>\n",
       "<span style=\"color: #008000; text-decoration-color: #008000\">-driven insights into their operations.'</span>,\n",
       "        <span style=\"color: #808000; text-decoration-color: #808000\">metadata</span>=<span style=\"font-weight: bold\">{</span><span style=\"color: #008000; text-decoration-color: #008000\">'source'</span>: <span style=\"color: #008000; text-decoration-color: #008000\">'../Resources/The Code Whisperer.pdf'</span>, <span style=\"color: #008000; text-decoration-color: #008000\">'page'</span>: <span style=\"color: #008080; text-decoration-color: #008080; font-weight: bold\">0</span><span style=\"font-weight: bold\">}</span>\n",
       "    <span style=\"font-weight: bold\">)</span>,\n",
       "    <span style=\"color: #800080; text-decoration-color: #800080; font-weight: bold\">Document</span><span style=\"font-weight: bold\">(</span>\n",
       "        <span style=\"color: #808000; text-decoration-color: #808000\">page_content</span>=<span style=\"color: #008000; text-decoration-color: #008000\">\"Alex's \\ncreation had transformed the trading landscape, earning him recognition  as one of </span>\n",
       "<span style=\"color: #008000; text-decoration-color: #008000\">the most \\ninfluential software developers of the year.\"</span>,\n",
       "        <span style=\"color: #808000; text-decoration-color: #808000\">metadata</span>=<span style=\"font-weight: bold\">{</span><span style=\"color: #008000; text-decoration-color: #008000\">'source'</span>: <span style=\"color: #008000; text-decoration-color: #008000\">'../Resources/The Code Whisperer.pdf'</span>, <span style=\"color: #008000; text-decoration-color: #008000\">'page'</span>: <span style=\"color: #008080; text-decoration-color: #008080; font-weight: bold\">0</span><span style=\"font-weight: bold\">}</span>\n",
       "    <span style=\"font-weight: bold\">)</span>,\n",
       "    <span style=\"color: #800080; text-decoration-color: #800080; font-weight: bold\">Document</span><span style=\"font-weight: bold\">(</span>\n",
       "        <span style=\"color: #808000; text-decoration-color: #808000\">page_content</span>=<span style=\"color: #008000; text-decoration-color: #008000\">'As Alex looked out over the San Francisco skyline, he smiled, knowing that his code had </span>\n",
       "<span style=\"color: #008000; text-decoration-color: #008000\">\\nchanged the game.'</span>,\n",
       "        <span style=\"color: #808000; text-decoration-color: #808000\">metadata</span>=<span style=\"font-weight: bold\">{</span><span style=\"color: #008000; text-decoration-color: #008000\">'source'</span>: <span style=\"color: #008000; text-decoration-color: #008000\">'../Resources/The Code Whisperer.pdf'</span>, <span style=\"color: #008000; text-decoration-color: #008000\">'page'</span>: <span style=\"color: #008080; text-decoration-color: #008080; font-weight: bold\">0</span><span style=\"font-weight: bold\">}</span>\n",
       "    <span style=\"font-weight: bold\">)</span>,\n",
       "    <span style=\"color: #800080; text-decoration-color: #800080; font-weight: bold\">Document</span><span style=\"font-weight: bold\">(</span>\n",
       "        <span style=\"color: #808000; text-decoration-color: #808000\">page_content</span>=<span style=\"color: #008000; text-decoration-color: #008000\">'The Code Whisperer had whispered his magic once more, and the world \\nwas a better place for </span>\n",
       "<span style=\"color: #008000; text-decoration-color: #008000\">it.'</span>,\n",
       "        <span style=\"color: #808000; text-decoration-color: #808000\">metadata</span>=<span style=\"font-weight: bold\">{</span><span style=\"color: #008000; text-decoration-color: #008000\">'source'</span>: <span style=\"color: #008000; text-decoration-color: #008000\">'../Resources/The Code Whisperer.pdf'</span>, <span style=\"color: #008000; text-decoration-color: #008000\">'page'</span>: <span style=\"color: #008080; text-decoration-color: #008080; font-weight: bold\">0</span><span style=\"font-weight: bold\">}</span>\n",
       "    <span style=\"font-weight: bold\">)</span>\n",
       "<span style=\"font-weight: bold\">]</span>\n",
       "</pre>\n"
      ],
      "text/plain": [
       "\u001b[1m[\u001b[0m\n",
       "    \u001b[1;35mDocument\u001b[0m\u001b[1m(\u001b[0m\n",
       "        \u001b[33mpage_content\u001b[0m=\u001b[32m'**The Code Whisperer**  \\nMeet Alex, a brilliant software developer with a passion for \u001b[0m\n",
       "\u001b[32mcrafting elegant code. By day, Alex \\nworked at TechCorp, a leading fintech firm in Silicon Valley. By night, Alex \u001b[0m\n",
       "\u001b[32mbuilt innovative \\napps in his tiny home office, fueled by copious amounts of coffee and elec tronic dance \\nmusic.\u001b[0m\n",
       "\u001b[32mAlex\\'s colleagues revered him as \"The Code Whisperer.\" His ability to debug complex issues \\nand architect \u001b[0m\n",
       "\u001b[32mscalable solutions earned him a reputation as a coding genius.'\u001b[0m,\n",
       "        \u001b[33mmetadata\u001b[0m=\u001b[1m{\u001b[0m\u001b[32m'source'\u001b[0m: \u001b[32m'../Resources/The Code Whisperer.pdf'\u001b[0m, \u001b[32m'page'\u001b[0m: \u001b[1;36m0\u001b[0m\u001b[1m}\u001b[0m\n",
       "    \u001b[1m)\u001b[0m,\n",
       "    \u001b[1;35mDocument\u001b[0m\u001b[1m(\u001b[0m\n",
       "        \u001b[33mpage_content\u001b[0m=\u001b[32m'His code was \\nalways clean, efficient, and beautifully commented – a rare breed in the so \u001b[0m\n",
       "\u001b[32mftware \\ndevelopment world.'\u001b[0m,\n",
       "        \u001b[33mmetadata\u001b[0m=\u001b[1m{\u001b[0m\u001b[32m'source'\u001b[0m: \u001b[32m'../Resources/The Code Whisperer.pdf'\u001b[0m, \u001b[32m'page'\u001b[0m: \u001b[1;36m0\u001b[0m\u001b[1m}\u001b[0m\n",
       "    \u001b[1m)\u001b[0m,\n",
       "    \u001b[1;35mDocument\u001b[0m\u001b[1m(\u001b[0m\n",
       "        \u001b[33mpage_content\u001b[0m=\u001b[32m'One fateful evening, Alex received an intriguing email from a mysterious startup, \u001b[0m\n",
       "\u001b[32mNeuroSpark.'\u001b[0m,\n",
       "        \u001b[33mmetadata\u001b[0m=\u001b[1m{\u001b[0m\u001b[32m'source'\u001b[0m: \u001b[32m'../Resources/The Code Whisperer.pdf'\u001b[0m, \u001b[32m'page'\u001b[0m: \u001b[1;36m0\u001b[0m\u001b[1m}\u001b[0m\n",
       "    \u001b[1m)\u001b[0m,\n",
       "    \u001b[1;35mDocument\u001b[0m\u001b[1m(\u001b[0m\n",
       "        \u001b[33mpage_content\u001b[0m=\u001b[32m'They needed a lead developer to build an AI -powered trading platform, capable of analyzing \u001b[0m\n",
       "\u001b[32m\\nmarket trends and making predictions with uncanny accuracy.'\u001b[0m,\n",
       "        \u001b[33mmetadata\u001b[0m=\u001b[1m{\u001b[0m\u001b[32m'source'\u001b[0m: \u001b[32m'../Resources/The Code Whisperer.pdf'\u001b[0m, \u001b[32m'page'\u001b[0m: \u001b[1;36m0\u001b[0m\u001b[1m}\u001b[0m\n",
       "    \u001b[1m)\u001b[0m,\n",
       "    \u001b[1;35mDocument\u001b[0m\u001b[1m(\u001b[0m\n",
       "        \u001b[33mpage_content\u001b[0m=\u001b[32m\"The\u001b[0m\u001b[32m project 's ambition and \\npotential for disruption excited Alex.\"\u001b[0m,\n",
       "        \u001b[33mmetadata\u001b[0m=\u001b[1m{\u001b[0m\u001b[32m'source'\u001b[0m: \u001b[32m'../Resources/The Code Whisperer.pdf'\u001b[0m, \u001b[32m'page'\u001b[0m: \u001b[1;36m0\u001b[0m\u001b[1m}\u001b[0m\n",
       "    \u001b[1m)\u001b[0m,\n",
       "    \u001b[1;35mDocument\u001b[0m\u001b[1m(\u001b[0m\n",
       "        \u001b[33mpage_content\u001b[0m=\u001b[32m'He agreed to meet the founders, Rachel and Jake, at a \\ntrendy café in San Francisco. Over \u001b[0m\n",
       "\u001b[32martisanal coffee, Rachel and Jake revealed their vision: to democratize access to AI -\\ndriven investment insights,\u001b[0m\n",
       "\u001b[32mmaking the financial markets more inclusive and transparent.'\u001b[0m,\n",
       "        \u001b[33mmetadata\u001b[0m=\u001b[1m{\u001b[0m\u001b[32m'source'\u001b[0m: \u001b[32m'../Resources/The Code Whisperer.pdf'\u001b[0m, \u001b[32m'page'\u001b[0m: \u001b[1;36m0\u001b[0m\u001b[1m}\u001b[0m\n",
       "    \u001b[1m)\u001b[0m,\n",
       "    \u001b[1;35mDocument\u001b[0m\u001b[1m(\u001b[0m\n",
       "        \u001b[33mpage_content\u001b[0m=\u001b[32m'Alex was sold.'\u001b[0m,\n",
       "        \u001b[33mmetadata\u001b[0m=\u001b[1m{\u001b[0m\u001b[32m'source'\u001b[0m: \u001b[32m'../Resources/The Code Whisperer.pdf'\u001b[0m, \u001b[32m'page'\u001b[0m: \u001b[1;36m0\u001b[0m\u001b[1m}\u001b[0m\n",
       "    \u001b[1m)\u001b[0m,\n",
       "    \u001b[1;35mDocument\u001b[0m\u001b[1m(\u001b[0m\n",
       "        \u001b[33mpage_content\u001b[0m=\u001b[32m'He joined NeuroSpark as the lead developer, assembling a team of talented \\nengineers to \u001b[0m\n",
       "\u001b[32mbring the platform to life.'\u001b[0m,\n",
       "        \u001b[33mmetadata\u001b[0m=\u001b[1m{\u001b[0m\u001b[32m'source'\u001b[0m: \u001b[32m'../Resources/The Code Whisperer.pdf'\u001b[0m, \u001b[32m'page'\u001b[0m: \u001b[1;36m0\u001b[0m\u001b[1m}\u001b[0m\n",
       "    \u001b[1m)\u001b[0m,\n",
       "    \u001b[1;35mDocument\u001b[0m\u001b[1m(\u001b[0m\n",
       "        \u001b[33mpage_content\u001b[0m=\u001b[32m'The journey was not without its challenges.'\u001b[0m,\n",
       "        \u001b[33mmetadata\u001b[0m=\u001b[1m{\u001b[0m\u001b[32m'source'\u001b[0m: \u001b[32m'../Resources/The Code Whisperer.pdf'\u001b[0m, \u001b[32m'page'\u001b[0m: \u001b[1;36m0\u001b[0m\u001b[1m}\u001b[0m\n",
       "    \u001b[1m)\u001b[0m,\n",
       "    \u001b[1;35mDocument\u001b[0m\u001b[1m(\u001b[0m\n",
       "        \u001b[33mpage_content\u001b[0m=\u001b[32m\"Alex\u001b[0m\u001b[32m's team battled against tight deadlines, \\nByzantine regulatory hurdles, and the \u001b[0m\n",
       "\u001b[32moccasional all -nighter.\"\u001b[0m,\n",
       "        \u001b[33mmetadata\u001b[0m=\u001b[1m{\u001b[0m\u001b[32m'source'\u001b[0m: \u001b[32m'../Resources/The Code Whisperer.pdf'\u001b[0m, \u001b[32m'page'\u001b[0m: \u001b[1;36m0\u001b[0m\u001b[1m}\u001b[0m\n",
       "    \u001b[1m)\u001b[0m,\n",
       "    \u001b[1;35mDocument\u001b[0m\u001b[1m(\u001b[0m\n",
       "        \u001b[33mpage_content\u001b[0m=\u001b[32m\"However\u001b[0m\u001b[32m, their collective \\npassion and Alex's technical mastery prevailed.\"\u001b[0m,\n",
       "        \u001b[33mmetadata\u001b[0m=\u001b[1m{\u001b[0m\u001b[32m'source'\u001b[0m: \u001b[32m'../Resources/The Code Whisperer.pdf'\u001b[0m, \u001b[32m'page'\u001b[0m: \u001b[1;36m0\u001b[0m\u001b[1m}\u001b[0m\n",
       "    \u001b[1m)\u001b[0m,\n",
       "    \u001b[1;35mDocument\u001b[0m\u001b[1m(\u001b[0m\n",
       "        \u001b[33mpage_content\u001b[0m=\u001b[32m'The platform, dubbed \"Pulse,\" b egan to take \\nshape.'\u001b[0m,\n",
       "        \u001b[33mmetadata\u001b[0m=\u001b[1m{\u001b[0m\u001b[32m'source'\u001b[0m: \u001b[32m'../Resources/The Code Whisperer.pdf'\u001b[0m, \u001b[32m'page'\u001b[0m: \u001b[1;36m0\u001b[0m\u001b[1m}\u001b[0m\n",
       "    \u001b[1m)\u001b[0m,\n",
       "    \u001b[1;35mDocument\u001b[0m\u001b[1m(\u001b[0m\n",
       "        \u001b[33mpage_content\u001b[0m=\u001b[32m\"Pulse\u001b[0m\u001b[32m's launch was met with widespread acclaim.\"\u001b[0m,\n",
       "        \u001b[33mmetadata\u001b[0m=\u001b[1m{\u001b[0m\u001b[32m'source'\u001b[0m: \u001b[32m'../Resources/The Code Whisperer.pdf'\u001b[0m, \u001b[32m'page'\u001b[0m: \u001b[1;36m0\u001b[0m\u001b[1m}\u001b[0m\n",
       "    \u001b[1m)\u001b[0m,\n",
       "    \u001b[1;35mDocument\u001b[0m\u001b[1m(\u001b[0m\n",
       "        \u001b[33mpage_content\u001b[0m=\u001b[32m'Financial institutions, hedge funds, and \\nindividual investors clamored to integrate the AI \u001b[0m\n",
       "\u001b[32m-driven insights into their operations.'\u001b[0m,\n",
       "        \u001b[33mmetadata\u001b[0m=\u001b[1m{\u001b[0m\u001b[32m'source'\u001b[0m: \u001b[32m'../Resources/The Code Whisperer.pdf'\u001b[0m, \u001b[32m'page'\u001b[0m: \u001b[1;36m0\u001b[0m\u001b[1m}\u001b[0m\n",
       "    \u001b[1m)\u001b[0m,\n",
       "    \u001b[1;35mDocument\u001b[0m\u001b[1m(\u001b[0m\n",
       "        \u001b[33mpage_content\u001b[0m=\u001b[32m\"Alex\u001b[0m\u001b[32m's \\ncreation had transformed the trading landscape, earning him recognition  as one of \u001b[0m\n",
       "\u001b[32mthe most \\ninfluential software developers of the year.\"\u001b[0m,\n",
       "        \u001b[33mmetadata\u001b[0m=\u001b[1m{\u001b[0m\u001b[32m'source'\u001b[0m: \u001b[32m'../Resources/The Code Whisperer.pdf'\u001b[0m, \u001b[32m'page'\u001b[0m: \u001b[1;36m0\u001b[0m\u001b[1m}\u001b[0m\n",
       "    \u001b[1m)\u001b[0m,\n",
       "    \u001b[1;35mDocument\u001b[0m\u001b[1m(\u001b[0m\n",
       "        \u001b[33mpage_content\u001b[0m=\u001b[32m'As Alex looked out over the San Francisco skyline, he smiled, knowing that his code had \u001b[0m\n",
       "\u001b[32m\\nchanged the game.'\u001b[0m,\n",
       "        \u001b[33mmetadata\u001b[0m=\u001b[1m{\u001b[0m\u001b[32m'source'\u001b[0m: \u001b[32m'../Resources/The Code Whisperer.pdf'\u001b[0m, \u001b[32m'page'\u001b[0m: \u001b[1;36m0\u001b[0m\u001b[1m}\u001b[0m\n",
       "    \u001b[1m)\u001b[0m,\n",
       "    \u001b[1;35mDocument\u001b[0m\u001b[1m(\u001b[0m\n",
       "        \u001b[33mpage_content\u001b[0m=\u001b[32m'The Code Whisperer had whispered his magic once more, and the world \\nwas a better place for \u001b[0m\n",
       "\u001b[32mit.'\u001b[0m,\n",
       "        \u001b[33mmetadata\u001b[0m=\u001b[1m{\u001b[0m\u001b[32m'source'\u001b[0m: \u001b[32m'../Resources/The Code Whisperer.pdf'\u001b[0m, \u001b[32m'page'\u001b[0m: \u001b[1;36m0\u001b[0m\u001b[1m}\u001b[0m\n",
       "    \u001b[1m)\u001b[0m\n",
       "\u001b[1m]\u001b[0m\n"
      ]
     },
     "metadata": {},
     "output_type": "display_data"
    }
   ],
   "source": [
    "chunks = semantic_chunking(documents, threshold=20)\n",
    "print(chunks)\n",
    "#Expected execution time: 8s"
   ]
  },
  {
   "cell_type": "code",
   "execution_count": 7,
   "metadata": {},
   "outputs": [],
   "source": [
    "\n",
    "vectorstore = create_in_memory_vector_store(chunks)"
   ]
  },
  {
   "cell_type": "code",
   "execution_count": 8,
   "metadata": {},
   "outputs": [
    {
     "name": "stderr",
     "output_type": "stream",
     "text": [
      "/home/darthlinuxer/AI/venv/lib/python3.12/site-packages/langchain_core/vectorstores.py:330: UserWarning: Relevance scores must be between 0 and 1, got [(Document(page_content='He agreed to meet the founders, Rachel and Jake, at a \\ntrendy café in San Francisco. Over artisanal coffee, Rachel and Jake revealed their vision: to democratize access to AI -\\ndriven investment insights, making the financial markets more inclusive and transparent.', metadata={'source': '../Resources/The Code Whisperer.pdf', 'page': 0}), 0.11370622954417464), (Document(page_content='He joined NeuroSpark as the lead developer, assembling a team of talented \\nengineers to bring the platform to life.', metadata={'source': '../Resources/The Code Whisperer.pdf', 'page': 0}), 0.01969616665407914), (Document(page_content=\"Alex's \\ncreation had transformed the trading landscape, earning him recognition  as one of the most \\ninfluential software developers of the year.\", metadata={'source': '../Resources/The Code Whisperer.pdf', 'page': 0}), -0.07875760706191404)]\n",
      "  warnings.warn(\n"
     ]
    },
    {
     "data": {
      "text/html": [
       "<pre style=\"white-space:pre;overflow-x:auto;line-height:normal;font-family:Menlo,'DejaVu Sans Mono',consolas,'Courier New',monospace\"><span style=\"font-weight: bold\">[</span>\n",
       "    <span style=\"font-weight: bold\">(</span>\n",
       "        <span style=\"color: #800080; text-decoration-color: #800080; font-weight: bold\">Document</span><span style=\"font-weight: bold\">(</span>\n",
       "            <span style=\"color: #808000; text-decoration-color: #808000\">page_content</span>=<span style=\"color: #008000; text-decoration-color: #008000\">'He agreed to meet the founders, Rachel and Jake, at a \\ntrendy café in San Francisco. </span>\n",
       "<span style=\"color: #008000; text-decoration-color: #008000\">Over artisanal coffee, Rachel and Jake revealed their vision: to democratize access to AI -\\ndriven investment </span>\n",
       "<span style=\"color: #008000; text-decoration-color: #008000\">insights, making the financial markets more inclusive and transparent.'</span>,\n",
       "            <span style=\"color: #808000; text-decoration-color: #808000\">metadata</span>=<span style=\"font-weight: bold\">{</span><span style=\"color: #008000; text-decoration-color: #008000\">'source'</span>: <span style=\"color: #008000; text-decoration-color: #008000\">'../Resources/The Code Whisperer.pdf'</span>, <span style=\"color: #008000; text-decoration-color: #008000\">'page'</span>: <span style=\"color: #008080; text-decoration-color: #008080; font-weight: bold\">0</span><span style=\"font-weight: bold\">}</span>\n",
       "        <span style=\"font-weight: bold\">)</span>,\n",
       "        <span style=\"color: #008080; text-decoration-color: #008080; font-weight: bold\">0.11370622954417464</span>\n",
       "    <span style=\"font-weight: bold\">)</span>,\n",
       "    <span style=\"font-weight: bold\">(</span>\n",
       "        <span style=\"color: #800080; text-decoration-color: #800080; font-weight: bold\">Document</span><span style=\"font-weight: bold\">(</span>\n",
       "            <span style=\"color: #808000; text-decoration-color: #808000\">page_content</span>=<span style=\"color: #008000; text-decoration-color: #008000\">'He joined NeuroSpark as the lead developer, assembling a team of talented \\nengineers to </span>\n",
       "<span style=\"color: #008000; text-decoration-color: #008000\">bring the platform to life.'</span>,\n",
       "            <span style=\"color: #808000; text-decoration-color: #808000\">metadata</span>=<span style=\"font-weight: bold\">{</span><span style=\"color: #008000; text-decoration-color: #008000\">'source'</span>: <span style=\"color: #008000; text-decoration-color: #008000\">'../Resources/The Code Whisperer.pdf'</span>, <span style=\"color: #008000; text-decoration-color: #008000\">'page'</span>: <span style=\"color: #008080; text-decoration-color: #008080; font-weight: bold\">0</span><span style=\"font-weight: bold\">}</span>\n",
       "        <span style=\"font-weight: bold\">)</span>,\n",
       "        <span style=\"color: #008080; text-decoration-color: #008080; font-weight: bold\">0.01969616665407914</span>\n",
       "    <span style=\"font-weight: bold\">)</span>,\n",
       "    <span style=\"font-weight: bold\">(</span>\n",
       "        <span style=\"color: #800080; text-decoration-color: #800080; font-weight: bold\">Document</span><span style=\"font-weight: bold\">(</span>\n",
       "            <span style=\"color: #808000; text-decoration-color: #808000\">page_content</span>=<span style=\"color: #008000; text-decoration-color: #008000\">\"Alex's \\ncreation had transformed the trading landscape, earning him recognition  as one </span>\n",
       "<span style=\"color: #008000; text-decoration-color: #008000\">of the most \\ninfluential software developers of the year.\"</span>,\n",
       "            <span style=\"color: #808000; text-decoration-color: #808000\">metadata</span>=<span style=\"font-weight: bold\">{</span><span style=\"color: #008000; text-decoration-color: #008000\">'source'</span>: <span style=\"color: #008000; text-decoration-color: #008000\">'../Resources/The Code Whisperer.pdf'</span>, <span style=\"color: #008000; text-decoration-color: #008000\">'page'</span>: <span style=\"color: #008080; text-decoration-color: #008080; font-weight: bold\">0</span><span style=\"font-weight: bold\">}</span>\n",
       "        <span style=\"font-weight: bold\">)</span>,\n",
       "        <span style=\"color: #008080; text-decoration-color: #008080; font-weight: bold\">-0.07875760706191404</span>\n",
       "    <span style=\"font-weight: bold\">)</span>\n",
       "<span style=\"font-weight: bold\">]</span>\n",
       "</pre>\n"
      ],
      "text/plain": [
       "\u001b[1m[\u001b[0m\n",
       "    \u001b[1m(\u001b[0m\n",
       "        \u001b[1;35mDocument\u001b[0m\u001b[1m(\u001b[0m\n",
       "            \u001b[33mpage_content\u001b[0m=\u001b[32m'He agreed to meet the founders, Rachel and Jake, at a \\ntrendy café in San Francisco. \u001b[0m\n",
       "\u001b[32mOver artisanal coffee, Rachel and Jake revealed their vision: to democratize access to AI -\\ndriven investment \u001b[0m\n",
       "\u001b[32minsights, making the financial markets more inclusive and transparent.'\u001b[0m,\n",
       "            \u001b[33mmetadata\u001b[0m=\u001b[1m{\u001b[0m\u001b[32m'source'\u001b[0m: \u001b[32m'../Resources/The Code Whisperer.pdf'\u001b[0m, \u001b[32m'page'\u001b[0m: \u001b[1;36m0\u001b[0m\u001b[1m}\u001b[0m\n",
       "        \u001b[1m)\u001b[0m,\n",
       "        \u001b[1;36m0.11370622954417464\u001b[0m\n",
       "    \u001b[1m)\u001b[0m,\n",
       "    \u001b[1m(\u001b[0m\n",
       "        \u001b[1;35mDocument\u001b[0m\u001b[1m(\u001b[0m\n",
       "            \u001b[33mpage_content\u001b[0m=\u001b[32m'He joined NeuroSpark as the lead developer, assembling a team of talented \\nengineers to \u001b[0m\n",
       "\u001b[32mbring the platform to life.'\u001b[0m,\n",
       "            \u001b[33mmetadata\u001b[0m=\u001b[1m{\u001b[0m\u001b[32m'source'\u001b[0m: \u001b[32m'../Resources/The Code Whisperer.pdf'\u001b[0m, \u001b[32m'page'\u001b[0m: \u001b[1;36m0\u001b[0m\u001b[1m}\u001b[0m\n",
       "        \u001b[1m)\u001b[0m,\n",
       "        \u001b[1;36m0.01969616665407914\u001b[0m\n",
       "    \u001b[1m)\u001b[0m,\n",
       "    \u001b[1m(\u001b[0m\n",
       "        \u001b[1;35mDocument\u001b[0m\u001b[1m(\u001b[0m\n",
       "            \u001b[33mpage_content\u001b[0m=\u001b[32m\"Alex\u001b[0m\u001b[32m's \\ncreation had transformed the trading landscape, earning him recognition  as one \u001b[0m\n",
       "\u001b[32mof the most \\ninfluential software developers of the year.\"\u001b[0m,\n",
       "            \u001b[33mmetadata\u001b[0m=\u001b[1m{\u001b[0m\u001b[32m'source'\u001b[0m: \u001b[32m'../Resources/The Code Whisperer.pdf'\u001b[0m, \u001b[32m'page'\u001b[0m: \u001b[1;36m0\u001b[0m\u001b[1m}\u001b[0m\n",
       "        \u001b[1m)\u001b[0m,\n",
       "        \u001b[1;36m-0.07875760706191404\u001b[0m\n",
       "    \u001b[1m)\u001b[0m\n",
       "\u001b[1m]\u001b[0m\n"
      ]
     },
     "metadata": {},
     "output_type": "display_data"
    }
   ],
   "source": [
    "#Remember the similarity search ?\n",
    "results = vectorstore.similarity_search_with_relevance_scores(\"Who are the founders?\", k=3)\n",
    "#Remember.. this has nothing to do with AI.. this is just a vector distance where the vectors are embedded\n",
    "#vectorized similar sentences\n",
    "print(results)"
   ]
  },
  {
   "cell_type": "code",
   "execution_count": 10,
   "metadata": {},
   "outputs": [
    {
     "data": {
      "text/html": [
       "<pre style=\"white-space:pre;overflow-x:auto;line-height:normal;font-family:Menlo,'DejaVu Sans Mono',consolas,'Courier New',monospace\"><span style=\"color: #800080; text-decoration-color: #800080; font-weight: bold\">ChatPromptValue</span><span style=\"font-weight: bold\">(</span>\n",
       "    <span style=\"color: #808000; text-decoration-color: #808000\">messages</span>=<span style=\"font-weight: bold\">[</span>\n",
       "        <span style=\"color: #800080; text-decoration-color: #800080; font-weight: bold\">SystemMessage</span><span style=\"font-weight: bold\">(</span>\n",
       "            <span style=\"color: #808000; text-decoration-color: #808000\">content</span>=<span style=\"color: #008000; text-decoration-color: #008000\">'\\n    You are a helpful assistant that give an aswer only based on the provided contexts: \\n  </span>\n",
       "<span style=\"color: #008000; text-decoration-color: #008000\">============================================================================\\n    Contexts: \\n -&gt; 0:He agreed to </span>\n",
       "<span style=\"color: #008000; text-decoration-color: #008000\">meet the founders, Rachel and Jake, at a \\ntrendy café in San Francisco. Over artisanal coffee, Rachel and Jake </span>\n",
       "<span style=\"color: #008000; text-decoration-color: #008000\">revealed their vision: to democratize access to AI -\\ndriven investment insights, making the financial markets more</span>\n",
       "<span style=\"color: #008000; text-decoration-color: #008000\">inclusive and transparent.\\n -&gt; 1:He joined NeuroSpark as the lead developer, assembling a team of talented </span>\n",
       "<span style=\"color: #008000; text-decoration-color: #008000\">\\nengineers to bring the platform to life.\\n -&gt; 2:Alex\\'s \\ncreation had transformed the trading landscape, earning</span>\n",
       "<span style=\"color: #008000; text-decoration-color: #008000\">him recognition  as one of the most \\ninfluential software developers of the year.\\n -&gt; 3:One fateful evening, Alex</span>\n",
       "<span style=\"color: #008000; text-decoration-color: #008000\">received an intriguing email from a mysterious startup, NeuroSpark.\\n -&gt; 4:The platform, dubbed \"Pulse,\" b egan to </span>\n",
       "<span style=\"color: #008000; text-decoration-color: #008000\">take \\nshape.\\n    ============================================================================'</span>\n",
       "        <span style=\"font-weight: bold\">)</span>,\n",
       "        <span style=\"color: #800080; text-decoration-color: #800080; font-weight: bold\">HumanMessage</span><span style=\"font-weight: bold\">(</span><span style=\"color: #808000; text-decoration-color: #808000\">content</span>=<span style=\"color: #008000; text-decoration-color: #008000\">'Question: Who are the founders?'</span><span style=\"font-weight: bold\">)</span>\n",
       "    <span style=\"font-weight: bold\">]</span>\n",
       "<span style=\"font-weight: bold\">)</span>\n",
       "</pre>\n"
      ],
      "text/plain": [
       "\u001b[1;35mChatPromptValue\u001b[0m\u001b[1m(\u001b[0m\n",
       "    \u001b[33mmessages\u001b[0m=\u001b[1m[\u001b[0m\n",
       "        \u001b[1;35mSystemMessage\u001b[0m\u001b[1m(\u001b[0m\n",
       "            \u001b[33mcontent\u001b[0m=\u001b[32m'\\n    You are a helpful assistant that give an aswer only based on the provided contexts: \\n  \u001b[0m\n",
       "\u001b[32m============================================================================\\n    Contexts: \\n -> 0:He agreed to \u001b[0m\n",
       "\u001b[32mmeet the founders, Rachel and Jake, at a \\ntrendy café in San Francisco. Over artisanal coffee, Rachel and Jake \u001b[0m\n",
       "\u001b[32mrevealed their vision: to democratize access to AI -\\ndriven investment insights, making the financial markets more\u001b[0m\n",
       "\u001b[32minclusive and transparent.\\n -> 1:He joined NeuroSpark as the lead developer, assembling a team of talented \u001b[0m\n",
       "\u001b[32m\\nengineers to bring the platform to life.\\n -> 2:Alex\\'s \\ncreation had transformed the trading landscape, earning\u001b[0m\n",
       "\u001b[32mhim recognition  as one of the most \\ninfluential software developers of the year.\\n -> 3:One fateful evening, Alex\u001b[0m\n",
       "\u001b[32mreceived an intriguing email from a mysterious startup, NeuroSpark.\\n -> 4:The platform, dubbed \"Pulse,\" b egan to \u001b[0m\n",
       "\u001b[32mtake \\nshape.\\n    ============================================================================'\u001b[0m\n",
       "        \u001b[1m)\u001b[0m,\n",
       "        \u001b[1;35mHumanMessage\u001b[0m\u001b[1m(\u001b[0m\u001b[33mcontent\u001b[0m=\u001b[32m'Question: Who are the founders?'\u001b[0m\u001b[1m)\u001b[0m\n",
       "    \u001b[1m]\u001b[0m\n",
       "\u001b[1m)\u001b[0m\n"
      ]
     },
     "metadata": {},
     "output_type": "display_data"
    },
    {
     "data": {
      "text/html": [
       "<pre style=\"white-space:pre;overflow-x:auto;line-height:normal;font-family:Menlo,'DejaVu Sans Mono',consolas,'Courier New',monospace\">\n",
       "    You are a helpful assistant that give an aswer only based on the provided contexts: \n",
       "    ============================================================================\n",
       "    Contexts: \n",
       " -&gt; <span style=\"color: #008080; text-decoration-color: #008080; font-weight: bold\">0</span>:He agreed to meet the founders, Rachel and Jake, at a \n",
       "trendy café in San Francisco. Over artisanal coffee, Rachel and Jake revealed their vision: to democratize access \n",
       "to AI -\n",
       "driven investment insights, making the financial markets more inclusive and transparent.\n",
       " -&gt; <span style=\"color: #008080; text-decoration-color: #008080; font-weight: bold\">1</span>:He joined NeuroSpark as the lead developer, assembling a team of talented \n",
       "engineers to bring the platform to life.\n",
       " -&gt; <span style=\"color: #00ff00; text-decoration-color: #00ff00; font-weight: bold\">2:A</span>lex's \n",
       "creation had transformed the trading landscape, earning him recognition  as one of the most \n",
       "influential software developers of the year.\n",
       " -&gt; <span style=\"color: #008080; text-decoration-color: #008080; font-weight: bold\">3</span>:One fateful evening, Alex received an intriguing email from a mysterious startup, NeuroSpark.\n",
       " -&gt; <span style=\"color: #008080; text-decoration-color: #008080; font-weight: bold\">4</span>:The platform, dubbed <span style=\"color: #008000; text-decoration-color: #008000\">\"Pulse,\"</span> b egan to take \n",
       "shape.\n",
       "    ============================================================================\n",
       "</pre>\n"
      ],
      "text/plain": [
       "\n",
       "    You are a helpful assistant that give an aswer only based on the provided contexts: \n",
       "    ============================================================================\n",
       "    Contexts: \n",
       " -> \u001b[1;36m0\u001b[0m:He agreed to meet the founders, Rachel and Jake, at a \n",
       "trendy café in San Francisco. Over artisanal coffee, Rachel and Jake revealed their vision: to democratize access \n",
       "to AI -\n",
       "driven investment insights, making the financial markets more inclusive and transparent.\n",
       " -> \u001b[1;36m1\u001b[0m:He joined NeuroSpark as the lead developer, assembling a team of talented \n",
       "engineers to bring the platform to life.\n",
       " -> \u001b[1;92m2:A\u001b[0mlex's \n",
       "creation had transformed the trading landscape, earning him recognition  as one of the most \n",
       "influential software developers of the year.\n",
       " -> \u001b[1;36m3\u001b[0m:One fateful evening, Alex received an intriguing email from a mysterious startup, NeuroSpark.\n",
       " -> \u001b[1;36m4\u001b[0m:The platform, dubbed \u001b[32m\"Pulse,\"\u001b[0m b egan to take \n",
       "shape.\n",
       "    ============================================================================\n"
      ]
     },
     "metadata": {},
     "output_type": "display_data"
    }
   ],
   "source": [
    "#Retrievers are exactly like similarity search.. but can be used in a chain.\n",
    "from langchain_core.runnables import RunnablePassthrough # This just says: The parameter will be provided later\n",
    "from langchain_core.output_parsers import StrOutputParser # gets rid of the AI Output boilerplate coming from the LLM\n",
    "from langchain_core.prompts import (ChatPromptTemplate, HumanMessagePromptTemplate, SystemMessagePromptTemplate)\n",
    "                                    \n",
    "prompt = ChatPromptTemplate.from_messages([\n",
    "    SystemMessagePromptTemplate.from_template(\"\"\"\n",
    "    You are a helpful assistant that give an aswer only based on the provided contexts: \n",
    "    ============================================================================\n",
    "    Contexts: \\n -> {context}\n",
    "    ============================================================================\"\"\"),\n",
    "    HumanMessagePromptTemplate.from_template(\"Question: {question}\")\n",
    "]) #yes you don´t need to remember this syntax anymore: [{'role':'system','content':system}, {'role':'user','content...}\n",
    "\n",
    "simple_retriever = vectorstore.as_retriever(\n",
    "    search_function=\"similarity\", # Can be \"similarity\" (default), \"mmr\", or \"similarity_score_threshold\"\n",
    "    search_kwargs={\"k\":5})  #k=5 returns the 5 most relevant chunks in the vector database\n",
    "\n",
    "def format_document(documents:list[Document])->str:\n",
    "    return \"\\n -> \".join([f\"{i}:{doc.page_content}\" for i,doc in enumerate(documents)])\n",
    "\n",
    "chain = (\n",
    "    {\"context\":simple_retriever | format_document, \"question\": RunnablePassthrough()}\n",
    "    | prompt \n",
    "    #| local_llm\n",
    "    #| StrOutputParser()\n",
    ")\n",
    "\n",
    "result = chain.invoke(\"Who are the founders?\") #there is only one RunnablePassTrough(), you can type the question directly\n",
    "print(result)\n",
    "print(result.dict()['messages'][0]['content'])"
   ]
  },
  {
   "cell_type": "markdown",
   "metadata": {},
   "source": [
    "## MultiQuery Retriever\n",
    "\n",
    "Distance-based vector database retrieval embeds (represents) queries in high-dimensional space and finds similar embedded documents based on “distance”. But, retrieval may produce different results with subtle changes in query wording or if the embeddings do not capture the semantics of the data well. Prompt engineering / tuning is sometimes done to manually address these problems, but can be tedious.\n",
    "\n",
    "The MultiQueryRetriever automates the process of prompt tuning by using an LLM to generate multiple queries from different perspectives for a given user input query. For each query, it retrieves a set of relevant documents and takes the unique union across all queries to get a larger set of potentially relevant documents. By generating multiple perspectives on the same question, the MultiQueryRetriever might be able to overcome some of the limitations of the distance-based retrieval and get a richer set of results."
   ]
  },
  {
   "cell_type": "code",
   "execution_count": 11,
   "metadata": {},
   "outputs": [
    {
     "name": "stderr",
     "output_type": "stream",
     "text": [
      "INFO:langchain.retrievers.multi_query:Generated queries: ['Who established the organization?  ', 'Who initiated the founding of the company?  ', 'Who were the original creators?']\n",
      "/home/darthlinuxer/AI/venv/lib/python3.12/site-packages/langchain_core/_api/deprecation.py:119: LangChainDeprecationWarning: The method `BaseRetriever.aget_relevant_documents` was deprecated in langchain-core 0.1.46 and will be removed in 0.3.0. Use ainvoke instead.\n",
      "  warn_deprecated(\n"
     ]
    },
    {
     "data": {
      "text/html": [
       "<pre style=\"white-space:pre;overflow-x:auto;line-height:normal;font-family:Menlo,'DejaVu Sans Mono',consolas,'Courier New',monospace\"><span style=\"font-weight: bold\">[</span>\n",
       "    <span style=\"color: #008000; text-decoration-color: #008000\">'\\n - 0: He agreed to meet the founders, Rachel and Jake, at a \\ntrendy café in San Francisco. Over artisanal </span>\n",
       "<span style=\"color: #008000; text-decoration-color: #008000\">coffee, Rachel and Jake revealed their vision: to democratize access to AI -\\ndriven investment insights, making </span>\n",
       "<span style=\"color: #008000; text-decoration-color: #008000\">the financial markets more inclusive and transparent.'</span>,\n",
       "    <span style=\"color: #008000; text-decoration-color: #008000\">'\\n - 1: He joined NeuroSpark as the lead developer, assembling a team of talented \\nengineers to bring the </span>\n",
       "<span style=\"color: #008000; text-decoration-color: #008000\">platform to life.'</span>,\n",
       "    <span style=\"color: #008000; text-decoration-color: #008000\">'\\n - 2: The platform, dubbed \"Pulse,\" b egan to take \\nshape.'</span>,\n",
       "    <span style=\"color: #008000; text-decoration-color: #008000\">'\\n - 3: One fateful evening, Alex received an intriguing email from a mysterious startup, NeuroSpark.'</span>,\n",
       "    <span style=\"color: #008000; text-decoration-color: #008000\">\"\\n - 4: The project 's ambition and \\npotential for disruption excited Alex.\"</span>,\n",
       "    <span style=\"color: #008000; text-decoration-color: #008000\">\"\\n - 5: Alex's \\ncreation had transformed the trading landscape, earning him recognition  as one of the most </span>\n",
       "<span style=\"color: #008000; text-decoration-color: #008000\">\\ninfluential software developers of the year.\"</span>,\n",
       "    <span style=\"color: #008000; text-decoration-color: #008000\">'\\n - 6: **The Code Whisperer**  \\nMeet Alex, a brilliant software developer with a passion for crafting </span>\n",
       "<span style=\"color: #008000; text-decoration-color: #008000\">elegant code. By day, Alex \\nworked at TechCorp, a leading fintech firm in Silicon Valley. By night, Alex built </span>\n",
       "<span style=\"color: #008000; text-decoration-color: #008000\">innovative \\napps in his tiny home office, fueled by copious amounts of coffee and elec tronic dance \\nmusic. </span>\n",
       "<span style=\"color: #008000; text-decoration-color: #008000\">Alex\\'s colleagues revered him as \"The Code Whisperer.\" His ability to debug complex issues \\nand architect </span>\n",
       "<span style=\"color: #008000; text-decoration-color: #008000\">scalable solutions earned him a reputation as a coding genius.'</span>\n",
       "<span style=\"font-weight: bold\">]</span>\n",
       "</pre>\n"
      ],
      "text/plain": [
       "\u001b[1m[\u001b[0m\n",
       "    \u001b[32m'\\n - 0: He agreed to meet the founders, Rachel and Jake, at a \\ntrendy café in San Francisco. Over artisanal \u001b[0m\n",
       "\u001b[32mcoffee, Rachel and Jake revealed their vision: to democratize access to AI -\\ndriven investment insights, making \u001b[0m\n",
       "\u001b[32mthe financial markets more inclusive and transparent.'\u001b[0m,\n",
       "    \u001b[32m'\\n - 1: He joined NeuroSpark as the lead developer, assembling a team of talented \\nengineers to bring the \u001b[0m\n",
       "\u001b[32mplatform to life.'\u001b[0m,\n",
       "    \u001b[32m'\\n - 2: The platform, dubbed \"Pulse,\" b egan to take \\nshape.'\u001b[0m,\n",
       "    \u001b[32m'\\n - 3: One fateful evening, Alex received an intriguing email from a mysterious startup, NeuroSpark.'\u001b[0m,\n",
       "    \u001b[32m\"\\n - 4: The project 's ambition and \\npotential for disruption excited Alex.\"\u001b[0m,\n",
       "    \u001b[32m\"\\n - 5: Alex's \\ncreation had transformed the trading landscape, earning him recognition  as one of the most \u001b[0m\n",
       "\u001b[32m\\ninfluential software developers of the year.\"\u001b[0m,\n",
       "    \u001b[32m'\\n - 6: **The Code Whisperer**  \\nMeet Alex, a brilliant software developer with a passion for crafting \u001b[0m\n",
       "\u001b[32melegant code. By day, Alex \\nworked at TechCorp, a leading fintech firm in Silicon Valley. By night, Alex built \u001b[0m\n",
       "\u001b[32minnovative \\napps in his tiny home office, fueled by copious amounts of coffee and elec tronic dance \\nmusic. \u001b[0m\n",
       "\u001b[32mAlex\\'s colleagues revered him as \"The Code Whisperer.\" His ability to debug complex issues \\nand architect \u001b[0m\n",
       "\u001b[32mscalable solutions earned him a reputation as a coding genius.'\u001b[0m\n",
       "\u001b[1m]\u001b[0m\n"
      ]
     },
     "metadata": {},
     "output_type": "display_data"
    }
   ],
   "source": [
    "from langchain.retrievers.multi_query import MultiQueryRetriever\n",
    "\n",
    "multiquery_retriever = MultiQueryRetriever.from_llm(\n",
    "    retriever=simple_retriever,\n",
    "    llm=local_llm\n",
    ")\n",
    "\n",
    "import logging\n",
    "logging.basicConfig()\n",
    "logging.getLogger(\"langchain.retrievers.multi_query\").setLevel(logging.INFO)\n",
    "\n",
    "results = await multiquery_retriever.ainvoke(\"Who are the founders?\")\n",
    "print([f\"\\n - {i}: {doc.page_content}\" for i,doc in enumerate(results)])"
   ]
  },
  {
   "cell_type": "markdown",
   "metadata": {},
   "source": [
    "## Filters\n",
    "\n",
    "### LLMCHainFilter\n",
    "\n",
    "Uses LLM chain to decide which of the initially retrieved documents to filter out and which ones to return, without manipulating the document contents."
   ]
  },
  {
   "cell_type": "code",
   "execution_count": 12,
   "metadata": {},
   "outputs": [
    {
     "name": "stderr",
     "output_type": "stream",
     "text": [
      "INFO:langchain.retrievers.multi_query:Generated queries: ['Who established the organization?  ', 'Who initiated the founding of the company?  ', 'Who were the original creators?']\n",
      "/home/darthlinuxer/AI/venv/lib/python3.12/site-packages/langchain/chains/llm.py:316: UserWarning: The predict_and_parse method is deprecated, instead pass an output parser directly to LLMChain.\n",
      "  warnings.warn(\n",
      "/home/darthlinuxer/AI/venv/lib/python3.12/site-packages/langchain/chains/llm.py:316: UserWarning: The predict_and_parse method is deprecated, instead pass an output parser directly to LLMChain.\n",
      "  warnings.warn(\n",
      "/home/darthlinuxer/AI/venv/lib/python3.12/site-packages/langchain/chains/llm.py:316: UserWarning: The predict_and_parse method is deprecated, instead pass an output parser directly to LLMChain.\n",
      "  warnings.warn(\n",
      "/home/darthlinuxer/AI/venv/lib/python3.12/site-packages/langchain/chains/llm.py:316: UserWarning: The predict_and_parse method is deprecated, instead pass an output parser directly to LLMChain.\n",
      "  warnings.warn(\n",
      "/home/darthlinuxer/AI/venv/lib/python3.12/site-packages/langchain/chains/llm.py:316: UserWarning: The predict_and_parse method is deprecated, instead pass an output parser directly to LLMChain.\n",
      "  warnings.warn(\n",
      "/home/darthlinuxer/AI/venv/lib/python3.12/site-packages/langchain/chains/llm.py:316: UserWarning: The predict_and_parse method is deprecated, instead pass an output parser directly to LLMChain.\n",
      "  warnings.warn(\n",
      "/home/darthlinuxer/AI/venv/lib/python3.12/site-packages/langchain/chains/llm.py:316: UserWarning: The predict_and_parse method is deprecated, instead pass an output parser directly to LLMChain.\n",
      "  warnings.warn(\n"
     ]
    },
    {
     "data": {
      "text/html": [
       "<pre style=\"white-space:pre;overflow-x:auto;line-height:normal;font-family:Menlo,'DejaVu Sans Mono',consolas,'Courier New',monospace\"><span style=\"font-weight: bold\">[</span>\n",
       "    <span style=\"color: #008000; text-decoration-color: #008000\">'\\n - 0: He agreed to meet the founders, Rachel and Jake, at a \\ntrendy café in San Francisco. Over artisanal </span>\n",
       "<span style=\"color: #008000; text-decoration-color: #008000\">coffee, Rachel and Jake revealed their vision: to democratize access to AI -\\ndriven investment insights, making </span>\n",
       "<span style=\"color: #008000; text-decoration-color: #008000\">the financial markets more inclusive and transparent.'</span>\n",
       "<span style=\"font-weight: bold\">]</span>\n",
       "</pre>\n"
      ],
      "text/plain": [
       "\u001b[1m[\u001b[0m\n",
       "    \u001b[32m'\\n - 0: He agreed to meet the founders, Rachel and Jake, at a \\ntrendy café in San Francisco. Over artisanal \u001b[0m\n",
       "\u001b[32mcoffee, Rachel and Jake revealed their vision: to democratize access to AI -\\ndriven investment insights, making \u001b[0m\n",
       "\u001b[32mthe financial markets more inclusive and transparent.'\u001b[0m\n",
       "\u001b[1m]\u001b[0m\n"
      ]
     },
     "metadata": {},
     "output_type": "display_data"
    }
   ],
   "source": [
    "from langchain.retrievers import ContextualCompressionRetriever\n",
    "from langchain.retrievers.document_compressors import LLMChainFilter\n",
    "\n",
    "_filter = LLMChainFilter.from_llm(\n",
    "    local_llm\n",
    ")  # but this call to LLM slows down the process\n",
    "compression_retriever = ContextualCompressionRetriever(\n",
    "    base_compressor=_filter, base_retriever=multiquery_retriever\n",
    ")\n",
    "\n",
    "results = compression_retriever.invoke(\"Who are the founders?\")\n",
    "print([f\"\\n - {i}: {doc.page_content}\" for i, doc in enumerate(results)])\n",
    "\n",
    "# Expected execution time 42s"
   ]
  },
  {
   "cell_type": "markdown",
   "metadata": {},
   "source": [
    "## Multiple strategies and Document Transforms together\n",
    "\n",
    "Using the DocumentCompressorPipeline we can also easily combine multiple strategies in sequence. Along with different compressors and filters we can add DocumentTransformers to our pipeline, which don’t perform any contextual compression but simply perform some transformation on a set of documents. For example Text Splitters can be used as document transformers to split documents into smaller pieces, and the EmbeddingsRedundantFilter can be used to filter out redundant documents based on embedding similarity between documents.\n",
    "\n",
    "Below we create a compressor pipeline by first splitting our docs into smaller chunks, then removing redundant documents, and then filtering based on relevance to the query."
   ]
  },
  {
   "cell_type": "code",
   "execution_count": 13,
   "metadata": {},
   "outputs": [
    {
     "name": "stderr",
     "output_type": "stream",
     "text": [
      "INFO:langchain.retrievers.multi_query:Generated queries: ['Who established the organization?  ', 'Who initiated the founding of the company?  ', 'Who were the original creators?']\n",
      "/home/darthlinuxer/AI/venv/lib/python3.12/site-packages/langchain/chains/llm.py:316: UserWarning: The predict_and_parse method is deprecated, instead pass an output parser directly to LLMChain.\n",
      "  warnings.warn(\n",
      "/home/darthlinuxer/AI/venv/lib/python3.12/site-packages/langchain/chains/llm.py:316: UserWarning: The predict_and_parse method is deprecated, instead pass an output parser directly to LLMChain.\n",
      "  warnings.warn(\n",
      "/home/darthlinuxer/AI/venv/lib/python3.12/site-packages/langchain/chains/llm.py:316: UserWarning: The predict_and_parse method is deprecated, instead pass an output parser directly to LLMChain.\n",
      "  warnings.warn(\n",
      "/home/darthlinuxer/AI/venv/lib/python3.12/site-packages/langchain/chains/llm.py:316: UserWarning: The predict_and_parse method is deprecated, instead pass an output parser directly to LLMChain.\n",
      "  warnings.warn(\n",
      "/home/darthlinuxer/AI/venv/lib/python3.12/site-packages/langchain/chains/llm.py:316: UserWarning: The predict_and_parse method is deprecated, instead pass an output parser directly to LLMChain.\n",
      "  warnings.warn(\n",
      "/home/darthlinuxer/AI/venv/lib/python3.12/site-packages/langchain/chains/llm.py:316: UserWarning: The predict_and_parse method is deprecated, instead pass an output parser directly to LLMChain.\n",
      "  warnings.warn(\n",
      "/home/darthlinuxer/AI/venv/lib/python3.12/site-packages/langchain/chains/llm.py:316: UserWarning: The predict_and_parse method is deprecated, instead pass an output parser directly to LLMChain.\n",
      "  warnings.warn(\n"
     ]
    },
    {
     "data": {
      "text/html": [
       "<pre style=\"white-space:pre;overflow-x:auto;line-height:normal;font-family:Menlo,'DejaVu Sans Mono',consolas,'Courier New',monospace\">- <span style=\"color: #008080; text-decoration-color: #008080; font-weight: bold\">0</span>: He agreed to meet the founders, Rachel and Jake, at a \n",
       "trendy café in San Francisco\n",
       "</pre>\n"
      ],
      "text/plain": [
       "- \u001b[1;36m0\u001b[0m: He agreed to meet the founders, Rachel and Jake, at a \n",
       "trendy café in San Francisco\n"
      ]
     },
     "metadata": {},
     "output_type": "display_data"
    },
    {
     "data": {
      "text/html": [
       "<pre style=\"white-space:pre;overflow-x:auto;line-height:normal;font-family:Menlo,'DejaVu Sans Mono',consolas,'Courier New',monospace\">- <span style=\"color: #008080; text-decoration-color: #008080; font-weight: bold\">1</span>: . Over artisanal coffee, Rachel and Jake revealed their vision: to democratize access to AI -\n",
       "driven investment insights, making the financial markets more inclusive and transparent.\n",
       "</pre>\n"
      ],
      "text/plain": [
       "- \u001b[1;36m1\u001b[0m: . Over artisanal coffee, Rachel and Jake revealed their vision: to democratize access to AI -\n",
       "driven investment insights, making the financial markets more inclusive and transparent.\n"
      ]
     },
     "metadata": {},
     "output_type": "display_data"
    }
   ],
   "source": [
    "from langchain.retrievers import ContextualCompressionRetriever\n",
    "from langchain.retrievers.document_compressors import (DocumentCompressorPipeline, EmbeddingsFilter, LLMChainFilter)\n",
    "from langchain_text_splitters import RecursiveCharacterTextSplitter\n",
    "from langchain_community.document_transformers import (EmbeddingsRedundantFilter, LongContextReorder)\n",
    "\n",
    "# Split the chunks even more\n",
    "splitter = RecursiveCharacterTextSplitter(chunk_size=200, chunk_overlap=0, separators=[\". \"])\n",
    "\n",
    "#Remove the redundant documents by using an EmbeddingsRedundantFilter\n",
    "redundant_filter = EmbeddingsRedundantFilter(embeddings=embedding_function)\n",
    "\n",
    "# The EmbeddingsFilter # provides a cheaper and faster option by embedding the documents and \n",
    "# return only the ones with sufficiently similar embeddings to the query.\n",
    "relevant_filter = EmbeddingsFilter(embeddings= embedding_function, similarity_threshold=0.2)\n",
    "\n",
    "reorder_filter = LongContextReorder()\n",
    "\n",
    "llm_filter = LLMChainFilter.from_llm(local_llm) #THIS ONE USES LLM to check similarity, it will slow the process\n",
    "\n",
    "pipeline_compressor = DocumentCompressorPipeline(\n",
    "    transformers=[splitter, redundant_filter, relevant_filter, reorder_filter, llm_filter]\n",
    ")\n",
    "\n",
    "compression_retriever = ContextualCompressionRetriever(\n",
    "    base_compressor=pipeline_compressor, base_retriever=multiquery_retriever\n",
    ")\n",
    "\n",
    "compressed_docs = compression_retriever.invoke(\n",
    "    \"Who are the founders?\"\n",
    ")\n",
    "\n",
    "for i,doc in enumerate(compressed_docs):\n",
    "    print(f\"- {i}: {doc.page_content}\")\n",
    "    \n",
    "# Expected execution time: 24s (without llm filter) 41s with (llm filter)"
   ]
  }
 ],
 "metadata": {
  "kernelspec": {
   "display_name": "venv",
   "language": "python",
   "name": "python3"
  },
  "language_info": {
   "codemirror_mode": {
    "name": "ipython",
    "version": 3
   },
   "file_extension": ".py",
   "mimetype": "text/x-python",
   "name": "python",
   "nbconvert_exporter": "python",
   "pygments_lexer": "ipython3",
   "version": "3.12.3"
  }
 },
 "nbformat": 4,
 "nbformat_minor": 2
}
