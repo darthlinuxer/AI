{
 "cells": [
  {
   "cell_type": "markdown",
   "metadata": {},
   "source": [
    "# Advanced Free Rag"
   ]
  },
  {
   "cell_type": "code",
   "execution_count": 6,
   "metadata": {},
   "outputs": [
    {
     "data": {
      "text/plain": [
       "True"
      ]
     },
     "execution_count": 6,
     "metadata": {},
     "output_type": "execute_result"
    }
   ],
   "source": [
    "from dotenv import load_dotenv, find_dotenv\n",
    "import os\n",
    "load_dotenv(find_dotenv())"
   ]
  },
  {
   "cell_type": "markdown",
   "metadata": {},
   "source": [
    "## Define the functions"
   ]
  },
  {
   "cell_type": "code",
   "execution_count": 9,
   "metadata": {},
   "outputs": [
    {
     "ename": "ModuleNotFoundError",
     "evalue": "No module named 'pydantic.v1'",
     "output_type": "error",
     "traceback": [
      "\u001b[0;31m---------------------------------------------------------------------------\u001b[0m",
      "\u001b[0;31mModuleNotFoundError\u001b[0m                       Traceback (most recent call last)",
      "Cell \u001b[0;32mIn[9], line 1\u001b[0m\n\u001b[0;32m----> 1\u001b[0m \u001b[38;5;28;01mfrom\u001b[39;00m \u001b[38;5;21;01mlangchain_community\u001b[39;00m\u001b[38;5;21;01m.\u001b[39;00m\u001b[38;5;21;01mchat_models\u001b[39;00m\u001b[38;5;21;01m.\u001b[39;00m\u001b[38;5;21;01mopenai\u001b[39;00m \u001b[38;5;28;01mimport\u001b[39;00m ChatOpenAI\n\u001b[1;32m      2\u001b[0m \u001b[38;5;28;01mfrom\u001b[39;00m \u001b[38;5;21;01mlangchain_openai\u001b[39;00m\u001b[38;5;21;01m.\u001b[39;00m\u001b[38;5;21;01membeddings\u001b[39;00m \u001b[38;5;28;01mimport\u001b[39;00m OpenAIEmbeddings\n\u001b[1;32m      3\u001b[0m \u001b[38;5;28;01mfrom\u001b[39;00m \u001b[38;5;21;01mlangchain\u001b[39;00m\u001b[38;5;21;01m.\u001b[39;00m\u001b[38;5;21;01mretrievers\u001b[39;00m\u001b[38;5;21;01m.\u001b[39;00m\u001b[38;5;21;01mmulti_query\u001b[39;00m \u001b[38;5;28;01mimport\u001b[39;00m MultiQueryRetriever\n",
      "File \u001b[0;32m~/AI/venv/lib/python3.12/site-packages/langchain_community/chat_models/openai.py:25\u001b[0m\n\u001b[1;32m      8\u001b[0m \u001b[38;5;28;01mimport\u001b[39;00m \u001b[38;5;21;01mwarnings\u001b[39;00m\n\u001b[1;32m      9\u001b[0m \u001b[38;5;28;01mfrom\u001b[39;00m \u001b[38;5;21;01mtyping\u001b[39;00m \u001b[38;5;28;01mimport\u001b[39;00m (\n\u001b[1;32m     10\u001b[0m     TYPE_CHECKING,\n\u001b[1;32m     11\u001b[0m     Any,\n\u001b[0;32m   (...)\u001b[0m\n\u001b[1;32m     22\u001b[0m     Union,\n\u001b[1;32m     23\u001b[0m )\n\u001b[0;32m---> 25\u001b[0m \u001b[38;5;28;01mfrom\u001b[39;00m \u001b[38;5;21;01mlangchain_core\u001b[39;00m\u001b[38;5;21;01m.\u001b[39;00m\u001b[38;5;21;01m_api\u001b[39;00m\u001b[38;5;21;01m.\u001b[39;00m\u001b[38;5;21;01mdeprecation\u001b[39;00m \u001b[38;5;28;01mimport\u001b[39;00m deprecated\n\u001b[1;32m     26\u001b[0m \u001b[38;5;28;01mfrom\u001b[39;00m \u001b[38;5;21;01mlangchain_core\u001b[39;00m\u001b[38;5;21;01m.\u001b[39;00m\u001b[38;5;21;01mcallbacks\u001b[39;00m \u001b[38;5;28;01mimport\u001b[39;00m (\n\u001b[1;32m     27\u001b[0m     AsyncCallbackManagerForLLMRun,\n\u001b[1;32m     28\u001b[0m     CallbackManagerForLLMRun,\n\u001b[1;32m     29\u001b[0m )\n\u001b[1;32m     30\u001b[0m \u001b[38;5;28;01mfrom\u001b[39;00m \u001b[38;5;21;01mlangchain_core\u001b[39;00m\u001b[38;5;21;01m.\u001b[39;00m\u001b[38;5;21;01mlanguage_models\u001b[39;00m \u001b[38;5;28;01mimport\u001b[39;00m LanguageModelInput\n",
      "File \u001b[0;32m~/AI/venv/lib/python3.12/site-packages/langchain_core/_api/deprecation.py:27\u001b[0m\n\u001b[1;32m     18\u001b[0m \u001b[38;5;28;01mfrom\u001b[39;00m \u001b[38;5;21;01mtyping\u001b[39;00m \u001b[38;5;28;01mimport\u001b[39;00m (\n\u001b[1;32m     19\u001b[0m     Any,\n\u001b[1;32m     20\u001b[0m     Callable,\n\u001b[0;32m   (...)\u001b[0m\n\u001b[1;32m     23\u001b[0m     cast,\n\u001b[1;32m     24\u001b[0m )\n\u001b[1;32m     26\u001b[0m \u001b[38;5;28;01mfrom\u001b[39;00m \u001b[38;5;21;01mpydantic\u001b[39;00m\u001b[38;5;21;01m.\u001b[39;00m\u001b[38;5;21;01mfields\u001b[39;00m \u001b[38;5;28;01mimport\u001b[39;00m FieldInfo\n\u001b[0;32m---> 27\u001b[0m \u001b[38;5;28;01mfrom\u001b[39;00m \u001b[38;5;21;01mpydantic\u001b[39;00m\u001b[38;5;21;01m.\u001b[39;00m\u001b[38;5;21;01mv1\u001b[39;00m\u001b[38;5;21;01m.\u001b[39;00m\u001b[38;5;21;01mfields\u001b[39;00m \u001b[38;5;28;01mimport\u001b[39;00m FieldInfo \u001b[38;5;28;01mas\u001b[39;00m FieldInfoV1\n\u001b[1;32m     28\u001b[0m \u001b[38;5;28;01mfrom\u001b[39;00m \u001b[38;5;21;01mtyping_extensions\u001b[39;00m \u001b[38;5;28;01mimport\u001b[39;00m ParamSpec\n\u001b[1;32m     30\u001b[0m \u001b[38;5;28;01mfrom\u001b[39;00m \u001b[38;5;21;01mlangchain_core\u001b[39;00m\u001b[38;5;21;01m.\u001b[39;00m\u001b[38;5;21;01m_api\u001b[39;00m\u001b[38;5;21;01m.\u001b[39;00m\u001b[38;5;21;01minternal\u001b[39;00m \u001b[38;5;28;01mimport\u001b[39;00m is_caller_internal\n",
      "\u001b[0;31mModuleNotFoundError\u001b[0m: No module named 'pydantic.v1'"
     ]
    }
   ],
   "source": [
    "from langchain_community.chat_models.openai import ChatOpenAI\n",
    "from langchain_openai.embeddings import OpenAIEmbeddings\n",
    "from langchain.retrievers.multi_query import MultiQueryRetriever\n",
    "from langchain.retrievers import ContextualCompressionRetriever\n",
    "from langchain.retrievers.document_compressors import (\n",
    "    DocumentCompressorPipeline,\n",
    "    EmbeddingsFilter,\n",
    "    LLMChainFilter,\n",
    ")\n",
    "from langchain_text_splitters import RecursiveCharacterTextSplitter\n",
    "from langchain_community.document_transformers import (\n",
    "    EmbeddingsRedundantFilter,\n",
    "    LongContextReorder,\n",
    ")\n",
    "from langchain_core.runnables import RunnablePassthrough, RunnableParallel\n",
    "from langchain_core.output_parsers import StrOutputParser\n",
    "from langchain_experimental.text_splitter import SemanticChunker\n",
    "from langchain_chroma import Chroma\n",
    "from langchain_core.documents import Document\n",
    "from langchain import hub\n",
    "from typing import List\n",
    "\n",
    "# Remember you have to use the same embedding your database was built with\n",
    "\n",
    "llm_model = \"gpt-3.5-turbo\"\n",
    "embed_model = (\n",
    "    \"text-embedding-3-large\"  # This embed model returns a vector of 3056 dimensions\n",
    ")\n",
    "\n",
    "def get_llm(model: str = llm_model):\n",
    "    return ChatOpenAI(name=model, temperature=0)\n",
    "\n",
    "\n",
    "def get_embedding(model: str = embed_model):\n",
    "    embedding_function = OpenAIEmbeddings(model=model, max_retries=3)\n",
    "    return embedding_function\n",
    "\n",
    "\n",
    "def semantic_chunk_documents(documents: list[Document], threshold: int = 60):\n",
    "    text_splitter = SemanticChunker(\n",
    "        embeddings=get_embedding(),\n",
    "        breakpoint_threshold_type=\"percentile\",  # \"percentile\" \"standard_deviation\", \"interquartile\",\n",
    "        breakpoint_threshold_amount=threshold,\n",
    "    )\n",
    "    documents = text_splitter.split_documents(documents)\n",
    "    return documents\n",
    "\n",
    "\n",
    "def delete_collection(collection=\"Rdi_vectorDb\"):\n",
    "    db = Chroma(\n",
    "        collection_name=collection,\n",
    "        embedding_function=get_embedding(model=embed_model),\n",
    "        persist_directory=\"./temp/Databases\",\n",
    "    )\n",
    "    return db.delete_collection()\n",
    "\n",
    "\n",
    "def add_to_chroma(\n",
    "    chunks: List[str], metadatas: List[dict], ids: List[str], collection=\"Rdi_vectorDb\"\n",
    ") -> List[str]:\n",
    "    db = Chroma(\n",
    "        collection_name=collection,\n",
    "        embedding_function=get_embedding(model=embed_model),\n",
    "        persist_directory=\"./temp/Databases\",\n",
    "    )\n",
    "    return db.add_texts(chunks, metadatas, ids)\n",
    "\n",
    "\n",
    "def get_db(collection=\"Rdi_vectorDb\"):\n",
    "    return Chroma(\n",
    "        persist_directory=\"./temp/Databases\",\n",
    "        collection_name=collection,\n",
    "        embedding_function=get_embedding(model=embed_model),\n",
    "    )\n",
    "\n",
    "\n",
    "def get_retriever(vectorstore, local_llm):\n",
    "    import logging\n",
    "    logging.basicConfig()\n",
    "    logging.getLogger(\"langchain.retrievers.multi_query\").setLevel(logging.INFO)\n",
    "    simple_retriever = vectorstore.as_retriever(\n",
    "        search_function=\"similarity\",  # Can be \"similarity\" (default), \"mmr\", or \"similarity_score_threshold\"\n",
    "        search_kwargs={\"k\": 5},\n",
    "    )  # k=5 returns the 5 most relevant chunks in the vector database\n",
    "    multiquery_retriever = MultiQueryRetriever.from_llm(\n",
    "        retriever=simple_retriever, llm=local_llm\n",
    "    )\n",
    "\n",
    "    # Split the chunks even more\n",
    "    splitter = RecursiveCharacterTextSplitter(\n",
    "        chunk_size=300, chunk_overlap=0, separators=[\". \"]\n",
    "    )\n",
    "\n",
    "    # Remove the redundant documents by using an EmbeddingsRedundantFilter\n",
    "    redundant_filter = EmbeddingsRedundantFilter(\n",
    "        embeddings=get_embedding(model=embed_model)\n",
    "    )\n",
    "\n",
    "    # The EmbeddingsFilter # provides a cheaper and faster option by embedding the documents and\n",
    "    # return only the ones with sufficiently similar embeddings to the query.\n",
    "    relevant_filter = EmbeddingsFilter(\n",
    "        embeddings=get_embedding(model=embed_model), similarity_threshold=0.2\n",
    "    )\n",
    "\n",
    "    reorder_filter = LongContextReorder()\n",
    "\n",
    "    llm_filter = LLMChainFilter.from_llm(\n",
    "        local_llm\n",
    "    )  # THIS ONE USES LLM to check similarity, it will slow the process\n",
    "\n",
    "    pipeline_compressor = DocumentCompressorPipeline(\n",
    "        transformers=[\n",
    "            splitter,\n",
    "            redundant_filter,\n",
    "            relevant_filter,\n",
    "            reorder_filter,\n",
    "            llm_filter,\n",
    "        ]\n",
    "    )\n",
    "\n",
    "    compression_retriever = ContextualCompressionRetriever(\n",
    "        base_compressor=pipeline_compressor, base_retriever=multiquery_retriever\n",
    "    )\n",
    "\n",
    "    return compression_retriever\n",
    "\n",
    "\n",
    "def rag(question: str, collection=\"Rdi_vectorDb\", stream: bool = False):\n",
    "    local_llm = get_llm(model=llm_model)\n",
    "    vectorstore = get_db(collection=collection)\n",
    "    prompt = hub.pull(\"rlm/rag-prompt\") #https://smith.langchain.com/hub/rlm/rag-prompt\n",
    "\n",
    "    def format_docs(docs):\n",
    "        return \"\\n\\n\".join(doc.page_content for doc in docs)\n",
    "\n",
    "    chain = (\n",
    "        RunnableParallel(\n",
    "            {\n",
    "                \"context\": get_retriever(vectorstore, local_llm) | format_docs,\n",
    "                \"question\": RunnablePassthrough(),\n",
    "            }\n",
    "        )\n",
    "        | prompt\n",
    "        | local_llm\n",
    "        | StrOutputParser()\n",
    "    )\n",
    "\n",
    "    if not stream:\n",
    "        print(chain.invoke(question))\n",
    "    else:\n",
    "        for result in chain.stream(question):\n",
    "            print(result, end=\"\", flush=True)"
   ]
  },
  {
   "cell_type": "code",
   "execution_count": null,
   "metadata": {},
   "outputs": [
    {
     "data": {
      "text/html": [
       "<pre style=\"white-space:pre;overflow-x:auto;line-height:normal;font-family:Menlo,'DejaVu Sans Mono',consolas,'Courier New',monospace\"><span style=\"color: #800080; text-decoration-color: #800080; font-weight: bold\">ChatPromptTemplate</span><span style=\"font-weight: bold\">(</span>\n",
       "    <span style=\"color: #808000; text-decoration-color: #808000\">input_variables</span>=<span style=\"font-weight: bold\">[</span><span style=\"color: #008000; text-decoration-color: #008000\">'context'</span>, <span style=\"color: #008000; text-decoration-color: #008000\">'question'</span><span style=\"font-weight: bold\">]</span>,\n",
       "    <span style=\"color: #808000; text-decoration-color: #808000\">metadata</span>=<span style=\"font-weight: bold\">{</span>\n",
       "        <span style=\"color: #008000; text-decoration-color: #008000\">'lc_hub_owner'</span>: <span style=\"color: #008000; text-decoration-color: #008000\">'rlm'</span>,\n",
       "        <span style=\"color: #008000; text-decoration-color: #008000\">'lc_hub_repo'</span>: <span style=\"color: #008000; text-decoration-color: #008000\">'rag-prompt'</span>,\n",
       "        <span style=\"color: #008000; text-decoration-color: #008000\">'lc_hub_commit_hash'</span>: <span style=\"color: #008000; text-decoration-color: #008000\">'50442af133e61576e74536c6556cefe1fac147cad032f4377b60c436e6cdcb6e'</span>\n",
       "    <span style=\"font-weight: bold\">}</span>,\n",
       "    <span style=\"color: #808000; text-decoration-color: #808000\">messages</span>=<span style=\"font-weight: bold\">[</span>\n",
       "        <span style=\"color: #800080; text-decoration-color: #800080; font-weight: bold\">HumanMessagePromptTemplate</span><span style=\"font-weight: bold\">(</span>\n",
       "            <span style=\"color: #808000; text-decoration-color: #808000\">prompt</span>=<span style=\"color: #800080; text-decoration-color: #800080; font-weight: bold\">PromptTemplate</span><span style=\"font-weight: bold\">(</span>\n",
       "                <span style=\"color: #808000; text-decoration-color: #808000\">input_variables</span>=<span style=\"font-weight: bold\">[</span><span style=\"color: #008000; text-decoration-color: #008000\">'context'</span>, <span style=\"color: #008000; text-decoration-color: #008000\">'question'</span><span style=\"font-weight: bold\">]</span>,\n",
       "                <span style=\"color: #808000; text-decoration-color: #808000\">template</span>=<span style=\"color: #008000; text-decoration-color: #008000\">\"You are an assistant for question-answering tasks. Use the following pieces of retrieved </span>\n",
       "<span style=\"color: #008000; text-decoration-color: #008000\">context to answer the question. If you don't know the answer, just say that you don't know. Use three sentences </span>\n",
       "<span style=\"color: #008000; text-decoration-color: #008000\">maximum and keep the answer concise.\\nQuestion: {question} \\nContext: {context} \\nAnswer:\"</span>\n",
       "            <span style=\"font-weight: bold\">)</span>\n",
       "        <span style=\"font-weight: bold\">)</span>\n",
       "    <span style=\"font-weight: bold\">]</span>\n",
       "<span style=\"font-weight: bold\">)</span>\n",
       "</pre>\n"
      ],
      "text/plain": [
       "\u001b[1;35mChatPromptTemplate\u001b[0m\u001b[1m(\u001b[0m\n",
       "    \u001b[33minput_variables\u001b[0m=\u001b[1m[\u001b[0m\u001b[32m'context'\u001b[0m, \u001b[32m'question'\u001b[0m\u001b[1m]\u001b[0m,\n",
       "    \u001b[33mmetadata\u001b[0m=\u001b[1m{\u001b[0m\n",
       "        \u001b[32m'lc_hub_owner'\u001b[0m: \u001b[32m'rlm'\u001b[0m,\n",
       "        \u001b[32m'lc_hub_repo'\u001b[0m: \u001b[32m'rag-prompt'\u001b[0m,\n",
       "        \u001b[32m'lc_hub_commit_hash'\u001b[0m: \u001b[32m'50442af133e61576e74536c6556cefe1fac147cad032f4377b60c436e6cdcb6e'\u001b[0m\n",
       "    \u001b[1m}\u001b[0m,\n",
       "    \u001b[33mmessages\u001b[0m=\u001b[1m[\u001b[0m\n",
       "        \u001b[1;35mHumanMessagePromptTemplate\u001b[0m\u001b[1m(\u001b[0m\n",
       "            \u001b[33mprompt\u001b[0m=\u001b[1;35mPromptTemplate\u001b[0m\u001b[1m(\u001b[0m\n",
       "                \u001b[33minput_variables\u001b[0m=\u001b[1m[\u001b[0m\u001b[32m'context'\u001b[0m, \u001b[32m'question'\u001b[0m\u001b[1m]\u001b[0m,\n",
       "                \u001b[33mtemplate\u001b[0m=\u001b[32m\"You\u001b[0m\u001b[32m are an assistant for question-answering tasks. Use the following pieces of retrieved \u001b[0m\n",
       "\u001b[32mcontext to answer the question. If you don't know the answer, just say that you don't know. Use three sentences \u001b[0m\n",
       "\u001b[32mmaximum and keep the answer concise.\\nQuestion: \u001b[0m\u001b[32m{\u001b[0m\u001b[32mquestion\u001b[0m\u001b[32m}\u001b[0m\u001b[32m \\nContext: \u001b[0m\u001b[32m{\u001b[0m\u001b[32mcontext\u001b[0m\u001b[32m}\u001b[0m\u001b[32m \\nAnswer:\"\u001b[0m\n",
       "            \u001b[1m)\u001b[0m\n",
       "        \u001b[1m)\u001b[0m\n",
       "    \u001b[1m]\u001b[0m\n",
       "\u001b[1m)\u001b[0m\n"
      ]
     },
     "metadata": {},
     "output_type": "display_data"
    }
   ],
   "source": [
    "# What is Hub pull ?\n",
    "# #https://smith.langchain.com/hub\n",
    "prompt = hub.pull(\"rlm/rag-prompt\")\n",
    "from rich import print\n",
    "\n",
    "print(prompt)"
   ]
  },
  {
   "cell_type": "code",
   "execution_count": null,
   "metadata": {},
   "outputs": [
    {
     "data": {
      "text/html": [
       "<pre style=\"white-space:pre;overflow-x:auto;line-height:normal;font-family:Menlo,'DejaVu Sans Mono',consolas,'Courier New',monospace\"><span style=\"color: #800080; text-decoration-color: #800080; font-weight: bold\">ChatPromptTemplate</span><span style=\"font-weight: bold\">(</span>\n",
       "    <span style=\"color: #808000; text-decoration-color: #808000\">input_variables</span>=<span style=\"font-weight: bold\">[</span><span style=\"color: #008000; text-decoration-color: #008000\">'context'</span><span style=\"font-weight: bold\">]</span>,\n",
       "    <span style=\"color: #808000; text-decoration-color: #808000\">partial_variables</span>=<span style=\"font-weight: bold\">{</span><span style=\"color: #008000; text-decoration-color: #008000\">'question'</span>: <span style=\"color: #008000; text-decoration-color: #008000\">'What is RDI?'</span><span style=\"font-weight: bold\">}</span>,\n",
       "    <span style=\"color: #808000; text-decoration-color: #808000\">metadata</span>=<span style=\"font-weight: bold\">{</span>\n",
       "        <span style=\"color: #008000; text-decoration-color: #008000\">'lc_hub_owner'</span>: <span style=\"color: #008000; text-decoration-color: #008000\">'rlm'</span>,\n",
       "        <span style=\"color: #008000; text-decoration-color: #008000\">'lc_hub_repo'</span>: <span style=\"color: #008000; text-decoration-color: #008000\">'rag-prompt'</span>,\n",
       "        <span style=\"color: #008000; text-decoration-color: #008000\">'lc_hub_commit_hash'</span>: <span style=\"color: #008000; text-decoration-color: #008000\">'50442af133e61576e74536c6556cefe1fac147cad032f4377b60c436e6cdcb6e'</span>\n",
       "    <span style=\"font-weight: bold\">}</span>,\n",
       "    <span style=\"color: #808000; text-decoration-color: #808000\">messages</span>=<span style=\"font-weight: bold\">[</span>\n",
       "        <span style=\"color: #800080; text-decoration-color: #800080; font-weight: bold\">HumanMessagePromptTemplate</span><span style=\"font-weight: bold\">(</span>\n",
       "            <span style=\"color: #808000; text-decoration-color: #808000\">prompt</span>=<span style=\"color: #800080; text-decoration-color: #800080; font-weight: bold\">PromptTemplate</span><span style=\"font-weight: bold\">(</span>\n",
       "                <span style=\"color: #808000; text-decoration-color: #808000\">input_variables</span>=<span style=\"font-weight: bold\">[</span><span style=\"color: #008000; text-decoration-color: #008000\">'context'</span>, <span style=\"color: #008000; text-decoration-color: #008000\">'question'</span><span style=\"font-weight: bold\">]</span>,\n",
       "                <span style=\"color: #808000; text-decoration-color: #808000\">template</span>=<span style=\"color: #008000; text-decoration-color: #008000\">\"You are an assistant for question-answering tasks. Use the following pieces of retrieved </span>\n",
       "<span style=\"color: #008000; text-decoration-color: #008000\">context to answer the question. If you don't know the answer, just say that you don't know. Use three sentences </span>\n",
       "<span style=\"color: #008000; text-decoration-color: #008000\">maximum and keep the answer concise.\\nQuestion: {question} \\nContext: {context} \\nAnswer:\"</span>\n",
       "            <span style=\"font-weight: bold\">)</span>\n",
       "        <span style=\"font-weight: bold\">)</span>\n",
       "    <span style=\"font-weight: bold\">]</span>\n",
       "<span style=\"font-weight: bold\">)</span>\n",
       "</pre>\n"
      ],
      "text/plain": [
       "\u001b[1;35mChatPromptTemplate\u001b[0m\u001b[1m(\u001b[0m\n",
       "    \u001b[33minput_variables\u001b[0m=\u001b[1m[\u001b[0m\u001b[32m'context'\u001b[0m\u001b[1m]\u001b[0m,\n",
       "    \u001b[33mpartial_variables\u001b[0m=\u001b[1m{\u001b[0m\u001b[32m'question'\u001b[0m: \u001b[32m'What is RDI?'\u001b[0m\u001b[1m}\u001b[0m,\n",
       "    \u001b[33mmetadata\u001b[0m=\u001b[1m{\u001b[0m\n",
       "        \u001b[32m'lc_hub_owner'\u001b[0m: \u001b[32m'rlm'\u001b[0m,\n",
       "        \u001b[32m'lc_hub_repo'\u001b[0m: \u001b[32m'rag-prompt'\u001b[0m,\n",
       "        \u001b[32m'lc_hub_commit_hash'\u001b[0m: \u001b[32m'50442af133e61576e74536c6556cefe1fac147cad032f4377b60c436e6cdcb6e'\u001b[0m\n",
       "    \u001b[1m}\u001b[0m,\n",
       "    \u001b[33mmessages\u001b[0m=\u001b[1m[\u001b[0m\n",
       "        \u001b[1;35mHumanMessagePromptTemplate\u001b[0m\u001b[1m(\u001b[0m\n",
       "            \u001b[33mprompt\u001b[0m=\u001b[1;35mPromptTemplate\u001b[0m\u001b[1m(\u001b[0m\n",
       "                \u001b[33minput_variables\u001b[0m=\u001b[1m[\u001b[0m\u001b[32m'context'\u001b[0m, \u001b[32m'question'\u001b[0m\u001b[1m]\u001b[0m,\n",
       "                \u001b[33mtemplate\u001b[0m=\u001b[32m\"You\u001b[0m\u001b[32m are an assistant for question-answering tasks. Use the following pieces of retrieved \u001b[0m\n",
       "\u001b[32mcontext to answer the question. If you don't know the answer, just say that you don't know. Use three sentences \u001b[0m\n",
       "\u001b[32mmaximum and keep the answer concise.\\nQuestion: \u001b[0m\u001b[32m{\u001b[0m\u001b[32mquestion\u001b[0m\u001b[32m}\u001b[0m\u001b[32m \\nContext: \u001b[0m\u001b[32m{\u001b[0m\u001b[32mcontext\u001b[0m\u001b[32m}\u001b[0m\u001b[32m \\nAnswer:\"\u001b[0m\n",
       "            \u001b[1m)\u001b[0m\n",
       "        \u001b[1m)\u001b[0m\n",
       "    \u001b[1m]\u001b[0m\n",
       "\u001b[1m)\u001b[0m\n"
      ]
     },
     "metadata": {},
     "output_type": "display_data"
    }
   ],
   "source": [
    "from langchain_core.prompts import ChatPromptTemplate\n",
    "from typing import cast\n",
    "prompt = cast(ChatPromptTemplate, prompt)\n",
    "print(prompt.partial(question=\"What is RDI?\"))"
   ]
  },
  {
   "cell_type": "markdown",
   "metadata": {},
   "source": [
    "## Load the Data"
   ]
  },
  {
   "cell_type": "code",
   "execution_count": null,
   "metadata": {},
   "outputs": [
    {
     "name": "stderr",
     "output_type": "stream",
     "text": [
      "/home/darthlinuxer/AI/lib/python3.10/site-packages/langchain_core/_api/deprecation.py:119: LangChainDeprecationWarning: The class `OpenAIEmbeddings` was deprecated in LangChain 0.0.9 and will be removed in 0.2.0. An updated version of the class exists in the langchain-openai package and should be used instead. To use it run `pip install -U langchain-openai` and import as `from langchain_openai import OpenAIEmbeddings`.\n",
      "  warn_deprecated(\n"
     ]
    },
    {
     "data": {
      "text/html": [
       "<pre style=\"white-space:pre;overflow-x:auto;line-height:normal;font-family:Menlo,'DejaVu Sans Mono',consolas,'Courier New',monospace\"><span style=\"font-weight: bold\">[</span>\n",
       "    <span style=\"color: #800080; text-decoration-color: #800080; font-weight: bold\">Document</span><span style=\"font-weight: bold\">(</span>\n",
       "        <span style=\"color: #808000; text-decoration-color: #808000\">page_content</span>=<span style=\"color: #008000; text-decoration-color: #008000\">\"\\n\\n\\n\\n\\nRDI </span>\n",
       "<span style=\"color: #008000; text-decoration-color: #008000\">Software\\n\\n\\n\\n\\n\\n\\n\\n\\n\\n\\n\\n\\n\\n\\n\\n\\n\\n\\n\\n\\n\\n\\n\\n\\n\\n\\n\\n\\n\\n\\n\\n\\n\\n\\n\\n    \\n  </span>\n",
       "<span style=\"color: #008000; text-decoration-color: #008000\">\\n\\n\\n\\n\\nLinkedin\\nInstagram\\nGlassdoor\\n\\n\\n\\n  Home  \\n Discover RDI \\n Our Services \\n Careers \\n Testimonials </span>\n",
       "<span style=\"color: #008000; text-decoration-color: #008000\">\\n Contact Us \\n\\n\\n\\n\\n\\n\\n\\n\\n\\n \\nmore than just a technology company\\na PEOPLE company\\n DISCOVER </span>\n",
       "<span style=\"color: #008000; text-decoration-color: #008000\">\\n\\n\\n\\n\\n\\n\\n\\n\\nWe proudly serve the leading global foodservice retailer with a focus on improving the overall </span>\n",
       "<span style=\"color: #008000; text-decoration-color: #008000\">crew and customer experience, resulting in improved operations in the restaurants.\\n\\n\\n\\n\\n\\n\\n\\n\\nDiscover </span>\n",
       "<span style=\"color: #008000; text-decoration-color: #008000\">RDI\\n\\n\\n\\n  \\n\\nRDI has 20+ years of history working as a strategic partner of a major global QSR (Quick Service </span>\n",
       "<span style=\"color: #008000; text-decoration-color: #008000\">Restaurant) retailer.\\n\\n\\n\\n\\n\\n  \\n\\nRDI delivers POS services (point-of-sale) and related software applications </span>\n",
       "<span style=\"color: #008000; text-decoration-color: #008000\">that focus on the overall crew and customer experience, resulting in improved operations to the fastest growing </span>\n",
       "<span style=\"color: #008000; text-decoration-color: #008000\">food restaurant chain over 120 countries and over 37,500 locations worldwide.RDI joined Capgemini group in 2017, </span>\n",
       "<span style=\"color: #008000; text-decoration-color: #008000\">which has 270,000 collaborators in almost 50 countries.\\n\\n\\n\\n\\n\\n  \\n\\nOur Development Centers are in Sao Paulo </span>\n",
       "<span style=\"color: #008000; text-decoration-color: #008000\">(Brazil), Budapest and Debrecen (Hungary).\\n\\n\\n\\n\\n\\n\\n\\n\\n\\n\\n\\n  120\\ncountries deployed\\n\\n  </span>\n",
       "<span style=\"color: #008000; text-decoration-color: #008000\">37,500\\nrestaurants running our products\\n\\n  1.7\\nmillion users\\n\\n  2\\ndevelopment </span>\n",
       "<span style=\"color: #008000; text-decoration-color: #008000\">centers\\n\\n\\n\\n\\n\\n\\n\\n\\n\\nPurpose and Values\\n\\n\\n\\nOur Purpose\\nSupport our partner by increasing product </span>\n",
       "<span style=\"color: #008000; text-decoration-color: #008000\">deliveries and leveraging high-end technology to transform customer experience.\\n\\n\\n\\n\\nOur Vision\\nProvide </span>\n",
       "<span style=\"color: #008000; text-decoration-color: #008000\">remarkable experience for our PEOPLE and our partner!\\n\\n\\n\\n\\n\\n\\n\\n\\n\\n\\nOur Powerful </span>\n",
       "<span style=\"color: #008000; text-decoration-color: #008000\">Values\\n\\n\\n\\n\\n\\n\\n\\n\\n\\n\\n\\n\\nDiversity and Inclusion\\n\\n\\nRDI values the plurality of race, color, religion, </span>\n",
       "<span style=\"color: #008000; text-decoration-color: #008000\">gender, gender identity, nationality, sexual orientation, disabilities and age.\\n              Be plural is value </span>\n",
       "<span style=\"color: #008000; text-decoration-color: #008000\">and respect the differences. At RDI you are free to be you!\\n\\n\\n\\n\\n\\n\\n\\n\\n\\nOur Services\\n\\n\\n\\n  \\n\\nSoftware </span>\n",
       "<span style=\"color: #008000; text-decoration-color: #008000\">Development\\nWe perform all phases of the development life cycle across crew and customer-facing restaurant </span>\n",
       "<span style=\"color: #008000; text-decoration-color: #008000\">applications and work closely with our client to bring innovative solutions to life in the </span>\n",
       "<span style=\"color: #008000; text-decoration-color: #008000\">restaurants.\\n\\xa0\\n\\n\\n\\n  \\n\\nTesting and Support\\nWe perform unit and full regression tests of our software to </span>\n",
       "<span style=\"color: #008000; text-decoration-color: #008000\">ensure that existing and new functionality is working as defined. We review, investigate and resolve issues </span>\n",
       "<span style=\"color: #008000; text-decoration-color: #008000\">reported through the test environments and live restaurants to ensure that the application supports the restaurant </span>\n",
       "<span style=\"color: #008000; text-decoration-color: #008000\">business 24x7.\\n\\n\\n\\n\\n\\n  \\n\\nRelease Management\\nRDI provides software release management services for a tightly</span>\n",
       "<span style=\"color: #008000; text-decoration-color: #008000\">integrated suite of applications. Our  service maintains the development and delivery schedules for products, </span>\n",
       "<span style=\"color: #008000; text-decoration-color: #008000\">identifying any potential conflicts or opportunities to speed delivery.\\n\\n\\n\\n\\n\\n  \\n\\nLocalization services\\nThe</span>\n",
       "<span style=\"color: #008000; text-decoration-color: #008000\">company provides documentation and localization services for new applications developed and delivered to the </span>\n",
       "<span style=\"color: #008000; text-decoration-color: #008000\">markets.\\n\\n\\n\\n\\n\\n\\n\\n\\n\\n\\nCareers\\n\\n\\n If you love the idea of leveraging your technical and business skills </span>\n",
       "<span style=\"color: #008000; text-decoration-color: #008000\">to help drive growth in the Quick Service Restaurantindustry through the innovative use of new technology, join </span>\n",
       "<span style=\"color: #008000; text-decoration-color: #008000\">us.\\n            RDI is an equal opportunity employer and is committed to a diverse and inclusive workforce. </span>\n",
       "<span style=\"color: #008000; text-decoration-color: #008000\">\\n\\n\\n\\n\\n\\n\\n\\n\\nJoin Us\\n\\nWe have open positions in the offices of Brazil and Hungary:\\nApply </span>\n",
       "<span style=\"color: #008000; text-decoration-color: #008000\">Now\\n\\n\\n\\n\\n\\n\\nBenefits &amp; How we hire \\nBenefits - RDI’s collaborative and flexible work environment and </span>\n",
       "<span style=\"color: #008000; text-decoration-color: #008000\">high-performance team delivers innovative solutions to our clients. Our benefit package includes a range of </span>\n",
       "<span style=\"color: #008000; text-decoration-color: #008000\">market-relevant benefits to help you manage the demands of your career and home life.\\nHow we hire - Our process is</span>\n",
       "<span style=\"color: #008000; text-decoration-color: #008000\">simple; the path to getting hired usually involves a first conversation with a recruiter, a technical evaluation </span>\n",
       "<span style=\"color: #008000; text-decoration-color: #008000\">and an interview at one of our global offices with the hiring Manager and HR. \\n\\n\\n\\n\\n\\n\\n \\nJoin </span>\n",
       "<span style=\"color: #008000; text-decoration-color: #008000\">Us\\nRevolutionizing restaurant operations through innovative Technology </span>\n",
       "<span style=\"color: #008000; text-decoration-color: #008000\">Solutions.\\n\\n\\n\\n\\n\\n\\n\\n\\n\\nTestimonials\\n\\n\\n\\n\\n                        Getting full support for my personal </span>\n",
       "<span style=\"color: #008000; text-decoration-color: #008000\">and professional development is just one reason that I feel lucky working for RDI. Here I am not only an employee </span>\n",
       "<span style=\"color: #008000; text-decoration-color: #008000\">but a colleague and a friend, and this is not only a workplace but a wonderful and inspiring community that is a </span>\n",
       "<span style=\"color: #008000; text-decoration-color: #008000\">pleasure to visit every day.\\n                    \\n\\n\\n\\n\\n\\n\\n                        Sarolta Mezei, Technical </span>\n",
       "<span style=\"color: #008000; text-decoration-color: #008000\">Writer\\n\\n\\n                        Debrecen, Hungary\\n                    \\n\\n\\n\\n\\n\\n                        </span>\n",
       "<span style=\"color: #008000; text-decoration-color: #008000\">Definitely the working environment. It’s very friendly, it allows you to receive and give help, to share knowledge,</span>\n",
       "<span style=\"color: #008000; text-decoration-color: #008000\">and give you the freedom to learn and test new concepts and ideas.\\n                    \\n\\n                       </span>\n",
       "<span style=\"color: #008000; text-decoration-color: #008000\">In one word, fantastic! Even with the huge cultural and linguistic difference, RDI Hungary and my colleagues could </span>\n",
       "<span style=\"color: #008000; text-decoration-color: #008000\">not have received me better. As the only foreign inside the company right now, everyone helped me to achieve a fast</span>\n",
       "<span style=\"color: #008000; text-decoration-color: #008000\">engagement with the company know-how, and they’re always willing for me to participate the meetings, debates, and </span>\n",
       "<span style=\"color: #008000; text-decoration-color: #008000\">contribute to the work.\\n                    \\n\\n\\n\\n\\n\\n\\n                        Anderson Rancan, Senior Software</span>\n",
       "<span style=\"color: #008000; text-decoration-color: #008000\">Developer\\n\\n\\n                        Budapest, Hungary\\n                    \\n\\n\\n\\n\\n\\n                        </span>\n",
       "<span style=\"color: #008000; text-decoration-color: #008000\">I've worked at RDI for several years now, and the experience has been great. There are always challenging and </span>\n",
       "<span style=\"color: #008000; text-decoration-color: #008000\">exciting things to do at RDI, being a strategic partner and subsidiary of an iconic company. We work closely with </span>\n",
       "<span style=\"color: #008000; text-decoration-color: #008000\">them in a global, fast-paced environment to implement business requirements using cutting-edge technology. Yet RDI </span>\n",
       "<span style=\"color: #008000; text-decoration-color: #008000\">retains the camaraderie and close-knit feel of a smaller company, where employees are valued and treated well. It </span>\n",
       "<span style=\"color: #008000; text-decoration-color: #008000\">is truly a pleasure to work for RDI.\\n                    \\n\\n\\n\\n\\n\\n\\n                        Andy Ortloff, </span>\n",
       "<span style=\"color: #008000; text-decoration-color: #008000\">Software Architect\\n\\n\\n                        Oak Brook, US\\n                    \\n\\n\\n\\n\\n\\n                    </span>\n",
       "<span style=\"color: #008000; text-decoration-color: #008000\">In my tenure with RDI, I have had the pleasure of collaborating with some amazing people!  We work together as a </span>\n",
       "<span style=\"color: #008000; text-decoration-color: #008000\">team, drawing on our individual strengths, to achieve our goals.   I have learned so much from those around me and </span>\n",
       "<span style=\"color: #008000; text-decoration-color: #008000\">believe that my contributions are appreciated as well.  I feel supported by leadership, and encouraged to develop </span>\n",
       "<span style=\"color: #008000; text-decoration-color: #008000\">my skills and take on new challenges in my career at RDI.\\n                    \\n\\n\\n\\n\\n\\n\\n                      </span>\n",
       "<span style=\"color: #008000; text-decoration-color: #008000\">Kristin Prestage, Administrative Analyst\\n\\n\\n                        Oak Brook, US\\n                    </span>\n",
       "<span style=\"color: #008000; text-decoration-color: #008000\">\\n\\n\\n\\n\\n\\n                        What I like most about RDI is the ability to work independently (trust from </span>\n",
       "<span style=\"color: #008000; text-decoration-color: #008000\">employers). It’s great to work with people that care about their company and do a good job.  It’s hard to find that</span>\n",
       "<span style=\"color: #008000; text-decoration-color: #008000\">environment today because so many people just don’t care about honesty, hard work and integrity.\\xa0 It has been </span>\n",
       "<span style=\"color: #008000; text-decoration-color: #008000\">possible to develop myself personally and professionally at RDI. I enjoy being part of a company like RDI, which is</span>\n",
       "<span style=\"color: #008000; text-decoration-color: #008000\">open to hearing the views of employees, as well as offering subsidies for learning and flexibility to work. Salary </span>\n",
       "<span style=\"color: #008000; text-decoration-color: #008000\">and benefits competitive with the market also makes me comfortable in establishing a long-term development goal of </span>\n",
       "<span style=\"color: #008000; text-decoration-color: #008000\">the company. I am happy and peaceful to be working in a big company, solid and effective as RDI\\n                  </span>\n",
       "<span style=\"color: #008000; text-decoration-color: #008000\">\\n\\n\\n\\n\\n\\n\\n                        Ariane Medeiros, Software Quality Assurance Analyst\\n\\n\\n                    </span>\n",
       "<span style=\"color: #008000; text-decoration-color: #008000\">Sao Paulo, Brazil\\n                    \\n\\n\\n\\n\\n\\n\\n\\n\\n\\n\\n Success! Your message has been sent to us. \\n Error! </span>\n",
       "<span style=\"color: #008000; text-decoration-color: #008000\">There was an error sending your message. \\nContact Us\\n\\n\\n\\n\\nYour name *\\n\\n\\n\\nYour email address </span>\n",
       "<span style=\"color: #008000; text-decoration-color: #008000\">*\\n\\n\\n\\n\\n\\n\\n\\nSubject\\n\\n\\n\\n\\n\\n\\n\\nMessage *\\n\\n\\n\\n\\n\\n\\n\\n\\n\\n\\n\\n\\nImportant e-mails\\n\\n Email: Human </span>\n",
       "<span style=\"color: #008000; text-decoration-color: #008000\">Resources\\n Email: Support\\n\\n\\n\\n\\n\\n\\n\\n\\n\\n\\nThe Company is growing\\n We’re expanding our team! We are looking </span>\n",
       "<span style=\"color: #008000; text-decoration-color: #008000\">for new team members that are strong performers, love big challenges and will fit in with the culture at RDI.  </span>\n",
       "<span style=\"color: #008000; text-decoration-color: #008000\">Contact RDI HR directly – we may be looking for you!\\n\\n\\n\\nContact Us\\n\\n </span>\n",
       "<span style=\"color: #008000; text-decoration-color: #008000\">rdihumanresources.hr@capgemini.com\\n\\n\\n\\nLinkedin\\n\\n\\n\\n\\n\\n\\n\\n\\n    \\n\\n Privacy Notice - Brazil \\n Salary </span>\n",
       "<span style=\"color: #008000; text-decoration-color: #008000\">Transparency Report \\n\\n\\n\\n\\n\\n\\n\\n\\n\\n\\n\\n\\n\\n\\n\\n\\n\\n\\n\\n\\n\\n\\n\\n\\n\\n\\n\\n\\n\\n\\n\\n\\n\\n\\n\\n\\n\"</span>,\n",
       "        <span style=\"color: #808000; text-decoration-color: #808000\">metadata</span>=<span style=\"font-weight: bold\">{</span>\n",
       "            <span style=\"color: #008000; text-decoration-color: #008000\">'source'</span>: <span style=\"color: #008000; text-decoration-color: #008000\">'https://www.rdisoftware.com/'</span>,\n",
       "            <span style=\"color: #008000; text-decoration-color: #008000\">'title'</span>: <span style=\"color: #008000; text-decoration-color: #008000\">'RDI Software'</span>,\n",
       "            <span style=\"color: #008000; text-decoration-color: #008000\">'description'</span>: <span style=\"color: #008000; text-decoration-color: #008000\">'RDI Software - Part of Capgemini'</span>,\n",
       "            <span style=\"color: #008000; text-decoration-color: #008000\">'language'</span>: <span style=\"color: #008000; text-decoration-color: #008000\">'No language found.'</span>\n",
       "        <span style=\"font-weight: bold\">}</span>\n",
       "    <span style=\"font-weight: bold\">)</span>\n",
       "<span style=\"font-weight: bold\">]</span>\n",
       "</pre>\n"
      ],
      "text/plain": [
       "\u001b[1m[\u001b[0m\n",
       "    \u001b[1;35mDocument\u001b[0m\u001b[1m(\u001b[0m\n",
       "        \u001b[33mpage_content\u001b[0m=\u001b[32m\"\\n\\n\\n\\n\\nRDI \u001b[0m\n",
       "\u001b[32mSoftware\\n\\n\\n\\n\\n\\n\\n\\n\\n\\n\\n\\n\\n\\n\\n\\n\\n\\n\\n\\n\\n\\n\\n\\n\\n\\n\\n\\n\\n\\n\\n\\n\\n\\n\\n\\n    \\n  \u001b[0m\n",
       "\u001b[32m\\n\\n\\n\\n\\nLinkedin\\nInstagram\\nGlassdoor\\n\\n\\n\\n  Home  \\n Discover RDI \\n Our Services \\n Careers \\n Testimonials \u001b[0m\n",
       "\u001b[32m\\n Contact Us \\n\\n\\n\\n\\n\\n\\n\\n\\n\\n \\nmore than just a technology company\\na PEOPLE company\\n DISCOVER \u001b[0m\n",
       "\u001b[32m\\n\\n\\n\\n\\n\\n\\n\\n\\nWe proudly serve the leading global foodservice retailer with a focus on improving the overall \u001b[0m\n",
       "\u001b[32mcrew and customer experience, resulting in improved operations in the restaurants.\\n\\n\\n\\n\\n\\n\\n\\n\\nDiscover \u001b[0m\n",
       "\u001b[32mRDI\\n\\n\\n\\n  \\n\\nRDI has 20+ years of history working as a strategic partner of a major global QSR \u001b[0m\u001b[32m(\u001b[0m\u001b[32mQuick Service \u001b[0m\n",
       "\u001b[32mRestaurant\u001b[0m\u001b[32m)\u001b[0m\u001b[32m retailer.\\n\\n\\n\\n\\n\\n  \\n\\nRDI delivers POS services \u001b[0m\u001b[32m(\u001b[0m\u001b[32mpoint-of-sale\u001b[0m\u001b[32m)\u001b[0m\u001b[32m and related software applications \u001b[0m\n",
       "\u001b[32mthat focus on the overall crew and customer experience, resulting in improved operations to the fastest growing \u001b[0m\n",
       "\u001b[32mfood restaurant chain over 120 countries and over 37,500 locations worldwide.RDI joined Capgemini group in 2017, \u001b[0m\n",
       "\u001b[32mwhich has 270,000 collaborators in almost 50 countries.\\n\\n\\n\\n\\n\\n  \\n\\nOur Development Centers are in Sao Paulo \u001b[0m\n",
       "\u001b[32m(\u001b[0m\u001b[32mBrazil\u001b[0m\u001b[32m)\u001b[0m\u001b[32m, Budapest and Debrecen \u001b[0m\u001b[32m(\u001b[0m\u001b[32mHungary\u001b[0m\u001b[32m)\u001b[0m\u001b[32m.\\n\\n\\n\\n\\n\\n\\n\\n\\n\\n\\n\\n  120\\ncountries deployed\\n\\n  \u001b[0m\n",
       "\u001b[32m37,500\\nrestaurants running our products\\n\\n  1.7\\nmillion users\\n\\n  2\\ndevelopment \u001b[0m\n",
       "\u001b[32mcenters\\n\\n\\n\\n\\n\\n\\n\\n\\n\\nPurpose and Values\\n\\n\\n\\nOur Purpose\\nSupport our partner by increasing product \u001b[0m\n",
       "\u001b[32mdeliveries and leveraging high-end technology to transform customer experience.\\n\\n\\n\\n\\nOur Vision\\nProvide \u001b[0m\n",
       "\u001b[32mremarkable experience for our PEOPLE and our partner!\\n\\n\\n\\n\\n\\n\\n\\n\\n\\n\\nOur Powerful \u001b[0m\n",
       "\u001b[32mValues\\n\\n\\n\\n\\n\\n\\n\\n\\n\\n\\n\\n\\nDiversity and Inclusion\\n\\n\\nRDI values the plurality of race, color, religion, \u001b[0m\n",
       "\u001b[32mgender, gender identity, nationality, sexual orientation, disabilities and age.\\n              Be plural is value \u001b[0m\n",
       "\u001b[32mand respect the differences. At RDI you are free to be you!\\n\\n\\n\\n\\n\\n\\n\\n\\n\\nOur Services\\n\\n\\n\\n  \\n\\nSoftware \u001b[0m\n",
       "\u001b[32mDevelopment\\nWe perform all phases of the development life cycle across crew and customer-facing restaurant \u001b[0m\n",
       "\u001b[32mapplications and work closely with our client to bring innovative solutions to life in the \u001b[0m\n",
       "\u001b[32mrestaurants.\\n\\xa0\\n\\n\\n\\n  \\n\\nTesting and Support\\nWe perform unit and full regression tests of our software to \u001b[0m\n",
       "\u001b[32mensure that existing and new functionality is working as defined. We review, investigate and resolve issues \u001b[0m\n",
       "\u001b[32mreported through the test environments and live restaurants to ensure that the application supports the restaurant \u001b[0m\n",
       "\u001b[32mbusiness 24x7.\\n\\n\\n\\n\\n\\n  \\n\\nRelease Management\\nRDI provides software release management services for a tightly\u001b[0m\n",
       "\u001b[32mintegrated suite of applications. Our  service maintains the development and delivery schedules for products, \u001b[0m\n",
       "\u001b[32midentifying any potential conflicts or opportunities to speed delivery.\\n\\n\\n\\n\\n\\n  \\n\\nLocalization services\\nThe\u001b[0m\n",
       "\u001b[32mcompany provides documentation and localization services for new applications developed and delivered to the \u001b[0m\n",
       "\u001b[32mmarkets.\\n\\n\\n\\n\\n\\n\\n\\n\\n\\n\\nCareers\\n\\n\\n If you love the idea of leveraging your technical and business skills \u001b[0m\n",
       "\u001b[32mto help drive growth in the Quick Service Restaurantindustry through the innovative use of new technology, join \u001b[0m\n",
       "\u001b[32mus.\\n            RDI is an equal opportunity employer and is committed to a diverse and inclusive workforce. \u001b[0m\n",
       "\u001b[32m\\n\\n\\n\\n\\n\\n\\n\\n\\nJoin Us\\n\\nWe have open positions in the offices of Brazil and Hungary:\\nApply \u001b[0m\n",
       "\u001b[32mNow\\n\\n\\n\\n\\n\\n\\nBenefits & How we hire \\nBenefits - RDI’s collaborative and flexible work environment and \u001b[0m\n",
       "\u001b[32mhigh-performance team delivers innovative solutions to our clients. Our benefit package includes a range of \u001b[0m\n",
       "\u001b[32mmarket-relevant benefits to help you manage the demands of your career and home life.\\nHow we hire - Our process is\u001b[0m\n",
       "\u001b[32msimple; the path to getting hired usually involves a first conversation with a recruiter, a technical evaluation \u001b[0m\n",
       "\u001b[32mand an interview at one of our global offices with the hiring Manager and HR. \\n\\n\\n\\n\\n\\n\\n \\nJoin \u001b[0m\n",
       "\u001b[32mUs\\nRevolutionizing restaurant operations through innovative Technology \u001b[0m\n",
       "\u001b[32mSolutions.\\n\\n\\n\\n\\n\\n\\n\\n\\n\\nTestimonials\\n\\n\\n\\n\\n                        Getting full support for my personal \u001b[0m\n",
       "\u001b[32mand professional development is just one reason that I feel lucky working for RDI. Here I am not only an employee \u001b[0m\n",
       "\u001b[32mbut a colleague and a friend, and this is not only a workplace but a wonderful and inspiring community that is a \u001b[0m\n",
       "\u001b[32mpleasure to visit every day.\\n                    \\n\\n\\n\\n\\n\\n\\n                        Sarolta Mezei, Technical \u001b[0m\n",
       "\u001b[32mWriter\\n\\n\\n                        Debrecen, Hungary\\n                    \\n\\n\\n\\n\\n\\n                        \u001b[0m\n",
       "\u001b[32mDefinitely the working environment. It’s very friendly, it allows you to receive and give help, to share knowledge,\u001b[0m\n",
       "\u001b[32mand give you the freedom to learn and test new concepts and ideas.\\n                    \\n\\n                       \u001b[0m\n",
       "\u001b[32mIn one word, fantastic! Even with the huge cultural and linguistic difference, RDI Hungary and my colleagues could \u001b[0m\n",
       "\u001b[32mnot have received me better. As the only foreign inside the company right now, everyone helped me to achieve a fast\u001b[0m\n",
       "\u001b[32mengagement with the company know-how, and they’re always willing for me to participate the meetings, debates, and \u001b[0m\n",
       "\u001b[32mcontribute to the work.\\n                    \\n\\n\\n\\n\\n\\n\\n                        Anderson Rancan, Senior Software\u001b[0m\n",
       "\u001b[32mDeveloper\\n\\n\\n                        Budapest, Hungary\\n                    \\n\\n\\n\\n\\n\\n                        \u001b[0m\n",
       "\u001b[32mI've worked at RDI for several years now, and the experience has been great. There are always challenging and \u001b[0m\n",
       "\u001b[32mexciting things to do at RDI, being a strategic partner and subsidiary of an iconic company. We work closely with \u001b[0m\n",
       "\u001b[32mthem in a global, fast-paced environment to implement business requirements using cutting-edge technology. Yet RDI \u001b[0m\n",
       "\u001b[32mretains the camaraderie and close-knit feel of a smaller company, where employees are valued and treated well. It \u001b[0m\n",
       "\u001b[32mis truly a pleasure to work for RDI.\\n                    \\n\\n\\n\\n\\n\\n\\n                        Andy Ortloff, \u001b[0m\n",
       "\u001b[32mSoftware Architect\\n\\n\\n                        Oak Brook, US\\n                    \\n\\n\\n\\n\\n\\n                    \u001b[0m\n",
       "\u001b[32mIn my tenure with RDI, I have had the pleasure of collaborating with some amazing people!  We work together as a \u001b[0m\n",
       "\u001b[32mteam, drawing on our individual strengths, to achieve our goals.   I have learned so much from those around me and \u001b[0m\n",
       "\u001b[32mbelieve that my contributions are appreciated as well.  I feel supported by leadership, and encouraged to develop \u001b[0m\n",
       "\u001b[32mmy skills and take on new challenges in my career at RDI.\\n                    \\n\\n\\n\\n\\n\\n\\n                      \u001b[0m\n",
       "\u001b[32mKristin Prestage, Administrative Analyst\\n\\n\\n                        Oak Brook, US\\n                    \u001b[0m\n",
       "\u001b[32m\\n\\n\\n\\n\\n\\n                        What I like most about RDI is the ability to work independently \u001b[0m\u001b[32m(\u001b[0m\u001b[32mtrust from \u001b[0m\n",
       "\u001b[32memployers\u001b[0m\u001b[32m)\u001b[0m\u001b[32m. It’s great to work with people that care about their company and do a good job.  It’s hard to find that\u001b[0m\n",
       "\u001b[32menvironment today because so many people just don’t care about honesty, hard work and integrity.\\xa0 It has been \u001b[0m\n",
       "\u001b[32mpossible to develop myself personally and professionally at RDI. I enjoy being part of a company like RDI, which is\u001b[0m\n",
       "\u001b[32mopen to hearing the views of employees, as well as offering subsidies for learning and flexibility to work. Salary \u001b[0m\n",
       "\u001b[32mand benefits competitive with the market also makes me comfortable in establishing a long-term development goal of \u001b[0m\n",
       "\u001b[32mthe company. I am happy and peaceful to be working in a big company, solid and effective as RDI\\n                  \u001b[0m\n",
       "\u001b[32m\\n\\n\\n\\n\\n\\n\\n                        Ariane Medeiros, Software Quality Assurance Analyst\\n\\n\\n                    \u001b[0m\n",
       "\u001b[32mSao Paulo, Brazil\\n                    \\n\\n\\n\\n\\n\\n\\n\\n\\n\\n\\n Success! Your message has been sent to us. \\n Error! \u001b[0m\n",
       "\u001b[32mThere was an error sending your message. \\nContact Us\\n\\n\\n\\n\\nYour name *\\n\\n\\n\\nYour email address \u001b[0m\n",
       "\u001b[32m*\\n\\n\\n\\n\\n\\n\\n\\nSubject\\n\\n\\n\\n\\n\\n\\n\\nMessage *\\n\\n\\n\\n\\n\\n\\n\\n\\n\\n\\n\\n\\nImportant e-mails\\n\\n Email: Human \u001b[0m\n",
       "\u001b[32mResources\\n Email: Support\\n\\n\\n\\n\\n\\n\\n\\n\\n\\n\\nThe Company is growing\\n We’re expanding our team! We are looking \u001b[0m\n",
       "\u001b[32mfor new team members that are strong performers, love big challenges and will fit in with the culture at RDI.  \u001b[0m\n",
       "\u001b[32mContact RDI HR directly – we may be looking for you!\\n\\n\\n\\nContact Us\\n\\n \u001b[0m\n",
       "\u001b[32mrdihumanresources.hr@capgemini.com\\n\\n\\n\\nLinkedin\\n\\n\\n\\n\\n\\n\\n\\n\\n    \\n\\n Privacy Notice - Brazil \\n Salary \u001b[0m\n",
       "\u001b[32mTransparency Report \\n\\n\\n\\n\\n\\n\\n\\n\\n\\n\\n\\n\\n\\n\\n\\n\\n\\n\\n\\n\\n\\n\\n\\n\\n\\n\\n\\n\\n\\n\\n\\n\\n\\n\\n\\n\\n\"\u001b[0m,\n",
       "        \u001b[33mmetadata\u001b[0m=\u001b[1m{\u001b[0m\n",
       "            \u001b[32m'source'\u001b[0m: \u001b[32m'https://www.rdisoftware.com/'\u001b[0m,\n",
       "            \u001b[32m'title'\u001b[0m: \u001b[32m'RDI Software'\u001b[0m,\n",
       "            \u001b[32m'description'\u001b[0m: \u001b[32m'RDI Software - Part of Capgemini'\u001b[0m,\n",
       "            \u001b[32m'language'\u001b[0m: \u001b[32m'No language found.'\u001b[0m\n",
       "        \u001b[1m}\u001b[0m\n",
       "    \u001b[1m)\u001b[0m\n",
       "\u001b[1m]\u001b[0m\n"
      ]
     },
     "metadata": {},
     "output_type": "display_data"
    }
   ],
   "source": [
    "#Load your data\n",
    "delete_collection(collection=\"Rdi_vectorDb\")\n",
    "\n",
    "#HTML\n",
    "from langchain_community.document_loaders import WebBaseLoader\n",
    "from rich import print\n",
    "\n",
    "loader_HTML = WebBaseLoader(web_paths=[\"https://www.rdisoftware.com/\"])\n",
    "docsWeb = loader_HTML.load() #load\n",
    "print(docsWeb)\n",
    "#Expected execution time: 1s"
   ]
  },
  {
   "cell_type": "markdown",
   "metadata": {},
   "source": [
    "## Chunk the Data into smaller semantic similar pieces"
   ]
  },
  {
   "cell_type": "code",
   "execution_count": null,
   "metadata": {},
   "outputs": [
    {
     "data": {
      "text/html": [
       "<pre style=\"white-space:pre;overflow-x:auto;line-height:normal;font-family:Menlo,'DejaVu Sans Mono',consolas,'Courier New',monospace\">total chunks:  <span style=\"color: #008080; text-decoration-color: #008080; font-weight: bold\">21</span>\n",
       "</pre>\n"
      ],
      "text/plain": [
       "total chunks:  \u001b[1;36m21\u001b[0m\n"
      ]
     },
     "metadata": {},
     "output_type": "display_data"
    },
    {
     "data": {
      "text/html": [
       "<pre style=\"white-space:pre;overflow-x:auto;line-height:normal;font-family:Menlo,'DejaVu Sans Mono',consolas,'Courier New',monospace\"><span style=\"font-weight: bold\">[</span>\n",
       "    <span style=\"color: #800080; text-decoration-color: #800080; font-weight: bold\">Document</span><span style=\"font-weight: bold\">(</span>\n",
       "        <span style=\"color: #808000; text-decoration-color: #808000\">page_content</span>=<span style=\"color: #008000; text-decoration-color: #008000\">'\\n\\n\\n\\n\\nRDI </span>\n",
       "<span style=\"color: #008000; text-decoration-color: #008000\">Software\\n\\n\\n\\n\\n\\n\\n\\n\\n\\n\\n\\n\\n\\n\\n\\n\\n\\n\\n\\n\\n\\n\\n\\n\\n\\n\\n\\n\\n\\n\\n\\n\\n\\n\\n\\n    \\n  </span>\n",
       "<span style=\"color: #008000; text-decoration-color: #008000\">\\n\\n\\n\\n\\nLinkedin\\nInstagram\\nGlassdoor\\n\\n\\n\\n  Home  \\n Discover RDI \\n Our Services \\n Careers \\n Testimonials </span>\n",
       "<span style=\"color: #008000; text-decoration-color: #008000\">\\n Contact Us \\n\\n\\n\\n\\n\\n\\n\\n\\n\\n \\nmore than just a technology company\\na PEOPLE company\\n DISCOVER </span>\n",
       "<span style=\"color: #008000; text-decoration-color: #008000\">\\n\\n\\n\\n\\n\\n\\n\\n\\nWe proudly serve the leading global foodservice retailer with a focus on improving the overall </span>\n",
       "<span style=\"color: #008000; text-decoration-color: #008000\">crew and customer experience, resulting in improved operations in the restaurants. Discover RDI\\n\\n\\n\\n  \\n\\nRDI </span>\n",
       "<span style=\"color: #008000; text-decoration-color: #008000\">has 20+ years of history working as a strategic partner of a major global QSR (Quick Service Restaurant) retailer. </span>\n",
       "<span style=\"color: #008000; text-decoration-color: #008000\">RDI delivers POS services (point-of-sale) and related software applications that focus on the overall crew and </span>\n",
       "<span style=\"color: #008000; text-decoration-color: #008000\">customer experience, resulting in improved operations to the fastest growing food restaurant chain over 120 </span>\n",
       "<span style=\"color: #008000; text-decoration-color: #008000\">countries and over 37,500 locations worldwide.RDI joined Capgemini group in 2017, which has 270,000 collaborators </span>\n",
       "<span style=\"color: #008000; text-decoration-color: #008000\">in almost 50 countries. Our Development Centers are in Sao Paulo (Brazil), Budapest and Debrecen (Hungary).'</span>,\n",
       "        <span style=\"color: #808000; text-decoration-color: #808000\">metadata</span>=<span style=\"font-weight: bold\">{</span>\n",
       "            <span style=\"color: #008000; text-decoration-color: #008000\">'source'</span>: <span style=\"color: #008000; text-decoration-color: #008000\">'https://www.rdisoftware.com/'</span>,\n",
       "            <span style=\"color: #008000; text-decoration-color: #008000\">'title'</span>: <span style=\"color: #008000; text-decoration-color: #008000\">'RDI Software'</span>,\n",
       "            <span style=\"color: #008000; text-decoration-color: #008000\">'description'</span>: <span style=\"color: #008000; text-decoration-color: #008000\">'RDI Software - Part of Capgemini'</span>,\n",
       "            <span style=\"color: #008000; text-decoration-color: #008000\">'language'</span>: <span style=\"color: #008000; text-decoration-color: #008000\">'No language found.'</span>\n",
       "        <span style=\"font-weight: bold\">}</span>\n",
       "    <span style=\"font-weight: bold\">)</span>,\n",
       "    <span style=\"color: #800080; text-decoration-color: #800080; font-weight: bold\">Document</span><span style=\"font-weight: bold\">(</span>\n",
       "        <span style=\"color: #808000; text-decoration-color: #808000\">page_content</span>=<span style=\"color: #008000; text-decoration-color: #008000\">'120\\ncountries deployed\\n\\n  37,500\\nrestaurants running our products\\n\\n  1.7\\nmillion </span>\n",
       "<span style=\"color: #008000; text-decoration-color: #008000\">users\\n\\n  2\\ndevelopment centers\\n\\n\\n\\n\\n\\n\\n\\n\\n\\nPurpose and Values\\n\\n\\n\\nOur Purpose\\nSupport our partner by </span>\n",
       "<span style=\"color: #008000; text-decoration-color: #008000\">increasing product deliveries and leveraging high-end technology to transform customer experience. Our </span>\n",
       "<span style=\"color: #008000; text-decoration-color: #008000\">Vision\\nProvide remarkable experience for our PEOPLE and our partner!'</span>,\n",
       "        <span style=\"color: #808000; text-decoration-color: #808000\">metadata</span>=<span style=\"font-weight: bold\">{</span>\n",
       "            <span style=\"color: #008000; text-decoration-color: #008000\">'source'</span>: <span style=\"color: #008000; text-decoration-color: #008000\">'https://www.rdisoftware.com/'</span>,\n",
       "            <span style=\"color: #008000; text-decoration-color: #008000\">'title'</span>: <span style=\"color: #008000; text-decoration-color: #008000\">'RDI Software'</span>,\n",
       "            <span style=\"color: #008000; text-decoration-color: #008000\">'description'</span>: <span style=\"color: #008000; text-decoration-color: #008000\">'RDI Software - Part of Capgemini'</span>,\n",
       "            <span style=\"color: #008000; text-decoration-color: #008000\">'language'</span>: <span style=\"color: #008000; text-decoration-color: #008000\">'No language found.'</span>\n",
       "        <span style=\"font-weight: bold\">}</span>\n",
       "    <span style=\"font-weight: bold\">)</span>,\n",
       "    <span style=\"color: #800080; text-decoration-color: #800080; font-weight: bold\">Document</span><span style=\"font-weight: bold\">(</span>\n",
       "        <span style=\"color: #808000; text-decoration-color: #808000\">page_content</span>=<span style=\"color: #008000; text-decoration-color: #008000\">'Our Powerful Values\\n\\n\\n\\n\\n\\n\\n\\n\\n\\n\\n\\n\\nDiversity and Inclusion\\n\\n\\nRDI values the </span>\n",
       "<span style=\"color: #008000; text-decoration-color: #008000\">plurality of race, color, religion, gender, gender identity, nationality, sexual orientation, disabilities and age.</span>\n",
       "<span style=\"color: #008000; text-decoration-color: #008000\">Be plural is value and respect the differences.'</span>,\n",
       "        <span style=\"color: #808000; text-decoration-color: #808000\">metadata</span>=<span style=\"font-weight: bold\">{</span>\n",
       "            <span style=\"color: #008000; text-decoration-color: #008000\">'source'</span>: <span style=\"color: #008000; text-decoration-color: #008000\">'https://www.rdisoftware.com/'</span>,\n",
       "            <span style=\"color: #008000; text-decoration-color: #008000\">'title'</span>: <span style=\"color: #008000; text-decoration-color: #008000\">'RDI Software'</span>,\n",
       "            <span style=\"color: #008000; text-decoration-color: #008000\">'description'</span>: <span style=\"color: #008000; text-decoration-color: #008000\">'RDI Software - Part of Capgemini'</span>,\n",
       "            <span style=\"color: #008000; text-decoration-color: #008000\">'language'</span>: <span style=\"color: #008000; text-decoration-color: #008000\">'No language found.'</span>\n",
       "        <span style=\"font-weight: bold\">}</span>\n",
       "    <span style=\"font-weight: bold\">)</span>,\n",
       "    <span style=\"color: #800080; text-decoration-color: #800080; font-weight: bold\">Document</span><span style=\"font-weight: bold\">(</span>\n",
       "        <span style=\"color: #808000; text-decoration-color: #808000\">page_content</span>=<span style=\"color: #008000; text-decoration-color: #008000\">'At RDI you are free to be you! Our Services\\n\\n\\n\\n  \\n\\nSoftware Development\\nWe perform all</span>\n",
       "<span style=\"color: #008000; text-decoration-color: #008000\">phases of the development life cycle across crew and customer-facing restaurant applications and work closely with </span>\n",
       "<span style=\"color: #008000; text-decoration-color: #008000\">our client to bring innovative solutions to life in the restaurants.'</span>,\n",
       "        <span style=\"color: #808000; text-decoration-color: #808000\">metadata</span>=<span style=\"font-weight: bold\">{</span>\n",
       "            <span style=\"color: #008000; text-decoration-color: #008000\">'source'</span>: <span style=\"color: #008000; text-decoration-color: #008000\">'https://www.rdisoftware.com/'</span>,\n",
       "            <span style=\"color: #008000; text-decoration-color: #008000\">'title'</span>: <span style=\"color: #008000; text-decoration-color: #008000\">'RDI Software'</span>,\n",
       "            <span style=\"color: #008000; text-decoration-color: #008000\">'description'</span>: <span style=\"color: #008000; text-decoration-color: #008000\">'RDI Software - Part of Capgemini'</span>,\n",
       "            <span style=\"color: #008000; text-decoration-color: #008000\">'language'</span>: <span style=\"color: #008000; text-decoration-color: #008000\">'No language found.'</span>\n",
       "        <span style=\"font-weight: bold\">}</span>\n",
       "    <span style=\"font-weight: bold\">)</span>,\n",
       "    <span style=\"color: #800080; text-decoration-color: #800080; font-weight: bold\">Document</span><span style=\"font-weight: bold\">(</span>\n",
       "        <span style=\"color: #808000; text-decoration-color: #808000\">page_content</span>=<span style=\"color: #008000; text-decoration-color: #008000\">'Testing and Support\\nWe perform unit and full regression tests of our software to ensure that</span>\n",
       "<span style=\"color: #008000; text-decoration-color: #008000\">existing and new functionality is working as defined.'</span>,\n",
       "        <span style=\"color: #808000; text-decoration-color: #808000\">metadata</span>=<span style=\"font-weight: bold\">{</span>\n",
       "            <span style=\"color: #008000; text-decoration-color: #008000\">'source'</span>: <span style=\"color: #008000; text-decoration-color: #008000\">'https://www.rdisoftware.com/'</span>,\n",
       "            <span style=\"color: #008000; text-decoration-color: #008000\">'title'</span>: <span style=\"color: #008000; text-decoration-color: #008000\">'RDI Software'</span>,\n",
       "            <span style=\"color: #008000; text-decoration-color: #008000\">'description'</span>: <span style=\"color: #008000; text-decoration-color: #008000\">'RDI Software - Part of Capgemini'</span>,\n",
       "            <span style=\"color: #008000; text-decoration-color: #008000\">'language'</span>: <span style=\"color: #008000; text-decoration-color: #008000\">'No language found.'</span>\n",
       "        <span style=\"font-weight: bold\">}</span>\n",
       "    <span style=\"font-weight: bold\">)</span>,\n",
       "    <span style=\"color: #800080; text-decoration-color: #800080; font-weight: bold\">Document</span><span style=\"font-weight: bold\">(</span>\n",
       "        <span style=\"color: #808000; text-decoration-color: #808000\">page_content</span>=<span style=\"color: #008000; text-decoration-color: #008000\">'We review, investigate and resolve issues reported through the test environments and live </span>\n",
       "<span style=\"color: #008000; text-decoration-color: #008000\">restaurants to ensure that the application supports the restaurant business 24x7. Release Management\\nRDI provides </span>\n",
       "<span style=\"color: #008000; text-decoration-color: #008000\">software release management services for a tightly integrated suite of applications. Our  service maintains the </span>\n",
       "<span style=\"color: #008000; text-decoration-color: #008000\">development and delivery schedules for products, identifying any potential conflicts or opportunities to speed </span>\n",
       "<span style=\"color: #008000; text-decoration-color: #008000\">delivery.'</span>,\n",
       "        <span style=\"color: #808000; text-decoration-color: #808000\">metadata</span>=<span style=\"font-weight: bold\">{</span>\n",
       "            <span style=\"color: #008000; text-decoration-color: #008000\">'source'</span>: <span style=\"color: #008000; text-decoration-color: #008000\">'https://www.rdisoftware.com/'</span>,\n",
       "            <span style=\"color: #008000; text-decoration-color: #008000\">'title'</span>: <span style=\"color: #008000; text-decoration-color: #008000\">'RDI Software'</span>,\n",
       "            <span style=\"color: #008000; text-decoration-color: #008000\">'description'</span>: <span style=\"color: #008000; text-decoration-color: #008000\">'RDI Software - Part of Capgemini'</span>,\n",
       "            <span style=\"color: #008000; text-decoration-color: #008000\">'language'</span>: <span style=\"color: #008000; text-decoration-color: #008000\">'No language found.'</span>\n",
       "        <span style=\"font-weight: bold\">}</span>\n",
       "    <span style=\"font-weight: bold\">)</span>,\n",
       "    <span style=\"color: #800080; text-decoration-color: #800080; font-weight: bold\">Document</span><span style=\"font-weight: bold\">(</span>\n",
       "        <span style=\"color: #808000; text-decoration-color: #808000\">page_content</span>=<span style=\"color: #008000; text-decoration-color: #008000\">'Localization services\\nThe company provides documentation and localization services for new </span>\n",
       "<span style=\"color: #008000; text-decoration-color: #008000\">applications developed and delivered to the markets.'</span>,\n",
       "        <span style=\"color: #808000; text-decoration-color: #808000\">metadata</span>=<span style=\"font-weight: bold\">{</span>\n",
       "            <span style=\"color: #008000; text-decoration-color: #008000\">'source'</span>: <span style=\"color: #008000; text-decoration-color: #008000\">'https://www.rdisoftware.com/'</span>,\n",
       "            <span style=\"color: #008000; text-decoration-color: #008000\">'title'</span>: <span style=\"color: #008000; text-decoration-color: #008000\">'RDI Software'</span>,\n",
       "            <span style=\"color: #008000; text-decoration-color: #008000\">'description'</span>: <span style=\"color: #008000; text-decoration-color: #008000\">'RDI Software - Part of Capgemini'</span>,\n",
       "            <span style=\"color: #008000; text-decoration-color: #008000\">'language'</span>: <span style=\"color: #008000; text-decoration-color: #008000\">'No language found.'</span>\n",
       "        <span style=\"font-weight: bold\">}</span>\n",
       "    <span style=\"font-weight: bold\">)</span>,\n",
       "    <span style=\"color: #800080; text-decoration-color: #800080; font-weight: bold\">Document</span><span style=\"font-weight: bold\">(</span>\n",
       "        <span style=\"color: #808000; text-decoration-color: #808000\">page_content</span>=<span style=\"color: #008000; text-decoration-color: #008000\">'Careers\\n\\n\\n If you love the idea of leveraging your technical and business skills to help </span>\n",
       "<span style=\"color: #008000; text-decoration-color: #008000\">drive growth in the Quick Service Restaurantindustry through the innovative use of new technology, join us.'</span>,\n",
       "        <span style=\"color: #808000; text-decoration-color: #808000\">metadata</span>=<span style=\"font-weight: bold\">{</span>\n",
       "            <span style=\"color: #008000; text-decoration-color: #008000\">'source'</span>: <span style=\"color: #008000; text-decoration-color: #008000\">'https://www.rdisoftware.com/'</span>,\n",
       "            <span style=\"color: #008000; text-decoration-color: #008000\">'title'</span>: <span style=\"color: #008000; text-decoration-color: #008000\">'RDI Software'</span>,\n",
       "            <span style=\"color: #008000; text-decoration-color: #008000\">'description'</span>: <span style=\"color: #008000; text-decoration-color: #008000\">'RDI Software - Part of Capgemini'</span>,\n",
       "            <span style=\"color: #008000; text-decoration-color: #008000\">'language'</span>: <span style=\"color: #008000; text-decoration-color: #008000\">'No language found.'</span>\n",
       "        <span style=\"font-weight: bold\">}</span>\n",
       "    <span style=\"font-weight: bold\">)</span>,\n",
       "    <span style=\"color: #800080; text-decoration-color: #800080; font-weight: bold\">Document</span><span style=\"font-weight: bold\">(</span>\n",
       "        <span style=\"color: #808000; text-decoration-color: #808000\">page_content</span>=<span style=\"color: #008000; text-decoration-color: #008000\">'RDI is an equal opportunity employer and is committed to a diverse and inclusive workforce. </span>\n",
       "<span style=\"color: #008000; text-decoration-color: #008000\">Join Us\\n\\nWe have open positions in the offices of Brazil and Hungary:\\nApply Now\\n\\n\\n\\n\\n\\n\\nBenefits &amp; How we </span>\n",
       "<span style=\"color: #008000; text-decoration-color: #008000\">hire \\nBenefits - RDI’s collaborative and flexible work environment and high-performance team delivers innovative </span>\n",
       "<span style=\"color: #008000; text-decoration-color: #008000\">solutions to our clients. Our benefit package includes a range of market-relevant benefits to help you manage the </span>\n",
       "<span style=\"color: #008000; text-decoration-color: #008000\">demands of your career and home life.'</span>,\n",
       "        <span style=\"color: #808000; text-decoration-color: #808000\">metadata</span>=<span style=\"font-weight: bold\">{</span>\n",
       "            <span style=\"color: #008000; text-decoration-color: #008000\">'source'</span>: <span style=\"color: #008000; text-decoration-color: #008000\">'https://www.rdisoftware.com/'</span>,\n",
       "            <span style=\"color: #008000; text-decoration-color: #008000\">'title'</span>: <span style=\"color: #008000; text-decoration-color: #008000\">'RDI Software'</span>,\n",
       "            <span style=\"color: #008000; text-decoration-color: #008000\">'description'</span>: <span style=\"color: #008000; text-decoration-color: #008000\">'RDI Software - Part of Capgemini'</span>,\n",
       "            <span style=\"color: #008000; text-decoration-color: #008000\">'language'</span>: <span style=\"color: #008000; text-decoration-color: #008000\">'No language found.'</span>\n",
       "        <span style=\"font-weight: bold\">}</span>\n",
       "    <span style=\"font-weight: bold\">)</span>,\n",
       "    <span style=\"color: #800080; text-decoration-color: #800080; font-weight: bold\">Document</span><span style=\"font-weight: bold\">(</span>\n",
       "        <span style=\"color: #808000; text-decoration-color: #808000\">page_content</span>=<span style=\"color: #008000; text-decoration-color: #008000\">'How we hire - Our process is simple; the path to getting hired usually involves a first </span>\n",
       "<span style=\"color: #008000; text-decoration-color: #008000\">conversation with a recruiter, a technical evaluation and an interview at one of our global offices with the hiring</span>\n",
       "<span style=\"color: #008000; text-decoration-color: #008000\">Manager and HR.'</span>,\n",
       "        <span style=\"color: #808000; text-decoration-color: #808000\">metadata</span>=<span style=\"font-weight: bold\">{</span>\n",
       "            <span style=\"color: #008000; text-decoration-color: #008000\">'source'</span>: <span style=\"color: #008000; text-decoration-color: #008000\">'https://www.rdisoftware.com/'</span>,\n",
       "            <span style=\"color: #008000; text-decoration-color: #008000\">'title'</span>: <span style=\"color: #008000; text-decoration-color: #008000\">'RDI Software'</span>,\n",
       "            <span style=\"color: #008000; text-decoration-color: #008000\">'description'</span>: <span style=\"color: #008000; text-decoration-color: #008000\">'RDI Software - Part of Capgemini'</span>,\n",
       "            <span style=\"color: #008000; text-decoration-color: #008000\">'language'</span>: <span style=\"color: #008000; text-decoration-color: #008000\">'No language found.'</span>\n",
       "        <span style=\"font-weight: bold\">}</span>\n",
       "    <span style=\"font-weight: bold\">)</span>,\n",
       "    <span style=\"color: #800080; text-decoration-color: #800080; font-weight: bold\">Document</span><span style=\"font-weight: bold\">(</span>\n",
       "        <span style=\"color: #808000; text-decoration-color: #808000\">page_content</span>=<span style=\"color: #008000; text-decoration-color: #008000\">'Join Us\\nRevolutionizing restaurant operations through innovative Technology Solutions. </span>\n",
       "<span style=\"color: #008000; text-decoration-color: #008000\">Testimonials\\n\\n\\n\\n\\n                        Getting full support for my personal and professional development is </span>\n",
       "<span style=\"color: #008000; text-decoration-color: #008000\">just one reason that I feel lucky working for RDI.'</span>,\n",
       "        <span style=\"color: #808000; text-decoration-color: #808000\">metadata</span>=<span style=\"font-weight: bold\">{</span>\n",
       "            <span style=\"color: #008000; text-decoration-color: #008000\">'source'</span>: <span style=\"color: #008000; text-decoration-color: #008000\">'https://www.rdisoftware.com/'</span>,\n",
       "            <span style=\"color: #008000; text-decoration-color: #008000\">'title'</span>: <span style=\"color: #008000; text-decoration-color: #008000\">'RDI Software'</span>,\n",
       "            <span style=\"color: #008000; text-decoration-color: #008000\">'description'</span>: <span style=\"color: #008000; text-decoration-color: #008000\">'RDI Software - Part of Capgemini'</span>,\n",
       "            <span style=\"color: #008000; text-decoration-color: #008000\">'language'</span>: <span style=\"color: #008000; text-decoration-color: #008000\">'No language found.'</span>\n",
       "        <span style=\"font-weight: bold\">}</span>\n",
       "    <span style=\"font-weight: bold\">)</span>,\n",
       "    <span style=\"color: #800080; text-decoration-color: #800080; font-weight: bold\">Document</span><span style=\"font-weight: bold\">(</span>\n",
       "        <span style=\"color: #808000; text-decoration-color: #808000\">page_content</span>=<span style=\"color: #008000; text-decoration-color: #008000\">'Here I am not only an employee but a colleague and a friend, and this is not only a workplace</span>\n",
       "<span style=\"color: #008000; text-decoration-color: #008000\">but a wonderful and inspiring community that is a pleasure to visit every day.'</span>,\n",
       "        <span style=\"color: #808000; text-decoration-color: #808000\">metadata</span>=<span style=\"font-weight: bold\">{</span>\n",
       "            <span style=\"color: #008000; text-decoration-color: #008000\">'source'</span>: <span style=\"color: #008000; text-decoration-color: #008000\">'https://www.rdisoftware.com/'</span>,\n",
       "            <span style=\"color: #008000; text-decoration-color: #008000\">'title'</span>: <span style=\"color: #008000; text-decoration-color: #008000\">'RDI Software'</span>,\n",
       "            <span style=\"color: #008000; text-decoration-color: #008000\">'description'</span>: <span style=\"color: #008000; text-decoration-color: #008000\">'RDI Software - Part of Capgemini'</span>,\n",
       "            <span style=\"color: #008000; text-decoration-color: #008000\">'language'</span>: <span style=\"color: #008000; text-decoration-color: #008000\">'No language found.'</span>\n",
       "        <span style=\"font-weight: bold\">}</span>\n",
       "    <span style=\"font-weight: bold\">)</span>,\n",
       "    <span style=\"color: #800080; text-decoration-color: #800080; font-weight: bold\">Document</span><span style=\"font-weight: bold\">(</span>\n",
       "        <span style=\"color: #808000; text-decoration-color: #808000\">page_content</span>=<span style=\"color: #008000; text-decoration-color: #008000\">'Sarolta Mezei, Technical Writer\\n\\n\\n                        Debrecen, Hungary\\n             </span>\n",
       "<span style=\"color: #008000; text-decoration-color: #008000\">\\n\\n\\n\\n\\n\\n                        Definitely the working environment. It’s very friendly, it allows you to </span>\n",
       "<span style=\"color: #008000; text-decoration-color: #008000\">receive and give help, to share knowledge, and give you the freedom to learn and test new concepts and ideas.'</span>,\n",
       "        <span style=\"color: #808000; text-decoration-color: #808000\">metadata</span>=<span style=\"font-weight: bold\">{</span>\n",
       "            <span style=\"color: #008000; text-decoration-color: #008000\">'source'</span>: <span style=\"color: #008000; text-decoration-color: #008000\">'https://www.rdisoftware.com/'</span>,\n",
       "            <span style=\"color: #008000; text-decoration-color: #008000\">'title'</span>: <span style=\"color: #008000; text-decoration-color: #008000\">'RDI Software'</span>,\n",
       "            <span style=\"color: #008000; text-decoration-color: #008000\">'description'</span>: <span style=\"color: #008000; text-decoration-color: #008000\">'RDI Software - Part of Capgemini'</span>,\n",
       "            <span style=\"color: #008000; text-decoration-color: #008000\">'language'</span>: <span style=\"color: #008000; text-decoration-color: #008000\">'No language found.'</span>\n",
       "        <span style=\"font-weight: bold\">}</span>\n",
       "    <span style=\"font-weight: bold\">)</span>,\n",
       "    <span style=\"color: #800080; text-decoration-color: #800080; font-weight: bold\">Document</span><span style=\"font-weight: bold\">(</span>\n",
       "        <span style=\"color: #808000; text-decoration-color: #808000\">page_content</span>=<span style=\"color: #008000; text-decoration-color: #008000\">\"In one word, fantastic! Even with the huge cultural and linguistic difference, RDI Hungary </span>\n",
       "<span style=\"color: #008000; text-decoration-color: #008000\">and my colleagues could not have received me better. As the only foreign inside the company right now, everyone </span>\n",
       "<span style=\"color: #008000; text-decoration-color: #008000\">helped me to achieve a fast engagement with the company know-how, and they’re always willing for me to participate </span>\n",
       "<span style=\"color: #008000; text-decoration-color: #008000\">the meetings, debates, and contribute to the work. Anderson Rancan, Senior Software Developer\\n\\n\\n                </span>\n",
       "<span style=\"color: #008000; text-decoration-color: #008000\">Budapest, Hungary\\n                    \\n\\n\\n\\n\\n\\n                        I've worked at RDI for several years </span>\n",
       "<span style=\"color: #008000; text-decoration-color: #008000\">now, and the experience has been great. There are always challenging and exciting things to do at RDI, being a </span>\n",
       "<span style=\"color: #008000; text-decoration-color: #008000\">strategic partner and subsidiary of an iconic company.\"</span>,\n",
       "        <span style=\"color: #808000; text-decoration-color: #808000\">metadata</span>=<span style=\"font-weight: bold\">{</span>\n",
       "            <span style=\"color: #008000; text-decoration-color: #008000\">'source'</span>: <span style=\"color: #008000; text-decoration-color: #008000\">'https://www.rdisoftware.com/'</span>,\n",
       "            <span style=\"color: #008000; text-decoration-color: #008000\">'title'</span>: <span style=\"color: #008000; text-decoration-color: #008000\">'RDI Software'</span>,\n",
       "            <span style=\"color: #008000; text-decoration-color: #008000\">'description'</span>: <span style=\"color: #008000; text-decoration-color: #008000\">'RDI Software - Part of Capgemini'</span>,\n",
       "            <span style=\"color: #008000; text-decoration-color: #008000\">'language'</span>: <span style=\"color: #008000; text-decoration-color: #008000\">'No language found.'</span>\n",
       "        <span style=\"font-weight: bold\">}</span>\n",
       "    <span style=\"font-weight: bold\">)</span>,\n",
       "    <span style=\"color: #800080; text-decoration-color: #800080; font-weight: bold\">Document</span><span style=\"font-weight: bold\">(</span>\n",
       "        <span style=\"color: #808000; text-decoration-color: #808000\">page_content</span>=<span style=\"color: #008000; text-decoration-color: #008000\">'We work closely with them in a global, fast-paced environment to implement business </span>\n",
       "<span style=\"color: #008000; text-decoration-color: #008000\">requirements using cutting-edge technology. Yet RDI retains the camaraderie and close-knit feel of a smaller </span>\n",
       "<span style=\"color: #008000; text-decoration-color: #008000\">company, where employees are valued and treated well. It is truly a pleasure to work for RDI. Andy Ortloff, </span>\n",
       "<span style=\"color: #008000; text-decoration-color: #008000\">Software Architect\\n\\n\\n                        Oak Brook, US\\n                    \\n\\n\\n\\n\\n\\n                    </span>\n",
       "<span style=\"color: #008000; text-decoration-color: #008000\">In my tenure with RDI, I have had the pleasure of collaborating with some amazing people! We work together as a </span>\n",
       "<span style=\"color: #008000; text-decoration-color: #008000\">team, drawing on our individual strengths, to achieve our goals.'</span>,\n",
       "        <span style=\"color: #808000; text-decoration-color: #808000\">metadata</span>=<span style=\"font-weight: bold\">{</span>\n",
       "            <span style=\"color: #008000; text-decoration-color: #008000\">'source'</span>: <span style=\"color: #008000; text-decoration-color: #008000\">'https://www.rdisoftware.com/'</span>,\n",
       "            <span style=\"color: #008000; text-decoration-color: #008000\">'title'</span>: <span style=\"color: #008000; text-decoration-color: #008000\">'RDI Software'</span>,\n",
       "            <span style=\"color: #008000; text-decoration-color: #008000\">'description'</span>: <span style=\"color: #008000; text-decoration-color: #008000\">'RDI Software - Part of Capgemini'</span>,\n",
       "            <span style=\"color: #008000; text-decoration-color: #008000\">'language'</span>: <span style=\"color: #008000; text-decoration-color: #008000\">'No language found.'</span>\n",
       "        <span style=\"font-weight: bold\">}</span>\n",
       "    <span style=\"font-weight: bold\">)</span>,\n",
       "    <span style=\"color: #800080; text-decoration-color: #800080; font-weight: bold\">Document</span><span style=\"font-weight: bold\">(</span>\n",
       "        <span style=\"color: #808000; text-decoration-color: #808000\">page_content</span>=<span style=\"color: #008000; text-decoration-color: #008000\">'I have learned so much from those around me and believe that my contributions are appreciated</span>\n",
       "<span style=\"color: #008000; text-decoration-color: #008000\">as well. I feel supported by leadership, and encouraged to develop my skills and take on new challenges in my </span>\n",
       "<span style=\"color: #008000; text-decoration-color: #008000\">career at RDI. Kristin Prestage, Administrative Analyst\\n\\n\\n                        Oak Brook, US\\n               </span>\n",
       "<span style=\"color: #008000; text-decoration-color: #008000\">\\n\\n\\n\\n\\n\\n                        What I like most about RDI is the ability to work independently (trust from </span>\n",
       "<span style=\"color: #008000; text-decoration-color: #008000\">employers). It’s great to work with people that care about their company and do a good job.'</span>,\n",
       "        <span style=\"color: #808000; text-decoration-color: #808000\">metadata</span>=<span style=\"font-weight: bold\">{</span>\n",
       "            <span style=\"color: #008000; text-decoration-color: #008000\">'source'</span>: <span style=\"color: #008000; text-decoration-color: #008000\">'https://www.rdisoftware.com/'</span>,\n",
       "            <span style=\"color: #008000; text-decoration-color: #008000\">'title'</span>: <span style=\"color: #008000; text-decoration-color: #008000\">'RDI Software'</span>,\n",
       "            <span style=\"color: #008000; text-decoration-color: #008000\">'description'</span>: <span style=\"color: #008000; text-decoration-color: #008000\">'RDI Software - Part of Capgemini'</span>,\n",
       "            <span style=\"color: #008000; text-decoration-color: #008000\">'language'</span>: <span style=\"color: #008000; text-decoration-color: #008000\">'No language found.'</span>\n",
       "        <span style=\"font-weight: bold\">}</span>\n",
       "    <span style=\"font-weight: bold\">)</span>,\n",
       "    <span style=\"color: #800080; text-decoration-color: #800080; font-weight: bold\">Document</span><span style=\"font-weight: bold\">(</span>\n",
       "        <span style=\"color: #808000; text-decoration-color: #808000\">page_content</span>=<span style=\"color: #008000; text-decoration-color: #008000\">'It’s hard to find that environment today because so many people just don’t care about </span>\n",
       "<span style=\"color: #008000; text-decoration-color: #008000\">honesty, hard work and integrity. It has been possible to develop myself personally and professionally at RDI. I </span>\n",
       "<span style=\"color: #008000; text-decoration-color: #008000\">enjoy being part of a company like RDI, which is open to hearing the views of employees, as well as offering </span>\n",
       "<span style=\"color: #008000; text-decoration-color: #008000\">subsidies for learning and flexibility to work.'</span>,\n",
       "        <span style=\"color: #808000; text-decoration-color: #808000\">metadata</span>=<span style=\"font-weight: bold\">{</span>\n",
       "            <span style=\"color: #008000; text-decoration-color: #008000\">'source'</span>: <span style=\"color: #008000; text-decoration-color: #008000\">'https://www.rdisoftware.com/'</span>,\n",
       "            <span style=\"color: #008000; text-decoration-color: #008000\">'title'</span>: <span style=\"color: #008000; text-decoration-color: #008000\">'RDI Software'</span>,\n",
       "            <span style=\"color: #008000; text-decoration-color: #008000\">'description'</span>: <span style=\"color: #008000; text-decoration-color: #008000\">'RDI Software - Part of Capgemini'</span>,\n",
       "            <span style=\"color: #008000; text-decoration-color: #008000\">'language'</span>: <span style=\"color: #008000; text-decoration-color: #008000\">'No language found.'</span>\n",
       "        <span style=\"font-weight: bold\">}</span>\n",
       "    <span style=\"font-weight: bold\">)</span>,\n",
       "    <span style=\"color: #800080; text-decoration-color: #800080; font-weight: bold\">Document</span><span style=\"font-weight: bold\">(</span>\n",
       "        <span style=\"color: #808000; text-decoration-color: #808000\">page_content</span>=<span style=\"color: #008000; text-decoration-color: #008000\">'Salary and benefits competitive with the market also makes me comfortable in establishing a </span>\n",
       "<span style=\"color: #008000; text-decoration-color: #008000\">long-term development goal of the company. I am happy and peaceful to be working in a big company, solid and </span>\n",
       "<span style=\"color: #008000; text-decoration-color: #008000\">effective as RDI\\n                    \\n\\n\\n\\n\\n\\n\\n                        Ariane Medeiros, Software Quality </span>\n",
       "<span style=\"color: #008000; text-decoration-color: #008000\">Assurance Analyst\\n\\n\\n                        Sao Paulo, Brazil\\n                    \\n\\n\\n\\n\\n\\n\\n\\n\\n\\n\\n </span>\n",
       "<span style=\"color: #008000; text-decoration-color: #008000\">Success! Your message has been sent to us.'</span>,\n",
       "        <span style=\"color: #808000; text-decoration-color: #808000\">metadata</span>=<span style=\"font-weight: bold\">{</span>\n",
       "            <span style=\"color: #008000; text-decoration-color: #008000\">'source'</span>: <span style=\"color: #008000; text-decoration-color: #008000\">'https://www.rdisoftware.com/'</span>,\n",
       "            <span style=\"color: #008000; text-decoration-color: #008000\">'title'</span>: <span style=\"color: #008000; text-decoration-color: #008000\">'RDI Software'</span>,\n",
       "            <span style=\"color: #008000; text-decoration-color: #008000\">'description'</span>: <span style=\"color: #008000; text-decoration-color: #008000\">'RDI Software - Part of Capgemini'</span>,\n",
       "            <span style=\"color: #008000; text-decoration-color: #008000\">'language'</span>: <span style=\"color: #008000; text-decoration-color: #008000\">'No language found.'</span>\n",
       "        <span style=\"font-weight: bold\">}</span>\n",
       "    <span style=\"font-weight: bold\">)</span>,\n",
       "    <span style=\"color: #800080; text-decoration-color: #800080; font-weight: bold\">Document</span><span style=\"font-weight: bold\">(</span>\n",
       "        <span style=\"color: #808000; text-decoration-color: #808000\">page_content</span>=<span style=\"color: #008000; text-decoration-color: #008000\">'Error!'</span>,\n",
       "        <span style=\"color: #808000; text-decoration-color: #808000\">metadata</span>=<span style=\"font-weight: bold\">{</span>\n",
       "            <span style=\"color: #008000; text-decoration-color: #008000\">'source'</span>: <span style=\"color: #008000; text-decoration-color: #008000\">'https://www.rdisoftware.com/'</span>,\n",
       "            <span style=\"color: #008000; text-decoration-color: #008000\">'title'</span>: <span style=\"color: #008000; text-decoration-color: #008000\">'RDI Software'</span>,\n",
       "            <span style=\"color: #008000; text-decoration-color: #008000\">'description'</span>: <span style=\"color: #008000; text-decoration-color: #008000\">'RDI Software - Part of Capgemini'</span>,\n",
       "            <span style=\"color: #008000; text-decoration-color: #008000\">'language'</span>: <span style=\"color: #008000; text-decoration-color: #008000\">'No language found.'</span>\n",
       "        <span style=\"font-weight: bold\">}</span>\n",
       "    <span style=\"font-weight: bold\">)</span>,\n",
       "    <span style=\"color: #800080; text-decoration-color: #800080; font-weight: bold\">Document</span><span style=\"font-weight: bold\">(</span>\n",
       "        <span style=\"color: #808000; text-decoration-color: #808000\">page_content</span>=<span style=\"color: #008000; text-decoration-color: #008000\">'There was an error sending your message. Contact Us\\n\\n\\n\\n\\nYour name *\\n\\n\\n\\nYour email </span>\n",
       "<span style=\"color: #008000; text-decoration-color: #008000\">address *\\n\\n\\n\\n\\n\\n\\n\\nSubject\\n\\n\\n\\n\\n\\n\\n\\nMessage *\\n\\n\\n\\n\\n\\n\\n\\n\\n\\n\\n\\n\\nImportant e-mails\\n\\n Email: </span>\n",
       "<span style=\"color: #008000; text-decoration-color: #008000\">Human Resources\\n Email: Support\\n\\n\\n\\n\\n\\n\\n\\n\\n\\n\\nThe Company is growing\\n We’re expanding our team! We are </span>\n",
       "<span style=\"color: #008000; text-decoration-color: #008000\">looking for new team members that are strong performers, love big challenges and will fit in with the culture at </span>\n",
       "<span style=\"color: #008000; text-decoration-color: #008000\">RDI.'</span>,\n",
       "        <span style=\"color: #808000; text-decoration-color: #808000\">metadata</span>=<span style=\"font-weight: bold\">{</span>\n",
       "            <span style=\"color: #008000; text-decoration-color: #008000\">'source'</span>: <span style=\"color: #008000; text-decoration-color: #008000\">'https://www.rdisoftware.com/'</span>,\n",
       "            <span style=\"color: #008000; text-decoration-color: #008000\">'title'</span>: <span style=\"color: #008000; text-decoration-color: #008000\">'RDI Software'</span>,\n",
       "            <span style=\"color: #008000; text-decoration-color: #008000\">'description'</span>: <span style=\"color: #008000; text-decoration-color: #008000\">'RDI Software - Part of Capgemini'</span>,\n",
       "            <span style=\"color: #008000; text-decoration-color: #008000\">'language'</span>: <span style=\"color: #008000; text-decoration-color: #008000\">'No language found.'</span>\n",
       "        <span style=\"font-weight: bold\">}</span>\n",
       "    <span style=\"font-weight: bold\">)</span>,\n",
       "    <span style=\"color: #800080; text-decoration-color: #800080; font-weight: bold\">Document</span><span style=\"font-weight: bold\">(</span>\n",
       "        <span style=\"color: #808000; text-decoration-color: #808000\">page_content</span>=<span style=\"color: #008000; text-decoration-color: #008000\">'Contact RDI HR directly – we may be looking for you! Contact Us\\n\\n </span>\n",
       "<span style=\"color: #008000; text-decoration-color: #008000\">rdihumanresources.hr@capgemini.com\\n\\n\\n\\nLinkedin\\n\\n\\n\\n\\n\\n\\n\\n\\n    \\n\\n Privacy Notice - Brazil \\n Salary </span>\n",
       "<span style=\"color: #008000; text-decoration-color: #008000\">Transparency Report \\n\\n\\n\\n\\n\\n\\n\\n\\n\\n\\n\\n\\n\\n\\n\\n\\n\\n\\n\\n\\n\\n\\n\\n\\n\\n\\n\\n\\n\\n\\n\\n\\n\\n\\n\\n\\n'</span>,\n",
       "        <span style=\"color: #808000; text-decoration-color: #808000\">metadata</span>=<span style=\"font-weight: bold\">{</span>\n",
       "            <span style=\"color: #008000; text-decoration-color: #008000\">'source'</span>: <span style=\"color: #008000; text-decoration-color: #008000\">'https://www.rdisoftware.com/'</span>,\n",
       "            <span style=\"color: #008000; text-decoration-color: #008000\">'title'</span>: <span style=\"color: #008000; text-decoration-color: #008000\">'RDI Software'</span>,\n",
       "            <span style=\"color: #008000; text-decoration-color: #008000\">'description'</span>: <span style=\"color: #008000; text-decoration-color: #008000\">'RDI Software - Part of Capgemini'</span>,\n",
       "            <span style=\"color: #008000; text-decoration-color: #008000\">'language'</span>: <span style=\"color: #008000; text-decoration-color: #008000\">'No language found.'</span>\n",
       "        <span style=\"font-weight: bold\">}</span>\n",
       "    <span style=\"font-weight: bold\">)</span>\n",
       "<span style=\"font-weight: bold\">]</span>\n",
       "</pre>\n"
      ],
      "text/plain": [
       "\u001b[1m[\u001b[0m\n",
       "    \u001b[1;35mDocument\u001b[0m\u001b[1m(\u001b[0m\n",
       "        \u001b[33mpage_content\u001b[0m=\u001b[32m'\\n\\n\\n\\n\\nRDI \u001b[0m\n",
       "\u001b[32mSoftware\\n\\n\\n\\n\\n\\n\\n\\n\\n\\n\\n\\n\\n\\n\\n\\n\\n\\n\\n\\n\\n\\n\\n\\n\\n\\n\\n\\n\\n\\n\\n\\n\\n\\n\\n\\n    \\n  \u001b[0m\n",
       "\u001b[32m\\n\\n\\n\\n\\nLinkedin\\nInstagram\\nGlassdoor\\n\\n\\n\\n  Home  \\n Discover RDI \\n Our Services \\n Careers \\n Testimonials \u001b[0m\n",
       "\u001b[32m\\n Contact Us \\n\\n\\n\\n\\n\\n\\n\\n\\n\\n \\nmore than just a technology company\\na PEOPLE company\\n DISCOVER \u001b[0m\n",
       "\u001b[32m\\n\\n\\n\\n\\n\\n\\n\\n\\nWe proudly serve the leading global foodservice retailer with a focus on improving the overall \u001b[0m\n",
       "\u001b[32mcrew and customer experience, resulting in improved operations in the restaurants. Discover RDI\\n\\n\\n\\n  \\n\\nRDI \u001b[0m\n",
       "\u001b[32mhas 20+ years of history working as a strategic partner of a major global QSR \u001b[0m\u001b[32m(\u001b[0m\u001b[32mQuick Service Restaurant\u001b[0m\u001b[32m)\u001b[0m\u001b[32m retailer. \u001b[0m\n",
       "\u001b[32mRDI delivers POS services \u001b[0m\u001b[32m(\u001b[0m\u001b[32mpoint-of-sale\u001b[0m\u001b[32m)\u001b[0m\u001b[32m and related software applications that focus on the overall crew and \u001b[0m\n",
       "\u001b[32mcustomer experience, resulting in improved operations to the fastest growing food restaurant chain over 120 \u001b[0m\n",
       "\u001b[32mcountries and over 37,500 locations worldwide.RDI joined Capgemini group in 2017, which has 270,000 collaborators \u001b[0m\n",
       "\u001b[32min almost 50 countries. Our Development Centers are in Sao Paulo \u001b[0m\u001b[32m(\u001b[0m\u001b[32mBrazil\u001b[0m\u001b[32m)\u001b[0m\u001b[32m, Budapest and Debrecen \u001b[0m\u001b[32m(\u001b[0m\u001b[32mHungary\u001b[0m\u001b[32m)\u001b[0m\u001b[32m.'\u001b[0m,\n",
       "        \u001b[33mmetadata\u001b[0m=\u001b[1m{\u001b[0m\n",
       "            \u001b[32m'source'\u001b[0m: \u001b[32m'https://www.rdisoftware.com/'\u001b[0m,\n",
       "            \u001b[32m'title'\u001b[0m: \u001b[32m'RDI Software'\u001b[0m,\n",
       "            \u001b[32m'description'\u001b[0m: \u001b[32m'RDI Software - Part of Capgemini'\u001b[0m,\n",
       "            \u001b[32m'language'\u001b[0m: \u001b[32m'No language found.'\u001b[0m\n",
       "        \u001b[1m}\u001b[0m\n",
       "    \u001b[1m)\u001b[0m,\n",
       "    \u001b[1;35mDocument\u001b[0m\u001b[1m(\u001b[0m\n",
       "        \u001b[33mpage_content\u001b[0m=\u001b[32m'120\\ncountries deployed\\n\\n  37,500\\nrestaurants running our products\\n\\n  1.7\\nmillion \u001b[0m\n",
       "\u001b[32musers\\n\\n  2\\ndevelopment centers\\n\\n\\n\\n\\n\\n\\n\\n\\n\\nPurpose and Values\\n\\n\\n\\nOur Purpose\\nSupport our partner by \u001b[0m\n",
       "\u001b[32mincreasing product deliveries and leveraging high-end technology to transform customer experience. Our \u001b[0m\n",
       "\u001b[32mVision\\nProvide remarkable experience for our PEOPLE and our partner!'\u001b[0m,\n",
       "        \u001b[33mmetadata\u001b[0m=\u001b[1m{\u001b[0m\n",
       "            \u001b[32m'source'\u001b[0m: \u001b[32m'https://www.rdisoftware.com/'\u001b[0m,\n",
       "            \u001b[32m'title'\u001b[0m: \u001b[32m'RDI Software'\u001b[0m,\n",
       "            \u001b[32m'description'\u001b[0m: \u001b[32m'RDI Software - Part of Capgemini'\u001b[0m,\n",
       "            \u001b[32m'language'\u001b[0m: \u001b[32m'No language found.'\u001b[0m\n",
       "        \u001b[1m}\u001b[0m\n",
       "    \u001b[1m)\u001b[0m,\n",
       "    \u001b[1;35mDocument\u001b[0m\u001b[1m(\u001b[0m\n",
       "        \u001b[33mpage_content\u001b[0m=\u001b[32m'Our Powerful Values\\n\\n\\n\\n\\n\\n\\n\\n\\n\\n\\n\\n\\nDiversity and Inclusion\\n\\n\\nRDI values the \u001b[0m\n",
       "\u001b[32mplurality of race, color, religion, gender, gender identity, nationality, sexual orientation, disabilities and age.\u001b[0m\n",
       "\u001b[32mBe plural is value and respect the differences.'\u001b[0m,\n",
       "        \u001b[33mmetadata\u001b[0m=\u001b[1m{\u001b[0m\n",
       "            \u001b[32m'source'\u001b[0m: \u001b[32m'https://www.rdisoftware.com/'\u001b[0m,\n",
       "            \u001b[32m'title'\u001b[0m: \u001b[32m'RDI Software'\u001b[0m,\n",
       "            \u001b[32m'description'\u001b[0m: \u001b[32m'RDI Software - Part of Capgemini'\u001b[0m,\n",
       "            \u001b[32m'language'\u001b[0m: \u001b[32m'No language found.'\u001b[0m\n",
       "        \u001b[1m}\u001b[0m\n",
       "    \u001b[1m)\u001b[0m,\n",
       "    \u001b[1;35mDocument\u001b[0m\u001b[1m(\u001b[0m\n",
       "        \u001b[33mpage_content\u001b[0m=\u001b[32m'At RDI you are free to be you! Our Services\\n\\n\\n\\n  \\n\\nSoftware Development\\nWe perform all\u001b[0m\n",
       "\u001b[32mphases of the development life cycle across crew and customer-facing restaurant applications and work closely with \u001b[0m\n",
       "\u001b[32mour client to bring innovative solutions to life in the restaurants.'\u001b[0m,\n",
       "        \u001b[33mmetadata\u001b[0m=\u001b[1m{\u001b[0m\n",
       "            \u001b[32m'source'\u001b[0m: \u001b[32m'https://www.rdisoftware.com/'\u001b[0m,\n",
       "            \u001b[32m'title'\u001b[0m: \u001b[32m'RDI Software'\u001b[0m,\n",
       "            \u001b[32m'description'\u001b[0m: \u001b[32m'RDI Software - Part of Capgemini'\u001b[0m,\n",
       "            \u001b[32m'language'\u001b[0m: \u001b[32m'No language found.'\u001b[0m\n",
       "        \u001b[1m}\u001b[0m\n",
       "    \u001b[1m)\u001b[0m,\n",
       "    \u001b[1;35mDocument\u001b[0m\u001b[1m(\u001b[0m\n",
       "        \u001b[33mpage_content\u001b[0m=\u001b[32m'Testing and Support\\nWe perform unit and full regression tests of our software to ensure that\u001b[0m\n",
       "\u001b[32mexisting and new functionality is working as defined.'\u001b[0m,\n",
       "        \u001b[33mmetadata\u001b[0m=\u001b[1m{\u001b[0m\n",
       "            \u001b[32m'source'\u001b[0m: \u001b[32m'https://www.rdisoftware.com/'\u001b[0m,\n",
       "            \u001b[32m'title'\u001b[0m: \u001b[32m'RDI Software'\u001b[0m,\n",
       "            \u001b[32m'description'\u001b[0m: \u001b[32m'RDI Software - Part of Capgemini'\u001b[0m,\n",
       "            \u001b[32m'language'\u001b[0m: \u001b[32m'No language found.'\u001b[0m\n",
       "        \u001b[1m}\u001b[0m\n",
       "    \u001b[1m)\u001b[0m,\n",
       "    \u001b[1;35mDocument\u001b[0m\u001b[1m(\u001b[0m\n",
       "        \u001b[33mpage_content\u001b[0m=\u001b[32m'We review, investigate and resolve issues reported through the test environments and live \u001b[0m\n",
       "\u001b[32mrestaurants to ensure that the application supports the restaurant business 24x7. Release Management\\nRDI provides \u001b[0m\n",
       "\u001b[32msoftware release management services for a tightly integrated suite of applications. Our  service maintains the \u001b[0m\n",
       "\u001b[32mdevelopment and delivery schedules for products, identifying any potential conflicts or opportunities to speed \u001b[0m\n",
       "\u001b[32mdelivery.'\u001b[0m,\n",
       "        \u001b[33mmetadata\u001b[0m=\u001b[1m{\u001b[0m\n",
       "            \u001b[32m'source'\u001b[0m: \u001b[32m'https://www.rdisoftware.com/'\u001b[0m,\n",
       "            \u001b[32m'title'\u001b[0m: \u001b[32m'RDI Software'\u001b[0m,\n",
       "            \u001b[32m'description'\u001b[0m: \u001b[32m'RDI Software - Part of Capgemini'\u001b[0m,\n",
       "            \u001b[32m'language'\u001b[0m: \u001b[32m'No language found.'\u001b[0m\n",
       "        \u001b[1m}\u001b[0m\n",
       "    \u001b[1m)\u001b[0m,\n",
       "    \u001b[1;35mDocument\u001b[0m\u001b[1m(\u001b[0m\n",
       "        \u001b[33mpage_content\u001b[0m=\u001b[32m'Localization services\\nThe company provides documentation and localization services for new \u001b[0m\n",
       "\u001b[32mapplications developed and delivered to the markets.'\u001b[0m,\n",
       "        \u001b[33mmetadata\u001b[0m=\u001b[1m{\u001b[0m\n",
       "            \u001b[32m'source'\u001b[0m: \u001b[32m'https://www.rdisoftware.com/'\u001b[0m,\n",
       "            \u001b[32m'title'\u001b[0m: \u001b[32m'RDI Software'\u001b[0m,\n",
       "            \u001b[32m'description'\u001b[0m: \u001b[32m'RDI Software - Part of Capgemini'\u001b[0m,\n",
       "            \u001b[32m'language'\u001b[0m: \u001b[32m'No language found.'\u001b[0m\n",
       "        \u001b[1m}\u001b[0m\n",
       "    \u001b[1m)\u001b[0m,\n",
       "    \u001b[1;35mDocument\u001b[0m\u001b[1m(\u001b[0m\n",
       "        \u001b[33mpage_content\u001b[0m=\u001b[32m'Careers\\n\\n\\n If you love the idea of leveraging your technical and business skills to help \u001b[0m\n",
       "\u001b[32mdrive growth in the Quick Service Restaurantindustry through the innovative use of new technology, join us.'\u001b[0m,\n",
       "        \u001b[33mmetadata\u001b[0m=\u001b[1m{\u001b[0m\n",
       "            \u001b[32m'source'\u001b[0m: \u001b[32m'https://www.rdisoftware.com/'\u001b[0m,\n",
       "            \u001b[32m'title'\u001b[0m: \u001b[32m'RDI Software'\u001b[0m,\n",
       "            \u001b[32m'description'\u001b[0m: \u001b[32m'RDI Software - Part of Capgemini'\u001b[0m,\n",
       "            \u001b[32m'language'\u001b[0m: \u001b[32m'No language found.'\u001b[0m\n",
       "        \u001b[1m}\u001b[0m\n",
       "    \u001b[1m)\u001b[0m,\n",
       "    \u001b[1;35mDocument\u001b[0m\u001b[1m(\u001b[0m\n",
       "        \u001b[33mpage_content\u001b[0m=\u001b[32m'RDI is an equal opportunity employer and is committed to a diverse and inclusive workforce. \u001b[0m\n",
       "\u001b[32mJoin Us\\n\\nWe have open positions in the offices of Brazil and Hungary:\\nApply Now\\n\\n\\n\\n\\n\\n\\nBenefits & How we \u001b[0m\n",
       "\u001b[32mhire \\nBenefits - RDI’s collaborative and flexible work environment and high-performance team delivers innovative \u001b[0m\n",
       "\u001b[32msolutions to our clients. Our benefit package includes a range of market-relevant benefits to help you manage the \u001b[0m\n",
       "\u001b[32mdemands of your career and home life.'\u001b[0m,\n",
       "        \u001b[33mmetadata\u001b[0m=\u001b[1m{\u001b[0m\n",
       "            \u001b[32m'source'\u001b[0m: \u001b[32m'https://www.rdisoftware.com/'\u001b[0m,\n",
       "            \u001b[32m'title'\u001b[0m: \u001b[32m'RDI Software'\u001b[0m,\n",
       "            \u001b[32m'description'\u001b[0m: \u001b[32m'RDI Software - Part of Capgemini'\u001b[0m,\n",
       "            \u001b[32m'language'\u001b[0m: \u001b[32m'No language found.'\u001b[0m\n",
       "        \u001b[1m}\u001b[0m\n",
       "    \u001b[1m)\u001b[0m,\n",
       "    \u001b[1;35mDocument\u001b[0m\u001b[1m(\u001b[0m\n",
       "        \u001b[33mpage_content\u001b[0m=\u001b[32m'How we hire - Our process is simple; the path to getting hired usually involves a first \u001b[0m\n",
       "\u001b[32mconversation with a recruiter, a technical evaluation and an interview at one of our global offices with the hiring\u001b[0m\n",
       "\u001b[32mManager and HR.'\u001b[0m,\n",
       "        \u001b[33mmetadata\u001b[0m=\u001b[1m{\u001b[0m\n",
       "            \u001b[32m'source'\u001b[0m: \u001b[32m'https://www.rdisoftware.com/'\u001b[0m,\n",
       "            \u001b[32m'title'\u001b[0m: \u001b[32m'RDI Software'\u001b[0m,\n",
       "            \u001b[32m'description'\u001b[0m: \u001b[32m'RDI Software - Part of Capgemini'\u001b[0m,\n",
       "            \u001b[32m'language'\u001b[0m: \u001b[32m'No language found.'\u001b[0m\n",
       "        \u001b[1m}\u001b[0m\n",
       "    \u001b[1m)\u001b[0m,\n",
       "    \u001b[1;35mDocument\u001b[0m\u001b[1m(\u001b[0m\n",
       "        \u001b[33mpage_content\u001b[0m=\u001b[32m'Join Us\\nRevolutionizing restaurant operations through innovative Technology Solutions. \u001b[0m\n",
       "\u001b[32mTestimonials\\n\\n\\n\\n\\n                        Getting full support for my personal and professional development is \u001b[0m\n",
       "\u001b[32mjust one reason that I feel lucky working for RDI.'\u001b[0m,\n",
       "        \u001b[33mmetadata\u001b[0m=\u001b[1m{\u001b[0m\n",
       "            \u001b[32m'source'\u001b[0m: \u001b[32m'https://www.rdisoftware.com/'\u001b[0m,\n",
       "            \u001b[32m'title'\u001b[0m: \u001b[32m'RDI Software'\u001b[0m,\n",
       "            \u001b[32m'description'\u001b[0m: \u001b[32m'RDI Software - Part of Capgemini'\u001b[0m,\n",
       "            \u001b[32m'language'\u001b[0m: \u001b[32m'No language found.'\u001b[0m\n",
       "        \u001b[1m}\u001b[0m\n",
       "    \u001b[1m)\u001b[0m,\n",
       "    \u001b[1;35mDocument\u001b[0m\u001b[1m(\u001b[0m\n",
       "        \u001b[33mpage_content\u001b[0m=\u001b[32m'Here I am not only an employee but a colleague and a friend, and this is not only a workplace\u001b[0m\n",
       "\u001b[32mbut a wonderful and inspiring community that is a pleasure to visit every day.'\u001b[0m,\n",
       "        \u001b[33mmetadata\u001b[0m=\u001b[1m{\u001b[0m\n",
       "            \u001b[32m'source'\u001b[0m: \u001b[32m'https://www.rdisoftware.com/'\u001b[0m,\n",
       "            \u001b[32m'title'\u001b[0m: \u001b[32m'RDI Software'\u001b[0m,\n",
       "            \u001b[32m'description'\u001b[0m: \u001b[32m'RDI Software - Part of Capgemini'\u001b[0m,\n",
       "            \u001b[32m'language'\u001b[0m: \u001b[32m'No language found.'\u001b[0m\n",
       "        \u001b[1m}\u001b[0m\n",
       "    \u001b[1m)\u001b[0m,\n",
       "    \u001b[1;35mDocument\u001b[0m\u001b[1m(\u001b[0m\n",
       "        \u001b[33mpage_content\u001b[0m=\u001b[32m'Sarolta Mezei, Technical Writer\\n\\n\\n                        Debrecen, Hungary\\n             \u001b[0m\n",
       "\u001b[32m\\n\\n\\n\\n\\n\\n                        Definitely the working environment. It’s very friendly, it allows you to \u001b[0m\n",
       "\u001b[32mreceive and give help, to share knowledge, and give you the freedom to learn and test new concepts and ideas.'\u001b[0m,\n",
       "        \u001b[33mmetadata\u001b[0m=\u001b[1m{\u001b[0m\n",
       "            \u001b[32m'source'\u001b[0m: \u001b[32m'https://www.rdisoftware.com/'\u001b[0m,\n",
       "            \u001b[32m'title'\u001b[0m: \u001b[32m'RDI Software'\u001b[0m,\n",
       "            \u001b[32m'description'\u001b[0m: \u001b[32m'RDI Software - Part of Capgemini'\u001b[0m,\n",
       "            \u001b[32m'language'\u001b[0m: \u001b[32m'No language found.'\u001b[0m\n",
       "        \u001b[1m}\u001b[0m\n",
       "    \u001b[1m)\u001b[0m,\n",
       "    \u001b[1;35mDocument\u001b[0m\u001b[1m(\u001b[0m\n",
       "        \u001b[33mpage_content\u001b[0m=\u001b[32m\"In\u001b[0m\u001b[32m one word, fantastic! Even with the huge cultural and linguistic difference, RDI Hungary \u001b[0m\n",
       "\u001b[32mand my colleagues could not have received me better. As the only foreign inside the company right now, everyone \u001b[0m\n",
       "\u001b[32mhelped me to achieve a fast engagement with the company know-how, and they’re always willing for me to participate \u001b[0m\n",
       "\u001b[32mthe meetings, debates, and contribute to the work. Anderson Rancan, Senior Software Developer\\n\\n\\n                \u001b[0m\n",
       "\u001b[32mBudapest, Hungary\\n                    \\n\\n\\n\\n\\n\\n                        I've worked at RDI for several years \u001b[0m\n",
       "\u001b[32mnow, and the experience has been great. There are always challenging and exciting things to do at RDI, being a \u001b[0m\n",
       "\u001b[32mstrategic partner and subsidiary of an iconic company.\"\u001b[0m,\n",
       "        \u001b[33mmetadata\u001b[0m=\u001b[1m{\u001b[0m\n",
       "            \u001b[32m'source'\u001b[0m: \u001b[32m'https://www.rdisoftware.com/'\u001b[0m,\n",
       "            \u001b[32m'title'\u001b[0m: \u001b[32m'RDI Software'\u001b[0m,\n",
       "            \u001b[32m'description'\u001b[0m: \u001b[32m'RDI Software - Part of Capgemini'\u001b[0m,\n",
       "            \u001b[32m'language'\u001b[0m: \u001b[32m'No language found.'\u001b[0m\n",
       "        \u001b[1m}\u001b[0m\n",
       "    \u001b[1m)\u001b[0m,\n",
       "    \u001b[1;35mDocument\u001b[0m\u001b[1m(\u001b[0m\n",
       "        \u001b[33mpage_content\u001b[0m=\u001b[32m'We work closely with them in a global, fast-paced environment to implement business \u001b[0m\n",
       "\u001b[32mrequirements using cutting-edge technology. Yet RDI retains the camaraderie and close-knit feel of a smaller \u001b[0m\n",
       "\u001b[32mcompany, where employees are valued and treated well. It is truly a pleasure to work for RDI. Andy Ortloff, \u001b[0m\n",
       "\u001b[32mSoftware Architect\\n\\n\\n                        Oak Brook, US\\n                    \\n\\n\\n\\n\\n\\n                    \u001b[0m\n",
       "\u001b[32mIn my tenure with RDI, I have had the pleasure of collaborating with some amazing people! We work together as a \u001b[0m\n",
       "\u001b[32mteam, drawing on our individual strengths, to achieve our goals.'\u001b[0m,\n",
       "        \u001b[33mmetadata\u001b[0m=\u001b[1m{\u001b[0m\n",
       "            \u001b[32m'source'\u001b[0m: \u001b[32m'https://www.rdisoftware.com/'\u001b[0m,\n",
       "            \u001b[32m'title'\u001b[0m: \u001b[32m'RDI Software'\u001b[0m,\n",
       "            \u001b[32m'description'\u001b[0m: \u001b[32m'RDI Software - Part of Capgemini'\u001b[0m,\n",
       "            \u001b[32m'language'\u001b[0m: \u001b[32m'No language found.'\u001b[0m\n",
       "        \u001b[1m}\u001b[0m\n",
       "    \u001b[1m)\u001b[0m,\n",
       "    \u001b[1;35mDocument\u001b[0m\u001b[1m(\u001b[0m\n",
       "        \u001b[33mpage_content\u001b[0m=\u001b[32m'I have learned so much from those around me and believe that my contributions are appreciated\u001b[0m\n",
       "\u001b[32mas well. I feel supported by leadership, and encouraged to develop my skills and take on new challenges in my \u001b[0m\n",
       "\u001b[32mcareer at RDI. Kristin Prestage, Administrative Analyst\\n\\n\\n                        Oak Brook, US\\n               \u001b[0m\n",
       "\u001b[32m\\n\\n\\n\\n\\n\\n                        What I like most about RDI is the ability to work independently \u001b[0m\u001b[32m(\u001b[0m\u001b[32mtrust from \u001b[0m\n",
       "\u001b[32memployers\u001b[0m\u001b[32m)\u001b[0m\u001b[32m. It’s great to work with people that care about their company and do a good job.'\u001b[0m,\n",
       "        \u001b[33mmetadata\u001b[0m=\u001b[1m{\u001b[0m\n",
       "            \u001b[32m'source'\u001b[0m: \u001b[32m'https://www.rdisoftware.com/'\u001b[0m,\n",
       "            \u001b[32m'title'\u001b[0m: \u001b[32m'RDI Software'\u001b[0m,\n",
       "            \u001b[32m'description'\u001b[0m: \u001b[32m'RDI Software - Part of Capgemini'\u001b[0m,\n",
       "            \u001b[32m'language'\u001b[0m: \u001b[32m'No language found.'\u001b[0m\n",
       "        \u001b[1m}\u001b[0m\n",
       "    \u001b[1m)\u001b[0m,\n",
       "    \u001b[1;35mDocument\u001b[0m\u001b[1m(\u001b[0m\n",
       "        \u001b[33mpage_content\u001b[0m=\u001b[32m'It’s hard to find that environment today because so many people just don’t care about \u001b[0m\n",
       "\u001b[32mhonesty, hard work and integrity. It has been possible to develop myself personally and professionally at RDI. I \u001b[0m\n",
       "\u001b[32menjoy being part of a company like RDI, which is open to hearing the views of employees, as well as offering \u001b[0m\n",
       "\u001b[32msubsidies for learning and flexibility to work.'\u001b[0m,\n",
       "        \u001b[33mmetadata\u001b[0m=\u001b[1m{\u001b[0m\n",
       "            \u001b[32m'source'\u001b[0m: \u001b[32m'https://www.rdisoftware.com/'\u001b[0m,\n",
       "            \u001b[32m'title'\u001b[0m: \u001b[32m'RDI Software'\u001b[0m,\n",
       "            \u001b[32m'description'\u001b[0m: \u001b[32m'RDI Software - Part of Capgemini'\u001b[0m,\n",
       "            \u001b[32m'language'\u001b[0m: \u001b[32m'No language found.'\u001b[0m\n",
       "        \u001b[1m}\u001b[0m\n",
       "    \u001b[1m)\u001b[0m,\n",
       "    \u001b[1;35mDocument\u001b[0m\u001b[1m(\u001b[0m\n",
       "        \u001b[33mpage_content\u001b[0m=\u001b[32m'Salary and benefits competitive with the market also makes me comfortable in establishing a \u001b[0m\n",
       "\u001b[32mlong-term development goal of the company. I am happy and peaceful to be working in a big company, solid and \u001b[0m\n",
       "\u001b[32meffective as RDI\\n                    \\n\\n\\n\\n\\n\\n\\n                        Ariane Medeiros, Software Quality \u001b[0m\n",
       "\u001b[32mAssurance Analyst\\n\\n\\n                        Sao Paulo, Brazil\\n                    \\n\\n\\n\\n\\n\\n\\n\\n\\n\\n\\n \u001b[0m\n",
       "\u001b[32mSuccess! Your message has been sent to us.'\u001b[0m,\n",
       "        \u001b[33mmetadata\u001b[0m=\u001b[1m{\u001b[0m\n",
       "            \u001b[32m'source'\u001b[0m: \u001b[32m'https://www.rdisoftware.com/'\u001b[0m,\n",
       "            \u001b[32m'title'\u001b[0m: \u001b[32m'RDI Software'\u001b[0m,\n",
       "            \u001b[32m'description'\u001b[0m: \u001b[32m'RDI Software - Part of Capgemini'\u001b[0m,\n",
       "            \u001b[32m'language'\u001b[0m: \u001b[32m'No language found.'\u001b[0m\n",
       "        \u001b[1m}\u001b[0m\n",
       "    \u001b[1m)\u001b[0m,\n",
       "    \u001b[1;35mDocument\u001b[0m\u001b[1m(\u001b[0m\n",
       "        \u001b[33mpage_content\u001b[0m=\u001b[32m'Error!'\u001b[0m,\n",
       "        \u001b[33mmetadata\u001b[0m=\u001b[1m{\u001b[0m\n",
       "            \u001b[32m'source'\u001b[0m: \u001b[32m'https://www.rdisoftware.com/'\u001b[0m,\n",
       "            \u001b[32m'title'\u001b[0m: \u001b[32m'RDI Software'\u001b[0m,\n",
       "            \u001b[32m'description'\u001b[0m: \u001b[32m'RDI Software - Part of Capgemini'\u001b[0m,\n",
       "            \u001b[32m'language'\u001b[0m: \u001b[32m'No language found.'\u001b[0m\n",
       "        \u001b[1m}\u001b[0m\n",
       "    \u001b[1m)\u001b[0m,\n",
       "    \u001b[1;35mDocument\u001b[0m\u001b[1m(\u001b[0m\n",
       "        \u001b[33mpage_content\u001b[0m=\u001b[32m'There was an error sending your message. Contact Us\\n\\n\\n\\n\\nYour name *\\n\\n\\n\\nYour email \u001b[0m\n",
       "\u001b[32maddress *\\n\\n\\n\\n\\n\\n\\n\\nSubject\\n\\n\\n\\n\\n\\n\\n\\nMessage *\\n\\n\\n\\n\\n\\n\\n\\n\\n\\n\\n\\n\\nImportant e-mails\\n\\n Email: \u001b[0m\n",
       "\u001b[32mHuman Resources\\n Email: Support\\n\\n\\n\\n\\n\\n\\n\\n\\n\\n\\nThe Company is growing\\n We’re expanding our team! We are \u001b[0m\n",
       "\u001b[32mlooking for new team members that are strong performers, love big challenges and will fit in with the culture at \u001b[0m\n",
       "\u001b[32mRDI.'\u001b[0m,\n",
       "        \u001b[33mmetadata\u001b[0m=\u001b[1m{\u001b[0m\n",
       "            \u001b[32m'source'\u001b[0m: \u001b[32m'https://www.rdisoftware.com/'\u001b[0m,\n",
       "            \u001b[32m'title'\u001b[0m: \u001b[32m'RDI Software'\u001b[0m,\n",
       "            \u001b[32m'description'\u001b[0m: \u001b[32m'RDI Software - Part of Capgemini'\u001b[0m,\n",
       "            \u001b[32m'language'\u001b[0m: \u001b[32m'No language found.'\u001b[0m\n",
       "        \u001b[1m}\u001b[0m\n",
       "    \u001b[1m)\u001b[0m,\n",
       "    \u001b[1;35mDocument\u001b[0m\u001b[1m(\u001b[0m\n",
       "        \u001b[33mpage_content\u001b[0m=\u001b[32m'Contact RDI HR directly – we may be looking for you! Contact Us\\n\\n \u001b[0m\n",
       "\u001b[32mrdihumanresources.hr@capgemini.com\\n\\n\\n\\nLinkedin\\n\\n\\n\\n\\n\\n\\n\\n\\n    \\n\\n Privacy Notice - Brazil \\n Salary \u001b[0m\n",
       "\u001b[32mTransparency Report \\n\\n\\n\\n\\n\\n\\n\\n\\n\\n\\n\\n\\n\\n\\n\\n\\n\\n\\n\\n\\n\\n\\n\\n\\n\\n\\n\\n\\n\\n\\n\\n\\n\\n\\n\\n\\n'\u001b[0m,\n",
       "        \u001b[33mmetadata\u001b[0m=\u001b[1m{\u001b[0m\n",
       "            \u001b[32m'source'\u001b[0m: \u001b[32m'https://www.rdisoftware.com/'\u001b[0m,\n",
       "            \u001b[32m'title'\u001b[0m: \u001b[32m'RDI Software'\u001b[0m,\n",
       "            \u001b[32m'description'\u001b[0m: \u001b[32m'RDI Software - Part of Capgemini'\u001b[0m,\n",
       "            \u001b[32m'language'\u001b[0m: \u001b[32m'No language found.'\u001b[0m\n",
       "        \u001b[1m}\u001b[0m\n",
       "    \u001b[1m)\u001b[0m\n",
       "\u001b[1m]\u001b[0m\n"
      ]
     },
     "metadata": {},
     "output_type": "display_data"
    }
   ],
   "source": [
    "#Add to the vector database\n",
    "chunks = semantic_chunk_documents(docsWeb)\n",
    "print(\"total chunks: \", len(chunks))\n",
    "print(chunks)"
   ]
  },
  {
   "cell_type": "markdown",
   "metadata": {},
   "source": [
    "## Add the Chunks to the Vector Database"
   ]
  },
  {
   "cell_type": "code",
   "execution_count": null,
   "metadata": {},
   "outputs": [
    {
     "data": {
      "text/html": [
       "<pre style=\"white-space:pre;overflow-x:auto;line-height:normal;font-family:Menlo,'DejaVu Sans Mono',consolas,'Courier New',monospace\">total added ids:  <span style=\"color: #008080; text-decoration-color: #008080; font-weight: bold\">21</span>\n",
       "</pre>\n"
      ],
      "text/plain": [
       "total added ids:  \u001b[1;36m21\u001b[0m\n"
      ]
     },
     "metadata": {},
     "output_type": "display_data"
    },
    {
     "data": {
      "text/html": [
       "<pre style=\"white-space:pre;overflow-x:auto;line-height:normal;font-family:Menlo,'DejaVu Sans Mono',consolas,'Courier New',monospace\"><span style=\"font-weight: bold\">[</span>\n",
       "    <span style=\"color: #008000; text-decoration-color: #008000\">'ce9f4302b74be8bc2ecdaee50e1cb222d68335e404b499901e37ffdaae187cf4'</span>,\n",
       "    <span style=\"color: #008000; text-decoration-color: #008000\">'69771a751716af65e7d5bfc97347326c37bac8179d7fab182aec3fd2a1a26709'</span>,\n",
       "    <span style=\"color: #008000; text-decoration-color: #008000\">'661791684571a415f1d0c3c3c092b396c80b1659b45d7218438c67e0df6df2c5'</span>,\n",
       "    <span style=\"color: #008000; text-decoration-color: #008000\">'3847dab2dee57e2b8760dd8c97fa04b7fd05ff7754f8039ad6b04de52da13dae'</span>,\n",
       "    <span style=\"color: #008000; text-decoration-color: #008000\">'8cbdd83e0a3bbe7db3bc1f61717995566e18fbde89e80308d1842daca1c5c772'</span>,\n",
       "    <span style=\"color: #008000; text-decoration-color: #008000\">'6306e87788b0b3bba75df290fbb640b51e169322bc26a84916b559fa0f50e3fe'</span>,\n",
       "    <span style=\"color: #008000; text-decoration-color: #008000\">'d3ccdb9add7a91f723b7ae1c563518f99db8213c76ce3e58778d79da943779d6'</span>,\n",
       "    <span style=\"color: #008000; text-decoration-color: #008000\">'8503846a4075611737f4de8f7f54cae7617ef2d78e602407c997cab5f7d4fff3'</span>,\n",
       "    <span style=\"color: #008000; text-decoration-color: #008000\">'7b8eee6fced3995af83738ec093fc8a40dac9d07d41b848d86a4f46ab70f0645'</span>,\n",
       "    <span style=\"color: #008000; text-decoration-color: #008000\">'bdedde35b2b6f1430bc39dc3d21d74928344d1d2716b69cfb8ea6438be474a5a'</span>,\n",
       "    <span style=\"color: #008000; text-decoration-color: #008000\">'3fc1f93a5cd425673b0401990710e21412fa3e68ef9000fb17b02651eb284233'</span>,\n",
       "    <span style=\"color: #008000; text-decoration-color: #008000\">'7c0227385e9f7eeaefb5b734792c6cdf195ca1ee4fd1cd3fae06c863a511c768'</span>,\n",
       "    <span style=\"color: #008000; text-decoration-color: #008000\">'738a6ff205acf9a2ef5493616b0017ae655beae1839edf745bbb8f035391e4cb'</span>,\n",
       "    <span style=\"color: #008000; text-decoration-color: #008000\">'85e25e5e3c89ec377e5a52b29cbdc36c9cd82bc93ea703fbe7b1aa9fe498234c'</span>,\n",
       "    <span style=\"color: #008000; text-decoration-color: #008000\">'c3f17ecc95db4c17f866cbb638ffaddb5193c315d85d3993f00f156fc7446ef6'</span>,\n",
       "    <span style=\"color: #008000; text-decoration-color: #008000\">'522990ac6003212d34df2811e56cc52177c35d0e9a44e493c0a98940012f793c'</span>,\n",
       "    <span style=\"color: #008000; text-decoration-color: #008000\">'7a2e6e388cdafed0917df1b0731269b01854abc01753e3723c0f9eef8237f5e8'</span>,\n",
       "    <span style=\"color: #008000; text-decoration-color: #008000\">'6a380d550c5c48102d1755740c887837a9cd03bd5544ea2cdd58b8fce6ab1fd3'</span>,\n",
       "    <span style=\"color: #008000; text-decoration-color: #008000\">'e7dd05a356481a01ffed230e605db2a338d8c74180ae92065116b8d629914f5e'</span>,\n",
       "    <span style=\"color: #008000; text-decoration-color: #008000\">'42b1887226cf7e07a82a789dce278031c083a33ba4bc00babff3f9792bca5a39'</span>,\n",
       "    <span style=\"color: #008000; text-decoration-color: #008000\">'e9ef131b1eabd2a14386dc3bb15cbebab16e2ae4fff7410c7e3e4f0795c32899'</span>\n",
       "<span style=\"font-weight: bold\">]</span>\n",
       "</pre>\n"
      ],
      "text/plain": [
       "\u001b[1m[\u001b[0m\n",
       "    \u001b[32m'ce9f4302b74be8bc2ecdaee50e1cb222d68335e404b499901e37ffdaae187cf4'\u001b[0m,\n",
       "    \u001b[32m'69771a751716af65e7d5bfc97347326c37bac8179d7fab182aec3fd2a1a26709'\u001b[0m,\n",
       "    \u001b[32m'661791684571a415f1d0c3c3c092b396c80b1659b45d7218438c67e0df6df2c5'\u001b[0m,\n",
       "    \u001b[32m'3847dab2dee57e2b8760dd8c97fa04b7fd05ff7754f8039ad6b04de52da13dae'\u001b[0m,\n",
       "    \u001b[32m'8cbdd83e0a3bbe7db3bc1f61717995566e18fbde89e80308d1842daca1c5c772'\u001b[0m,\n",
       "    \u001b[32m'6306e87788b0b3bba75df290fbb640b51e169322bc26a84916b559fa0f50e3fe'\u001b[0m,\n",
       "    \u001b[32m'd3ccdb9add7a91f723b7ae1c563518f99db8213c76ce3e58778d79da943779d6'\u001b[0m,\n",
       "    \u001b[32m'8503846a4075611737f4de8f7f54cae7617ef2d78e602407c997cab5f7d4fff3'\u001b[0m,\n",
       "    \u001b[32m'7b8eee6fced3995af83738ec093fc8a40dac9d07d41b848d86a4f46ab70f0645'\u001b[0m,\n",
       "    \u001b[32m'bdedde35b2b6f1430bc39dc3d21d74928344d1d2716b69cfb8ea6438be474a5a'\u001b[0m,\n",
       "    \u001b[32m'3fc1f93a5cd425673b0401990710e21412fa3e68ef9000fb17b02651eb284233'\u001b[0m,\n",
       "    \u001b[32m'7c0227385e9f7eeaefb5b734792c6cdf195ca1ee4fd1cd3fae06c863a511c768'\u001b[0m,\n",
       "    \u001b[32m'738a6ff205acf9a2ef5493616b0017ae655beae1839edf745bbb8f035391e4cb'\u001b[0m,\n",
       "    \u001b[32m'85e25e5e3c89ec377e5a52b29cbdc36c9cd82bc93ea703fbe7b1aa9fe498234c'\u001b[0m,\n",
       "    \u001b[32m'c3f17ecc95db4c17f866cbb638ffaddb5193c315d85d3993f00f156fc7446ef6'\u001b[0m,\n",
       "    \u001b[32m'522990ac6003212d34df2811e56cc52177c35d0e9a44e493c0a98940012f793c'\u001b[0m,\n",
       "    \u001b[32m'7a2e6e388cdafed0917df1b0731269b01854abc01753e3723c0f9eef8237f5e8'\u001b[0m,\n",
       "    \u001b[32m'6a380d550c5c48102d1755740c887837a9cd03bd5544ea2cdd58b8fce6ab1fd3'\u001b[0m,\n",
       "    \u001b[32m'e7dd05a356481a01ffed230e605db2a338d8c74180ae92065116b8d629914f5e'\u001b[0m,\n",
       "    \u001b[32m'42b1887226cf7e07a82a789dce278031c083a33ba4bc00babff3f9792bca5a39'\u001b[0m,\n",
       "    \u001b[32m'e9ef131b1eabd2a14386dc3bb15cbebab16e2ae4fff7410c7e3e4f0795c32899'\u001b[0m\n",
       "\u001b[1m]\u001b[0m\n"
      ]
     },
     "metadata": {},
     "output_type": "display_data"
    }
   ],
   "source": [
    "import hashlib\n",
    "texts = [doc.page_content for doc in chunks]\n",
    "metadatas = [doc.metadata for doc in chunks]\n",
    "ids = [hashlib.sha256(text.encode()).hexdigest() for text in texts]\n",
    "\n",
    "delete_collection(collection=\"Rdi_vectorDb\")\n",
    "added_ids = add_to_chroma(texts, metadatas, ids, collection=\"Rdi_vectorDb\")\n",
    "print(\"total added ids: \", len(added_ids))\n",
    "print(added_ids)"
   ]
  },
  {
   "cell_type": "code",
   "execution_count": null,
   "metadata": {},
   "outputs": [
    {
     "name": "stderr",
     "output_type": "stream",
     "text": [
      "/home/darthlinuxer/AI/lib/python3.10/site-packages/langchain_core/_api/deprecation.py:119: LangChainDeprecationWarning: The class `ChatOpenAI` was deprecated in LangChain 0.0.10 and will be removed in 0.2.0. An updated version of the class exists in the langchain-openai package and should be used instead. To use it run `pip install -U langchain-openai` and import as `from langchain_openai import ChatOpenAI`.\n",
      "  warn_deprecated(\n",
      "/home/darthlinuxer/AI/lib/python3.10/site-packages/langchain/chains/llm.py:316: UserWarning: The predict_and_parse method is deprecated, instead pass an output parser directly to LLMChain.\n",
      "  warnings.warn(\n",
      "/home/darthlinuxer/AI/lib/python3.10/site-packages/langchain/chains/llm.py:316: UserWarning: The predict_and_parse method is deprecated, instead pass an output parser directly to LLMChain.\n",
      "  warnings.warn(\n",
      "/home/darthlinuxer/AI/lib/python3.10/site-packages/langchain/chains/llm.py:316: UserWarning: The predict_and_parse method is deprecated, instead pass an output parser directly to LLMChain.\n",
      "  warnings.warn(\n",
      "/home/darthlinuxer/AI/lib/python3.10/site-packages/langchain/chains/llm.py:316: UserWarning: The predict_and_parse method is deprecated, instead pass an output parser directly to LLMChain.\n",
      "  warnings.warn(\n",
      "/home/darthlinuxer/AI/lib/python3.10/site-packages/langchain/chains/llm.py:316: UserWarning: The predict_and_parse method is deprecated, instead pass an output parser directly to LLMChain.\n",
      "  warnings.warn(\n",
      "/home/darthlinuxer/AI/lib/python3.10/site-packages/langchain/chains/llm.py:316: UserWarning: The predict_and_parse method is deprecated, instead pass an output parser directly to LLMChain.\n",
      "  warnings.warn(\n",
      "/home/darthlinuxer/AI/lib/python3.10/site-packages/langchain/chains/llm.py:316: UserWarning: The predict_and_parse method is deprecated, instead pass an output parser directly to LLMChain.\n",
      "  warnings.warn(\n",
      "/home/darthlinuxer/AI/lib/python3.10/site-packages/langchain/chains/llm.py:316: UserWarning: The predict_and_parse method is deprecated, instead pass an output parser directly to LLMChain.\n",
      "  warnings.warn(\n",
      "/home/darthlinuxer/AI/lib/python3.10/site-packages/langchain/chains/llm.py:316: UserWarning: The predict_and_parse method is deprecated, instead pass an output parser directly to LLMChain.\n",
      "  warnings.warn(\n",
      "/home/darthlinuxer/AI/lib/python3.10/site-packages/langchain/chains/llm.py:316: UserWarning: The predict_and_parse method is deprecated, instead pass an output parser directly to LLMChain.\n",
      "  warnings.warn(\n",
      "/home/darthlinuxer/AI/lib/python3.10/site-packages/langchain/chains/llm.py:316: UserWarning: The predict_and_parse method is deprecated, instead pass an output parser directly to LLMChain.\n",
      "  warnings.warn(\n",
      "/home/darthlinuxer/AI/lib/python3.10/site-packages/langchain/chains/llm.py:316: UserWarning: The predict_and_parse method is deprecated, instead pass an output parser directly to LLMChain.\n",
      "  warnings.warn(\n",
      "/home/darthlinuxer/AI/lib/python3.10/site-packages/langchain/chains/llm.py:316: UserWarning: The predict_and_parse method is deprecated, instead pass an output parser directly to LLMChain.\n",
      "  warnings.warn(\n",
      "/home/darthlinuxer/AI/lib/python3.10/site-packages/langchain/chains/llm.py:316: UserWarning: The predict_and_parse method is deprecated, instead pass an output parser directly to LLMChain.\n",
      "  warnings.warn(\n",
      "/home/darthlinuxer/AI/lib/python3.10/site-packages/langchain/chains/llm.py:316: UserWarning: The predict_and_parse method is deprecated, instead pass an output parser directly to LLMChain.\n",
      "  warnings.warn(\n",
      "/home/darthlinuxer/AI/lib/python3.10/site-packages/langchain/chains/llm.py:316: UserWarning: The predict_and_parse method is deprecated, instead pass an output parser directly to LLMChain.\n",
      "  warnings.warn(\n",
      "/home/darthlinuxer/AI/lib/python3.10/site-packages/langchain/chains/llm.py:316: UserWarning: The predict_and_parse method is deprecated, instead pass an output parser directly to LLMChain.\n",
      "  warnings.warn(\n",
      "/home/darthlinuxer/AI/lib/python3.10/site-packages/langchain/chains/llm.py:316: UserWarning: The predict_and_parse method is deprecated, instead pass an output parser directly to LLMChain.\n",
      "  warnings.warn(\n",
      "/home/darthlinuxer/AI/lib/python3.10/site-packages/langchain/chains/llm.py:316: UserWarning: The predict_and_parse method is deprecated, instead pass an output parser directly to LLMChain.\n",
      "  warnings.warn(\n",
      "/home/darthlinuxer/AI/lib/python3.10/site-packages/langchain/chains/llm.py:316: UserWarning: The predict_and_parse method is deprecated, instead pass an output parser directly to LLMChain.\n",
      "  warnings.warn(\n"
     ]
    },
    {
     "data": {
      "text/html": [
       "<pre style=\"white-space:pre;overflow-x:auto;line-height:normal;font-family:Menlo,'DejaVu Sans Mono',consolas,'Courier New',monospace\"><span style=\"color: #008080; text-decoration-color: #008080; font-weight: bold\">1</span>. RDI Software is specialized in delivering POS services and related software applications that focus on improving\n",
       "the overall crew and customer experience in restaurants.\n",
       "<span style=\"color: #008080; text-decoration-color: #008080; font-weight: bold\">2</span>. RDI was bought by Capgemini in <span style=\"color: #008080; text-decoration-color: #008080; font-weight: bold\">2017</span>.\n",
       "<span style=\"color: #008080; text-decoration-color: #008080; font-weight: bold\">3</span>. Yes, there are new openings at RDI in the offices of Brazil and Hungary.\n",
       "</pre>\n"
      ],
      "text/plain": [
       "\u001b[1;36m1\u001b[0m. RDI Software is specialized in delivering POS services and related software applications that focus on improving\n",
       "the overall crew and customer experience in restaurants.\n",
       "\u001b[1;36m2\u001b[0m. RDI was bought by Capgemini in \u001b[1;36m2017\u001b[0m.\n",
       "\u001b[1;36m3\u001b[0m. Yes, there are new openings at RDI in the offices of Brazil and Hungary.\n"
      ]
     },
     "metadata": {},
     "output_type": "display_data"
    },
    {
     "data": {
      "text/html": [
       "<pre style=\"white-space:pre;overflow-x:auto;line-height:normal;font-family:Menlo,'DejaVu Sans Mono',consolas,'Courier New',monospace\"><span style=\"color: #800080; text-decoration-color: #800080; font-style: italic\">None</span>\n",
       "</pre>\n"
      ],
      "text/plain": [
       "\u001b[3;35mNone\u001b[0m\n"
      ]
     },
     "metadata": {},
     "output_type": "display_data"
    }
   ],
   "source": [
    "# Do not join multiple questions in one example!!! \n",
    "# How to define the semantic similarity between questions?\n",
    "rag(question=\"\"\"\n",
    "             1. What is RDI Software specialized in?\n",
    "             2. When was RDI bought by Capgemini?\n",
    "             3. Are there new openings ?\n",
    "             4. What are the benefits of working in RDI?\n",
    "             5. Who is Sarolta Mezei and what she said about RDI ?\n",
    "             \"\"\")\n",
    "\n",
    "#Expected execution time: 8min on local Ollama\n",
    "#Expected execution time with OpenAI: 21.7s"
   ]
  },
  {
   "cell_type": "code",
   "execution_count": null,
   "metadata": {},
   "outputs": [
    {
     "name": "stderr",
     "output_type": "stream",
     "text": [
      "/home/darthlinuxer/AI/lib/python3.10/site-packages/langchain/chains/llm.py:316: UserWarning: The predict_and_parse method is deprecated, instead pass an output parser directly to LLMChain.\n",
      "  warnings.warn(\n",
      "/home/darthlinuxer/AI/lib/python3.10/site-packages/langchain/chains/llm.py:316: UserWarning: The predict_and_parse method is deprecated, instead pass an output parser directly to LLMChain.\n",
      "  warnings.warn(\n",
      "/home/darthlinuxer/AI/lib/python3.10/site-packages/langchain/chains/llm.py:316: UserWarning: The predict_and_parse method is deprecated, instead pass an output parser directly to LLMChain.\n",
      "  warnings.warn(\n",
      "/home/darthlinuxer/AI/lib/python3.10/site-packages/langchain/chains/llm.py:316: UserWarning: The predict_and_parse method is deprecated, instead pass an output parser directly to LLMChain.\n",
      "  warnings.warn(\n",
      "/home/darthlinuxer/AI/lib/python3.10/site-packages/langchain/chains/llm.py:316: UserWarning: The predict_and_parse method is deprecated, instead pass an output parser directly to LLMChain.\n",
      "  warnings.warn(\n",
      "/home/darthlinuxer/AI/lib/python3.10/site-packages/langchain/chains/llm.py:316: UserWarning: The predict_and_parse method is deprecated, instead pass an output parser directly to LLMChain.\n",
      "  warnings.warn(\n",
      "/home/darthlinuxer/AI/lib/python3.10/site-packages/langchain/chains/llm.py:316: UserWarning: The predict_and_parse method is deprecated, instead pass an output parser directly to LLMChain.\n",
      "  warnings.warn(\n",
      "/home/darthlinuxer/AI/lib/python3.10/site-packages/langchain/chains/llm.py:316: UserWarning: The predict_and_parse method is deprecated, instead pass an output parser directly to LLMChain.\n",
      "  warnings.warn(\n",
      "/home/darthlinuxer/AI/lib/python3.10/site-packages/langchain/chains/llm.py:316: UserWarning: The predict_and_parse method is deprecated, instead pass an output parser directly to LLMChain.\n",
      "  warnings.warn(\n",
      "/home/darthlinuxer/AI/lib/python3.10/site-packages/langchain/chains/llm.py:316: UserWarning: The predict_and_parse method is deprecated, instead pass an output parser directly to LLMChain.\n",
      "  warnings.warn(\n",
      "/home/darthlinuxer/AI/lib/python3.10/site-packages/langchain/chains/llm.py:316: UserWarning: The predict_and_parse method is deprecated, instead pass an output parser directly to LLMChain.\n",
      "  warnings.warn(\n"
     ]
    },
    {
     "data": {
      "text/html": [
       "<pre style=\"white-space:pre;overflow-x:auto;line-height:normal;font-family:Menlo,'DejaVu Sans Mono',consolas,'Courier New',monospace\">RDI Software is specialized in software development for restaurant applications, particularly focusing on POS \n",
       "services and related software applications to enhance the crew and customer experience in restaurants. They also \n",
       "provide software release management services for a suite of applications to maintain development and delivery \n",
       "schedules. RDI has a history of working as a strategic partner for a major global Quick Service Restaurant \n",
       "retailer.\n",
       "</pre>\n"
      ],
      "text/plain": [
       "RDI Software is specialized in software development for restaurant applications, particularly focusing on POS \n",
       "services and related software applications to enhance the crew and customer experience in restaurants. They also \n",
       "provide software release management services for a suite of applications to maintain development and delivery \n",
       "schedules. RDI has a history of working as a strategic partner for a major global Quick Service Restaurant \n",
       "retailer.\n"
      ]
     },
     "metadata": {},
     "output_type": "display_data"
    },
    {
     "name": "stderr",
     "output_type": "stream",
     "text": [
      "/home/darthlinuxer/AI/lib/python3.10/site-packages/langchain/chains/llm.py:316: UserWarning: The predict_and_parse method is deprecated, instead pass an output parser directly to LLMChain.\n",
      "  warnings.warn(\n",
      "/home/darthlinuxer/AI/lib/python3.10/site-packages/langchain/chains/llm.py:316: UserWarning: The predict_and_parse method is deprecated, instead pass an output parser directly to LLMChain.\n",
      "  warnings.warn(\n",
      "/home/darthlinuxer/AI/lib/python3.10/site-packages/langchain/chains/llm.py:316: UserWarning: The predict_and_parse method is deprecated, instead pass an output parser directly to LLMChain.\n",
      "  warnings.warn(\n",
      "/home/darthlinuxer/AI/lib/python3.10/site-packages/langchain/chains/llm.py:316: UserWarning: The predict_and_parse method is deprecated, instead pass an output parser directly to LLMChain.\n",
      "  warnings.warn(\n",
      "/home/darthlinuxer/AI/lib/python3.10/site-packages/langchain/chains/llm.py:316: UserWarning: The predict_and_parse method is deprecated, instead pass an output parser directly to LLMChain.\n",
      "  warnings.warn(\n",
      "/home/darthlinuxer/AI/lib/python3.10/site-packages/langchain/chains/llm.py:316: UserWarning: The predict_and_parse method is deprecated, instead pass an output parser directly to LLMChain.\n",
      "  warnings.warn(\n",
      "/home/darthlinuxer/AI/lib/python3.10/site-packages/langchain/chains/llm.py:316: UserWarning: The predict_and_parse method is deprecated, instead pass an output parser directly to LLMChain.\n",
      "  warnings.warn(\n",
      "/home/darthlinuxer/AI/lib/python3.10/site-packages/langchain/chains/llm.py:316: UserWarning: The predict_and_parse method is deprecated, instead pass an output parser directly to LLMChain.\n",
      "  warnings.warn(\n",
      "/home/darthlinuxer/AI/lib/python3.10/site-packages/langchain/chains/llm.py:316: UserWarning: The predict_and_parse method is deprecated, instead pass an output parser directly to LLMChain.\n",
      "  warnings.warn(\n",
      "/home/darthlinuxer/AI/lib/python3.10/site-packages/langchain/chains/llm.py:316: UserWarning: The predict_and_parse method is deprecated, instead pass an output parser directly to LLMChain.\n",
      "  warnings.warn(\n"
     ]
    },
    {
     "data": {
      "text/html": [
       "<pre style=\"white-space:pre;overflow-x:auto;line-height:normal;font-family:Menlo,'DejaVu Sans Mono',consolas,'Courier New',monospace\">RDI was bought by Capgemini in <span style=\"color: #008080; text-decoration-color: #008080; font-weight: bold\">2017</span>.\n",
       "</pre>\n"
      ],
      "text/plain": [
       "RDI was bought by Capgemini in \u001b[1;36m2017\u001b[0m.\n"
      ]
     },
     "metadata": {},
     "output_type": "display_data"
    },
    {
     "name": "stderr",
     "output_type": "stream",
     "text": [
      "/home/darthlinuxer/AI/lib/python3.10/site-packages/langchain/chains/llm.py:316: UserWarning: The predict_and_parse method is deprecated, instead pass an output parser directly to LLMChain.\n",
      "  warnings.warn(\n",
      "/home/darthlinuxer/AI/lib/python3.10/site-packages/langchain/chains/llm.py:316: UserWarning: The predict_and_parse method is deprecated, instead pass an output parser directly to LLMChain.\n",
      "  warnings.warn(\n",
      "/home/darthlinuxer/AI/lib/python3.10/site-packages/langchain/chains/llm.py:316: UserWarning: The predict_and_parse method is deprecated, instead pass an output parser directly to LLMChain.\n",
      "  warnings.warn(\n",
      "/home/darthlinuxer/AI/lib/python3.10/site-packages/langchain/chains/llm.py:316: UserWarning: The predict_and_parse method is deprecated, instead pass an output parser directly to LLMChain.\n",
      "  warnings.warn(\n",
      "/home/darthlinuxer/AI/lib/python3.10/site-packages/langchain/chains/llm.py:316: UserWarning: The predict_and_parse method is deprecated, instead pass an output parser directly to LLMChain.\n",
      "  warnings.warn(\n",
      "/home/darthlinuxer/AI/lib/python3.10/site-packages/langchain/chains/llm.py:316: UserWarning: The predict_and_parse method is deprecated, instead pass an output parser directly to LLMChain.\n",
      "  warnings.warn(\n",
      "/home/darthlinuxer/AI/lib/python3.10/site-packages/langchain/chains/llm.py:316: UserWarning: The predict_and_parse method is deprecated, instead pass an output parser directly to LLMChain.\n",
      "  warnings.warn(\n"
     ]
    },
    {
     "data": {
      "text/html": [
       "<pre style=\"white-space:pre;overflow-x:auto;line-height:normal;font-family:Menlo,'DejaVu Sans Mono',consolas,'Courier New',monospace\">Yes, there are new openings in the offices of Brazil and Hungary. Apply now by contacting RDI HR directly at \n",
       "rdihumanresources.hr@capgemini.com. The company is looking for strong performers who love big challenges and will \n",
       "fit in with the culture at RDI.\n",
       "</pre>\n"
      ],
      "text/plain": [
       "Yes, there are new openings in the offices of Brazil and Hungary. Apply now by contacting RDI HR directly at \n",
       "rdihumanresources.hr@capgemini.com. The company is looking for strong performers who love big challenges and will \n",
       "fit in with the culture at RDI.\n"
      ]
     },
     "metadata": {},
     "output_type": "display_data"
    },
    {
     "name": "stderr",
     "output_type": "stream",
     "text": [
      "/home/darthlinuxer/AI/lib/python3.10/site-packages/langchain/chains/llm.py:316: UserWarning: The predict_and_parse method is deprecated, instead pass an output parser directly to LLMChain.\n",
      "  warnings.warn(\n",
      "/home/darthlinuxer/AI/lib/python3.10/site-packages/langchain/chains/llm.py:316: UserWarning: The predict_and_parse method is deprecated, instead pass an output parser directly to LLMChain.\n",
      "  warnings.warn(\n",
      "/home/darthlinuxer/AI/lib/python3.10/site-packages/langchain/chains/llm.py:316: UserWarning: The predict_and_parse method is deprecated, instead pass an output parser directly to LLMChain.\n",
      "  warnings.warn(\n",
      "/home/darthlinuxer/AI/lib/python3.10/site-packages/langchain/chains/llm.py:316: UserWarning: The predict_and_parse method is deprecated, instead pass an output parser directly to LLMChain.\n",
      "  warnings.warn(\n",
      "/home/darthlinuxer/AI/lib/python3.10/site-packages/langchain/chains/llm.py:316: UserWarning: The predict_and_parse method is deprecated, instead pass an output parser directly to LLMChain.\n",
      "  warnings.warn(\n",
      "/home/darthlinuxer/AI/lib/python3.10/site-packages/langchain/chains/llm.py:316: UserWarning: The predict_and_parse method is deprecated, instead pass an output parser directly to LLMChain.\n",
      "  warnings.warn(\n",
      "/home/darthlinuxer/AI/lib/python3.10/site-packages/langchain/chains/llm.py:316: UserWarning: The predict_and_parse method is deprecated, instead pass an output parser directly to LLMChain.\n",
      "  warnings.warn(\n",
      "/home/darthlinuxer/AI/lib/python3.10/site-packages/langchain/chains/llm.py:316: UserWarning: The predict_and_parse method is deprecated, instead pass an output parser directly to LLMChain.\n",
      "  warnings.warn(\n",
      "/home/darthlinuxer/AI/lib/python3.10/site-packages/langchain/chains/llm.py:316: UserWarning: The predict_and_parse method is deprecated, instead pass an output parser directly to LLMChain.\n",
      "  warnings.warn(\n",
      "/home/darthlinuxer/AI/lib/python3.10/site-packages/langchain/chains/llm.py:316: UserWarning: The predict_and_parse method is deprecated, instead pass an output parser directly to LLMChain.\n",
      "  warnings.warn(\n",
      "/home/darthlinuxer/AI/lib/python3.10/site-packages/langchain/chains/llm.py:316: UserWarning: The predict_and_parse method is deprecated, instead pass an output parser directly to LLMChain.\n",
      "  warnings.warn(\n"
     ]
    },
    {
     "data": {
      "text/html": [
       "<pre style=\"white-space:pre;overflow-x:auto;line-height:normal;font-family:Menlo,'DejaVu Sans Mono',consolas,'Courier New',monospace\">The benefits of working at RDI include a collaborative and flexible work environment, a high-performance team, and \n",
       "a range of market-relevant benefits to help manage career and home life demands. Employees at RDI are valued, \n",
       "treated well, and have the opportunity to work independently with trust from employers. The company is committed to\n",
       "a diverse and inclusive workforce, supports personal and professional development, and encourages employees to take\n",
       "on new challenges in their careers.\n",
       "</pre>\n"
      ],
      "text/plain": [
       "The benefits of working at RDI include a collaborative and flexible work environment, a high-performance team, and \n",
       "a range of market-relevant benefits to help manage career and home life demands. Employees at RDI are valued, \n",
       "treated well, and have the opportunity to work independently with trust from employers. The company is committed to\n",
       "a diverse and inclusive workforce, supports personal and professional development, and encourages employees to take\n",
       "on new challenges in their careers.\n"
      ]
     },
     "metadata": {},
     "output_type": "display_data"
    },
    {
     "name": "stderr",
     "output_type": "stream",
     "text": [
      "/home/darthlinuxer/AI/lib/python3.10/site-packages/langchain/chains/llm.py:316: UserWarning: The predict_and_parse method is deprecated, instead pass an output parser directly to LLMChain.\n",
      "  warnings.warn(\n",
      "/home/darthlinuxer/AI/lib/python3.10/site-packages/langchain/chains/llm.py:316: UserWarning: The predict_and_parse method is deprecated, instead pass an output parser directly to LLMChain.\n",
      "  warnings.warn(\n",
      "/home/darthlinuxer/AI/lib/python3.10/site-packages/langchain/chains/llm.py:316: UserWarning: The predict_and_parse method is deprecated, instead pass an output parser directly to LLMChain.\n",
      "  warnings.warn(\n",
      "/home/darthlinuxer/AI/lib/python3.10/site-packages/langchain/chains/llm.py:316: UserWarning: The predict_and_parse method is deprecated, instead pass an output parser directly to LLMChain.\n",
      "  warnings.warn(\n",
      "/home/darthlinuxer/AI/lib/python3.10/site-packages/langchain/chains/llm.py:316: UserWarning: The predict_and_parse method is deprecated, instead pass an output parser directly to LLMChain.\n",
      "  warnings.warn(\n",
      "/home/darthlinuxer/AI/lib/python3.10/site-packages/langchain/chains/llm.py:316: UserWarning: The predict_and_parse method is deprecated, instead pass an output parser directly to LLMChain.\n",
      "  warnings.warn(\n",
      "/home/darthlinuxer/AI/lib/python3.10/site-packages/langchain/chains/llm.py:316: UserWarning: The predict_and_parse method is deprecated, instead pass an output parser directly to LLMChain.\n",
      "  warnings.warn(\n",
      "/home/darthlinuxer/AI/lib/python3.10/site-packages/langchain/chains/llm.py:316: UserWarning: The predict_and_parse method is deprecated, instead pass an output parser directly to LLMChain.\n",
      "  warnings.warn(\n",
      "/home/darthlinuxer/AI/lib/python3.10/site-packages/langchain/chains/llm.py:316: UserWarning: The predict_and_parse method is deprecated, instead pass an output parser directly to LLMChain.\n",
      "  warnings.warn(\n",
      "/home/darthlinuxer/AI/lib/python3.10/site-packages/langchain/chains/llm.py:316: UserWarning: The predict_and_parse method is deprecated, instead pass an output parser directly to LLMChain.\n",
      "  warnings.warn(\n",
      "/home/darthlinuxer/AI/lib/python3.10/site-packages/langchain/chains/llm.py:316: UserWarning: The predict_and_parse method is deprecated, instead pass an output parser directly to LLMChain.\n",
      "  warnings.warn(\n",
      "/home/darthlinuxer/AI/lib/python3.10/site-packages/langchain/chains/llm.py:316: UserWarning: The predict_and_parse method is deprecated, instead pass an output parser directly to LLMChain.\n",
      "  warnings.warn(\n"
     ]
    },
    {
     "data": {
      "text/html": [
       "<pre style=\"white-space:pre;overflow-x:auto;line-height:normal;font-family:Menlo,'DejaVu Sans Mono',consolas,'Courier New',monospace\">Sarolta Mezei is a colleague at RDI Hungary who had a fantastic experience with the company. She mentioned that RDI\n",
       "Hungary and her colleagues welcomed her warmly despite cultural and linguistic differences. She appreciated the \n",
       "support, opportunities for personal and professional development, and the open communication environment at RDI.\n",
       "</pre>\n"
      ],
      "text/plain": [
       "Sarolta Mezei is a colleague at RDI Hungary who had a fantastic experience with the company. She mentioned that RDI\n",
       "Hungary and her colleagues welcomed her warmly despite cultural and linguistic differences. She appreciated the \n",
       "support, opportunities for personal and professional development, and the open communication environment at RDI.\n"
      ]
     },
     "metadata": {},
     "output_type": "display_data"
    }
   ],
   "source": [
    "questions = [\n",
    "     \"What is RDI Software specialized in ?\",\n",
    "     \"When was RDI bought by Capgemini?\",\n",
    "     \"Are there new openings ?\",\n",
    "     \"What are the benefits of working in RDI?\",\n",
    "     \"Who is Sarolta Mezei and what she said about RDI ?\"\n",
    "]\n",
    "\n",
    "answers = []\n",
    "for i,question in enumerate(questions):\n",
    "    rag(question)\n",
    "    \n",
    "#Expected execution time: 1min 20s"
   ]
  },
  {
   "cell_type": "code",
   "execution_count": null,
   "metadata": {},
   "outputs": [
    {
     "name": "stderr",
     "output_type": "stream",
     "text": [
      "/home/darthlinuxer/AI/lib/python3.10/site-packages/langchain/chains/llm.py:316: UserWarning: The predict_and_parse method is deprecated, instead pass an output parser directly to LLMChain.\n",
      "  warnings.warn(\n",
      "/home/darthlinuxer/AI/lib/python3.10/site-packages/langchain/chains/llm.py:316: UserWarning: The predict_and_parse method is deprecated, instead pass an output parser directly to LLMChain.\n",
      "  warnings.warn(\n",
      "/home/darthlinuxer/AI/lib/python3.10/site-packages/langchain/chains/llm.py:316: UserWarning: The predict_and_parse method is deprecated, instead pass an output parser directly to LLMChain.\n",
      "  warnings.warn(\n",
      "/home/darthlinuxer/AI/lib/python3.10/site-packages/langchain/chains/llm.py:316: UserWarning: The predict_and_parse method is deprecated, instead pass an output parser directly to LLMChain.\n",
      "  warnings.warn(\n",
      "/home/darthlinuxer/AI/lib/python3.10/site-packages/langchain/chains/llm.py:316: UserWarning: The predict_and_parse method is deprecated, instead pass an output parser directly to LLMChain.\n",
      "  warnings.warn(\n",
      "/home/darthlinuxer/AI/lib/python3.10/site-packages/langchain/chains/llm.py:316: UserWarning: The predict_and_parse method is deprecated, instead pass an output parser directly to LLMChain.\n",
      "  warnings.warn(\n",
      "/home/darthlinuxer/AI/lib/python3.10/site-packages/langchain/chains/llm.py:316: UserWarning: The predict_and_parse method is deprecated, instead pass an output parser directly to LLMChain.\n",
      "  warnings.warn(\n",
      "/home/darthlinuxer/AI/lib/python3.10/site-packages/langchain/chains/llm.py:316: UserWarning: The predict_and_parse method is deprecated, instead pass an output parser directly to LLMChain.\n",
      "  warnings.warn(\n",
      "/home/darthlinuxer/AI/lib/python3.10/site-packages/langchain/chains/llm.py:316: UserWarning: The predict_and_parse method is deprecated, instead pass an output parser directly to LLMChain.\n",
      "  warnings.warn(\n",
      "/home/darthlinuxer/AI/lib/python3.10/site-packages/langchain/chains/llm.py:316: UserWarning: The predict_and_parse method is deprecated, instead pass an output parser directly to LLMChain.\n",
      "  warnings.warn(\n",
      "/home/darthlinuxer/AI/lib/python3.10/site-packages/langchain/chains/llm.py:316: UserWarning: The predict_and_parse method is deprecated, instead pass an output parser directly to LLMChain.\n",
      "  warnings.warn(\n",
      "/home/darthlinuxer/AI/lib/python3.10/site-packages/langchain/chains/llm.py:316: UserWarning: The predict_and_parse method is deprecated, instead pass an output parser directly to LLMChain.\n",
      "  warnings.warn(\n",
      "/home/darthlinuxer/AI/lib/python3.10/site-packages/langchain/chains/llm.py:316: UserWarning: The predict_and_parse method is deprecated, instead pass an output parser directly to LLMChain.\n",
      "  warnings.warn(\n",
      "/home/darthlinuxer/AI/lib/python3.10/site-packages/langchain/chains/llm.py:316: UserWarning: The predict_and_parse method is deprecated, instead pass an output parser directly to LLMChain.\n",
      "  warnings.warn(\n"
     ]
    },
    {
     "data": {
      "text/html": [
       "<pre style=\"white-space:pre;overflow-x:auto;line-height:normal;font-family:Menlo,'DejaVu Sans Mono',consolas,'Courier New',monospace\"></pre>\n"
      ],
      "text/plain": []
     },
     "metadata": {},
     "output_type": "display_data"
    },
    {
     "data": {
      "text/html": [
       "<pre style=\"white-space:pre;overflow-x:auto;line-height:normal;font-family:Menlo,'DejaVu Sans Mono',consolas,'Courier New',monospace\">A</pre>\n"
      ],
      "text/plain": [
       "A"
      ]
     },
     "metadata": {},
     "output_type": "display_data"
    },
    {
     "data": {
      "text/html": [
       "<pre style=\"white-space:pre;overflow-x:auto;line-height:normal;font-family:Menlo,'DejaVu Sans Mono',consolas,'Courier New',monospace\">ri</pre>\n"
      ],
      "text/plain": [
       "ri"
      ]
     },
     "metadata": {},
     "output_type": "display_data"
    },
    {
     "data": {
      "text/html": [
       "<pre style=\"white-space:pre;overflow-x:auto;line-height:normal;font-family:Menlo,'DejaVu Sans Mono',consolas,'Courier New',monospace\">ane</pre>\n"
      ],
      "text/plain": [
       "ane"
      ]
     },
     "metadata": {},
     "output_type": "display_data"
    },
    {
     "data": {
      "text/html": [
       "<pre style=\"white-space:pre;overflow-x:auto;line-height:normal;font-family:Menlo,'DejaVu Sans Mono',consolas,'Courier New',monospace\"> Med</pre>\n"
      ],
      "text/plain": [
       " Med"
      ]
     },
     "metadata": {},
     "output_type": "display_data"
    },
    {
     "data": {
      "text/html": [
       "<pre style=\"white-space:pre;overflow-x:auto;line-height:normal;font-family:Menlo,'DejaVu Sans Mono',consolas,'Courier New',monospace\">ei</pre>\n"
      ],
      "text/plain": [
       "ei"
      ]
     },
     "metadata": {},
     "output_type": "display_data"
    },
    {
     "data": {
      "text/html": [
       "<pre style=\"white-space:pre;overflow-x:auto;line-height:normal;font-family:Menlo,'DejaVu Sans Mono',consolas,'Courier New',monospace\">ros</pre>\n"
      ],
      "text/plain": [
       "ros"
      ]
     },
     "metadata": {},
     "output_type": "display_data"
    },
    {
     "data": {
      "text/html": [
       "<pre style=\"white-space:pre;overflow-x:auto;line-height:normal;font-family:Menlo,'DejaVu Sans Mono',consolas,'Courier New',monospace\"> works</pre>\n"
      ],
      "text/plain": [
       " works"
      ]
     },
     "metadata": {},
     "output_type": "display_data"
    },
    {
     "data": {
      "text/html": [
       "<pre style=\"white-space:pre;overflow-x:auto;line-height:normal;font-family:Menlo,'DejaVu Sans Mono',consolas,'Courier New',monospace\"> as</pre>\n"
      ],
      "text/plain": [
       " as"
      ]
     },
     "metadata": {},
     "output_type": "display_data"
    },
    {
     "data": {
      "text/html": [
       "<pre style=\"white-space:pre;overflow-x:auto;line-height:normal;font-family:Menlo,'DejaVu Sans Mono',consolas,'Courier New',monospace\"> a</pre>\n"
      ],
      "text/plain": [
       " a"
      ]
     },
     "metadata": {},
     "output_type": "display_data"
    },
    {
     "data": {
      "text/html": [
       "<pre style=\"white-space:pre;overflow-x:auto;line-height:normal;font-family:Menlo,'DejaVu Sans Mono',consolas,'Courier New',monospace\"> Software</pre>\n"
      ],
      "text/plain": [
       " Software"
      ]
     },
     "metadata": {},
     "output_type": "display_data"
    },
    {
     "data": {
      "text/html": [
       "<pre style=\"white-space:pre;overflow-x:auto;line-height:normal;font-family:Menlo,'DejaVu Sans Mono',consolas,'Courier New',monospace\"> Quality</pre>\n"
      ],
      "text/plain": [
       " Quality"
      ]
     },
     "metadata": {},
     "output_type": "display_data"
    },
    {
     "data": {
      "text/html": [
       "<pre style=\"white-space:pre;overflow-x:auto;line-height:normal;font-family:Menlo,'DejaVu Sans Mono',consolas,'Courier New',monospace\"> Assurance</pre>\n"
      ],
      "text/plain": [
       " Assurance"
      ]
     },
     "metadata": {},
     "output_type": "display_data"
    },
    {
     "data": {
      "text/html": [
       "<pre style=\"white-space:pre;overflow-x:auto;line-height:normal;font-family:Menlo,'DejaVu Sans Mono',consolas,'Courier New',monospace\"> Analyst</pre>\n"
      ],
      "text/plain": [
       " Analyst"
      ]
     },
     "metadata": {},
     "output_type": "display_data"
    },
    {
     "data": {
      "text/html": [
       "<pre style=\"white-space:pre;overflow-x:auto;line-height:normal;font-family:Menlo,'DejaVu Sans Mono',consolas,'Courier New',monospace\"> at</pre>\n"
      ],
      "text/plain": [
       " at"
      ]
     },
     "metadata": {},
     "output_type": "display_data"
    },
    {
     "data": {
      "text/html": [
       "<pre style=\"white-space:pre;overflow-x:auto;line-height:normal;font-family:Menlo,'DejaVu Sans Mono',consolas,'Courier New',monospace\"> R</pre>\n"
      ],
      "text/plain": [
       " R"
      ]
     },
     "metadata": {},
     "output_type": "display_data"
    },
    {
     "data": {
      "text/html": [
       "<pre style=\"white-space:pre;overflow-x:auto;line-height:normal;font-family:Menlo,'DejaVu Sans Mono',consolas,'Courier New',monospace\">DI</pre>\n"
      ],
      "text/plain": [
       "DI"
      ]
     },
     "metadata": {},
     "output_type": "display_data"
    },
    {
     "data": {
      "text/html": [
       "<pre style=\"white-space:pre;overflow-x:auto;line-height:normal;font-family:Menlo,'DejaVu Sans Mono',consolas,'Courier New',monospace\"> in</pre>\n"
      ],
      "text/plain": [
       " in"
      ]
     },
     "metadata": {},
     "output_type": "display_data"
    },
    {
     "data": {
      "text/html": [
       "<pre style=\"white-space:pre;overflow-x:auto;line-height:normal;font-family:Menlo,'DejaVu Sans Mono',consolas,'Courier New',monospace\"> Sao</pre>\n"
      ],
      "text/plain": [
       " Sao"
      ]
     },
     "metadata": {},
     "output_type": "display_data"
    },
    {
     "data": {
      "text/html": [
       "<pre style=\"white-space:pre;overflow-x:auto;line-height:normal;font-family:Menlo,'DejaVu Sans Mono',consolas,'Courier New',monospace\"> Paulo</pre>\n"
      ],
      "text/plain": [
       " Paulo"
      ]
     },
     "metadata": {},
     "output_type": "display_data"
    },
    {
     "data": {
      "text/html": [
       "<pre style=\"white-space:pre;overflow-x:auto;line-height:normal;font-family:Menlo,'DejaVu Sans Mono',consolas,'Courier New',monospace\">,</pre>\n"
      ],
      "text/plain": [
       ","
      ]
     },
     "metadata": {},
     "output_type": "display_data"
    },
    {
     "data": {
      "text/html": [
       "<pre style=\"white-space:pre;overflow-x:auto;line-height:normal;font-family:Menlo,'DejaVu Sans Mono',consolas,'Courier New',monospace\"> Brazil</pre>\n"
      ],
      "text/plain": [
       " Brazil"
      ]
     },
     "metadata": {},
     "output_type": "display_data"
    },
    {
     "data": {
      "text/html": [
       "<pre style=\"white-space:pre;overflow-x:auto;line-height:normal;font-family:Menlo,'DejaVu Sans Mono',consolas,'Courier New',monospace\">.</pre>\n"
      ],
      "text/plain": [
       "."
      ]
     },
     "metadata": {},
     "output_type": "display_data"
    },
    {
     "data": {
      "text/html": [
       "<pre style=\"white-space:pre;overflow-x:auto;line-height:normal;font-family:Menlo,'DejaVu Sans Mono',consolas,'Courier New',monospace\"></pre>\n"
      ],
      "text/plain": []
     },
     "metadata": {},
     "output_type": "display_data"
    }
   ],
   "source": [
    "rag(\"Who works as a Software Quality Assurance Analyst at RDI?\", stream=True)\n",
    "#Expected execution time: 15s"
   ]
  }
 ],
 "metadata": {
  "kernelspec": {
   "display_name": "venv",
   "language": "python",
   "name": "python3"
  },
  "language_info": {
   "codemirror_mode": {
    "name": "ipython",
    "version": 3
   },
   "file_extension": ".py",
   "mimetype": "text/x-python",
   "name": "python",
   "nbconvert_exporter": "python",
   "pygments_lexer": "ipython3",
   "version": "3.12.3"
  }
 },
 "nbformat": 4,
 "nbformat_minor": 2
}
