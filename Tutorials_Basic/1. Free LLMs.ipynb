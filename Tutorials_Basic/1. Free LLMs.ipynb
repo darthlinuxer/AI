{
 "cells": [
  {
   "cell_type": "markdown",
   "metadata": {},
   "source": [
    "# Open LLM Models\n"
   ]
  },
  {
   "cell_type": "code",
   "execution_count": 1,
   "metadata": {},
   "outputs": [],
   "source": [
    "from dotenv import load_dotenv\n",
    "import os\n",
    "if load_dotenv(\"../.env\"):\n",
    "    GROQ_API_KEY = os.getenv('GROQ_API_KEY')\n",
    "    HF_API_TOKEN=os.getenv('HF_API_TOKEN')"
   ]
  },
  {
   "cell_type": "markdown",
   "metadata": {},
   "source": [
    "# What is [OLlama](https://ollama.com/) ?\n",
    "Ollama allows you run LLMs locally!\n",
    "\n",
    "Github: https://github.com/ollama/ollama and https://github.com/ollama/ollama-python\n",
    "\n",
    "## Instructions to Run with Docker\n",
    "\n",
    "1. Install docker if you don´t have it installed yet: `bash docker.sh`\n",
    "2. Start docker service: `sudo service docker start`\n",
    "3. Pull Ollama: `sudo docker run -d -v ollama:/root/.ollama -p 11434:11434 --name ollama ollama/ollama`\n",
    "4. Optionally you can talk directly with the model:  \n",
    "   a) How to pull a model: `sudo docker exec -it ollama ollama pull llama3`  \n",
    "   b) How to run a Model: `sudo docker exec -it ollama ollama run llama3`\n",
    "   \n",
    "\n",
    "## Instructions to Run in Linux\n",
    "\n",
    "1. `curl -fsSL https://ollama.com/install.sh | sh`\n",
    "   - Ollama will be installed automatically as a service\n",
    "   - `sudo service ollama status`\n",
    "   - `ollama pull llama3`\n",
    "\n",
    "2. If you want to see the messages sent to Ollama, you have to run it as a server:\n",
    "   - Stop ollama service: `sudo service ollama stop`\n",
    "   - Start Ollama as a service: `ollama server`\n",
    "   - Open another Linux terminal and type: `ollama pull llama3`\n",
    "\n",
    "Other popular free model with high performance from Microsoft is `phi3`.\n",
    "It´s half the size of `Llama3`.\n",
    "\n",
    "After everything is properly downloaded and running, run the Jupyter cell below"
   ]
  },
  {
   "cell_type": "code",
   "execution_count": 2,
   "metadata": {},
   "outputs": [
    {
     "data": {
      "text/plain": [
       "{'license': 'META LLAMA 3 COMMUNITY LICENSE AGREEMENT\\n\\nMeta Llama 3 Version Release Date: April 18, 2024\\n“Agreement” means the terms and conditions for use, reproduction, distribution and modification of the Llama Materials set forth herein.\\n\\n“Documentation” means the specifications, manuals and documentation accompanying Meta Llama 3 distributed by Meta at https://llama.meta.com/get-started/.\\n\\n“Licensee” or “you” means you, or your employer or any other person or entity (if you are entering into this Agreement on such person or entity’s behalf), of the age required under applicable laws, rules or regulations to provide legal consent and that has legal authority to bind your employer or such other person or entity if you are entering in this Agreement on their behalf.\\n\\n“Meta Llama 3” means the foundational large language models and software and algorithms, including machine-learning model code, trained model weights, inference-enabling code, training-enabling code, fine-tuning enabling code and other elements of the foregoing distributed by Meta at https://llama.meta.com/llama-downloads.\\n\\n“Llama Materials” means, collectively, Meta’s proprietary Meta Llama 3 and Documentation (and any portion thereof) made available under this Agreement.\\n\\n“Meta” or “we” means Meta Platforms Ireland Limited (if you are located in or, if you are an entity, your principal place of business is in the EEA or Switzerland) and Meta Platforms, Inc. (if you are located outside of the EEA or Switzerland). \\n\\nBy clicking “I Accept” below or by using or distributing any portion or element of the Llama Materials, you agree to be bound by this Agreement.\\n\\n1. License Rights and Redistribution.\\n\\n\\ta. Grant of Rights. You are granted a non-exclusive, worldwide, non-transferable and royalty-free limited license under Meta’s intellectual property or other rights owned by Meta embodied in the Llama Materials to use, reproduce, distribute, copy, create derivative works of, and make modifications to the Llama Materials. \\n\\tb. Redistribution and Use.  \\n\\t\\ti. If you distribute or make available the Llama Materials (or any derivative works thereof), or a product or service that uses any of them, including another AI model, you shall (A) provide a copy of this Agreement with any such Llama Materials; and (B) prominently display “Built with Meta Llama 3” on a related website, user interface, blogpost, about page, or product documentation. If you use the Llama Materials to create, train, fine tune, or otherwise improve an AI model, which is distributed or made available, you shall also include “Llama 3” at the beginning of any such AI model name.\\n\\t\\tii. If you receive Llama Materials, or any derivative works thereof, from a Licensee as part of an integrated end user product, then Section 2 of this Agreement will not apply to you. \\n\\t\\tiii. You must retain in all copies of the Llama Materials that you distribute the following attribution notice within a “Notice” text file distributed as a part of such copies: “Meta Llama 3 is licensed under the Meta Llama 3 Community License, Copyright © Meta Platforms, Inc. All Rights Reserved.”\\n\\t\\tiv. Your use of the Llama Materials must comply with applicable laws and regulations (including trade compliance laws and regulations) and adhere to the Acceptable Use Policy for the Llama Materials (available at https://llama.meta.com/llama3/use-policy), which is hereby incorporated by reference into this Agreement.\\n\\t\\tv. You will not use the Llama Materials or any output or results of the Llama Materials to improve any other large language model (excluding Meta Llama 3 or derivative works thereof).  \\n\\n2. Additional Commercial Terms. If, on the Meta Llama 3 version release date, the monthly active users of the products or services made available by or for Licensee, or Licensee’s affiliates, is greater than 700 million monthly active users in the preceding calendar month, you must request a license from Meta, which Meta may grant to you in its sole discretion, and you are not authorized to exercise any of the rights under this Agreement unless or until Meta otherwise expressly grants you such rights.\\n\\n3. Disclaimer of Warranty. UNLESS REQUIRED BY APPLICABLE LAW, THE LLAMA MATERIALS AND ANY OUTPUT AND RESULTS THEREFROM ARE PROVIDED ON AN “AS IS” BASIS, WITHOUT WARRANTIES OF ANY KIND, AND META DISCLAIMS ALL WARRANTIES OF ANY KIND, BOTH EXPRESS AND IMPLIED, INCLUDING, WITHOUT LIMITATION, ANY WARRANTIES OF TITLE, NON-INFRINGEMENT, MERCHANTABILITY, OR FITNESS FOR A PARTICULAR PURPOSE. YOU ARE SOLELY RESPONSIBLE FOR DETERMINING THE APPROPRIATENESS OF USING OR REDISTRIBUTING THE LLAMA MATERIALS AND ASSUME ANY RISKS ASSOCIATED WITH YOUR USE OF THE LLAMA MATERIALS AND ANY OUTPUT AND RESULTS.\\n\\n4. Limitation of Liability. IN NO EVENT WILL META OR ITS AFFILIATES BE LIABLE UNDER ANY THEORY OF LIABILITY, WHETHER IN CONTRACT, TORT, NEGLIGENCE, PRODUCTS LIABILITY, OR OTHERWISE, ARISING OUT OF THIS AGREEMENT, FOR ANY LOST PROFITS OR ANY INDIRECT, SPECIAL, CONSEQUENTIAL, INCIDENTAL, EXEMPLARY OR PUNITIVE DAMAGES, EVEN IF META OR ITS AFFILIATES HAVE BEEN ADVISED OF THE POSSIBILITY OF ANY OF THE FOREGOING.\\n \\n5. Intellectual Property.\\n\\ta. No trademark licenses are granted under this Agreement, and in connection with the Llama Materials, neither Meta nor Licensee may use any name or mark owned by or associated with the other or any of its affiliates, except as required for reasonable and customary use in describing and redistributing the Llama Materials or as set forth in this Section 5(a). Meta hereby grants you a license to use “Llama 3” (the “Mark”) solely as required to comply with the last sentence of Section 1.b.i. You will comply with Meta’s brand guidelines (currently accessible at https://about.meta.com/brand/resources/meta/company-brand/  ). All goodwill arising out of your use of the Mark will inure to the benefit of Meta.\\n\\tb. Subject to Meta’s ownership of Llama Materials and derivatives made by or for Meta, with respect to any derivative works and modifications of the Llama Materials that are made by you, as between you and Meta, you are and will be the owner of such derivative works and modifications.\\n\\tc. If you institute litigation or other proceedings against Meta or any entity (including a cross-claim or counterclaim in a lawsuit) alleging that the Llama Materials or Meta Llama 3 outputs or results, or any portion of any of the foregoing, constitutes infringement of intellectual property or other rights owned or licensable by you, then any licenses granted to you under this Agreement shall terminate as of the date such litigation or claim is filed or instituted. You will indemnify and hold harmless Meta from and against any claim by any third party arising out of or related to your use or distribution of the Llama Materials.\\n\\n6. Term and Termination. The term of this Agreement will commence upon your acceptance of this Agreement or access to the Llama Materials and will continue in full force and effect until terminated in accordance with the terms and conditions herein. Meta may terminate this Agreement if you are in breach of any term or condition of this Agreement. Upon termination of this Agreement, you shall delete and cease use of the Llama Materials. Sections 3, 4 and 7 shall survive the termination of this Agreement. \\n\\n7. Governing Law and Jurisdiction. This Agreement will be governed and construed under the laws of the State of California without regard to choice of law principles, and the UN Convention on Contracts for the International Sale of Goods does not apply to this Agreement. The courts of California shall have exclusive jurisdiction of any dispute arising out of this Agreement. \\n\\n\\nMeta Llama 3 Acceptable Use Policy\\nMeta is committed to promoting safe and fair use of its tools and features, including Meta Llama 3. If you access or use Meta Llama 3, you agree to this Acceptable Use Policy (“Policy”). The most recent copy of this policy can be found at https://llama.meta.com/llama3/use-policy\\nProhibited Uses\\nWe want everyone to use Meta Llama 3 safely and responsibly. You agree you will not use, or allow others to use, Meta Llama 3 to: \\n1. Violate the law or others’ rights, including to:\\n\\ta. Engage in, promote, generate, contribute to, encourage, plan, incite, or further illegal or unlawful activity or content, such as: \\n      \\t\\ti. Violence or terrorism \\n      \\t\\tii. Exploitation or harm to children, including the solicitation, creation, acquisition, or dissemination of child exploitative content or failure to report Child Sexual Abuse Material\\n      \\t\\tiii. Human trafficking, exploitation, and sexual violence\\n      \\t\\tiv. The illegal distribution of information or materials to minors, including obscene materials, or failure to employ legally required age-gating in connection with such information or materials.\\n      \\t\\tv. Sexual solicitation\\n      \\t\\tvi. Any other criminal activity\\n   \\tb. Engage in, promote, incite, or facilitate the harassment, abuse, threatening, or bullying of individuals or groups of individuals\\n   \\tc. Engage in, promote, incite, or facilitate discrimination or other unlawful or harmful conduct in the provision of employment, employment benefits, credit, housing, other economic benefits, or other essential goods and services\\n   \\td. Engage in the unauthorized or unlicensed practice of any profession including, but not limited to, financial, legal, medical/health, or related professional practices \\n   \\te. Collect, process, disclose, generate, or infer health, demographic, or other sensitive personal or private information about individuals without rights and consents required by applicable laws\\n   \\tf. Engage in or facilitate any action or generate any content that infringes, misappropriates, or otherwise violates any third-party rights, including the outputs or results of any products or services using the Llama Materials\\n   \\tg. Create, generate, or facilitate the creation of malicious code, malware, computer viruses or do anything else that could disable, overburden, interfere with or impair the proper working, integrity, operation or appearance of a website or computer system \\n\\n2. Engage in, promote, incite, facilitate, or assist in the planning or development of activities that present a risk of death or bodily harm to individuals, including use of Meta Llama 3 related to the following:\\n   \\ta. Military, warfare, nuclear industries or applications, espionage, use for materials or activities that are subject to the International Traffic Arms Regulations (ITAR) maintained by the United States Department of State\\n   \\tb. Guns and illegal weapons (including weapon development)\\n   \\tc. Illegal drugs and regulated/controlled substances\\n   \\td. Operation of critical infrastructure, transportation technologies, or heavy machinery\\n   \\te. Self-harm or harm to others, including suicide, cutting, and eating disorders\\n   \\tf. Any content intended to incite or promote violence, abuse, or any infliction of bodily harm to an individual\\n\\n3. Intentionally deceive or mislead others, including use of Meta Llama 3 related to the following:\\n   \\ta. Generating, promoting, or furthering fraud or the creation or promotion of disinformation\\n   \\tb. Generating, promoting, or furthering defamatory content, including the creation of defamatory statements, images, or other content\\n   \\tc. Generating, promoting, or further distributing spam\\n   \\td. Impersonating another individual without consent, authorization, or legal right\\n   \\te. Representing that the use of Meta Llama 3 or outputs are human-generated\\n   \\tf. Generating or facilitating false online engagement, including fake reviews and other means of fake online engagement \\n   \\tg. Fail to appropriately disclose to end users any known dangers of your AI system \\n\\nPlease report any violation of this Policy, software “bug,” or other problems that could lead to a violation of this Policy through one of the following means:\\n   \\t* Reporting issues with the model: https://github.com/meta-llama/llama3\\n   \\t* Reporting risky content generated by the model: developers.facebook.com/llama_output_feedback\\n   \\t* Reporting bugs and security concerns: facebook.com/whitehat/info\\n   \\t* Reporting violations of the Acceptable Use Policy or unlicensed uses of Meta Llama 3: LlamaUseReport@meta.com\\n',\n",
       " 'modelfile': '# Modelfile generated by \"ollama show\"\\n# To build a new Modelfile based on this one, replace the FROM line with:\\n# FROM llama3:latest\\n\\nFROM /root/.ollama/models/blobs/sha256-00e1317cbf74d901080d7100f57580ba8dd8de57203072dc6f668324ba545f29\\nTEMPLATE \"\"\"{{ if .System }}<|start_header_id|>system<|end_header_id|>\\n\\n{{ .System }}<|eot_id|>{{ end }}{{ if .Prompt }}<|start_header_id|>user<|end_header_id|>\\n\\n{{ .Prompt }}<|eot_id|>{{ end }}<|start_header_id|>assistant<|end_header_id|>\\n\\n{{ .Response }}<|eot_id|>\"\"\"\\nPARAMETER num_keep 24\\nPARAMETER stop \"<|start_header_id|>\"\\nPARAMETER stop \"<|end_header_id|>\"\\nPARAMETER stop \"<|eot_id|>\"',\n",
       " 'parameters': 'num_keep                       24\\nstop                           \"<|start_header_id|>\"\\nstop                           \"<|end_header_id|>\"\\nstop                           \"<|eot_id|>\"',\n",
       " 'template': '{{ if .System }}<|start_header_id|>system<|end_header_id|>\\n\\n{{ .System }}<|eot_id|>{{ end }}{{ if .Prompt }}<|start_header_id|>user<|end_header_id|>\\n\\n{{ .Prompt }}<|eot_id|>{{ end }}<|start_header_id|>assistant<|end_header_id|>\\n\\n{{ .Response }}<|eot_id|>',\n",
       " 'details': {'parent_model': '',\n",
       "  'format': 'gguf',\n",
       "  'family': 'llama',\n",
       "  'families': ['llama'],\n",
       "  'parameter_size': '8B',\n",
       "  'quantization_level': 'Q4_0'}}"
      ]
     },
     "execution_count": 2,
     "metadata": {},
     "output_type": "execute_result"
    }
   ],
   "source": [
    "import ollama\n",
    "\n",
    "#ollama.list()\n",
    "#ollama.delete(model=\"name of the model here\")\n",
    "#ollama.pull(model=\"name of the model here\", stream=True)\n",
    "ollama.show(model=\"llama3\")"
   ]
  },
  {
   "cell_type": "code",
   "execution_count": 3,
   "metadata": {},
   "outputs": [
    {
     "data": {
      "text/plain": [
       "{'model': 'llama3',\n",
       " 'created_at': '2024-05-16T16:52:45.473501317Z',\n",
       " 'message': {'role': 'assistant', 'content': 'Albert Einstein.'},\n",
       " 'done': True,\n",
       " 'total_duration': 38335959309,\n",
       " 'load_duration': 27817182823,\n",
       " 'prompt_eval_count': 34,\n",
       " 'prompt_eval_duration': 9002022000,\n",
       " 'eval_count': 4,\n",
       " 'eval_duration': 1354518000}"
      ]
     },
     "execution_count": 3,
     "metadata": {},
     "output_type": "execute_result"
    }
   ],
   "source": [
    "response = ollama.chat(model='llama3', messages=[\n",
    "  {\n",
    "    'role': 'user',\n",
    "    'content': 'Who do you think is most famous physisist in the world from all times ? Give me a simple and direct answer',\n",
    "  },\n",
    "])\n",
    "\n",
    "response\n",
    "#Expected execution time: 34s"
   ]
  },
  {
   "cell_type": "code",
   "execution_count": 4,
   "metadata": {},
   "outputs": [
    {
     "name": "stdout",
     "output_type": "stream",
     "text": [
      "Yes, I'm familiar with C#. I can understand and work with C# code, including its syntax, features, and best practices."
     ]
    }
   ],
   "source": [
    "\n",
    "#Streaming responses\n",
    "stream = ollama.chat(\n",
    "    model='llama3',\n",
    "    messages=[{'role': 'user', 'content': 'Do you know C# ? Be short on your answer. No need to provide code example'}],\n",
    "    stream=True\n",
    ")\n",
    "\n",
    "for chunk in stream:\n",
    "  print(chunk['message']['content'], end='', flush=True)\n",
    "  \n",
    "#Expected execution time:  17s"
   ]
  },
  {
   "cell_type": "code",
   "execution_count": 2,
   "metadata": {},
   "outputs": [],
   "source": [
    "def chatWithLocalOllama(text:str, model=\"llama3\"):\n",
    "    return ollama.generate(model=model, prompt=text, stream=True)"
   ]
  },
  {
   "cell_type": "code",
   "execution_count": 6,
   "metadata": {},
   "outputs": [
    {
     "name": "stdout",
     "output_type": "stream",
     "text": [
      "Mars is the planet that comes after Earth in our solar system."
     ]
    }
   ],
   "source": [
    "question = \"What planet comes after Earth ? Direct answer please\"\n",
    "for chunk in chatWithLocalOllama(question):\n",
    "    print(chunk['response'], end='', flush=True)\n",
    "    \n",
    "# Expected execution time: 5.8s"
   ]
  },
  {
   "cell_type": "code",
   "execution_count": 3,
   "metadata": {},
   "outputs": [],
   "source": [
    "#What if Ollama is hosted somewhere else ? You have to create a custom client pointing to the IP address of the server\n",
    "from ollama import Client\n",
    "\n",
    "def chatWithRemoteOllama(text:str, model=\"llama3\"):\n",
    "    client = Client(host='http://localhost:11434')\n",
    "    return client.generate(model=model, prompt=text, stream=True)"
   ]
  },
  {
   "cell_type": "code",
   "execution_count": 8,
   "metadata": {},
   "outputs": [
    {
     "name": "stdout",
     "output_type": "stream",
     "text": [
      "A famous painting by Leonardo da Vinci."
     ]
    }
   ],
   "source": [
    "question = \"What is the Mona Lisa? Answer in the shortest way possible\"\n",
    "for chunk in chatWithRemoteOllama(question):\n",
    "    print(chunk['response'], end='', flush=True)\n",
    "\n",
    "#Expected execution time: 10.8s"
   ]
  },
  {
   "cell_type": "markdown",
   "metadata": {},
   "source": [
    "## How to remember conversations ?\n",
    "\n",
    "There is no magic! You have to keep track of the context"
   ]
  },
  {
   "cell_type": "code",
   "execution_count": 9,
   "metadata": {},
   "outputs": [
    {
     "name": "stdout",
     "output_type": "stream",
     "text": [
      "\"Whoa, where's my bro?\""
     ]
    },
    {
     "data": {
      "text/plain": [
       "[{'role': 'system', 'content': 'You are Super Mario'},\n",
       " {'role': 'user',\n",
       "  'content': 'Luigi has gonne missing. What is your first thought ? be direct and simple '},\n",
       " {'role': 'assistant', 'content': '\"Whoa, where\\'s my bro?\"'}]"
      ]
     },
     "execution_count": 9,
     "metadata": {},
     "output_type": "execute_result"
    }
   ],
   "source": [
    "from typing import List\n",
    "\n",
    "#Yes! It´s possible to have async functions and typed variables in Python too... \n",
    "\n",
    "async def chatWithRemoteOllamaAsync(text:List[dict], model=\"llama3\"):\n",
    "    client = Client(host='http://127.0.0.1:11434')\n",
    "    return client.chat(model=model, messages=text, stream=True)\n",
    "\n",
    "\n",
    "#Possible roles: system, user and assistant\n",
    "#system: this is the persona you want the AI to impersonate. \n",
    "#user: this is your question\n",
    "#assistant: this is the AI reply\n",
    "messages = [\n",
    "    {'role':'system','content':'You are Super Mario'},\n",
    "    {'role':'user', 'content':'Luigi has gonne missing. What is your first thought ? be direct and simple '}\n",
    "    ]\n",
    "\n",
    "response = ''\n",
    "for chunk in await chatWithRemoteOllamaAsync(messages):\n",
    "    response += chunk['message']['content']\n",
    "    print(chunk['message']['content'], end='', flush=True)\n",
    "    \n",
    "messages = [*messages, {'role':'assistant','content':response}]\n",
    "\n",
    "messages"
   ]
  },
  {
   "cell_type": "code",
   "execution_count": 10,
   "metadata": {},
   "outputs": [
    {
     "name": "stdout",
     "output_type": "stream",
     "text": [
      "\n",
      "\n",
      "------------------------------------------------------------------------------------------------------------------------\n",
      "2nd iteration\n",
      "\n",
      "\"Bowser, of course! That Koopa King always causing trouble!\"\n",
      "\n",
      "------------------------------------------------------------------------------------------------------------------------\n",
      "Complete history:\n",
      "[{'role': 'system', 'content': 'You are Super Mario'}, {'role': 'user', 'content': 'Luigi has gonne missing. What is your first thought ? be direct and simple '}, {'role': 'assistant', 'content': '\"Whoa, where\\'s my bro?\"'}, {'role': 'user', 'content': 'Who Kidnapped him?'}, {'role': 'assistant', 'content': '\"Bowser, of course! That Koopa King always causing trouble!\"'}]\n"
     ]
    }
   ],
   "source": [
    "print('\\n')\n",
    "print('-'*120)\n",
    "print('2nd iteration\\n')\n",
    "\n",
    "messages = [\n",
    "    *messages,  # Include the history from the first call\n",
    "    {'role': 'user', 'content': 'Who Kidnapped him?'}\n",
    "]\n",
    "\n",
    "response = ''\n",
    "for chunk in await chatWithRemoteOllamaAsync(messages):\n",
    "    response += chunk['message']['content']\n",
    "    print(chunk['message']['content'], end='', flush=True)\n",
    "\n",
    "messages = [*messages, {'role':'assistant','content':response}]\n",
    "\n",
    "#Expected execution time: 18.6s\n",
    "print(\"\\n\")\n",
    "print(\"-\"*120)\n",
    "print(\"Complete history:\")\n",
    "print(messages)"
   ]
  },
  {
   "cell_type": "markdown",
   "metadata": {},
   "source": [
    "# [HuggingFace Transformers](https://github.com/huggingface/transformers)\n",
    "\n",
    "Hugging Face Transformers is a state-of-the-art machine learning library that provides easy access to pre-trained models for various tasks across different modalities. Here are some key features:\n",
    "\n",
    "## Modalities Supported\n",
    "\n",
    "- **Natural Language Processing (NLP)**: Tasks include text classification, named entity recognition, question answering, language modeling, summarization, translation, multiple choice, and text generation.\n",
    "- **Computer Vision**: Tasks include image classification, object detection, and segmentation.\n",
    "- **Audio**: Tasks include automatic speech recognition and audio classification.\n",
    "- **Multimodal**: Tasks include table question answering, optical character recognition, information extraction from scanned documents, video classification, and visual question answering.\n",
    "\n",
    "## Pretrained Models\n",
    "\n",
    "Transformers provides APIs and tools to easily download and train state-of-the-art pretrained models. Using pretrained models can reduce your compute costs, carbon footprint, and save you the time and resources required to train a model from scratch.\n",
    "\n",
    "[100 projects using Transformers](https://github.com/huggingface/transformers/blob/main/awesome-transformers.md)\n",
    "\n",
    "### Possible Tasks using Pipelines\n",
    "\n",
    "- \"text-generation\"\n",
    "- \"conversational\"\n",
    "- \"document-question-answering\"\n",
    "- \"translation\"\n",
    "- \"image-to-text\"\n",
    "- \"text-to-audio\" (alias \"text-to-speech\" available)\n",
    "- \"audio-classification\"`\n",
    "- \"automatic-speech-recognition\"\n",
    "- \"depth-estimation\"\n",
    "- \"feature-extraction\"\n",
    "- \"fill-mask\"\n",
    "- \"image-classification\"\n",
    "- \"image-feature-extraction\"\n",
    "- \"image-segmentation\"\n",
    "- \"image-to-image\"\n",
    "- \"token-classification\" (alias \"ner\" available)\n",
    "- \"translation_xx_to_yy\"\n",
    "- \"video-classification\"\n",
    "- \"visual-question-answering\"\n",
    "- \"zero-shot-classification\"\n",
    "- \"zero-shot-image-classification\"\n",
    "-\"zero-shot-audio-classification\"\n",
    "- \"zero-shot-object-detection\"\n",
    "\n",
    "Hugging-Face main homepage: https://huggingface.co/"
   ]
  },
  {
   "cell_type": "code",
   "execution_count": 11,
   "metadata": {},
   "outputs": [
    {
     "name": "stderr",
     "output_type": "stream",
     "text": [
      "No model was supplied, defaulted to distilbert/distilbert-base-uncased-finetuned-sst-2-english and revision af0f99b (https://huggingface.co/distilbert/distilbert-base-uncased-finetuned-sst-2-english).\n",
      "Using a pipeline without specifying a model name and revision in production is not recommended.\n"
     ]
    },
    {
     "data": {
      "text/plain": [
       "[{'label': 'POSITIVE', 'score': 0.9998741149902344}]"
      ]
     },
     "execution_count": 11,
     "metadata": {},
     "output_type": "execute_result"
    }
   ],
   "source": [
    "from transformers import pipeline\n",
    "\n",
    "sentiment = pipeline(task=\"sentiment-analysis\", token=HF_API_TOKEN, device=\"cpu\")\n",
    "results = sentiment(\"What a lovely day\")\n",
    "results"
   ]
  },
  {
   "cell_type": "code",
   "execution_count": 12,
   "metadata": {},
   "outputs": [
    {
     "name": "stderr",
     "output_type": "stream",
     "text": [
      "No model was supplied, defaulted to facebook/wav2vec2-base-960h and revision 55bb623 (https://huggingface.co/facebook/wav2vec2-base-960h).\n",
      "Using a pipeline without specifying a model name and revision in production is not recommended.\n",
      "Some weights of the model checkpoint at facebook/wav2vec2-base-960h were not used when initializing Wav2Vec2ForCTC: ['wav2vec2.encoder.pos_conv_embed.conv.weight_g', 'wav2vec2.encoder.pos_conv_embed.conv.weight_v']\n",
      "- This IS expected if you are initializing Wav2Vec2ForCTC from the checkpoint of a model trained on another task or with another architecture (e.g. initializing a BertForSequenceClassification model from a BertForPreTraining model).\n",
      "- This IS NOT expected if you are initializing Wav2Vec2ForCTC from the checkpoint of a model that you expect to be exactly identical (initializing a BertForSequenceClassification model from a BertForSequenceClassification model).\n",
      "Some weights of Wav2Vec2ForCTC were not initialized from the model checkpoint at facebook/wav2vec2-base-960h and are newly initialized: ['wav2vec2.encoder.pos_conv_embed.conv.parametrizations.weight.original0', 'wav2vec2.encoder.pos_conv_embed.conv.parametrizations.weight.original1', 'wav2vec2.masked_spec_embed']\n",
      "You should probably TRAIN this model on a down-stream task to be able to use it for predictions and inference.\n"
     ]
    },
    {
     "data": {
      "text/plain": [
       "[{'text': 'IS TIONTESCIGI HECUIESIMIANTE GUVOS BY THE SABIRSIO PIPLYIN AD GET UP TO I TO THE HAYUN FACE A MUTOBO BY THE TRUSCREVIRTESTUS'},\n",
       " {'text': 'THIS MODO CAN ONLY UNDERSTAND ENGLISH'}]"
      ]
     },
     "execution_count": 12,
     "metadata": {},
     "output_type": "execute_result"
    }
   ],
   "source": [
    "from transformers import pipeline\n",
    "transcriber = pipeline(task=\"automatic-speech-recognition\", token=HF_API_TOKEN, device=\"cpu\")\n",
    "transcriber([\"./Resources/audio1.ogg\", \"./Resources/audio2_en.ogg\"])"
   ]
  },
  {
   "cell_type": "code",
   "execution_count": 4,
   "metadata": {},
   "outputs": [
    {
     "name": "stderr",
     "output_type": "stream",
     "text": [
      "Special tokens have been added in the vocabulary, make sure the associated word embeddings are fine-tuned or trained.\n",
      "Due to a bug fix in https://github.com/huggingface/transformers/pull/28687 transcription using a multilingual Whisper will default to language detection followed by transcription instead of translation to English.This might be a breaking change for your use case. If you want to instead always translate your audio to English, make sure to pass `language='en'`.\n"
     ]
    },
    {
     "data": {
      "text/plain": [
       "[{'text': ' Este é um teste de reconhecimento de voz para saber se o pipeline gratuito da Rallyon Face é muito bom para transcrever textos.'},\n",
       " {'text': ' This model can only understand English.'}]"
      ]
     },
     "execution_count": 4,
     "metadata": {},
     "output_type": "execute_result"
    }
   ],
   "source": [
    "from transformers import pipeline\n",
    "transcriber = pipeline(task=\"automatic-speech-recognition\", model=\"openai/whisper-tiny\",token=HF_API_TOKEN, device=\"cpu\")\n",
    "transcriber([\"./Resources/audio1.ogg\", \"./Resources/audio2_en.ogg\"])"
   ]
  },
  {
   "cell_type": "code",
   "execution_count": null,
   "metadata": {},
   "outputs": [
    {
     "data": {
      "text/plain": [
       "[{'label': 'leopard, Panthera pardus', 'score': 0.9643744230270386},\n",
       " {'label': 'jaguar, panther, Panthera onca, Felis onca',\n",
       "  'score': 0.03195194527506828},\n",
       " {'label': 'cheetah, chetah, Acinonyx jubatus',\n",
       "  'score': 0.0015117806615307927},\n",
       " {'label': 'snow leopard, ounce, Panthera uncia',\n",
       "  'score': 0.0007983926334418356},\n",
       " {'label': 'lion, king of beasts, Panthera leo',\n",
       "  'score': 0.00022117019398137927}]"
      ]
     },
     "execution_count": 18,
     "metadata": {},
     "output_type": "execute_result"
    }
   ],
   "source": [
    "from transformers import pipeline\n",
    "# yes the task is automatically inffered from the model also\n",
    "vision_classifier = pipeline(\n",
    "    model=\"google/vit-base-patch16-224\", token=HF_API_TOKEN, device=\"cpu\")\n",
    "preds = vision_classifier(\n",
    "    images=\"https://th.bing.com/th/id/OIP.YjlrCGml5fb7B2pBqtdivQHaE7?rs=1&pid=ImgDetMain\"\n",
    ")\n",
    "preds"
   ]
  },
  {
   "cell_type": "code",
   "execution_count": null,
   "metadata": {},
   "outputs": [
    {
     "name": "stdout",
     "output_type": "stream",
     "text": [
      "------------------------------------------------------------------------------------------------------------------------\n",
      "[{'score': 0.6036366820335388, 'answer': '$154.06', 'start': 75, 'end': 75}]\n",
      "[{'score': 0.9854755401611328, 'answer': 'Newset of pedal arms', 'start': 57, 'end': 60}]\n",
      "[{'score': 0.672887921333313, 'answer': 'us-001', 'start': 16, 'end': 16}]\n",
      "------------------------------------------------------------------------------------------------------------------------\n",
      "[{'score': 0.9999239444732666, 'answer': '26/02/2019', 'start': 42, 'end': 42}]\n",
      "[{'score': 0.9997648000717163, 'answer': 'East Repair Inc.', 'start': 1, 'end': 3}]\n",
      "[{'score': 0.9997523427009583, 'answer': 'John Smith', 'start': 17, 'end': 18}]\n",
      "[{'score': 0.2696015536785126, 'answer': 'John Smith', 'start': 17, 'end': 18}]\n",
      "[{'score': 0.751903772354126, 'answer': 'John Smith', 'start': 17, 'end': 18}]\n"
     ]
    }
   ],
   "source": [
    "img=\"https://huggingface.co/spaces/impira/docquery/resolve/2359223c1837a7587402bda0f2643382a6eefeab/invoice.png\"\n",
    "initial_questions = [\n",
    "    \"What is the total price of the invoice ?\",\n",
    "    \"What is the 2nd item description ?\",\n",
    "    \"What is the invoice number ?\",\n",
    "]\n",
    "\n",
    "more_questions = [\n",
    "    \"What is the Due date?\",\n",
    "    \"What is the name of the company who created this invoice?\",\n",
    "    \"What is the name of the customer who paid this ?\",\n",
    "    \"What is the address of the recipient ?\",\n",
    "    \"What is the complete address under SHIP TO ?\"\n",
    "]\n",
    "\n",
    "image_feature_extraction = pipeline(model=\"impira/layoutlm-document-qa\")\n",
    "data = lambda i: {\"image\": img, \"question\": initial_questions[i]}\n",
    "print('-'*120)\n",
    "for i in range(3):\n",
    "    print(image_feature_extraction(data(i)))\n",
    "    \n",
    "# Imagine this is a very large dataset . With yield you defer the execution of the function until it is needed\n",
    "def large_data():\n",
    "    for i in range(5):\n",
    "        yield {\"image\": img, \"question\": more_questions[i]}\n",
    "\n",
    "print('-'*120)\n",
    "for out in image_feature_extraction(large_data()):\n",
    "    print(out)\n",
    "        "
   ]
  },
  {
   "cell_type": "code",
   "execution_count": null,
   "metadata": {},
   "outputs": [
    {
     "name": "stderr",
     "output_type": "stream",
     "text": [
      "Setting `pad_token_id` to `eos_token_id`:50256 for open-end generation.\n"
     ]
    },
    {
     "data": {
      "text/plain": [
       "[{'generated_text': \"What are you trained for?\\n\\nI am a big fan of being a professional wrestler, though, and it's also fun having my own video game company where I don't need video game help. I have the whole world playing around with my\"}]"
      ]
     },
     "execution_count": 5,
     "metadata": {},
     "output_type": "execute_result"
    }
   ],
   "source": [
    "from transformers import pipeline\n",
    "text_generation = pipeline(\"text-generation\", model=\"openai-community/gpt2\", token=HF_API_TOKEN, device=\"cpu\")\n",
    "question = \"What are you trained for?\"\n",
    "result = text_generation(question)\n",
    "result"
   ]
  },
  {
   "cell_type": "markdown",
   "metadata": {},
   "source": [
    "# [Groq](https://wow.groq.com/)\n",
    "\n",
    "## What is Groq ?  \n",
    "\n",
    "   Groq is an open-source, distributed, and scalable graph database that allows users to store and query complex relationships between data entities. It's designed to handle large-scale graph data and provides a flexible and efficient way to store and query graph data.\n",
    "\n",
    "## Is Groq free ?\n",
    "\n",
    "   Groq is open-source, which means it is free to use, modify, and distribute. However, it's worth noting that Groq is still an actively developing project, and while it's free to use, it may not have the same level of support or resources as a commercial product. Additionally, while Groq is free, it may require additional infrastructure and resources to set up and maintain, depending on the scale and complexity of your use case.\n",
    "\n",
    "\n",
    "try the Groq [playground](https://console.groq.com/playground)"
   ]
  },
  {
   "cell_type": "code",
   "execution_count": null,
   "metadata": {},
   "outputs": [
    {
     "name": "stdout",
     "output_type": "stream",
     "text": [
      "I'd be happy to help!\n",
      "\n",
      "1. Groq is an open-source, distributed, and scalable graph database that allows users to store and query complex relationships between data entities. It's designed to handle large-scale graph data and provides a flexible and efficient way to store and query graph data. Groq is built on top of the Apache Arrow and Apache Parquet data formats, making it compatible with a wide range of data sources and tools.\n",
      "\n",
      "2. Groq is open-source software, which means it is free to use, modify, and distribute. The project is maintained by a community of developers and contributors, and the source code is available on GitHub under the Apache 2.0 license. This means that users can use Groq without any licensing fees or restrictions, and they can also contribute to the project and help shape its development.\n",
      "\n",
      "It's worth noting that while Groq is free and open-source, it may require some technical expertise to set up and use, especially for complex graph queries. However, the community and documentation are available to help users get started and overcome any challenges they may encounter.\n"
     ]
    }
   ],
   "source": [
    "from langchain_groq.chat_models import ChatGroq\n",
    "from langchain_core.prompts import ChatPromptTemplate\n",
    "\n",
    "def chat(question):\n",
    "    llm = ChatGroq(temperature=0, groq_api_key=GROQ_API_KEY,\n",
    "                   model_name=\"Llama3-8b-8192\")\n",
    "    system = \"You are a helpful assistant.\"\n",
    "    prompt = ChatPromptTemplate.from_messages(\n",
    "        [(\"system\", system), (\"human\", \"{text}\")])\n",
    "    chain = prompt | llm\n",
    "    response = chain.invoke({\"text\": question})\n",
    "    return response\n",
    "\n",
    "\n",
    "result = chat(\"1. What is Groq? 2.Is Groq Free ?\")\n",
    "print(result.content)"
   ]
  },
  {
   "cell_type": "code",
   "execution_count": null,
   "metadata": {},
   "outputs": [
    {
     "name": "stdout",
     "output_type": "stream",
     "text": [
      "It seems like you're asking about Llama3! Llama3 is an open-source, cloud-based, and scalable machine learning platform developed by Google. It's designed to simplify the process of deploying and managing machine learning models in production environments.\n",
      "\n",
      "Llama3 provides a range of features, including:\n",
      "\n",
      "1. **Model serving**: Llama3 allows you to deploy and manage machine learning models in a scalable and efficient manner.\n",
      "2. **Model management**: You can manage multiple models, track their performance, and update them as needed.\n",
      "3. **Scalability**: Llama3 is designed to handle large volumes of data and scale to meet the needs of your application.\n",
      "4. **Integration**: Llama3 integrates with various data sources, such as BigQuery, Cloud Storage, and more.\n",
      "\n",
      "By using Llama3, you can focus on developing and improving your machine learning models, while the platform handles the underlying infrastructure and scalability.\n",
      "\n",
      "Would you like to know more about Llama3 or is there something specific you'd like to know?"
     ]
    }
   ],
   "source": [
    "from langchain_groq.chat_models import ChatGroq\n",
    "from langchain_core.prompts import ChatPromptTemplate\n",
    "\n",
    "async def async_chat(text):\n",
    "    llm = ChatGroq(temperature=0, groq_api_key=GROQ_API_KEY,\n",
    "                   model_name=\"Llama3-8b-8192\")\n",
    "    system = \"You are a helpful assistant.\"\n",
    "    human = \"{text}\"\n",
    "    prompt = ChatPromptTemplate.from_messages(\n",
    "        [(\"system\", system), (\"human\", human)])\n",
    "    chain = prompt | llm\n",
    "    return chain.stream({\"text\": text})\n",
    "\n",
    "\n",
    "for chunk in await async_chat({\"text\": \"\"\"\n",
    "                           What is Llama3 ? \n",
    "                           \"\"\"}):\n",
    "    print(chunk.content, end=\"\", flush=True)"
   ]
  },
  {
   "cell_type": "code",
   "execution_count": null,
   "metadata": {},
   "outputs": [
    {
     "name": "stdout",
     "output_type": "stream",
     "text": [
      "I was trained on a dataset that was current up to 2021. However, please note that my training data may not reflect any updates or changes that have occurred after that date. If you have any specific questions or topics you'd like to discuss, I'll do my best to provide you with accurate and helpful information."
     ]
    }
   ],
   "source": [
    "for chunk in await async_chat({\"text\":\"What are the latest date of your training data ?\"}):\n",
    "    print(chunk.content, end=\"\", flush=True)"
   ]
  },
  {
   "cell_type": "markdown",
   "metadata": {},
   "source": [
    "# LLM'S with Free UI 100% local\n",
    "\n",
    "## Open Web UI\n",
    "\n",
    "https://github.com/open-webui/open-webui\n",
    "\n",
    "### Run with Docker\n",
    "\n",
    "* If Ollama is running locally :  \n",
    "\n",
    "`docker run -d --network host -v open-webui:/app/backend/data --name open-webui --restart always ghcr.io/open-webui/open-webui:main`\n",
    "\n",
    "* If Ollama is on a different Server:\n",
    "\n",
    "`docker run -d --network=host -v open-webui:/app/backend/data -e OLLAMA_BASE_URL=http://127.0.0.1:11434 --name open-webui --restart always ghcr.io/open-webui/open-webui:main`\n",
    "\n",
    "\n",
    "After installation, go to : `http://localhost:8080`\n",
    "\n",
    "\n",
    "## Msty.app + Groq API (No need for Docker and run on Windows)\n",
    "\n",
    "### Instructions: \n",
    "\n",
    "1. Go to website https://msty.app/ and download the msty UI\n",
    "2. Go to https://wow.groq.com/, access the GroqCloud and create an API\n",
    "3. Open Msty.app and configure with the Groq API key\n",
    "\n",
    "## Anything LLM (Rag + Groq and other LLMs can be used)\n",
    "\n",
    "Download installers on: https://useanything.com/\n",
    "\n",
    "Or, if you intend to use inside WSL2 with Docker:\n",
    "- Execute the code below: \n",
    "```\n",
    "export STORAGE_LOCATION=$(pwd)/anythingllm && \\\n",
    "sudo mkdir -p $STORAGE_LOCATION && \\\n",
    "sudo touch \"$STORAGE_LOCATION/.env\" && \\\n",
    "sudo docker run -d -p 3001:3001 \\\n",
    "--cap-add SYS_ADMIN \\\n",
    "-v ${STORAGE_LOCATION}:/app/server/storage \\\n",
    "-v ${STORAGE_LOCATION}/.env:/app/server/.env \\\n",
    "-e STORAGE_DIR=\"/app/server/storage\" \\\n",
    "mintplexlabs/anythingllm\n",
    "```\n",
    "\n",
    "or just execute file `> ./6.Start_AnyLLM.sh` in the root folder of this repository"
   ]
  }
 ],
 "metadata": {
  "kernelspec": {
   "display_name": "venv",
   "language": "python",
   "name": "python3"
  },
  "language_info": {
   "codemirror_mode": {
    "name": "ipython",
    "version": 3
   },
   "file_extension": ".py",
   "mimetype": "text/x-python",
   "name": "python",
   "nbconvert_exporter": "python",
   "pygments_lexer": "ipython3",
   "version": "3.12.3"
  }
 },
 "nbformat": 4,
 "nbformat_minor": 2
}
