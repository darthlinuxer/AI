{
 "cells": [
  {
   "cell_type": "code",
   "execution_count": 7,
   "metadata": {},
   "outputs": [],
   "source": [
    "from dotenv import load_dotenv\n",
    "import os\n",
    "import pprint\n",
    "load_dotenv(\"../.env\")\n",
    "\n",
    "from rich import print"
   ]
  },
  {
   "cell_type": "markdown",
   "metadata": {},
   "source": [
    "# Character Text Splitting Algorithm"
   ]
  },
  {
   "cell_type": "code",
   "execution_count": 8,
   "metadata": {},
   "outputs": [
    {
     "data": {
      "text/html": [
       "<pre style=\"white-space:pre;overflow-x:auto;line-height:normal;font-family:Menlo,'DejaVu Sans Mono',consolas,'Courier New',monospace\"><span style=\"font-weight: bold\">[</span>\n",
       "    <span style=\"color: #800080; text-decoration-color: #800080; font-weight: bold\">Document</span><span style=\"font-weight: bold\">(</span><span style=\"color: #808000; text-decoration-color: #808000\">page_content</span>=<span style=\"color: #008000; text-decoration-color: #008000\">'\\nThe astronauts on the Internationa'</span>, <span style=\"color: #808000; text-decoration-color: #808000\">metadata</span>=<span style=\"font-weight: bold\">{</span><span style=\"color: #008000; text-decoration-color: #008000\">'source'</span>: <span style=\"color: #008000; text-decoration-color: #008000\">'local'</span><span style=\"font-weight: bold\">})</span>,\n",
       "    <span style=\"color: #800080; text-decoration-color: #800080; font-weight: bold\">Document</span><span style=\"font-weight: bold\">(</span><span style=\"color: #808000; text-decoration-color: #808000\">page_content</span>=<span style=\"color: #008000; text-decoration-color: #008000\">'l Space Station conducted a spacewa'</span>, <span style=\"color: #808000; text-decoration-color: #808000\">metadata</span>=<span style=\"font-weight: bold\">{</span><span style=\"color: #008000; text-decoration-color: #008000\">'source'</span>: <span style=\"color: #008000; text-decoration-color: #008000\">'local'</span><span style=\"font-weight: bold\">})</span>,\n",
       "    <span style=\"color: #800080; text-decoration-color: #800080; font-weight: bold\">Document</span><span style=\"font-weight: bold\">(</span><span style=\"color: #808000; text-decoration-color: #808000\">page_content</span>=<span style=\"color: #008000; text-decoration-color: #008000\">'lk to repair a malfunctioning solar'</span>, <span style=\"color: #808000; text-decoration-color: #808000\">metadata</span>=<span style=\"font-weight: bold\">{</span><span style=\"color: #008000; text-decoration-color: #008000\">'source'</span>: <span style=\"color: #008000; text-decoration-color: #008000\">'local'</span><span style=\"font-weight: bold\">})</span>,\n",
       "    <span style=\"color: #800080; text-decoration-color: #800080; font-weight: bold\">Document</span><span style=\"font-weight: bold\">(</span><span style=\"color: #808000; text-decoration-color: #808000\">page_content</span>=<span style=\"color: #008000; text-decoration-color: #008000\">' panel. \\nThe aroma of freshly baked'</span>, <span style=\"color: #808000; text-decoration-color: #808000\">metadata</span>=<span style=\"font-weight: bold\">{</span><span style=\"color: #008000; text-decoration-color: #008000\">'source'</span>: <span style=\"color: #008000; text-decoration-color: #008000\">'local'</span><span style=\"font-weight: bold\">})</span>,\n",
       "    <span style=\"color: #800080; text-decoration-color: #800080; font-weight: bold\">Document</span><span style=\"font-weight: bold\">(</span><span style=\"color: #808000; text-decoration-color: #808000\">page_content</span>=<span style=\"color: #008000; text-decoration-color: #008000\">' croissants wafted through the char'</span>, <span style=\"color: #808000; text-decoration-color: #808000\">metadata</span>=<span style=\"font-weight: bold\">{</span><span style=\"color: #008000; text-decoration-color: #008000\">'source'</span>: <span style=\"color: #008000; text-decoration-color: #008000\">'local'</span><span style=\"font-weight: bold\">})</span>,\n",
       "    <span style=\"color: #800080; text-decoration-color: #800080; font-weight: bold\">Document</span><span style=\"font-weight: bold\">(</span><span style=\"color: #808000; text-decoration-color: #808000\">page_content</span>=<span style=\"color: #008000; text-decoration-color: #008000\">'ming French bakery. \\nThe new policy'</span>, <span style=\"color: #808000; text-decoration-color: #808000\">metadata</span>=<span style=\"font-weight: bold\">{</span><span style=\"color: #008000; text-decoration-color: #008000\">'source'</span>: <span style=\"color: #008000; text-decoration-color: #008000\">'local'</span><span style=\"font-weight: bold\">})</span>,\n",
       "    <span style=\"color: #800080; text-decoration-color: #800080; font-weight: bold\">Document</span><span style=\"font-weight: bold\">(</span><span style=\"color: #808000; text-decoration-color: #808000\">page_content</span>=<span style=\"color: #008000; text-decoration-color: #008000\">' aimed to reduce carbon emissions b'</span>, <span style=\"color: #808000; text-decoration-color: #808000\">metadata</span>=<span style=\"font-weight: bold\">{</span><span style=\"color: #008000; text-decoration-color: #008000\">'source'</span>: <span style=\"color: #008000; text-decoration-color: #008000\">'local'</span><span style=\"font-weight: bold\">})</span>,\n",
       "    <span style=\"color: #800080; text-decoration-color: #800080; font-weight: bold\">Document</span><span style=\"font-weight: bold\">(</span><span style=\"color: #808000; text-decoration-color: #808000\">page_content</span>=<span style=\"color: #008000; text-decoration-color: #008000\">'y 50% within the next decade. \\nThe '</span>, <span style=\"color: #808000; text-decoration-color: #808000\">metadata</span>=<span style=\"font-weight: bold\">{</span><span style=\"color: #008000; text-decoration-color: #008000\">'source'</span>: <span style=\"color: #008000; text-decoration-color: #008000\">'local'</span><span style=\"font-weight: bold\">})</span>,\n",
       "    <span style=\"color: #800080; text-decoration-color: #800080; font-weight: bold\">Document</span><span style=\"font-weight: bold\">(</span><span style=\"color: #808000; text-decoration-color: #808000\">page_content</span>=<span style=\"color: #008000; text-decoration-color: #008000\">'ancient Egyptian pharaohs were know'</span>, <span style=\"color: #808000; text-decoration-color: #808000\">metadata</span>=<span style=\"font-weight: bold\">{</span><span style=\"color: #008000; text-decoration-color: #008000\">'source'</span>: <span style=\"color: #008000; text-decoration-color: #008000\">'local'</span><span style=\"font-weight: bold\">})</span>,\n",
       "    <span style=\"color: #800080; text-decoration-color: #800080; font-weight: bold\">Document</span><span style=\"font-weight: bold\">(</span><span style=\"color: #808000; text-decoration-color: #808000\">page_content</span>=<span style=\"color: #008000; text-decoration-color: #008000\">'n for their elaborate headdresses a'</span>, <span style=\"color: #808000; text-decoration-color: #808000\">metadata</span>=<span style=\"font-weight: bold\">{</span><span style=\"color: #008000; text-decoration-color: #008000\">'source'</span>: <span style=\"color: #008000; text-decoration-color: #008000\">'local'</span><span style=\"font-weight: bold\">})</span>,\n",
       "    <span style=\"color: #800080; text-decoration-color: #800080; font-weight: bold\">Document</span><span style=\"font-weight: bold\">(</span><span style=\"color: #808000; text-decoration-color: #808000\">page_content</span>=<span style=\"color: #008000; text-decoration-color: #008000\">'nd ornate jewelry.'</span>, <span style=\"color: #808000; text-decoration-color: #808000\">metadata</span>=<span style=\"font-weight: bold\">{</span><span style=\"color: #008000; text-decoration-color: #008000\">'source'</span>: <span style=\"color: #008000; text-decoration-color: #008000\">'local'</span><span style=\"font-weight: bold\">})</span>\n",
       "<span style=\"font-weight: bold\">]</span>\n",
       "</pre>\n"
      ],
      "text/plain": [
       "\u001b[1m[\u001b[0m\n",
       "    \u001b[1;35mDocument\u001b[0m\u001b[1m(\u001b[0m\u001b[33mpage_content\u001b[0m=\u001b[32m'\\nThe astronauts on the Internationa'\u001b[0m, \u001b[33mmetadata\u001b[0m=\u001b[1m{\u001b[0m\u001b[32m'source'\u001b[0m: \u001b[32m'local'\u001b[0m\u001b[1m}\u001b[0m\u001b[1m)\u001b[0m,\n",
       "    \u001b[1;35mDocument\u001b[0m\u001b[1m(\u001b[0m\u001b[33mpage_content\u001b[0m=\u001b[32m'l Space Station conducted a spacewa'\u001b[0m, \u001b[33mmetadata\u001b[0m=\u001b[1m{\u001b[0m\u001b[32m'source'\u001b[0m: \u001b[32m'local'\u001b[0m\u001b[1m}\u001b[0m\u001b[1m)\u001b[0m,\n",
       "    \u001b[1;35mDocument\u001b[0m\u001b[1m(\u001b[0m\u001b[33mpage_content\u001b[0m=\u001b[32m'lk to repair a malfunctioning solar'\u001b[0m, \u001b[33mmetadata\u001b[0m=\u001b[1m{\u001b[0m\u001b[32m'source'\u001b[0m: \u001b[32m'local'\u001b[0m\u001b[1m}\u001b[0m\u001b[1m)\u001b[0m,\n",
       "    \u001b[1;35mDocument\u001b[0m\u001b[1m(\u001b[0m\u001b[33mpage_content\u001b[0m=\u001b[32m' panel. \\nThe aroma of freshly baked'\u001b[0m, \u001b[33mmetadata\u001b[0m=\u001b[1m{\u001b[0m\u001b[32m'source'\u001b[0m: \u001b[32m'local'\u001b[0m\u001b[1m}\u001b[0m\u001b[1m)\u001b[0m,\n",
       "    \u001b[1;35mDocument\u001b[0m\u001b[1m(\u001b[0m\u001b[33mpage_content\u001b[0m=\u001b[32m' croissants wafted through the char'\u001b[0m, \u001b[33mmetadata\u001b[0m=\u001b[1m{\u001b[0m\u001b[32m'source'\u001b[0m: \u001b[32m'local'\u001b[0m\u001b[1m}\u001b[0m\u001b[1m)\u001b[0m,\n",
       "    \u001b[1;35mDocument\u001b[0m\u001b[1m(\u001b[0m\u001b[33mpage_content\u001b[0m=\u001b[32m'ming French bakery. \\nThe new policy'\u001b[0m, \u001b[33mmetadata\u001b[0m=\u001b[1m{\u001b[0m\u001b[32m'source'\u001b[0m: \u001b[32m'local'\u001b[0m\u001b[1m}\u001b[0m\u001b[1m)\u001b[0m,\n",
       "    \u001b[1;35mDocument\u001b[0m\u001b[1m(\u001b[0m\u001b[33mpage_content\u001b[0m=\u001b[32m' aimed to reduce carbon emissions b'\u001b[0m, \u001b[33mmetadata\u001b[0m=\u001b[1m{\u001b[0m\u001b[32m'source'\u001b[0m: \u001b[32m'local'\u001b[0m\u001b[1m}\u001b[0m\u001b[1m)\u001b[0m,\n",
       "    \u001b[1;35mDocument\u001b[0m\u001b[1m(\u001b[0m\u001b[33mpage_content\u001b[0m=\u001b[32m'y 50% within the next decade. \\nThe '\u001b[0m, \u001b[33mmetadata\u001b[0m=\u001b[1m{\u001b[0m\u001b[32m'source'\u001b[0m: \u001b[32m'local'\u001b[0m\u001b[1m}\u001b[0m\u001b[1m)\u001b[0m,\n",
       "    \u001b[1;35mDocument\u001b[0m\u001b[1m(\u001b[0m\u001b[33mpage_content\u001b[0m=\u001b[32m'ancient Egyptian pharaohs were know'\u001b[0m, \u001b[33mmetadata\u001b[0m=\u001b[1m{\u001b[0m\u001b[32m'source'\u001b[0m: \u001b[32m'local'\u001b[0m\u001b[1m}\u001b[0m\u001b[1m)\u001b[0m,\n",
       "    \u001b[1;35mDocument\u001b[0m\u001b[1m(\u001b[0m\u001b[33mpage_content\u001b[0m=\u001b[32m'n for their elaborate headdresses a'\u001b[0m, \u001b[33mmetadata\u001b[0m=\u001b[1m{\u001b[0m\u001b[32m'source'\u001b[0m: \u001b[32m'local'\u001b[0m\u001b[1m}\u001b[0m\u001b[1m)\u001b[0m,\n",
       "    \u001b[1;35mDocument\u001b[0m\u001b[1m(\u001b[0m\u001b[33mpage_content\u001b[0m=\u001b[32m'nd ornate jewelry.'\u001b[0m, \u001b[33mmetadata\u001b[0m=\u001b[1m{\u001b[0m\u001b[32m'source'\u001b[0m: \u001b[32m'local'\u001b[0m\u001b[1m}\u001b[0m\u001b[1m)\u001b[0m\n",
       "\u001b[1m]\u001b[0m\n"
      ]
     },
     "metadata": {},
     "output_type": "display_data"
    }
   ],
   "source": [
    "from langchain_core.documents import Document\n",
    "text = \"\"\"\n",
    "The astronauts on the International Space Station conducted a spacewalk to repair a malfunctioning solar panel. \n",
    "The aroma of freshly baked croissants wafted through the charming French bakery. \n",
    "The new policy aimed to reduce carbon emissions by 50% within the next decade. \n",
    "The ancient Egyptian pharaohs were known for their elaborate headdresses and ornate jewelry.\"\"\"\n",
    "\n",
    "# Manual Splitting\n",
    "chunks = []\n",
    "chunk_size = 35 # Characters\n",
    "for i in range(0, len(text), chunk_size):\n",
    "    chunk = text[i:i + chunk_size]\n",
    "    chunks.append(chunk)\n",
    "documents = [Document(page_content=chunk, metadata={\"source\": \"local\"}) for chunk in chunks]\n",
    "print(documents)"
   ]
  },
  {
   "cell_type": "markdown",
   "metadata": {},
   "source": [
    "# Character Text Splitting Library"
   ]
  },
  {
   "cell_type": "code",
   "execution_count": 9,
   "metadata": {},
   "outputs": [
    {
     "data": {
      "text/html": [
       "<pre style=\"white-space:pre;overflow-x:auto;line-height:normal;font-family:Menlo,'DejaVu Sans Mono',consolas,'Courier New',monospace\"><span style=\"font-weight: bold\">[</span>\n",
       "    <span style=\"color: #800080; text-decoration-color: #800080; font-weight: bold\">Document</span><span style=\"font-weight: bold\">(</span><span style=\"color: #808000; text-decoration-color: #808000\">page_content</span>=<span style=\"color: #008000; text-decoration-color: #008000\">'\\nThe astronauts on the Internationa'</span><span style=\"font-weight: bold\">)</span>,\n",
       "    <span style=\"color: #800080; text-decoration-color: #800080; font-weight: bold\">Document</span><span style=\"font-weight: bold\">(</span><span style=\"color: #808000; text-decoration-color: #808000\">page_content</span>=<span style=\"color: #008000; text-decoration-color: #008000\">'l Space Station conducted a spacewa'</span><span style=\"font-weight: bold\">)</span>,\n",
       "    <span style=\"color: #800080; text-decoration-color: #800080; font-weight: bold\">Document</span><span style=\"font-weight: bold\">(</span><span style=\"color: #808000; text-decoration-color: #808000\">page_content</span>=<span style=\"color: #008000; text-decoration-color: #008000\">'lk to repair a malfunctioning solar'</span><span style=\"font-weight: bold\">)</span>,\n",
       "    <span style=\"color: #800080; text-decoration-color: #800080; font-weight: bold\">Document</span><span style=\"font-weight: bold\">(</span><span style=\"color: #808000; text-decoration-color: #808000\">page_content</span>=<span style=\"color: #008000; text-decoration-color: #008000\">' panel. \\nThe aroma of freshly baked'</span><span style=\"font-weight: bold\">)</span>,\n",
       "    <span style=\"color: #800080; text-decoration-color: #800080; font-weight: bold\">Document</span><span style=\"font-weight: bold\">(</span><span style=\"color: #808000; text-decoration-color: #808000\">page_content</span>=<span style=\"color: #008000; text-decoration-color: #008000\">' croissants wafted through the char'</span><span style=\"font-weight: bold\">)</span>,\n",
       "    <span style=\"color: #800080; text-decoration-color: #800080; font-weight: bold\">Document</span><span style=\"font-weight: bold\">(</span><span style=\"color: #808000; text-decoration-color: #808000\">page_content</span>=<span style=\"color: #008000; text-decoration-color: #008000\">'ming French bakery. \\nThe new policy'</span><span style=\"font-weight: bold\">)</span>,\n",
       "    <span style=\"color: #800080; text-decoration-color: #800080; font-weight: bold\">Document</span><span style=\"font-weight: bold\">(</span><span style=\"color: #808000; text-decoration-color: #808000\">page_content</span>=<span style=\"color: #008000; text-decoration-color: #008000\">' aimed to reduce carbon emissions b'</span><span style=\"font-weight: bold\">)</span>,\n",
       "    <span style=\"color: #800080; text-decoration-color: #800080; font-weight: bold\">Document</span><span style=\"font-weight: bold\">(</span><span style=\"color: #808000; text-decoration-color: #808000\">page_content</span>=<span style=\"color: #008000; text-decoration-color: #008000\">'y 50% within the next decade. \\nThe '</span><span style=\"font-weight: bold\">)</span>,\n",
       "    <span style=\"color: #800080; text-decoration-color: #800080; font-weight: bold\">Document</span><span style=\"font-weight: bold\">(</span><span style=\"color: #808000; text-decoration-color: #808000\">page_content</span>=<span style=\"color: #008000; text-decoration-color: #008000\">'ancient Egyptian pharaohs were know'</span><span style=\"font-weight: bold\">)</span>,\n",
       "    <span style=\"color: #800080; text-decoration-color: #800080; font-weight: bold\">Document</span><span style=\"font-weight: bold\">(</span><span style=\"color: #808000; text-decoration-color: #808000\">page_content</span>=<span style=\"color: #008000; text-decoration-color: #008000\">'n for their elaborate headdresses a'</span><span style=\"font-weight: bold\">)</span>,\n",
       "    <span style=\"color: #800080; text-decoration-color: #800080; font-weight: bold\">Document</span><span style=\"font-weight: bold\">(</span><span style=\"color: #808000; text-decoration-color: #808000\">page_content</span>=<span style=\"color: #008000; text-decoration-color: #008000\">'nd ornate jewelry.'</span><span style=\"font-weight: bold\">)</span>\n",
       "<span style=\"font-weight: bold\">]</span>\n",
       "</pre>\n"
      ],
      "text/plain": [
       "\u001b[1m[\u001b[0m\n",
       "    \u001b[1;35mDocument\u001b[0m\u001b[1m(\u001b[0m\u001b[33mpage_content\u001b[0m=\u001b[32m'\\nThe astronauts on the Internationa'\u001b[0m\u001b[1m)\u001b[0m,\n",
       "    \u001b[1;35mDocument\u001b[0m\u001b[1m(\u001b[0m\u001b[33mpage_content\u001b[0m=\u001b[32m'l Space Station conducted a spacewa'\u001b[0m\u001b[1m)\u001b[0m,\n",
       "    \u001b[1;35mDocument\u001b[0m\u001b[1m(\u001b[0m\u001b[33mpage_content\u001b[0m=\u001b[32m'lk to repair a malfunctioning solar'\u001b[0m\u001b[1m)\u001b[0m,\n",
       "    \u001b[1;35mDocument\u001b[0m\u001b[1m(\u001b[0m\u001b[33mpage_content\u001b[0m=\u001b[32m' panel. \\nThe aroma of freshly baked'\u001b[0m\u001b[1m)\u001b[0m,\n",
       "    \u001b[1;35mDocument\u001b[0m\u001b[1m(\u001b[0m\u001b[33mpage_content\u001b[0m=\u001b[32m' croissants wafted through the char'\u001b[0m\u001b[1m)\u001b[0m,\n",
       "    \u001b[1;35mDocument\u001b[0m\u001b[1m(\u001b[0m\u001b[33mpage_content\u001b[0m=\u001b[32m'ming French bakery. \\nThe new policy'\u001b[0m\u001b[1m)\u001b[0m,\n",
       "    \u001b[1;35mDocument\u001b[0m\u001b[1m(\u001b[0m\u001b[33mpage_content\u001b[0m=\u001b[32m' aimed to reduce carbon emissions b'\u001b[0m\u001b[1m)\u001b[0m,\n",
       "    \u001b[1;35mDocument\u001b[0m\u001b[1m(\u001b[0m\u001b[33mpage_content\u001b[0m=\u001b[32m'y 50% within the next decade. \\nThe '\u001b[0m\u001b[1m)\u001b[0m,\n",
       "    \u001b[1;35mDocument\u001b[0m\u001b[1m(\u001b[0m\u001b[33mpage_content\u001b[0m=\u001b[32m'ancient Egyptian pharaohs were know'\u001b[0m\u001b[1m)\u001b[0m,\n",
       "    \u001b[1;35mDocument\u001b[0m\u001b[1m(\u001b[0m\u001b[33mpage_content\u001b[0m=\u001b[32m'n for their elaborate headdresses a'\u001b[0m\u001b[1m)\u001b[0m,\n",
       "    \u001b[1;35mDocument\u001b[0m\u001b[1m(\u001b[0m\u001b[33mpage_content\u001b[0m=\u001b[32m'nd ornate jewelry.'\u001b[0m\u001b[1m)\u001b[0m\n",
       "\u001b[1m]\u001b[0m\n"
      ]
     },
     "metadata": {},
     "output_type": "display_data"
    }
   ],
   "source": [
    "from langchain.text_splitter import CharacterTextSplitter\n",
    "text_splitter = CharacterTextSplitter(chunk_size = 35, chunk_overlap=0, separator='', strip_whitespace=False)\n",
    "documents = text_splitter.create_documents([text])\n",
    "print(documents)"
   ]
  },
  {
   "cell_type": "markdown",
   "metadata": {},
   "source": [
    "# Recursive Text Splitting"
   ]
  },
  {
   "cell_type": "code",
   "execution_count": 10,
   "metadata": {},
   "outputs": [
    {
     "data": {
      "text/html": [
       "<pre style=\"white-space:pre;overflow-x:auto;line-height:normal;font-family:Menlo,'DejaVu Sans Mono',consolas,'Courier New',monospace\"><span style=\"font-weight: bold\">[</span>\n",
       "    <span style=\"color: #800080; text-decoration-color: #800080; font-weight: bold\">Document</span><span style=\"font-weight: bold\">(</span><span style=\"color: #808000; text-decoration-color: #808000\">page_content</span>=<span style=\"color: #008000; text-decoration-color: #008000\">'The astronauts on the'</span><span style=\"font-weight: bold\">)</span>,\n",
       "    <span style=\"color: #800080; text-decoration-color: #800080; font-weight: bold\">Document</span><span style=\"font-weight: bold\">(</span><span style=\"color: #808000; text-decoration-color: #808000\">page_content</span>=<span style=\"color: #008000; text-decoration-color: #008000\">'International Space Station'</span><span style=\"font-weight: bold\">)</span>,\n",
       "    <span style=\"color: #800080; text-decoration-color: #800080; font-weight: bold\">Document</span><span style=\"font-weight: bold\">(</span><span style=\"color: #808000; text-decoration-color: #808000\">page_content</span>=<span style=\"color: #008000; text-decoration-color: #008000\">'conducted a spacewalk to repair a'</span><span style=\"font-weight: bold\">)</span>,\n",
       "    <span style=\"color: #800080; text-decoration-color: #800080; font-weight: bold\">Document</span><span style=\"font-weight: bold\">(</span><span style=\"color: #808000; text-decoration-color: #808000\">page_content</span>=<span style=\"color: #008000; text-decoration-color: #008000\">'malfunctioning solar panel.'</span><span style=\"font-weight: bold\">)</span>,\n",
       "    <span style=\"color: #800080; text-decoration-color: #800080; font-weight: bold\">Document</span><span style=\"font-weight: bold\">(</span><span style=\"color: #808000; text-decoration-color: #808000\">page_content</span>=<span style=\"color: #008000; text-decoration-color: #008000\">'The aroma of freshly baked'</span><span style=\"font-weight: bold\">)</span>,\n",
       "    <span style=\"color: #800080; text-decoration-color: #800080; font-weight: bold\">Document</span><span style=\"font-weight: bold\">(</span><span style=\"color: #808000; text-decoration-color: #808000\">page_content</span>=<span style=\"color: #008000; text-decoration-color: #008000\">'croissants wafted through the'</span><span style=\"font-weight: bold\">)</span>,\n",
       "    <span style=\"color: #800080; text-decoration-color: #800080; font-weight: bold\">Document</span><span style=\"font-weight: bold\">(</span><span style=\"color: #808000; text-decoration-color: #808000\">page_content</span>=<span style=\"color: #008000; text-decoration-color: #008000\">'charming French bakery.'</span><span style=\"font-weight: bold\">)</span>,\n",
       "    <span style=\"color: #800080; text-decoration-color: #800080; font-weight: bold\">Document</span><span style=\"font-weight: bold\">(</span><span style=\"color: #808000; text-decoration-color: #808000\">page_content</span>=<span style=\"color: #008000; text-decoration-color: #008000\">'The new policy aimed to reduce'</span><span style=\"font-weight: bold\">)</span>,\n",
       "    <span style=\"color: #800080; text-decoration-color: #800080; font-weight: bold\">Document</span><span style=\"font-weight: bold\">(</span><span style=\"color: #808000; text-decoration-color: #808000\">page_content</span>=<span style=\"color: #008000; text-decoration-color: #008000\">'carbon emissions by 50% within the'</span><span style=\"font-weight: bold\">)</span>,\n",
       "    <span style=\"color: #800080; text-decoration-color: #800080; font-weight: bold\">Document</span><span style=\"font-weight: bold\">(</span><span style=\"color: #808000; text-decoration-color: #808000\">page_content</span>=<span style=\"color: #008000; text-decoration-color: #008000\">'next decade.'</span><span style=\"font-weight: bold\">)</span>,\n",
       "    <span style=\"color: #800080; text-decoration-color: #800080; font-weight: bold\">Document</span><span style=\"font-weight: bold\">(</span><span style=\"color: #808000; text-decoration-color: #808000\">page_content</span>=<span style=\"color: #008000; text-decoration-color: #008000\">'The ancient Egyptian pharaohs were'</span><span style=\"font-weight: bold\">)</span>,\n",
       "    <span style=\"color: #800080; text-decoration-color: #800080; font-weight: bold\">Document</span><span style=\"font-weight: bold\">(</span><span style=\"color: #808000; text-decoration-color: #808000\">page_content</span>=<span style=\"color: #008000; text-decoration-color: #008000\">'known for their elaborate'</span><span style=\"font-weight: bold\">)</span>,\n",
       "    <span style=\"color: #800080; text-decoration-color: #800080; font-weight: bold\">Document</span><span style=\"font-weight: bold\">(</span><span style=\"color: #808000; text-decoration-color: #808000\">page_content</span>=<span style=\"color: #008000; text-decoration-color: #008000\">'headdresses and ornate jewelry.'</span><span style=\"font-weight: bold\">)</span>\n",
       "<span style=\"font-weight: bold\">]</span>\n",
       "</pre>\n"
      ],
      "text/plain": [
       "\u001b[1m[\u001b[0m\n",
       "    \u001b[1;35mDocument\u001b[0m\u001b[1m(\u001b[0m\u001b[33mpage_content\u001b[0m=\u001b[32m'The astronauts on the'\u001b[0m\u001b[1m)\u001b[0m,\n",
       "    \u001b[1;35mDocument\u001b[0m\u001b[1m(\u001b[0m\u001b[33mpage_content\u001b[0m=\u001b[32m'International Space Station'\u001b[0m\u001b[1m)\u001b[0m,\n",
       "    \u001b[1;35mDocument\u001b[0m\u001b[1m(\u001b[0m\u001b[33mpage_content\u001b[0m=\u001b[32m'conducted a spacewalk to repair a'\u001b[0m\u001b[1m)\u001b[0m,\n",
       "    \u001b[1;35mDocument\u001b[0m\u001b[1m(\u001b[0m\u001b[33mpage_content\u001b[0m=\u001b[32m'malfunctioning solar panel.'\u001b[0m\u001b[1m)\u001b[0m,\n",
       "    \u001b[1;35mDocument\u001b[0m\u001b[1m(\u001b[0m\u001b[33mpage_content\u001b[0m=\u001b[32m'The aroma of freshly baked'\u001b[0m\u001b[1m)\u001b[0m,\n",
       "    \u001b[1;35mDocument\u001b[0m\u001b[1m(\u001b[0m\u001b[33mpage_content\u001b[0m=\u001b[32m'croissants wafted through the'\u001b[0m\u001b[1m)\u001b[0m,\n",
       "    \u001b[1;35mDocument\u001b[0m\u001b[1m(\u001b[0m\u001b[33mpage_content\u001b[0m=\u001b[32m'charming French bakery.'\u001b[0m\u001b[1m)\u001b[0m,\n",
       "    \u001b[1;35mDocument\u001b[0m\u001b[1m(\u001b[0m\u001b[33mpage_content\u001b[0m=\u001b[32m'The new policy aimed to reduce'\u001b[0m\u001b[1m)\u001b[0m,\n",
       "    \u001b[1;35mDocument\u001b[0m\u001b[1m(\u001b[0m\u001b[33mpage_content\u001b[0m=\u001b[32m'carbon emissions by 50% within the'\u001b[0m\u001b[1m)\u001b[0m,\n",
       "    \u001b[1;35mDocument\u001b[0m\u001b[1m(\u001b[0m\u001b[33mpage_content\u001b[0m=\u001b[32m'next decade.'\u001b[0m\u001b[1m)\u001b[0m,\n",
       "    \u001b[1;35mDocument\u001b[0m\u001b[1m(\u001b[0m\u001b[33mpage_content\u001b[0m=\u001b[32m'The ancient Egyptian pharaohs were'\u001b[0m\u001b[1m)\u001b[0m,\n",
       "    \u001b[1;35mDocument\u001b[0m\u001b[1m(\u001b[0m\u001b[33mpage_content\u001b[0m=\u001b[32m'known for their elaborate'\u001b[0m\u001b[1m)\u001b[0m,\n",
       "    \u001b[1;35mDocument\u001b[0m\u001b[1m(\u001b[0m\u001b[33mpage_content\u001b[0m=\u001b[32m'headdresses and ornate jewelry.'\u001b[0m\u001b[1m)\u001b[0m\n",
       "\u001b[1m]\u001b[0m\n"
      ]
     },
     "metadata": {},
     "output_type": "display_data"
    }
   ],
   "source": [
    "from langchain.text_splitter import RecursiveCharacterTextSplitter\n",
    "text_splitter = RecursiveCharacterTextSplitter(chunk_size = 35, chunk_overlap=0) \n",
    "print(text_splitter.create_documents([text]))\n"
   ]
  },
  {
   "cell_type": "markdown",
   "metadata": {},
   "source": [
    "# Semantic Chunking"
   ]
  },
  {
   "cell_type": "code",
   "execution_count": 43,
   "metadata": {},
   "outputs": [
    {
     "data": {
      "text/html": [
       "<pre style=\"white-space:pre;overflow-x:auto;line-height:normal;font-family:Menlo,'DejaVu Sans Mono',consolas,'Courier New',monospace\"><span style=\"font-weight: bold\">[</span>\n",
       "    <span style=\"color: #800080; text-decoration-color: #800080; font-weight: bold\">Document</span><span style=\"font-weight: bold\">(</span>\n",
       "        <span style=\"color: #808000; text-decoration-color: #808000\">page_content</span>=<span style=\"color: #008000; text-decoration-color: #008000\">'\\nThe astronauts on the International Space Station conducted a spacewalk to repair a </span>\n",
       "<span style=\"color: #008000; text-decoration-color: #008000\">malfunctioning solar panel. The aroma of freshly baked croissants wafted through the charming French bakery.'</span>\n",
       "    <span style=\"font-weight: bold\">)</span>,\n",
       "    <span style=\"color: #800080; text-decoration-color: #800080; font-weight: bold\">Document</span><span style=\"font-weight: bold\">(</span>\n",
       "        <span style=\"color: #808000; text-decoration-color: #808000\">page_content</span>=<span style=\"color: #008000; text-decoration-color: #008000\">'The new policy aimed to reduce carbon emissions by 50% within the next decade. The ancient </span>\n",
       "<span style=\"color: #008000; text-decoration-color: #008000\">Egyptian pharaohs were known for their elaborate headdresses and ornate jewelry.'</span>\n",
       "    <span style=\"font-weight: bold\">)</span>\n",
       "<span style=\"font-weight: bold\">]</span>\n",
       "</pre>\n"
      ],
      "text/plain": [
       "\u001b[1m[\u001b[0m\n",
       "    \u001b[1;35mDocument\u001b[0m\u001b[1m(\u001b[0m\n",
       "        \u001b[33mpage_content\u001b[0m=\u001b[32m'\\nThe astronauts on the International Space Station conducted a spacewalk to repair a \u001b[0m\n",
       "\u001b[32mmalfunctioning solar panel. The aroma of freshly baked croissants wafted through the charming French bakery.'\u001b[0m\n",
       "    \u001b[1m)\u001b[0m,\n",
       "    \u001b[1;35mDocument\u001b[0m\u001b[1m(\u001b[0m\n",
       "        \u001b[33mpage_content\u001b[0m=\u001b[32m'The new policy aimed to reduce carbon emissions by 50% within the next decade. The ancient \u001b[0m\n",
       "\u001b[32mEgyptian pharaohs were known for their elaborate headdresses and ornate jewelry.'\u001b[0m\n",
       "    \u001b[1m)\u001b[0m\n",
       "\u001b[1m]\u001b[0m\n"
      ]
     },
     "metadata": {},
     "output_type": "display_data"
    }
   ],
   "source": [
    "from langchain_experimental.text_splitter import SemanticChunker\n",
    "from langchain_openai.embeddings import OpenAIEmbeddings\n",
    "from langchain_community.embeddings.ollama import OllamaEmbeddings\n",
    "\n",
    "# Percentile - all differences between sentences are calculated, and then any difference greater than the \n",
    "# X percentile is split\n",
    "\n",
    "embed_function = OllamaEmbeddings(model=\"nomic-embed-text\")\n",
    "#embed_function = OpenAIEmbeddings()\n",
    "text_splitter = SemanticChunker(\n",
    "    embeddings=embed_function, \n",
    "    breakpoint_threshold_type=\"percentile\", # \"percentile\" \"standard_deviation\", \"interquartile\",\n",
    "    breakpoint_threshold_amount=60\n",
    ")\n",
    "documents = text_splitter.create_documents([text])\n",
    "print(documents)\n"
   ]
  },
  {
   "cell_type": "markdown",
   "metadata": {},
   "source": [
    "# AI Split"
   ]
  },
  {
   "cell_type": "code",
   "execution_count": 24,
   "metadata": {},
   "outputs": [
    {
     "data": {
      "text/html": [
       "<pre style=\"white-space:pre;overflow-x:auto;line-height:normal;font-family:Menlo,'DejaVu Sans Mono',consolas,'Courier New',monospace\">Split the page_content into two distinct sections based on their semantic differences:\n",
       "\n",
       "Section <span style=\"color: #008080; text-decoration-color: #008080; font-weight: bold\">1</span> - Space Exploration and Daily Life:\n",
       "- The astronauts on the International Space Station conducted a spacewalk to repair a malfunctioning solar panel.\n",
       "- The aroma of freshly baked croissants wafted through the charming French bakery.\n",
       "\n",
       "Section <span style=\"color: #008080; text-decoration-color: #008080; font-weight: bold\">2</span> - Environmental Policy and Historical Culture:\n",
       "- The new policy aimed to reduce carbon emissions by <span style=\"color: #008080; text-decoration-color: #008080; font-weight: bold\">50</span>% within the next decade.\n",
       "- The ancient Egyptian pharaohs were known for their elaborate headdresses and ornate jewelry.\n",
       "</pre>\n"
      ],
      "text/plain": [
       "Split the page_content into two distinct sections based on their semantic differences:\n",
       "\n",
       "Section \u001b[1;36m1\u001b[0m - Space Exploration and Daily Life:\n",
       "- The astronauts on the International Space Station conducted a spacewalk to repair a malfunctioning solar panel.\n",
       "- The aroma of freshly baked croissants wafted through the charming French bakery.\n",
       "\n",
       "Section \u001b[1;36m2\u001b[0m - Environmental Policy and Historical Culture:\n",
       "- The new policy aimed to reduce carbon emissions by \u001b[1;36m50\u001b[0m% within the next decade.\n",
       "- The ancient Egyptian pharaohs were known for their elaborate headdresses and ornate jewelry.\n"
      ]
     },
     "metadata": {},
     "output_type": "display_data"
    }
   ],
   "source": [
    "from langchain_community.chat_models.ollama import ChatOllama\n",
    "from langchain_core.runnables import RunnablePassthrough\n",
    "from langchain_core.output_parsers import StrOutputParser\n",
    "from langchain_core.prompts import ChatPromptTemplate\n",
    "\n",
    "\n",
    "prompt_template=\"\"\"Based on the following context anwer the question:\n",
    "=============================\n",
    "Context: {context}\n",
    "==============================\n",
    "Question: {question}\n",
    "\n",
    "Extra instructions: \n",
    "1. DO NOT ALTER ANY SENTENCE IN THE CONTEXT. \n",
    "2. CONSIDER ALL THE SENTENCES IN THE CONTEXT. \n",
    "3. DO NOT INVENT ANY NEW CONTEXT\n",
    "4. DO NOT SUMMARIZE THE CONTEXT WHEN PROVIDING A REPLY\n",
    "\"\"\"\n",
    "prompt:ChatPromptTemplate = ChatPromptTemplate.from_template(prompt_template)\n",
    "\n",
    "#Use your local LLM \n",
    "local_llm = ChatOllama(\n",
    "    verbose=True,\n",
    "    model=\"phi3\", \n",
    "    base_url=\"http://127.0.0.1:11434\", \n",
    "    temperature=0)\n",
    "#or use a paid one much faster\n",
    "#local_llm = ChatOpenAI(temperature=0)\n",
    "\n",
    "chain = (\n",
    "        {\"context\": RunnablePassthrough(), \"question\": RunnablePassthrough()}\n",
    "        | prompt\n",
    "        | local_llm\n",
    "        | StrOutputParser()\n",
    "    )\n",
    "\n",
    "result = chain.invoke({\n",
    "    \"question\":\"\"\"\n",
    "        Split the page_content based on semantic differences if you find necessary\n",
    "        return your reply in the same schema of the context received\"\"\",\n",
    "    \"context\": documents\n",
    "    })\n",
    "print(result)\n",
    "\n",
    "#Expected execution time: 51s"
   ]
  },
  {
   "cell_type": "markdown",
   "metadata": {},
   "source": [
    "# Function Calling\n",
    "\n",
    "Function calling is a terrible name! It should be called formatted output or something that convey a better meaning of what it does, which is exactly this: given a formatted prompt instruction to a LLM, it returns the response in a specific json format based in a schema.\n"
   ]
  },
  {
   "cell_type": "code",
   "execution_count": 44,
   "metadata": {},
   "outputs": [],
   "source": [
    "from langchain_community.chat_models.ollama import ChatOllama\n",
    "from langchain_core.runnables import RunnablePassthrough\n",
    "from langchain_core.output_parsers import StrOutputParser\n",
    "from langchain_core.prompts import ChatPromptTemplate\n",
    "\n",
    "schema = {\n",
    "  \"type\": \"OlamaFunction\",\n",
    "  \"name\": \"myFunction\",\n",
    "  \"output\": {\n",
    "    \"type\": \"object\",\n",
    "    \"contexts\": {\n",
    "      \"context\": {\"type\": \"string\"}\n",
    "    }\n",
    "  }\n",
    "}\n",
    "\n",
    "prompt_template=\"\"\"Based on the following context, anwer the question in the provided schema:\n",
    "=============================\n",
    "Context: {context}\n",
    "==============================\n",
    "Question: {question}\n",
    "==============================\n",
    "Schema: {schema}\n",
    "\"\"\"\n",
    "prompt = ChatPromptTemplate.from_template(prompt_template)\n",
    "\n",
    "#Use your local LLM \n",
    "local_llm = ChatOllama(\n",
    "    verbose=False,\n",
    "    model=\"phi3\", \n",
    "    base_url=\"http://127.0.0.1:11434\", \n",
    "    temperature=0,\n",
    "    format=\"json\")\n",
    "\n",
    "chain = (\n",
    "        {\"context\": RunnablePassthrough(), \"question\": RunnablePassthrough(), \"schema\": RunnablePassthrough()}\n",
    "        | prompt\n",
    "        | local_llm\n",
    "        | StrOutputParser()\n",
    "    )\n"
   ]
  },
  {
   "cell_type": "code",
   "execution_count": 45,
   "metadata": {},
   "outputs": [
    {
     "data": {
      "text/html": [
       "<pre style=\"white-space:pre;overflow-x:auto;line-height:normal;font-family:Menlo,'DejaVu Sans Mono',consolas,'Courier New',monospace\"><span style=\"font-weight: bold\">[</span>\n",
       "    <span style=\"color: #008000; text-decoration-color: #008000\">'\\nThe astronauts on the International Space Station conducted a spacewalk to repair a malfunctioning solar </span>\n",
       "<span style=\"color: #008000; text-decoration-color: #008000\">panel. The aroma of freshly baked croissants wafted through the charming French bakery.'</span>,\n",
       "    <span style=\"color: #008000; text-decoration-color: #008000\">'The new policy aimed to reduce carbon emissions by 50% within the next decade. The ancient Egyptian pharaohs </span>\n",
       "<span style=\"color: #008000; text-decoration-color: #008000\">were known for their elaborate headdresses and ornate jewelry.'</span>\n",
       "<span style=\"font-weight: bold\">]</span>\n",
       "</pre>\n"
      ],
      "text/plain": [
       "\u001b[1m[\u001b[0m\n",
       "    \u001b[32m'\\nThe astronauts on the International Space Station conducted a spacewalk to repair a malfunctioning solar \u001b[0m\n",
       "\u001b[32mpanel. The aroma of freshly baked croissants wafted through the charming French bakery.'\u001b[0m,\n",
       "    \u001b[32m'The new policy aimed to reduce carbon emissions by 50% within the next decade. The ancient Egyptian pharaohs \u001b[0m\n",
       "\u001b[32mwere known for their elaborate headdresses and ornate jewelry.'\u001b[0m\n",
       "\u001b[1m]\u001b[0m\n"
      ]
     },
     "metadata": {},
     "output_type": "display_data"
    }
   ],
   "source": [
    "#Rag input\n",
    "documents = [document.page_content for document in documents]\n",
    "print(documents)"
   ]
  },
  {
   "cell_type": "code",
   "execution_count": 46,
   "metadata": {},
   "outputs": [
    {
     "data": {
      "text/html": [
       "<pre style=\"white-space:pre;overflow-x:auto;line-height:normal;font-family:Menlo,'DejaVu Sans Mono',consolas,'Courier New',monospace\"><span style=\"font-weight: bold\">{</span>\n",
       "\n",
       "  <span style=\"color: #008000; text-decoration-color: #008000\">\"context\"</span>: <span style=\"font-weight: bold\">[</span>\n",
       "\n",
       "    <span style=\"font-weight: bold\">{</span>\n",
       "\n",
       "      <span style=\"color: #008000; text-decoration-color: #008000\">\"text\"</span>: <span style=\"color: #008000; text-decoration-color: #008000\">\"The astronauts on the International Space Station conducted a spacewalk to repair a malfunctioning </span>\n",
       "<span style=\"color: #008000; text-decoration-color: #008000\">solar panel.\"</span>\n",
       "\n",
       "    <span style=\"font-weight: bold\">}</span>,\n",
       "\n",
       "    <span style=\"font-weight: bold\">{</span>\n",
       "\n",
       "      <span style=\"color: #008000; text-decoration-color: #008000\">\"text\"</span>: <span style=\"color: #008000; text-decoration-color: #008000\">\"The aroma of freshly baked croissants wafted through the charming French bakery.\"</span>\n",
       "\n",
       "    <span style=\"font-weight: bold\">}</span>,\n",
       "\n",
       "    <span style=\"font-weight: bold\">{</span>\n",
       "\n",
       "      <span style=\"color: #008000; text-decoration-color: #008000\">\"text\"</span>: <span style=\"color: #008000; text-decoration-color: #008000\">\"The new policy aimed to reduce carbon emissions by 50% within the next decade.\"</span>\n",
       "\n",
       "    <span style=\"font-weight: bold\">}</span>,\n",
       "\n",
       "    <span style=\"font-weight: bold\">{</span>\n",
       "\n",
       "      <span style=\"color: #008000; text-decoration-color: #008000\">\"text\"</span>: <span style=\"color: #008000; text-decoration-color: #008000\">\"The ancient Egyptian pharaohs were known for their elaborate headdresses and ornate jewelry.\"</span>\n",
       "\n",
       "    <span style=\"font-weight: bold\">}</span>\n",
       "\n",
       "  <span style=\"font-weight: bold\">]</span>\n",
       "\n",
       "<span style=\"font-weight: bold\">}</span>\n",
       "</pre>\n"
      ],
      "text/plain": [
       "\u001b[1m{\u001b[0m\n",
       "\n",
       "  \u001b[32m\"context\"\u001b[0m: \u001b[1m[\u001b[0m\n",
       "\n",
       "    \u001b[1m{\u001b[0m\n",
       "\n",
       "      \u001b[32m\"text\"\u001b[0m: \u001b[32m\"The astronauts on the International Space Station conducted a spacewalk to repair a malfunctioning \u001b[0m\n",
       "\u001b[32msolar panel.\"\u001b[0m\n",
       "\n",
       "    \u001b[1m}\u001b[0m,\n",
       "\n",
       "    \u001b[1m{\u001b[0m\n",
       "\n",
       "      \u001b[32m\"text\"\u001b[0m: \u001b[32m\"The aroma of freshly baked croissants wafted through the charming French bakery.\"\u001b[0m\n",
       "\n",
       "    \u001b[1m}\u001b[0m,\n",
       "\n",
       "    \u001b[1m{\u001b[0m\n",
       "\n",
       "      \u001b[32m\"text\"\u001b[0m: \u001b[32m\"The new policy aimed to reduce carbon emissions by 50% within the next decade.\"\u001b[0m\n",
       "\n",
       "    \u001b[1m}\u001b[0m,\n",
       "\n",
       "    \u001b[1m{\u001b[0m\n",
       "\n",
       "      \u001b[32m\"text\"\u001b[0m: \u001b[32m\"The ancient Egyptian pharaohs were known for their elaborate headdresses and ornate jewelry.\"\u001b[0m\n",
       "\n",
       "    \u001b[1m}\u001b[0m\n",
       "\n",
       "  \u001b[1m]\u001b[0m\n",
       "\n",
       "\u001b[1m}\u001b[0m\n"
      ]
     },
     "metadata": {},
     "output_type": "display_data"
    }
   ],
   "source": [
    "result = chain.invoke({\n",
    "    \"question\":\"Split the page_content based on semantic differences if you find it necessary\",\n",
    "    \"context\": documents,\n",
    "    \"schema\": schema\n",
    "    })\n",
    "\n",
    "print(result.rstrip().lstrip())\n",
    "#Expected execution time: 1m30s"
   ]
  },
  {
   "cell_type": "markdown",
   "metadata": {},
   "source": [
    "# Testing a Simple RAG"
   ]
  },
  {
   "cell_type": "code",
   "execution_count": 67,
   "metadata": {},
   "outputs": [],
   "source": [
    "from langchain_community.chat_models.ollama import ChatOllama\n",
    "from langchain_community.embeddings.ollama import OllamaEmbeddings\n",
    "from langchain_core.runnables import RunnablePassthrough\n",
    "from langchain_core.output_parsers import StrOutputParser\n",
    "from langchain_core.prompts import ChatPromptTemplate\n",
    "from langchain_community.vectorstores.faiss import FAISS\n",
    "\n",
    "\n",
    "def rag(question:str, chunks:list):\n",
    "    local_llm = ChatOllama(model=\"phi3\", base_url=\"http://127.0.0.1:11434\", temperature=0)\n",
    "    # FAISS is an in-memory vector store\n",
    "    vectorstore = FAISS.from_documents(\n",
    "        documents=chunks,\n",
    "        embedding=OllamaEmbeddings(model=\"nomic-embed-text\")\n",
    "    )\n",
    "    retriever = vectorstore.as_retriever()\n",
    "    prompt_template=\"\"\"Answer the question based only on the following context:\n",
    "    ==============================\n",
    "    {context}\n",
    "    ==============================\n",
    "    Question: {question}\n",
    "    \"\"\"\n",
    "    prompt = ChatPromptTemplate.from_template(prompt_template)\n",
    "\n",
    "    #You need a RunnablePassThrough if you are going to pass the parameter to the chain\n",
    "    chain = (\n",
    "        {\"context\": retriever, \"question\": RunnablePassthrough()}\n",
    "        | prompt\n",
    "        | local_llm\n",
    "        | StrOutputParser()\n",
    "    )\n",
    "    result = chain.invoke({\"question\": question})\n",
    "    print(result)"
   ]
  },
  {
   "cell_type": "code",
   "execution_count": 56,
   "metadata": {},
   "outputs": [
    {
     "data": {
      "text/html": [
       "<pre style=\"white-space:pre;overflow-x:auto;line-height:normal;font-family:Menlo,'DejaVu Sans Mono',consolas,'Courier New',monospace\"><span style=\"font-weight: bold\">{</span>\n",
       "    <span style=\"color: #008000; text-decoration-color: #008000\">'context'</span>: <span style=\"font-weight: bold\">[</span>\n",
       "        <span style=\"font-weight: bold\">{</span>\n",
       "            <span style=\"color: #008000; text-decoration-color: #008000\">'text'</span>: <span style=\"color: #008000; text-decoration-color: #008000\">'The astronauts on the International Space Station conducted a spacewalk to repair a </span>\n",
       "<span style=\"color: #008000; text-decoration-color: #008000\">malfunctioning solar panel.'</span>\n",
       "        <span style=\"font-weight: bold\">}</span>,\n",
       "        <span style=\"font-weight: bold\">{</span><span style=\"color: #008000; text-decoration-color: #008000\">'text'</span>: <span style=\"color: #008000; text-decoration-color: #008000\">'The aroma of freshly baked croissants wafted through the charming French bakery.'</span><span style=\"font-weight: bold\">}</span>,\n",
       "        <span style=\"font-weight: bold\">{</span><span style=\"color: #008000; text-decoration-color: #008000\">'text'</span>: <span style=\"color: #008000; text-decoration-color: #008000\">'The new policy aimed to reduce carbon emissions by 50% within the next decade.'</span><span style=\"font-weight: bold\">}</span>,\n",
       "        <span style=\"font-weight: bold\">{</span><span style=\"color: #008000; text-decoration-color: #008000\">'text'</span>: <span style=\"color: #008000; text-decoration-color: #008000\">'The ancient Egyptian pharaohs were known for their elaborate headdresses and ornate jewelry.'</span><span style=\"font-weight: bold\">}</span>\n",
       "    <span style=\"font-weight: bold\">]</span>\n",
       "<span style=\"font-weight: bold\">}</span>\n",
       "</pre>\n"
      ],
      "text/plain": [
       "\u001b[1m{\u001b[0m\n",
       "    \u001b[32m'context'\u001b[0m: \u001b[1m[\u001b[0m\n",
       "        \u001b[1m{\u001b[0m\n",
       "            \u001b[32m'text'\u001b[0m: \u001b[32m'The astronauts on the International Space Station conducted a spacewalk to repair a \u001b[0m\n",
       "\u001b[32mmalfunctioning solar panel.'\u001b[0m\n",
       "        \u001b[1m}\u001b[0m,\n",
       "        \u001b[1m{\u001b[0m\u001b[32m'text'\u001b[0m: \u001b[32m'The aroma of freshly baked croissants wafted through the charming French bakery.'\u001b[0m\u001b[1m}\u001b[0m,\n",
       "        \u001b[1m{\u001b[0m\u001b[32m'text'\u001b[0m: \u001b[32m'The new policy aimed to reduce carbon emissions by 50% within the next decade.'\u001b[0m\u001b[1m}\u001b[0m,\n",
       "        \u001b[1m{\u001b[0m\u001b[32m'text'\u001b[0m: \u001b[32m'The ancient Egyptian pharaohs were known for their elaborate headdresses and ornate jewelry.'\u001b[0m\u001b[1m}\u001b[0m\n",
       "    \u001b[1m]\u001b[0m\n",
       "\u001b[1m}\u001b[0m\n"
      ]
     },
     "metadata": {},
     "output_type": "display_data"
    }
   ],
   "source": [
    "import json\n",
    "output = json.loads(result)\n",
    "print(output)\n"
   ]
  },
  {
   "cell_type": "code",
   "execution_count": 68,
   "metadata": {},
   "outputs": [
    {
     "data": {
      "text/html": [
       "<pre style=\"white-space:pre;overflow-x:auto;line-height:normal;font-family:Menlo,'DejaVu Sans Mono',consolas,'Courier New',monospace\">The astronauts conducted a spacewalk to repair a malfunctioning solar panel.\n",
       "</pre>\n"
      ],
      "text/plain": [
       "The astronauts conducted a spacewalk to repair a malfunctioning solar panel.\n"
      ]
     },
     "metadata": {},
     "output_type": "display_data"
    }
   ],
   "source": [
    "chunks = [Document(page_content=text['text']) for text in output[\"context\"]]\n",
    "rag(\"What the astrounauts did ?\", chunks)\n",
    "#Expected execution time: 15s"
   ]
  },
  {
   "cell_type": "code",
   "execution_count": 17,
   "metadata": {},
   "outputs": [
    {
     "data": {
      "text/html": [
       "<pre style=\"white-space:pre;overflow-x:auto;line-height:normal;font-family:Menlo,'DejaVu Sans Mono',consolas,'Courier New',monospace\">The astronauts on the International Space Station conducted a spacewalk to repair a malfunctioning solar panel.\n",
       "</pre>\n"
      ],
      "text/plain": [
       "The astronauts on the International Space Station conducted a spacewalk to repair a malfunctioning solar panel.\n"
      ]
     },
     "metadata": {},
     "output_type": "display_data"
    }
   ],
   "source": [
    "# Now without the RAG to compare the time differences\n",
    "\n",
    "from langchain_community.llms import (\n",
    "    Ollama,\n",
    ")  # Did you notice we´re using Ollama from another library ? :)\n",
    "from langchain_core.runnables import (\n",
    "    RunnablePassthrough,\n",
    ")  # This just says: The parameter will be provided later\n",
    "from langchain_core.output_parsers import (\n",
    "    StrOutputParser,\n",
    ")  # gets rid of chunk['message']['content'] (lesson 4 stream)\n",
    "from langchain_core.prompts import (\n",
    "    ChatPromptTemplate,\n",
    "    HumanMessagePromptTemplate,\n",
    "    SystemMessagePromptTemplate,\n",
    "    AIMessagePromptTemplate,\n",
    ")\n",
    "\n",
    "# model phi3 is a small model from Microsoft... download it with ollama pull phi3 you haven't done it already\n",
    "llm = Ollama(model=\"phi3\", temperature=0, base_url=\"http://127.0.0.1:11434\")\n",
    "prompt = ChatPromptTemplate.from_messages(\n",
    "    [\n",
    "        SystemMessagePromptTemplate.from_template(\n",
    "            \"You are a helpful assistant that give an aswer only based on the provided {context}.\"\n",
    "        ),\n",
    "        HumanMessagePromptTemplate.from_template(\"Question: {question}\"),\n",
    "    ]\n",
    ")\n",
    "\n",
    "chain = (\n",
    "    {\"context\": RunnablePassthrough(), \"question\": RunnablePassthrough()}\n",
    "    | prompt\n",
    "    | llm\n",
    "    | StrOutputParser()\n",
    ")\n",
    "\n",
    "text = \"\"\"\n",
    "The astronauts on the International Space Station conducted a spacewalk to repair a malfunctioning solar panel. \n",
    "The aroma of freshly baked croissants wafted through the charming French bakery. \n",
    "The new policy aimed to reduce carbon emissions by 50% within the next decade. \n",
    "The ancient Egyptian pharaohs were known for their elaborate headdresses and ornate jewelry.\n",
    "\"\"\"\n",
    "\n",
    "result = chain.invoke({\"question\": \"What the astronauts did ?\", \"context\": text})\n",
    "print(result)\n",
    "# Expected execution time: 24s"
   ]
  }
 ],
 "metadata": {
  "kernelspec": {
   "display_name": "AI",
   "language": "python",
   "name": "python3"
  },
  "language_info": {
   "codemirror_mode": {
    "name": "ipython",
    "version": 3
   },
   "file_extension": ".py",
   "mimetype": "text/x-python",
   "name": "python",
   "nbconvert_exporter": "python",
   "pygments_lexer": "ipython3",
   "version": "3.10.12"
  }
 },
 "nbformat": 4,
 "nbformat_minor": 2
}
